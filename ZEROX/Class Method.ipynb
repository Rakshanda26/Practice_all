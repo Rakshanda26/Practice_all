{
 "cells": [
  {
   "cell_type": "code",
   "execution_count": 8,
   "id": "2a474b34",
   "metadata": {},
   "outputs": [],
   "source": [
    "class skills :\n",
    "    def __init__(self, name, email):\n",
    "        self.name = name \n",
    "        self.email = email \n",
    "        \n",
    "    def student_details(self):\n",
    "        print(self.name)\n",
    "        print(self.email)"
   ]
  },
  {
   "cell_type": "code",
   "execution_count": 9,
   "id": "8a8a6e79",
   "metadata": {},
   "outputs": [],
   "source": [
    "pw = skills('sudh', 'sudh@gmail.com')"
   ]
  },
  {
   "cell_type": "code",
   "execution_count": 10,
   "id": "568ba857",
   "metadata": {},
   "outputs": [
    {
     "data": {
      "text/plain": [
       "'sudh@gmail.com'"
      ]
     },
     "execution_count": 10,
     "metadata": {},
     "output_type": "execute_result"
    }
   ],
   "source": [
    "pw.email"
   ]
  },
  {
   "cell_type": "code",
   "execution_count": 11,
   "id": "778ba911",
   "metadata": {},
   "outputs": [
    {
     "name": "stdout",
     "output_type": "stream",
     "text": [
      "sudh\n",
      "sudh@gmail.com\n"
     ]
    }
   ],
   "source": [
    "pw.student_details()"
   ]
  },
  {
   "cell_type": "code",
   "execution_count": 1,
   "id": "bf62725d",
   "metadata": {},
   "outputs": [],
   "source": [
    "class skills1 :\n",
    "    def __init__(self, name, email):\n",
    "        self.name = name \n",
    "        self.email = email \n",
    "    \n",
    "    @classmethod\n",
    "    def details(cls, name1 , email1):\n",
    "        return cls(name1, email1)\n",
    "        \n",
    "    def student_details(self):\n",
    "        print(self.name)\n",
    "        print(self.email)"
   ]
  },
  {
   "cell_type": "code",
   "execution_count": 2,
   "id": "4f651665",
   "metadata": {},
   "outputs": [],
   "source": [
    "s1 = skills1(\"Radha\", \"Radha@gmail.com\")"
   ]
  },
  {
   "cell_type": "code",
   "execution_count": null,
   "id": "91c3ca92",
   "metadata": {},
   "outputs": [],
   "source": []
  },
  {
   "cell_type": "code",
   "execution_count": 2,
   "id": "a1570f4e",
   "metadata": {},
   "outputs": [],
   "source": [
    "pw1 = skills1.details(\"mohan\", \"mohan@gmail.com\")"
   ]
  },
  {
   "cell_type": "code",
   "execution_count": 3,
   "id": "db8a2edb",
   "metadata": {},
   "outputs": [
    {
     "data": {
      "text/plain": [
       "'mohan'"
      ]
     },
     "execution_count": 3,
     "metadata": {},
     "output_type": "execute_result"
    }
   ],
   "source": [
    "pw1.name"
   ]
  },
  {
   "cell_type": "code",
   "execution_count": 4,
   "id": "411eb629",
   "metadata": {},
   "outputs": [
    {
     "data": {
      "text/plain": [
       "'mohan@gmail.com'"
      ]
     },
     "execution_count": 4,
     "metadata": {},
     "output_type": "execute_result"
    }
   ],
   "source": [
    "pw1.email"
   ]
  },
  {
   "cell_type": "code",
   "execution_count": 5,
   "id": "6a54e6e7",
   "metadata": {},
   "outputs": [
    {
     "data": {
      "text/plain": [
       "'mohan'"
      ]
     },
     "execution_count": 5,
     "metadata": {},
     "output_type": "execute_result"
    }
   ],
   "source": [
    "pw1.name"
   ]
  },
  {
   "cell_type": "code",
   "execution_count": 30,
   "id": "13b5fbaa",
   "metadata": {},
   "outputs": [
    {
     "data": {
      "text/plain": [
       "'mohan@gmail.com'"
      ]
     },
     "execution_count": 30,
     "metadata": {},
     "output_type": "execute_result"
    }
   ],
   "source": [
    "pw1.email"
   ]
  },
  {
   "cell_type": "code",
   "execution_count": 31,
   "id": "70e136ff",
   "metadata": {},
   "outputs": [
    {
     "name": "stdout",
     "output_type": "stream",
     "text": [
      "mohan\n",
      "mohan@gmail.com\n"
     ]
    }
   ],
   "source": [
    "pw1.student_details()"
   ]
  },
  {
   "cell_type": "code",
   "execution_count": 36,
   "id": "0495d49a",
   "metadata": {},
   "outputs": [],
   "source": [
    "class skills2 :\n",
    "    \n",
    "    mobile_number = 913445234\n",
    "    \n",
    "    def __init__(self, name, email):\n",
    "        self.name = name \n",
    "        self.email = email \n",
    "    \n",
    "    @classmethod\n",
    "    def details(cls, name1 , email1):\n",
    "        return cls(name1, email1)\n",
    "        \n",
    "    def student_details(self):\n",
    "        print(self.name,self.email, skills2.mobile_number)\n",
    "        "
   ]
  },
  {
   "cell_type": "code",
   "execution_count": 35,
   "id": "51d102f6",
   "metadata": {},
   "outputs": [
    {
     "data": {
      "text/plain": [
       "913445234"
      ]
     },
     "execution_count": 35,
     "metadata": {},
     "output_type": "execute_result"
    }
   ],
   "source": [
    "skills2.mobile_number"
   ]
  },
  {
   "cell_type": "code",
   "execution_count": 37,
   "id": "2fadfe5c",
   "metadata": {},
   "outputs": [],
   "source": [
    "pw2 = skills2.details('sohan', \"sohan@gmail.com\")"
   ]
  },
  {
   "cell_type": "code",
   "execution_count": 39,
   "id": "acb873c8",
   "metadata": {},
   "outputs": [
    {
     "name": "stdout",
     "output_type": "stream",
     "text": [
      "sohan sohan@gmail.com 913445234\n"
     ]
    }
   ],
   "source": [
    "pw2.student_details()"
   ]
  },
  {
   "cell_type": "code",
   "execution_count": 41,
   "id": "94af8674",
   "metadata": {},
   "outputs": [],
   "source": [
    "pw2_obj = skills2(\"rohan\", \"rohan@gmail.com\")"
   ]
  },
  {
   "cell_type": "code",
   "execution_count": 43,
   "id": "916041ce",
   "metadata": {},
   "outputs": [
    {
     "name": "stdout",
     "output_type": "stream",
     "text": [
      "rohan rohan@gmail.com 913445234\n"
     ]
    }
   ],
   "source": [
    "pw2_obj.student_details()"
   ]
  },
  {
   "cell_type": "code",
   "execution_count": 44,
   "id": "eebd01e2",
   "metadata": {},
   "outputs": [],
   "source": [
    "class skills2 :\n",
    "    \n",
    "    mobile_number = 913445234\n",
    "    \n",
    "    def __init__(self, name, email):\n",
    "        self.name = name \n",
    "        self.email = email \n",
    "        \n",
    "    @classmethod\n",
    "    def change_number(cls, mobileno):\n",
    "        skills2.mobile_number = mobileno\n",
    "    \n",
    "    @classmethod\n",
    "    def details(cls, name1 , email1):\n",
    "        return cls(name1, email1)\n",
    "        \n",
    "    def student_details(self):\n",
    "        print(self.name,self.email, skills2.mobile_number)\n",
    "        "
   ]
  },
  {
   "cell_type": "code",
   "execution_count": 50,
   "id": "d470ec40",
   "metadata": {},
   "outputs": [],
   "source": [
    "pw2_new = skills2.change_number(8997453442)"
   ]
  },
  {
   "cell_type": "code",
   "execution_count": 51,
   "id": "b0446665",
   "metadata": {},
   "outputs": [
    {
     "data": {
      "text/plain": [
       "8997453442"
      ]
     },
     "execution_count": 51,
     "metadata": {},
     "output_type": "execute_result"
    }
   ],
   "source": [
    "skills2.mobile_number"
   ]
  },
  {
   "cell_type": "code",
   "execution_count": 62,
   "id": "83bc8ca5",
   "metadata": {},
   "outputs": [
    {
     "ename": "TypeError",
     "evalue": "student_details() missing 1 required positional argument: 'self'",
     "output_type": "error",
     "traceback": [
      "\u001b[1;31m---------------------------------------------------------------------------\u001b[0m",
      "\u001b[1;31mTypeError\u001b[0m                                 Traceback (most recent call last)",
      "\u001b[1;32mC:\\Users\\RAKSHA~1\\AppData\\Local\\Temp/ipykernel_25144/447383663.py\u001b[0m in \u001b[0;36m<module>\u001b[1;34m\u001b[0m\n\u001b[1;32m----> 1\u001b[1;33m \u001b[0mpw2_new1\u001b[0m \u001b[1;33m=\u001b[0m \u001b[0mskills2\u001b[0m\u001b[1;33m.\u001b[0m\u001b[0mstudent_details\u001b[0m\u001b[1;33m(\u001b[0m\u001b[1;33m)\u001b[0m\u001b[1;33m\u001b[0m\u001b[1;33m\u001b[0m\u001b[0m\n\u001b[0m",
      "\u001b[1;31mTypeError\u001b[0m: student_details() missing 1 required positional argument: 'self'"
     ]
    }
   ],
   "source": [
    "pw2_new1 = skills2.student_details()\n"
   ]
  },
  {
   "cell_type": "code",
   "execution_count": 64,
   "id": "6a0a30dd",
   "metadata": {},
   "outputs": [
    {
     "data": {
      "text/plain": [
       "<function __main__.skills2.student_details(self)>"
      ]
     },
     "execution_count": 64,
     "metadata": {},
     "output_type": "execute_result"
    }
   ],
   "source": [
    "pw2_new1"
   ]
  },
  {
   "cell_type": "code",
   "execution_count": 66,
   "id": "3180ada8",
   "metadata": {},
   "outputs": [],
   "source": [
    "pw2_new2 = skills2.details(\"krishna\", \"krishna@gmail.com\")"
   ]
  },
  {
   "cell_type": "code",
   "execution_count": 67,
   "id": "16fbf362",
   "metadata": {},
   "outputs": [
    {
     "name": "stdout",
     "output_type": "stream",
     "text": [
      "krishna krishna@gmail.com 8997453442\n"
     ]
    }
   ],
   "source": [
    "pw2_new2.student_details()"
   ]
  },
  {
   "cell_type": "code",
   "execution_count": 68,
   "id": "1654ff26",
   "metadata": {},
   "outputs": [],
   "source": [
    "pw2_obj_new = skills2(\"sohil\", \"sohil@gmail.com\")"
   ]
  },
  {
   "cell_type": "code",
   "execution_count": 69,
   "id": "fe280ec2",
   "metadata": {},
   "outputs": [],
   "source": [
    "pw2_obj_new.change_number(345252)"
   ]
  },
  {
   "cell_type": "code",
   "execution_count": 70,
   "id": "4b07b658",
   "metadata": {},
   "outputs": [
    {
     "data": {
      "text/plain": [
       "345252"
      ]
     },
     "execution_count": 70,
     "metadata": {},
     "output_type": "execute_result"
    }
   ],
   "source": [
    "pw2_obj_new.mobile_number"
   ]
  },
  {
   "cell_type": "code",
   "execution_count": 72,
   "id": "97f3ca76",
   "metadata": {},
   "outputs": [
    {
     "name": "stdout",
     "output_type": "stream",
     "text": [
      "sohil sohil@gmail.com 345252\n"
     ]
    }
   ],
   "source": [
    "pw2_obj_new.student_details()"
   ]
  },
  {
   "cell_type": "code",
   "execution_count": 73,
   "id": "4811f9dd",
   "metadata": {},
   "outputs": [
    {
     "data": {
      "text/plain": [
       "<__main__.skills2 at 0x1e4b8677af0>"
      ]
     },
     "execution_count": 73,
     "metadata": {},
     "output_type": "execute_result"
    }
   ],
   "source": [
    "pw2_obj_new.details(\"Radha\", \"Radha@gmail.com\")"
   ]
  },
  {
   "cell_type": "code",
   "execution_count": 74,
   "id": "f449cf64",
   "metadata": {},
   "outputs": [
    {
     "data": {
      "text/plain": [
       "'sohil'"
      ]
     },
     "execution_count": 74,
     "metadata": {},
     "output_type": "execute_result"
    }
   ],
   "source": [
    "pw2_obj_new.name"
   ]
  },
  {
   "cell_type": "code",
   "execution_count": 75,
   "id": "c0253ecd",
   "metadata": {},
   "outputs": [
    {
     "data": {
      "text/plain": [
       "'sohil@gmail.com'"
      ]
     },
     "execution_count": 75,
     "metadata": {},
     "output_type": "execute_result"
    }
   ],
   "source": [
    "pw2_obj_new.email"
   ]
  },
  {
   "cell_type": "code",
   "execution_count": 76,
   "id": "c1b8eaa0",
   "metadata": {},
   "outputs": [],
   "source": [
    "class skills3 :\n",
    "    \n",
    "    mobile_number = 913445234\n",
    "    \n",
    "    def __init__(self, name, email):\n",
    "        self.name = name \n",
    "        self.email = email \n",
    "        \n",
    "    @classmethod\n",
    "    def change_number(cls, mobileno):\n",
    "        skills2.mobile_number = mobileno\n",
    "    \n",
    "    @classmethod\n",
    "    def details(cls, name1 , email1):\n",
    "        return cls(name1, email1)\n",
    "        \n",
    "    def student_details(self):\n",
    "        print(self.name,self.email, skills2.mobile_number)\n",
    "        "
   ]
  },
  {
   "cell_type": "code",
   "execution_count": 78,
   "id": "cf7d4869",
   "metadata": {},
   "outputs": [],
   "source": [
    "def course_detail(cls, course_name ):\n",
    "    print(\"course details \" , course_name)"
   ]
  },
  {
   "cell_type": "code",
   "execution_count": 79,
   "id": "5a921105",
   "metadata": {},
   "outputs": [],
   "source": [
    "skills3.course_detail = classmethod(course_detail)"
   ]
  },
  {
   "cell_type": "code",
   "execution_count": 81,
   "id": "793826b9",
   "metadata": {},
   "outputs": [
    {
     "name": "stdout",
     "output_type": "stream",
     "text": [
      "course details  Data science masters\n"
     ]
    }
   ],
   "source": [
    "skills3.course_detail(\"Data science masters\")"
   ]
  },
  {
   "cell_type": "code",
   "execution_count": 82,
   "id": "6ff43319",
   "metadata": {},
   "outputs": [],
   "source": [
    "pw3 = skills3(\"krishna\", \"kirshna@gmail.com\")"
   ]
  },
  {
   "cell_type": "code",
   "execution_count": 85,
   "id": "19e93541",
   "metadata": {},
   "outputs": [
    {
     "name": "stdout",
     "output_type": "stream",
     "text": [
      "course details  web dev\n"
     ]
    }
   ],
   "source": [
    "pw3.course_detail(\"web dev\")"
   ]
  },
  {
   "cell_type": "code",
   "execution_count": 86,
   "id": "c2470520",
   "metadata": {},
   "outputs": [],
   "source": [
    "class skills4 :\n",
    "    \n",
    "    mobile_number = 913445234\n",
    "    \n",
    "    def __init__(self, name, email):\n",
    "        self.name = name \n",
    "        self.email = email \n",
    "        \n",
    "    @classmethod\n",
    "    def change_number(cls, mobileno):\n",
    "        skills2.mobile_number = mobileno\n",
    "    \n",
    "    @classmethod\n",
    "    def details(cls, name1 , email1):\n",
    "        return cls(name1, email1)\n",
    "        \n",
    "    def student_details(self):\n",
    "        print(self.name,self.email, skills2.mobile_number)\n",
    "        "
   ]
  },
  {
   "cell_type": "code",
   "execution_count": 87,
   "id": "17ab3d13",
   "metadata": {},
   "outputs": [],
   "source": [
    "del skills4.change_number"
   ]
  },
  {
   "cell_type": "code",
   "execution_count": 88,
   "id": "c82ad7e0",
   "metadata": {},
   "outputs": [
    {
     "ename": "AttributeError",
     "evalue": "type object 'skills4' has no attribute 'change_number'",
     "output_type": "error",
     "traceback": [
      "\u001b[1;31m---------------------------------------------------------------------------\u001b[0m",
      "\u001b[1;31mAttributeError\u001b[0m                            Traceback (most recent call last)",
      "\u001b[1;32mC:\\Users\\RAKSHA~1\\AppData\\Local\\Temp/ipykernel_25144/2672763751.py\u001b[0m in \u001b[0;36m<module>\u001b[1;34m\u001b[0m\n\u001b[1;32m----> 1\u001b[1;33m \u001b[0mskills4\u001b[0m\u001b[1;33m.\u001b[0m\u001b[0mchange_number\u001b[0m\u001b[1;33m(\u001b[0m\u001b[1;36m4231\u001b[0m\u001b[1;33m)\u001b[0m\u001b[1;33m\u001b[0m\u001b[1;33m\u001b[0m\u001b[0m\n\u001b[0m",
      "\u001b[1;31mAttributeError\u001b[0m: type object 'skills4' has no attribute 'change_number'"
     ]
    }
   ],
   "source": [
    "skills4.change_number(4231)"
   ]
  },
  {
   "cell_type": "code",
   "execution_count": 90,
   "id": "4fd2b4eb",
   "metadata": {},
   "outputs": [],
   "source": [
    "delattr(skills4, \"details\")"
   ]
  },
  {
   "cell_type": "code",
   "execution_count": 91,
   "id": "d6f531c6",
   "metadata": {},
   "outputs": [
    {
     "data": {
      "text/plain": [
       "913445234"
      ]
     },
     "execution_count": 91,
     "metadata": {},
     "output_type": "execute_result"
    }
   ],
   "source": [
    "skills4.mobile_number"
   ]
  },
  {
   "cell_type": "code",
   "execution_count": 92,
   "id": "6bcf8e4c",
   "metadata": {},
   "outputs": [],
   "source": [
    "delattr(skills4, \"mobile_number\")"
   ]
  },
  {
   "cell_type": "code",
   "execution_count": 93,
   "id": "ce75eeea",
   "metadata": {},
   "outputs": [
    {
     "ename": "AttributeError",
     "evalue": "type object 'skills4' has no attribute 'mobile_number'",
     "output_type": "error",
     "traceback": [
      "\u001b[1;31m---------------------------------------------------------------------------\u001b[0m",
      "\u001b[1;31mAttributeError\u001b[0m                            Traceback (most recent call last)",
      "\u001b[1;32mC:\\Users\\RAKSHA~1\\AppData\\Local\\Temp/ipykernel_25144/3573747671.py\u001b[0m in \u001b[0;36m<module>\u001b[1;34m\u001b[0m\n\u001b[1;32m----> 1\u001b[1;33m \u001b[0mskills4\u001b[0m\u001b[1;33m.\u001b[0m\u001b[0mmobile_number\u001b[0m\u001b[1;33m\u001b[0m\u001b[1;33m\u001b[0m\u001b[0m\n\u001b[0m",
      "\u001b[1;31mAttributeError\u001b[0m: type object 'skills4' has no attribute 'mobile_number'"
     ]
    }
   ],
   "source": [
    "skills4.mobile_number"
   ]
  },
  {
   "cell_type": "code",
   "execution_count": 94,
   "id": "49d4a23c",
   "metadata": {},
   "outputs": [],
   "source": [
    "delattr(skills4, \"student_details\")"
   ]
  },
  {
   "cell_type": "code",
   "execution_count": 96,
   "id": "73c67342",
   "metadata": {},
   "outputs": [
    {
     "data": {
      "text/plain": [
       "__main__.skills4"
      ]
     },
     "execution_count": 96,
     "metadata": {},
     "output_type": "execute_result"
    }
   ],
   "source": [
    "skills4"
   ]
  },
  {
   "cell_type": "code",
   "execution_count": null,
   "id": "a82aee65",
   "metadata": {},
   "outputs": [],
   "source": []
  },
  {
   "cell_type": "code",
   "execution_count": null,
   "id": "8ca1d971",
   "metadata": {},
   "outputs": [],
   "source": []
  },
  {
   "cell_type": "code",
   "execution_count": null,
   "id": "22a35269",
   "metadata": {},
   "outputs": [],
   "source": []
  },
  {
   "cell_type": "code",
   "execution_count": null,
   "id": "f6f635fb",
   "metadata": {},
   "outputs": [],
   "source": []
  },
  {
   "cell_type": "code",
   "execution_count": null,
   "id": "81329152",
   "metadata": {},
   "outputs": [],
   "source": []
  },
  {
   "cell_type": "code",
   "execution_count": null,
   "id": "18825a92",
   "metadata": {},
   "outputs": [],
   "source": []
  },
  {
   "cell_type": "code",
   "execution_count": null,
   "id": "7d537c51",
   "metadata": {},
   "outputs": [],
   "source": []
  },
  {
   "cell_type": "code",
   "execution_count": null,
   "id": "09ba3fbb",
   "metadata": {},
   "outputs": [],
   "source": []
  }
 ],
 "metadata": {
  "kernelspec": {
   "display_name": "Python 3 (ipykernel)",
   "language": "python",
   "name": "python3"
  },
  "language_info": {
   "codemirror_mode": {
    "name": "ipython",
    "version": 3
   },
   "file_extension": ".py",
   "mimetype": "text/x-python",
   "name": "python",
   "nbconvert_exporter": "python",
   "pygments_lexer": "ipython3",
   "version": "3.9.7"
  }
 },
 "nbformat": 4,
 "nbformat_minor": 5
}
