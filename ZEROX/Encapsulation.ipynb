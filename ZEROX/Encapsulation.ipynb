{
 "cells": [
  {
   "cell_type": "code",
   "execution_count": 1,
   "id": "b490450b",
   "metadata": {},
   "outputs": [],
   "source": [
    "class demo_test:\n",
    "    def __init__(self, a, b):\n",
    "        self.a = a\n",
    "        self.b = b\n"
   ]
  },
  {
   "cell_type": "code",
   "execution_count": 2,
   "id": "dc6b325d",
   "metadata": {},
   "outputs": [],
   "source": [
    "t = demo_test(45,46)"
   ]
  },
  {
   "cell_type": "code",
   "execution_count": 3,
   "id": "53c423d5",
   "metadata": {},
   "outputs": [
    {
     "data": {
      "text/plain": [
       "45"
      ]
     },
     "execution_count": 3,
     "metadata": {},
     "output_type": "execute_result"
    }
   ],
   "source": [
    "t.a"
   ]
  },
  {
   "cell_type": "code",
   "execution_count": 4,
   "id": "12d8b7b9",
   "metadata": {},
   "outputs": [
    {
     "data": {
      "text/plain": [
       "46"
      ]
     },
     "execution_count": 4,
     "metadata": {},
     "output_type": "execute_result"
    }
   ],
   "source": [
    "t.b"
   ]
  },
  {
   "cell_type": "code",
   "execution_count": 5,
   "id": "16fabd37",
   "metadata": {},
   "outputs": [],
   "source": [
    "t.a = 99"
   ]
  },
  {
   "cell_type": "code",
   "execution_count": 6,
   "id": "d679da2f",
   "metadata": {},
   "outputs": [
    {
     "data": {
      "text/plain": [
       "99"
      ]
     },
     "execution_count": 6,
     "metadata": {},
     "output_type": "execute_result"
    }
   ],
   "source": [
    "t.a"
   ]
  },
  {
   "cell_type": "code",
   "execution_count": 7,
   "id": "4b87f168",
   "metadata": {},
   "outputs": [],
   "source": [
    "class car :\n",
    "    \n",
    "    def __init__(self, year, make, model, speed):\n",
    "        self.__year = year\n",
    "        self.__make = make\n",
    "        self.__model = model\n",
    "        self.__speed = 0"
   ]
  },
  {
   "cell_type": "code",
   "execution_count": 8,
   "id": "9cfba707",
   "metadata": {},
   "outputs": [],
   "source": [
    "obj_car = car(2024,'toyota', 'innova', 12)"
   ]
  },
  {
   "cell_type": "code",
   "execution_count": 9,
   "id": "669bbe5c",
   "metadata": {},
   "outputs": [
    {
     "data": {
      "text/plain": [
       "2024"
      ]
     },
     "execution_count": 9,
     "metadata": {},
     "output_type": "execute_result"
    }
   ],
   "source": [
    "obj_car._car__year"
   ]
  },
  {
   "cell_type": "code",
   "execution_count": 10,
   "id": "76e3f9f1",
   "metadata": {},
   "outputs": [
    {
     "data": {
      "text/plain": [
       "'innova'"
      ]
     },
     "execution_count": 10,
     "metadata": {},
     "output_type": "execute_result"
    }
   ],
   "source": [
    "obj_car._car__model"
   ]
  },
  {
   "cell_type": "code",
   "execution_count": 11,
   "id": "54013956",
   "metadata": {},
   "outputs": [],
   "source": [
    "obj_car._car__year= 2023"
   ]
  },
  {
   "cell_type": "code",
   "execution_count": 12,
   "id": "17b32461",
   "metadata": {},
   "outputs": [
    {
     "data": {
      "text/plain": [
       "2023"
      ]
     },
     "execution_count": 12,
     "metadata": {},
     "output_type": "execute_result"
    }
   ],
   "source": [
    "obj_car._car__year"
   ]
  },
  {
   "cell_type": "raw",
   "id": "2f66f4d7",
   "metadata": {},
   "source": [
    "# I am able to acess the class value + I am able to assign - both things I can do and this thing \n",
    "is little bit dangerous whenever try to do a idursry grade coding\n",
    "bcoz anyone cab able to acess the variable and anyone can modify the variable.\n",
    "which is not allow for each and every classes\n",
    "sometimes we have to restrict the user that not to use this variable directly"
   ]
  },
  {
   "cell_type": "raw",
   "id": "819c91f0",
   "metadata": {},
   "source": [
    "Encapsulation is an idea which will allow you to prevent any kind of a direct access of data or direct modification of data\n",
    "\n",
    "what it is going to do that I know\n",
    "what kind of a outcome that I will be able to get that i know \n",
    "but i wont be able to access the internal composition of a capsule. I will not able to modify or change it "
   ]
  },
  {
   "cell_type": "code",
   "execution_count": 13,
   "id": "7c7142cb",
   "metadata": {},
   "outputs": [],
   "source": [
    "class car :\n",
    "    \n",
    "    def __init__(self, year, make, model, speed):\n",
    "        self.__year = year\n",
    "        self.__make = make\n",
    "        self.__model = model\n",
    "        self.__speed = 0\n",
    "        \n",
    "    def set_speed(self, speed):\n",
    "        self.__speed = 0 if speed < 0 else speed\n",
    "        \n",
    "    def get_speed(self):\n",
    "        return self.__speed"
   ]
  },
  {
   "cell_type": "code",
   "execution_count": 14,
   "id": "7060b832",
   "metadata": {},
   "outputs": [],
   "source": [
    "obj_car1 = car(2024,'toyota', 'innova', 12)"
   ]
  },
  {
   "cell_type": "code",
   "execution_count": 28,
   "id": "4e93ed27",
   "metadata": {},
   "outputs": [
    {
     "data": {
      "text/plain": [
       "2024"
      ]
     },
     "execution_count": 28,
     "metadata": {},
     "output_type": "execute_result"
    }
   ],
   "source": [
    "obj_car1._car__year"
   ]
  },
  {
   "cell_type": "code",
   "execution_count": 29,
   "id": "1739e549",
   "metadata": {},
   "outputs": [],
   "source": [
    "obj_car1._car__year = 2023"
   ]
  },
  {
   "cell_type": "code",
   "execution_count": 30,
   "id": "e89d1835",
   "metadata": {},
   "outputs": [
    {
     "data": {
      "text/plain": [
       "2023"
      ]
     },
     "execution_count": 30,
     "metadata": {},
     "output_type": "execute_result"
    }
   ],
   "source": [
    "obj_car1._car__year"
   ]
  },
  {
   "cell_type": "code",
   "execution_count": 31,
   "id": "4756b106",
   "metadata": {},
   "outputs": [
    {
     "data": {
      "text/plain": [
       "100"
      ]
     },
     "execution_count": 31,
     "metadata": {},
     "output_type": "execute_result"
    }
   ],
   "source": [
    "obj_car1._car__speed"
   ]
  },
  {
   "cell_type": "code",
   "execution_count": 15,
   "id": "b9fb01aa",
   "metadata": {},
   "outputs": [],
   "source": [
    "obj_car1.set_speed(100)"
   ]
  },
  {
   "cell_type": "code",
   "execution_count": 16,
   "id": "09881607",
   "metadata": {},
   "outputs": [
    {
     "data": {
      "text/plain": [
       "100"
      ]
     },
     "execution_count": 16,
     "metadata": {},
     "output_type": "execute_result"
    }
   ],
   "source": [
    "obj_car1._car__speed\n",
    "\n",
    "# obj._classname__classvariable "
   ]
  },
  {
   "cell_type": "code",
   "execution_count": 17,
   "id": "8ed5be8d",
   "metadata": {},
   "outputs": [
    {
     "data": {
      "text/plain": [
       "100"
      ]
     },
     "execution_count": 17,
     "metadata": {},
     "output_type": "execute_result"
    }
   ],
   "source": [
    "obj_car1.get_speed()"
   ]
  },
  {
   "cell_type": "code",
   "execution_count": 18,
   "id": "6a3feaf4",
   "metadata": {},
   "outputs": [],
   "source": [
    "class bank_account():\n",
    "    \n",
    "    def __init__(self, balance):\n",
    "        self.__balance = balance\n",
    "        \n",
    "        \n",
    "    def deposit(self, amount ):\n",
    "        self.__balance = self.__balance + amount\n",
    "        \n",
    "    def withdraw(self, amount):\n",
    "        if self.__balance >= amount:\n",
    "            self.__balance = self.__balance - amount\n",
    "            return True\n",
    "        else :\n",
    "            return False\n",
    "        \n",
    "    def get_balance(self):\n",
    "        return self.__balance\n",
    "    "
   ]
  },
  {
   "cell_type": "code",
   "execution_count": 19,
   "id": "dd8f1835",
   "metadata": {},
   "outputs": [],
   "source": [
    "obj_bank_account = bank_account(1000)"
   ]
  },
  {
   "cell_type": "code",
   "execution_count": 34,
   "id": "93281ce0",
   "metadata": {},
   "outputs": [],
   "source": [
    "obj_bank_account._bank_account__balance =1000"
   ]
  },
  {
   "cell_type": "code",
   "execution_count": 35,
   "id": "ec9180a1",
   "metadata": {},
   "outputs": [
    {
     "data": {
      "text/plain": [
       "1000"
      ]
     },
     "execution_count": 35,
     "metadata": {},
     "output_type": "execute_result"
    }
   ],
   "source": [
    "obj_bank_account._bank_account__balance"
   ]
  },
  {
   "cell_type": "code",
   "execution_count": 36,
   "id": "ce4c3674",
   "metadata": {},
   "outputs": [
    {
     "data": {
      "text/plain": [
       "1000"
      ]
     },
     "execution_count": 36,
     "metadata": {},
     "output_type": "execute_result"
    }
   ],
   "source": [
    "obj_bank_account.get_balance()"
   ]
  },
  {
   "cell_type": "code",
   "execution_count": 37,
   "id": "14b0928e",
   "metadata": {},
   "outputs": [
    {
     "data": {
      "text/plain": [
       "1000"
      ]
     },
     "execution_count": 37,
     "metadata": {},
     "output_type": "execute_result"
    }
   ],
   "source": [
    "obj_bank_account._bank_account__balance"
   ]
  },
  {
   "cell_type": "code",
   "execution_count": 38,
   "id": "8a606d88",
   "metadata": {},
   "outputs": [],
   "source": [
    "obj_bank_account.deposit(700)"
   ]
  },
  {
   "cell_type": "code",
   "execution_count": 39,
   "id": "7fadb200",
   "metadata": {},
   "outputs": [
    {
     "data": {
      "text/plain": [
       "1700"
      ]
     },
     "execution_count": 39,
     "metadata": {},
     "output_type": "execute_result"
    }
   ],
   "source": [
    "obj_bank_account.get_balance()"
   ]
  },
  {
   "cell_type": "code",
   "execution_count": 40,
   "id": "40e3848e",
   "metadata": {},
   "outputs": [
    {
     "data": {
      "text/plain": [
       "False"
      ]
     },
     "execution_count": 40,
     "metadata": {},
     "output_type": "execute_result"
    }
   ],
   "source": [
    "obj_bank_account.withdraw(7000)"
   ]
  },
  {
   "cell_type": "code",
   "execution_count": 41,
   "id": "39bf9851",
   "metadata": {},
   "outputs": [
    {
     "data": {
      "text/plain": [
       "True"
      ]
     },
     "execution_count": 41,
     "metadata": {},
     "output_type": "execute_result"
    }
   ],
   "source": [
    "obj_bank_account.withdraw(5)"
   ]
  },
  {
   "cell_type": "code",
   "execution_count": 42,
   "id": "ecd5d152",
   "metadata": {},
   "outputs": [
    {
     "data": {
      "text/plain": [
       "1695"
      ]
     },
     "execution_count": 42,
     "metadata": {},
     "output_type": "execute_result"
    }
   ],
   "source": [
    "obj_bank_account.get_balance()"
   ]
  },
  {
   "cell_type": "code",
   "execution_count": 43,
   "id": "27d0e751",
   "metadata": {},
   "outputs": [
    {
     "data": {
      "text/plain": [
       "'F:\\\\Feb_seven_2024\\\\Python_Practice'"
      ]
     },
     "execution_count": 43,
     "metadata": {},
     "output_type": "execute_result"
    }
   ],
   "source": [
    "pwd()"
   ]
  },
  {
   "cell_type": "code",
   "execution_count": null,
   "id": "13949ad4",
   "metadata": {},
   "outputs": [],
   "source": []
  },
  {
   "cell_type": "raw",
   "id": "dec95177",
   "metadata": {},
   "source": [
    "I am just trying to hide the entire implementation from my user i am not alllowing \n",
    "they able to see the high level functions\n",
    "and I try to expose whatever require for user "
   ]
  },
  {
   "cell_type": "code",
   "execution_count": null,
   "id": "f0db497c",
   "metadata": {},
   "outputs": [],
   "source": []
  },
  {
   "cell_type": "code",
   "execution_count": null,
   "id": "e298b7b9",
   "metadata": {},
   "outputs": [],
   "source": []
  }
 ],
 "metadata": {
  "kernelspec": {
   "display_name": "Python 3 (ipykernel)",
   "language": "python",
   "name": "python3"
  },
  "language_info": {
   "codemirror_mode": {
    "name": "ipython",
    "version": 3
   },
   "file_extension": ".py",
   "mimetype": "text/x-python",
   "name": "python",
   "nbconvert_exporter": "python",
   "pygments_lexer": "ipython3",
   "version": "3.9.7"
  }
 },
 "nbformat": 4,
 "nbformat_minor": 5
}
