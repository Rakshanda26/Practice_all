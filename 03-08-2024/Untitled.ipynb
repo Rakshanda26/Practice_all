{
 "cells": [
  {
   "cell_type": "code",
   "execution_count": null,
   "id": "1a1619d2",
   "metadata": {},
   "outputs": [],
   "source": [
    "pwd()"
   ]
  },
  {
   "cell_type": "code",
   "execution_count": null,
   "id": "25cbe8a0",
   "metadata": {},
   "outputs": [],
   "source": [
    "import this"
   ]
  },
  {
   "cell_type": "code",
   "execution_count": null,
   "id": "b40c3cb3",
   "metadata": {},
   "outputs": [],
   "source": [
    "print(\"this is my first program\")"
   ]
  },
  {
   "cell_type": "code",
   "execution_count": null,
   "id": "9bcbbf9d",
   "metadata": {},
   "outputs": [],
   "source": [
    "3/2"
   ]
  },
  {
   "cell_type": "code",
   "execution_count": null,
   "id": "66247264",
   "metadata": {},
   "outputs": [],
   "source": [
    "a = 10"
   ]
  },
  {
   "cell_type": "code",
   "execution_count": null,
   "id": "dfad853a",
   "metadata": {},
   "outputs": [],
   "source": [
    "a"
   ]
  },
  {
   "cell_type": "code",
   "execution_count": null,
   "id": "b63e6cda",
   "metadata": {},
   "outputs": [],
   "source": [
    "type(a)"
   ]
  },
  {
   "cell_type": "code",
   "execution_count": null,
   "id": "008ad5fd",
   "metadata": {},
   "outputs": [],
   "source": [
    "b = 45.6"
   ]
  },
  {
   "cell_type": "code",
   "execution_count": null,
   "id": "1dd728f4",
   "metadata": {},
   "outputs": [],
   "source": [
    "type(b)"
   ]
  },
  {
   "cell_type": "code",
   "execution_count": null,
   "id": "d49bf71c",
   "metadata": {},
   "outputs": [],
   "source": [
    "a.title()"
   ]
  },
  {
   "cell_type": "code",
   "execution_count": null,
   "id": "4bd64959",
   "metadata": {},
   "outputs": [],
   "source": [
    "a.join(s)"
   ]
  },
  {
   "cell_type": "code",
   "execution_count": null,
   "id": "b7b55d9d",
   "metadata": {},
   "outputs": [],
   "source": [
    "b = \"radha  \"\n",
    "c = \"krishna\"\n",
    "d = ' '"
   ]
  },
  {
   "cell_type": "code",
   "execution_count": null,
   "id": "78a47f1e",
   "metadata": {},
   "outputs": [],
   "source": [
    "b.join(c)"
   ]
  },
  {
   "cell_type": "code",
   "execution_count": null,
   "id": "2ecc0749",
   "metadata": {},
   "outputs": [],
   "source": [
    "\" \".join(b)"
   ]
  },
  {
   "cell_type": "code",
   "execution_count": null,
   "id": "ba5eef94",
   "metadata": {},
   "outputs": [],
   "source": [
    "' '.join(c)"
   ]
  },
  {
   "cell_type": "code",
   "execution_count": null,
   "id": "89d2532a",
   "metadata": {},
   "outputs": [],
   "source": [
    "b.join(c)"
   ]
  },
  {
   "cell_type": "code",
   "execution_count": null,
   "id": "f4d5d62f",
   "metadata": {},
   "outputs": [],
   "source": [
    "b.replace('hare', 'radha')"
   ]
  },
  {
   "cell_type": "code",
   "execution_count": null,
   "id": "49636bcc",
   "metadata": {},
   "outputs": [],
   "source": [
    "b = 'radha  '"
   ]
  },
  {
   "cell_type": "code",
   "execution_count": null,
   "id": "3da33ae2",
   "metadata": {},
   "outputs": [],
   "source": [
    "c = b.replace('radha', 'hare krishna')"
   ]
  },
  {
   "cell_type": "code",
   "execution_count": null,
   "id": "80348652",
   "metadata": {},
   "outputs": [],
   "source": [
    "c"
   ]
  },
  {
   "cell_type": "code",
   "execution_count": null,
   "id": "33bf9466",
   "metadata": {},
   "outputs": [],
   "source": [
    "b"
   ]
  },
  {
   "cell_type": "code",
   "execution_count": null,
   "id": "e87dc70a",
   "metadata": {},
   "outputs": [],
   "source": [
    "b.join(c)"
   ]
  },
  {
   "cell_type": "code",
   "execution_count": null,
   "id": "4ded65ce",
   "metadata": {},
   "outputs": [],
   "source": [
    "b"
   ]
  },
  {
   "cell_type": "code",
   "execution_count": null,
   "id": "12bb998c",
   "metadata": {},
   "outputs": [],
   "source": [
    "b.lstrip()"
   ]
  },
  {
   "cell_type": "code",
   "execution_count": null,
   "id": "62b80f4a",
   "metadata": {},
   "outputs": [],
   "source": [
    "b = b.rstrip()"
   ]
  },
  {
   "cell_type": "code",
   "execution_count": null,
   "id": "83fb0ff5",
   "metadata": {},
   "outputs": [],
   "source": [
    "b"
   ]
  },
  {
   "cell_type": "code",
   "execution_count": null,
   "id": "bd53faa3",
   "metadata": {},
   "outputs": [],
   "source": [
    "b.center(40,'*')"
   ]
  },
  {
   "cell_type": "code",
   "execution_count": null,
   "id": "870c92be",
   "metadata": {},
   "outputs": [],
   "source": [
    "b.isupper()"
   ]
  },
  {
   "cell_type": "code",
   "execution_count": null,
   "id": "7a8f83e8",
   "metadata": {},
   "outputs": [],
   "source": [
    "b.islower()"
   ]
  },
  {
   "cell_type": "code",
   "execution_count": null,
   "id": "6fff1891",
   "metadata": {},
   "outputs": [],
   "source": [
    "b.isspace()"
   ]
  },
  {
   "cell_type": "code",
   "execution_count": null,
   "id": "b2ea6818",
   "metadata": {},
   "outputs": [],
   "source": [
    "s  = \" sudh \""
   ]
  },
  {
   "cell_type": "code",
   "execution_count": null,
   "id": "249a6782",
   "metadata": {},
   "outputs": [],
   "source": [
    "s.isspace()"
   ]
  },
  {
   "cell_type": "code",
   "execution_count": null,
   "id": "565e1433",
   "metadata": {},
   "outputs": [],
   "source": [
    "s = \" \""
   ]
  },
  {
   "cell_type": "code",
   "execution_count": null,
   "id": "167132d5",
   "metadata": {},
   "outputs": [],
   "source": [
    "s.isspace()"
   ]
  },
  {
   "cell_type": "code",
   "execution_count": null,
   "id": "592b78a8",
   "metadata": {},
   "outputs": [],
   "source": [
    "s.isdigit()"
   ]
  },
  {
   "cell_type": "code",
   "execution_count": null,
   "id": "ba5ecc05",
   "metadata": {},
   "outputs": [],
   "source": [
    "s.isalpha()"
   ]
  },
  {
   "cell_type": "code",
   "execution_count": null,
   "id": "62b549b6",
   "metadata": {},
   "outputs": [],
   "source": [
    "b.isalpha()"
   ]
  },
  {
   "cell_type": "code",
   "execution_count": null,
   "id": "c66547e3",
   "metadata": {},
   "outputs": [],
   "source": [
    "b.endswith('a')"
   ]
  },
  {
   "cell_type": "code",
   "execution_count": null,
   "id": "fb985823",
   "metadata": {},
   "outputs": [],
   "source": [
    "b.startswith('r')"
   ]
  },
  {
   "cell_type": "code",
   "execution_count": null,
   "id": "4810e7eb",
   "metadata": {},
   "outputs": [],
   "source": [
    "s.istitle()"
   ]
  },
  {
   "cell_type": "code",
   "execution_count": null,
   "id": "6a527576",
   "metadata": {},
   "outputs": [],
   "source": [
    " l = 'hare krishna hare krishna krishna krishna hare hare hare rama hare rama rama rama hare hare '"
   ]
  },
  {
   "cell_type": "code",
   "execution_count": null,
   "id": "17304a3e",
   "metadata": {},
   "outputs": [],
   "source": [
    "l = l.split()"
   ]
  },
  {
   "cell_type": "code",
   "execution_count": null,
   "id": "e1ca6dd0",
   "metadata": {},
   "outputs": [],
   "source": [
    "l"
   ]
  },
  {
   "cell_type": "code",
   "execution_count": null,
   "id": "7a2a1f0b",
   "metadata": {},
   "outputs": [],
   "source": [
    "l = set(l)"
   ]
  },
  {
   "cell_type": "code",
   "execution_count": null,
   "id": "ab6fce4e",
   "metadata": {},
   "outputs": [],
   "source": [
    "l = list(l)"
   ]
  },
  {
   "cell_type": "code",
   "execution_count": null,
   "id": "75d0b861",
   "metadata": {},
   "outputs": [],
   "source": [
    "l"
   ]
  },
  {
   "cell_type": "code",
   "execution_count": null,
   "id": "eeab1c0d",
   "metadata": {},
   "outputs": [],
   "source": [
    "l1 = 'hare krishna hare krishna krishna krishna hare hare hare rama hare rama rama rama hare hare '\n",
    "l1= l1.split()"
   ]
  },
  {
   "cell_type": "code",
   "execution_count": null,
   "id": "4bb4ebcb",
   "metadata": {},
   "outputs": [],
   "source": [
    "\n",
    "l1 = []\n",
    "for i in l:\n",
    "    if i not in l1:\n",
    "        l1.append(i)   \n",
    "print(l1)\n",
    "    "
   ]
  },
  {
   "cell_type": "code",
   "execution_count": null,
   "id": "077e8e9f",
   "metadata": {},
   "outputs": [],
   "source": [
    "def remove_dup(l):\n",
    "    l1 = []\n",
    "    for i in l:\n",
    "        if i not in l1:\n",
    "            l1.append(i)   \n",
    "    return l1\n",
    "    "
   ]
  },
  {
   "cell_type": "code",
   "execution_count": null,
   "id": "3508c38d",
   "metadata": {},
   "outputs": [],
   "source": [
    "remove_dup(l)"
   ]
  },
  {
   "cell_type": "code",
   "execution_count": null,
   "id": "0147998b",
   "metadata": {},
   "outputs": [],
   "source": [
    "l = [1, 2, 2, 3, 4, 4, 5]\n",
    "unique_list = list(dict.fromkeys(l))\n",
    "print(unique_list)\n"
   ]
  },
  {
   "cell_type": "code",
   "execution_count": null,
   "id": "93a06a68",
   "metadata": {},
   "outputs": [],
   "source": [
    "l1 = 'hare krishna hare krishna krishna krishna hare hare hare rama hare rama rama rama hare hare '\n",
    "l1= l1.split()\n",
    "unique_list = dict.fromkeys(l1)\n",
    "print(unique_list)\n"
   ]
  },
  {
   "cell_type": "code",
   "execution_count": null,
   "id": "89e88ccb",
   "metadata": {},
   "outputs": [],
   "source": [
    "l1 = 'hare krishna hare krishna krishna krishna hare hare hare rama hare rama rama rama hare hare '\n",
    "l1= l1.split()\n",
    "unique_list = list(dict.fromkeys(l1))\n",
    "print(unique_list)\n"
   ]
  },
  {
   "cell_type": "code",
   "execution_count": null,
   "id": "3a601737",
   "metadata": {},
   "outputs": [],
   "source": [
    "l2 = list(dict.fromkeys(l1))"
   ]
  },
  {
   "cell_type": "code",
   "execution_count": null,
   "id": "b14ffda2",
   "metadata": {},
   "outputs": [],
   "source": [
    "l2"
   ]
  },
  {
   "cell_type": "code",
   "execution_count": null,
   "id": "b1da7f32",
   "metadata": {},
   "outputs": [],
   "source": [
    "l1"
   ]
  },
  {
   "cell_type": "code",
   "execution_count": null,
   "id": "a556c5be",
   "metadata": {},
   "outputs": [],
   "source": [
    "l2"
   ]
  },
  {
   "cell_type": "code",
   "execution_count": null,
   "id": "31ac3f08",
   "metadata": {},
   "outputs": [],
   "source": [
    "l1+l2"
   ]
  },
  {
   "cell_type": "code",
   "execution_count": null,
   "id": "672ba249",
   "metadata": {},
   "outputs": [],
   "source": [
    "l1 + 'sudh'"
   ]
  },
  {
   "cell_type": "code",
   "execution_count": null,
   "id": "a75c960e",
   "metadata": {},
   "outputs": [],
   "source": [
    "l1 + ['Radharani']"
   ]
  },
  {
   "cell_type": "code",
   "execution_count": null,
   "id": "b440a876",
   "metadata": {},
   "outputs": [],
   "source": [
    "l1-2"
   ]
  },
  {
   "cell_type": "code",
   "execution_count": null,
   "id": "6d75a1d3",
   "metadata": {},
   "outputs": [],
   "source": [
    "l2"
   ]
  },
  {
   "cell_type": "code",
   "execution_count": null,
   "id": "8737371c",
   "metadata": {},
   "outputs": [],
   "source": [
    "l2*2"
   ]
  },
  {
   "cell_type": "code",
   "execution_count": null,
   "id": "89589446",
   "metadata": {},
   "outputs": [],
   "source": [
    "l2"
   ]
  },
  {
   "cell_type": "code",
   "execution_count": null,
   "id": "0df36218",
   "metadata": {},
   "outputs": [],
   "source": [
    "l2[0] = 'Radha'"
   ]
  },
  {
   "cell_type": "code",
   "execution_count": null,
   "id": "213ea4a4",
   "metadata": {},
   "outputs": [],
   "source": [
    "l2"
   ]
  },
  {
   "cell_type": "code",
   "execution_count": null,
   "id": "14d5f08f",
   "metadata": {},
   "outputs": [],
   "source": [
    "l2[0].replace('R', 'K')"
   ]
  },
  {
   "cell_type": "code",
   "execution_count": null,
   "id": "af018e0a",
   "metadata": {},
   "outputs": [],
   "source": [
    "s = \"Radha\""
   ]
  },
  {
   "cell_type": "code",
   "execution_count": null,
   "id": "bb9ef704",
   "metadata": {},
   "outputs": [],
   "source": [
    "s.replace('R', 'K')"
   ]
  },
  {
   "cell_type": "code",
   "execution_count": null,
   "id": "dd402dfe",
   "metadata": {},
   "outputs": [],
   "source": [
    "s[0] = 'K'"
   ]
  },
  {
   "cell_type": "code",
   "execution_count": null,
   "id": "7fc9c98d",
   "metadata": {},
   "outputs": [],
   "source": [
    "len(l1)"
   ]
  },
  {
   "cell_type": "code",
   "execution_count": null,
   "id": "15ab12cd",
   "metadata": {},
   "outputs": [],
   "source": [
    "'hare' in l1"
   ]
  },
  {
   "cell_type": "code",
   "execution_count": null,
   "id": "54b3a688",
   "metadata": {},
   "outputs": [],
   "source": [
    "pwd()"
   ]
  },
  {
   "cell_type": "code",
   "execution_count": null,
   "id": "eaa90500",
   "metadata": {},
   "outputs": [],
   "source": []
  }
 ],
 "metadata": {
  "kernelspec": {
   "display_name": "Python 3 (ipykernel)",
   "language": "python",
   "name": "python3"
  },
  "language_info": {
   "codemirror_mode": {
    "name": "ipython",
    "version": 3
   },
   "file_extension": ".py",
   "mimetype": "text/x-python",
   "name": "python",
   "nbconvert_exporter": "python",
   "pygments_lexer": "ipython3",
   "version": "3.9.7"
  }
 },
 "nbformat": 4,
 "nbformat_minor": 5
}
