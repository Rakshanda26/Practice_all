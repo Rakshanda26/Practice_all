{
 "cells": [
  {
   "cell_type": "code",
   "execution_count": 1,
   "id": "b28e5b80",
   "metadata": {},
   "outputs": [
    {
     "name": "stdout",
     "output_type": "stream",
     "text": [
      "The Zen of Python, by Tim Peters\n",
      "\n",
      "Beautiful is better than ugly.\n",
      "Explicit is better than implicit.\n",
      "Simple is better than complex.\n",
      "Complex is better than complicated.\n",
      "Flat is better than nested.\n",
      "Sparse is better than dense.\n",
      "Readability counts.\n",
      "Special cases aren't special enough to break the rules.\n",
      "Although practicality beats purity.\n",
      "Errors should never pass silently.\n",
      "Unless explicitly silenced.\n",
      "In the face of ambiguity, refuse the temptation to guess.\n",
      "There should be one-- and preferably only one --obvious way to do it.\n",
      "Although that way may not be obvious at first unless you're Dutch.\n",
      "Now is better than never.\n",
      "Although never is often better than *right* now.\n",
      "If the implementation is hard to explain, it's a bad idea.\n",
      "If the implementation is easy to explain, it may be a good idea.\n",
      "Namespaces are one honking great idea -- let's do more of those!\n"
     ]
    }
   ],
   "source": [
    "import this"
   ]
  },
  {
   "cell_type": "code",
   "execution_count": 16,
   "id": "e94f154b",
   "metadata": {},
   "outputs": [],
   "source": [
    "_ = 10"
   ]
  },
  {
   "cell_type": "code",
   "execution_count": 17,
   "id": "c9010c86",
   "metadata": {},
   "outputs": [
    {
     "data": {
      "text/plain": [
       "10"
      ]
     },
     "execution_count": 17,
     "metadata": {},
     "output_type": "execute_result"
    }
   ],
   "source": [
    "_"
   ]
  },
  {
   "cell_type": "code",
   "execution_count": 18,
   "id": "8e9ef3e1",
   "metadata": {},
   "outputs": [
    {
     "data": {
      "text/plain": [
       "int"
      ]
     },
     "execution_count": 18,
     "metadata": {},
     "output_type": "execute_result"
    }
   ],
   "source": [
    "type(_)"
   ]
  },
  {
   "cell_type": "code",
   "execution_count": 19,
   "id": "b52f30a8",
   "metadata": {},
   "outputs": [],
   "source": [
    "a,b,c,d = 1,'a',45.6, True"
   ]
  },
  {
   "cell_type": "code",
   "execution_count": 20,
   "id": "d7750b99",
   "metadata": {},
   "outputs": [
    {
     "data": {
      "text/plain": [
       "1"
      ]
     },
     "execution_count": 20,
     "metadata": {},
     "output_type": "execute_result"
    }
   ],
   "source": [
    "a"
   ]
  },
  {
   "cell_type": "code",
   "execution_count": 21,
   "id": "15f7674b",
   "metadata": {},
   "outputs": [
    {
     "data": {
      "text/plain": [
       "'a'"
      ]
     },
     "execution_count": 21,
     "metadata": {},
     "output_type": "execute_result"
    }
   ],
   "source": [
    "b"
   ]
  },
  {
   "cell_type": "code",
   "execution_count": 22,
   "id": "ac0886e6",
   "metadata": {},
   "outputs": [
    {
     "data": {
      "text/plain": [
       "45.6"
      ]
     },
     "execution_count": 22,
     "metadata": {},
     "output_type": "execute_result"
    }
   ],
   "source": [
    "c"
   ]
  },
  {
   "cell_type": "code",
   "execution_count": 23,
   "id": "7e555e25",
   "metadata": {},
   "outputs": [
    {
     "data": {
      "text/plain": [
       "True"
      ]
     },
     "execution_count": 23,
     "metadata": {},
     "output_type": "execute_result"
    }
   ],
   "source": [
    "d"
   ]
  },
  {
   "cell_type": "code",
   "execution_count": 24,
   "id": "0bf814b6",
   "metadata": {},
   "outputs": [
    {
     "data": {
      "text/plain": [
       "float"
      ]
     },
     "execution_count": 24,
     "metadata": {},
     "output_type": "execute_result"
    }
   ],
   "source": [
    "type(c)"
   ]
  },
  {
   "cell_type": "code",
   "execution_count": 26,
   "id": "3ad24842",
   "metadata": {},
   "outputs": [
    {
     "data": {
      "text/plain": [
       "(6417629469002957, 140737488355328)"
      ]
     },
     "execution_count": 26,
     "metadata": {},
     "output_type": "execute_result"
    }
   ],
   "source": [
    "c.as_integer_ratio()"
   ]
  },
  {
   "cell_type": "code",
   "execution_count": 28,
   "id": "be52ccf1",
   "metadata": {},
   "outputs": [
    {
     "data": {
      "text/plain": [
       "0.0"
      ]
     },
     "execution_count": 28,
     "metadata": {},
     "output_type": "execute_result"
    }
   ],
   "source": [
    "c.imag"
   ]
  },
  {
   "cell_type": "code",
   "execution_count": 29,
   "id": "dd62addd",
   "metadata": {},
   "outputs": [
    {
     "data": {
      "text/plain": [
       "45.6"
      ]
     },
     "execution_count": 29,
     "metadata": {},
     "output_type": "execute_result"
    }
   ],
   "source": [
    "c"
   ]
  },
  {
   "cell_type": "code",
   "execution_count": 30,
   "id": "4f726e8b",
   "metadata": {},
   "outputs": [
    {
     "data": {
      "text/plain": [
       "45.6"
      ]
     },
     "execution_count": 30,
     "metadata": {},
     "output_type": "execute_result"
    }
   ],
   "source": [
    "c.real"
   ]
  },
  {
   "cell_type": "code",
   "execution_count": 31,
   "id": "95eccd46",
   "metadata": {},
   "outputs": [
    {
     "data": {
      "text/plain": [
       "0.0"
      ]
     },
     "execution_count": 31,
     "metadata": {},
     "output_type": "execute_result"
    }
   ],
   "source": [
    "c.imag"
   ]
  },
  {
   "cell_type": "code",
   "execution_count": 33,
   "id": "1e521e56",
   "metadata": {},
   "outputs": [],
   "source": [
    "a = \"sudh\""
   ]
  },
  {
   "cell_type": "code",
   "execution_count": 34,
   "id": "880d47e4",
   "metadata": {},
   "outputs": [
    {
     "data": {
      "text/plain": [
       "str"
      ]
     },
     "execution_count": 34,
     "metadata": {},
     "output_type": "execute_result"
    }
   ],
   "source": [
    "type(a)"
   ]
  },
  {
   "cell_type": "code",
   "execution_count": 35,
   "id": "56117caa",
   "metadata": {},
   "outputs": [
    {
     "data": {
      "text/plain": [
       "'sudh'"
      ]
     },
     "execution_count": 35,
     "metadata": {},
     "output_type": "execute_result"
    }
   ],
   "source": [
    "a "
   ]
  },
  {
   "cell_type": "code",
   "execution_count": 36,
   "id": "39a2e4ec",
   "metadata": {},
   "outputs": [
    {
     "ename": "TypeError",
     "evalue": "can only concatenate str (not \"int\") to str",
     "output_type": "error",
     "traceback": [
      "\u001b[1;31m---------------------------------------------------------------------------\u001b[0m",
      "\u001b[1;31mTypeError\u001b[0m                                 Traceback (most recent call last)",
      "\u001b[1;32mC:\\Users\\RAKSHA~1\\AppData\\Local\\Temp/ipykernel_12216/2703434432.py\u001b[0m in \u001b[0;36m<module>\u001b[1;34m\u001b[0m\n\u001b[1;32m----> 1\u001b[1;33m \u001b[0ma\u001b[0m \u001b[1;33m+\u001b[0m \u001b[1;36m4\u001b[0m\u001b[1;33m\u001b[0m\u001b[1;33m\u001b[0m\u001b[0m\n\u001b[0m",
      "\u001b[1;31mTypeError\u001b[0m: can only concatenate str (not \"int\") to str"
     ]
    }
   ],
   "source": [
    "a + 4"
   ]
  },
  {
   "cell_type": "code",
   "execution_count": 37,
   "id": "eff7a229",
   "metadata": {},
   "outputs": [
    {
     "data": {
      "text/plain": [
       "'sudh4'"
      ]
     },
     "execution_count": 37,
     "metadata": {},
     "output_type": "execute_result"
    }
   ],
   "source": [
    "a + str(4)"
   ]
  },
  {
   "cell_type": "code",
   "execution_count": 38,
   "id": "2c713835",
   "metadata": {},
   "outputs": [
    {
     "data": {
      "text/plain": [
       "2"
      ]
     },
     "execution_count": 38,
     "metadata": {},
     "output_type": "execute_result"
    }
   ],
   "source": [
    "True+True"
   ]
  },
  {
   "cell_type": "code",
   "execution_count": 39,
   "id": "84c29775",
   "metadata": {},
   "outputs": [
    {
     "name": "stdout",
     "output_type": "stream",
     "text": [
      "10\n"
     ]
    }
   ],
   "source": [
    "a  = input()"
   ]
  },
  {
   "cell_type": "code",
   "execution_count": 47,
   "id": "b1144682",
   "metadata": {},
   "outputs": [
    {
     "ename": "TypeError",
     "evalue": "unsupported operand type(s) for +: 'int' and 'str'",
     "output_type": "error",
     "traceback": [
      "\u001b[1;31m---------------------------------------------------------------------------\u001b[0m",
      "\u001b[1;31mTypeError\u001b[0m                                 Traceback (most recent call last)",
      "\u001b[1;32mC:\\Users\\RAKSHA~1\\AppData\\Local\\Temp/ipykernel_12216/1960895978.py\u001b[0m in \u001b[0;36m<module>\u001b[1;34m\u001b[0m\n\u001b[1;32m----> 1\u001b[1;33m \u001b[0mint\u001b[0m\u001b[1;33m(\u001b[0m\u001b[0ma\u001b[0m\u001b[1;33m)\u001b[0m\u001b[1;33m+\u001b[0m\u001b[0mstr\u001b[0m\u001b[1;33m(\u001b[0m\u001b[0mb\u001b[0m\u001b[1;33m)\u001b[0m\u001b[1;33m\u001b[0m\u001b[1;33m\u001b[0m\u001b[0m\n\u001b[0m",
      "\u001b[1;31mTypeError\u001b[0m: unsupported operand type(s) for +: 'int' and 'str'"
     ]
    }
   ],
   "source": [
    "int(a)+str(b)"
   ]
  },
  {
   "cell_type": "code",
   "execution_count": 45,
   "id": "09fd57ec",
   "metadata": {},
   "outputs": [
    {
     "data": {
      "text/plain": [
       "'10'"
      ]
     },
     "execution_count": 45,
     "metadata": {},
     "output_type": "execute_result"
    }
   ],
   "source": [
    "a"
   ]
  },
  {
   "cell_type": "code",
   "execution_count": 46,
   "id": "3ae840d7",
   "metadata": {},
   "outputs": [
    {
     "data": {
      "text/plain": [
       "'a'"
      ]
     },
     "execution_count": 46,
     "metadata": {},
     "output_type": "execute_result"
    }
   ],
   "source": [
    "b"
   ]
  },
  {
   "cell_type": "code",
   "execution_count": 48,
   "id": "99b143b0",
   "metadata": {},
   "outputs": [
    {
     "data": {
      "text/plain": [
       "str"
      ]
     },
     "execution_count": 48,
     "metadata": {},
     "output_type": "execute_result"
    }
   ],
   "source": [
    "type(b)"
   ]
  },
  {
   "cell_type": "code",
   "execution_count": 49,
   "id": "3299cba0",
   "metadata": {},
   "outputs": [
    {
     "data": {
      "text/plain": [
       "str"
      ]
     },
     "execution_count": 49,
     "metadata": {},
     "output_type": "execute_result"
    }
   ],
   "source": [
    "type(a)"
   ]
  },
  {
   "cell_type": "code",
   "execution_count": 50,
   "id": "63e00244",
   "metadata": {},
   "outputs": [
    {
     "data": {
      "text/plain": [
       "'10'"
      ]
     },
     "execution_count": 50,
     "metadata": {},
     "output_type": "execute_result"
    }
   ],
   "source": [
    "a"
   ]
  },
  {
   "cell_type": "code",
   "execution_count": 51,
   "id": "43639457",
   "metadata": {},
   "outputs": [
    {
     "data": {
      "text/plain": [
       "'a'"
      ]
     },
     "execution_count": 51,
     "metadata": {},
     "output_type": "execute_result"
    }
   ],
   "source": [
    "b"
   ]
  },
  {
   "cell_type": "code",
   "execution_count": 52,
   "id": "54ea03a0",
   "metadata": {},
   "outputs": [
    {
     "data": {
      "text/plain": [
       "'10a'"
      ]
     },
     "execution_count": 52,
     "metadata": {},
     "output_type": "execute_result"
    }
   ],
   "source": [
    "a+b"
   ]
  },
  {
   "cell_type": "code",
   "execution_count": 53,
   "id": "37218256",
   "metadata": {},
   "outputs": [],
   "source": [
    "b = 10"
   ]
  },
  {
   "cell_type": "code",
   "execution_count": 54,
   "id": "143fd8ab",
   "metadata": {},
   "outputs": [
    {
     "data": {
      "text/plain": [
       "int"
      ]
     },
     "execution_count": 54,
     "metadata": {},
     "output_type": "execute_result"
    }
   ],
   "source": [
    "type(b)"
   ]
  },
  {
   "cell_type": "code",
   "execution_count": 55,
   "id": "cdc495f8",
   "metadata": {},
   "outputs": [
    {
     "data": {
      "text/plain": [
       "str"
      ]
     },
     "execution_count": 55,
     "metadata": {},
     "output_type": "execute_result"
    }
   ],
   "source": [
    "type(a)"
   ]
  },
  {
   "cell_type": "code",
   "execution_count": 56,
   "id": "b3ccfcd6",
   "metadata": {},
   "outputs": [
    {
     "data": {
      "text/plain": [
       "20"
      ]
     },
     "execution_count": 56,
     "metadata": {},
     "output_type": "execute_result"
    }
   ],
   "source": [
    "int(a)+int(b)"
   ]
  },
  {
   "cell_type": "code",
   "execution_count": 57,
   "id": "8e9473bb",
   "metadata": {},
   "outputs": [
    {
     "data": {
      "text/plain": [
       "2396485351216"
      ]
     },
     "execution_count": 57,
     "metadata": {},
     "output_type": "execute_result"
    }
   ],
   "source": [
    "id(a)"
   ]
  },
  {
   "cell_type": "code",
   "execution_count": 58,
   "id": "4d52246c",
   "metadata": {},
   "outputs": [
    {
     "data": {
      "text/plain": [
       "2396387502672"
      ]
     },
     "execution_count": 58,
     "metadata": {},
     "output_type": "execute_result"
    }
   ],
   "source": [
    "id(b)"
   ]
  },
  {
   "cell_type": "code",
   "execution_count": 59,
   "id": "4d3e8be0",
   "metadata": {},
   "outputs": [],
   "source": [
    "s = \"Radha\""
   ]
  },
  {
   "cell_type": "code",
   "execution_count": 60,
   "id": "a5eca9b1",
   "metadata": {},
   "outputs": [
    {
     "data": {
      "text/plain": [
       "'R'"
      ]
     },
     "execution_count": 60,
     "metadata": {},
     "output_type": "execute_result"
    }
   ],
   "source": [
    "s[0]"
   ]
  },
  {
   "cell_type": "code",
   "execution_count": 61,
   "id": "4855b468",
   "metadata": {},
   "outputs": [
    {
     "data": {
      "text/plain": [
       "'ahdaR'"
      ]
     },
     "execution_count": 61,
     "metadata": {},
     "output_type": "execute_result"
    }
   ],
   "source": [
    "s[::-1]"
   ]
  },
  {
   "cell_type": "code",
   "execution_count": 64,
   "id": "2cc1e6a9",
   "metadata": {},
   "outputs": [
    {
     "data": {
      "text/plain": [
       "'Radh'"
      ]
     },
     "execution_count": 64,
     "metadata": {},
     "output_type": "execute_result"
    }
   ],
   "source": [
    "s[:-1:]"
   ]
  },
  {
   "cell_type": "code",
   "execution_count": 65,
   "id": "5583cbf4",
   "metadata": {},
   "outputs": [
    {
     "data": {
      "text/plain": [
       "'ahdaR'"
      ]
     },
     "execution_count": 65,
     "metadata": {},
     "output_type": "execute_result"
    }
   ],
   "source": [
    "s[::-1]"
   ]
  },
  {
   "cell_type": "code",
   "execution_count": 66,
   "id": "84e44fe9",
   "metadata": {},
   "outputs": [
    {
     "data": {
      "text/plain": [
       "'adR'"
      ]
     },
     "execution_count": 66,
     "metadata": {},
     "output_type": "execute_result"
    }
   ],
   "source": [
    "s[::-2]"
   ]
  },
  {
   "cell_type": "code",
   "execution_count": 68,
   "id": "b4c38a62",
   "metadata": {},
   "outputs": [
    {
     "data": {
      "text/plain": [
       "'ahdaR'"
      ]
     },
     "execution_count": 68,
     "metadata": {},
     "output_type": "execute_result"
    }
   ],
   "source": [
    "s[-1::-1]"
   ]
  },
  {
   "cell_type": "code",
   "execution_count": 69,
   "id": "09ec6a44",
   "metadata": {},
   "outputs": [
    {
     "data": {
      "text/plain": [
       "'hdaR'"
      ]
     },
     "execution_count": 69,
     "metadata": {},
     "output_type": "execute_result"
    }
   ],
   "source": [
    "s[-2::-1]"
   ]
  },
  {
   "cell_type": "code",
   "execution_count": 70,
   "id": "f17b8834",
   "metadata": {},
   "outputs": [
    {
     "data": {
      "text/plain": [
       "'Radha'"
      ]
     },
     "execution_count": 70,
     "metadata": {},
     "output_type": "execute_result"
    }
   ],
   "source": [
    "s"
   ]
  },
  {
   "cell_type": "code",
   "execution_count": 71,
   "id": "6d47784f",
   "metadata": {},
   "outputs": [
    {
     "data": {
      "text/plain": [
       "'Radh'"
      ]
     },
     "execution_count": 71,
     "metadata": {},
     "output_type": "execute_result"
    }
   ],
   "source": [
    "s[:-1:]"
   ]
  },
  {
   "cell_type": "code",
   "execution_count": 72,
   "id": "d549aa20",
   "metadata": {},
   "outputs": [
    {
     "data": {
      "text/plain": [
       "'a'"
      ]
     },
     "execution_count": 72,
     "metadata": {},
     "output_type": "execute_result"
    }
   ],
   "source": [
    "s[-1]"
   ]
  },
  {
   "cell_type": "code",
   "execution_count": 73,
   "id": "2d8607ae",
   "metadata": {},
   "outputs": [
    {
     "data": {
      "text/plain": [
       "5"
      ]
     },
     "execution_count": 73,
     "metadata": {},
     "output_type": "execute_result"
    }
   ],
   "source": [
    "len(s)"
   ]
  },
  {
   "cell_type": "code",
   "execution_count": 74,
   "id": "93fdeb31",
   "metadata": {},
   "outputs": [
    {
     "data": {
      "text/plain": [
       "'R'"
      ]
     },
     "execution_count": 74,
     "metadata": {},
     "output_type": "execute_result"
    }
   ],
   "source": [
    "s[0]"
   ]
  },
  {
   "cell_type": "code",
   "execution_count": 75,
   "id": "e28cb048",
   "metadata": {},
   "outputs": [
    {
     "ename": "IndexError",
     "evalue": "string index out of range",
     "output_type": "error",
     "traceback": [
      "\u001b[1;31m---------------------------------------------------------------------------\u001b[0m",
      "\u001b[1;31mIndexError\u001b[0m                                Traceback (most recent call last)",
      "\u001b[1;32mC:\\Users\\RAKSHA~1\\AppData\\Local\\Temp/ipykernel_12216/1495924492.py\u001b[0m in \u001b[0;36m<module>\u001b[1;34m\u001b[0m\n\u001b[1;32m----> 1\u001b[1;33m \u001b[0ms\u001b[0m\u001b[1;33m[\u001b[0m\u001b[1;36m5\u001b[0m\u001b[1;33m]\u001b[0m\u001b[1;33m\u001b[0m\u001b[1;33m\u001b[0m\u001b[0m\n\u001b[0m",
      "\u001b[1;31mIndexError\u001b[0m: string index out of range"
     ]
    }
   ],
   "source": [
    "s[5]"
   ]
  },
  {
   "cell_type": "code",
   "execution_count": 76,
   "id": "cef7ff1c",
   "metadata": {},
   "outputs": [
    {
     "data": {
      "text/plain": [
       "'a'"
      ]
     },
     "execution_count": 76,
     "metadata": {},
     "output_type": "execute_result"
    }
   ],
   "source": [
    "s[4]"
   ]
  },
  {
   "cell_type": "code",
   "execution_count": 77,
   "id": "a87ddd37",
   "metadata": {},
   "outputs": [
    {
     "data": {
      "text/plain": [
       "'Radha'"
      ]
     },
     "execution_count": 77,
     "metadata": {},
     "output_type": "execute_result"
    }
   ],
   "source": [
    "s[0:5]"
   ]
  },
  {
   "cell_type": "code",
   "execution_count": 78,
   "id": "c3b01e5f",
   "metadata": {},
   "outputs": [
    {
     "data": {
      "text/plain": [
       "'Rad'"
      ]
     },
     "execution_count": 78,
     "metadata": {},
     "output_type": "execute_result"
    }
   ],
   "source": [
    "s[0:3]"
   ]
  },
  {
   "cell_type": "code",
   "execution_count": 79,
   "id": "4af29168",
   "metadata": {},
   "outputs": [
    {
     "data": {
      "text/plain": [
       "'10'"
      ]
     },
     "execution_count": 79,
     "metadata": {},
     "output_type": "execute_result"
    }
   ],
   "source": [
    "a[::]"
   ]
  },
  {
   "cell_type": "code",
   "execution_count": 80,
   "id": "b960ee80",
   "metadata": {},
   "outputs": [
    {
     "data": {
      "text/plain": [
       "'Radha'"
      ]
     },
     "execution_count": 80,
     "metadata": {},
     "output_type": "execute_result"
    }
   ],
   "source": [
    "s"
   ]
  },
  {
   "cell_type": "code",
   "execution_count": 81,
   "id": "36e1ffde",
   "metadata": {},
   "outputs": [
    {
     "data": {
      "text/plain": [
       "'RadhaRadhaRadha'"
      ]
     },
     "execution_count": 81,
     "metadata": {},
     "output_type": "execute_result"
    }
   ],
   "source": [
    "s*3"
   ]
  },
  {
   "cell_type": "code",
   "execution_count": 82,
   "id": "370f6737",
   "metadata": {},
   "outputs": [
    {
     "data": {
      "text/plain": [
       "'Radha'"
      ]
     },
     "execution_count": 82,
     "metadata": {},
     "output_type": "execute_result"
    }
   ],
   "source": [
    "s"
   ]
  },
  {
   "cell_type": "code",
   "execution_count": 83,
   "id": "25019375",
   "metadata": {},
   "outputs": [
    {
     "data": {
      "text/plain": [
       "0"
      ]
     },
     "execution_count": 83,
     "metadata": {},
     "output_type": "execute_result"
    }
   ],
   "source": [
    "s.find('R')"
   ]
  },
  {
   "cell_type": "code",
   "execution_count": 84,
   "id": "22de4e55",
   "metadata": {},
   "outputs": [
    {
     "data": {
      "text/plain": [
       "1"
      ]
     },
     "execution_count": 84,
     "metadata": {},
     "output_type": "execute_result"
    }
   ],
   "source": [
    "s.count('R')"
   ]
  },
  {
   "cell_type": "code",
   "execution_count": 85,
   "id": "199e1e20",
   "metadata": {},
   "outputs": [
    {
     "data": {
      "text/plain": [
       "2"
      ]
     },
     "execution_count": 85,
     "metadata": {},
     "output_type": "execute_result"
    }
   ],
   "source": [
    "s.count('a')"
   ]
  },
  {
   "cell_type": "code",
   "execution_count": 86,
   "id": "7d6e29c9",
   "metadata": {},
   "outputs": [
    {
     "data": {
      "text/plain": [
       "['Radha']"
      ]
     },
     "execution_count": 86,
     "metadata": {},
     "output_type": "execute_result"
    }
   ],
   "source": [
    "s.split()"
   ]
  },
  {
   "cell_type": "code",
   "execution_count": 87,
   "id": "694b7e8a",
   "metadata": {},
   "outputs": [],
   "source": [
    "s = 'Radha Krishna hare Rama '"
   ]
  },
  {
   "cell_type": "code",
   "execution_count": 88,
   "id": "0ee26660",
   "metadata": {},
   "outputs": [
    {
     "data": {
      "text/plain": [
       "['Radha', 'Krishna', 'hare', 'Rama']"
      ]
     },
     "execution_count": 88,
     "metadata": {},
     "output_type": "execute_result"
    }
   ],
   "source": [
    "s.split()"
   ]
  },
  {
   "cell_type": "code",
   "execution_count": 89,
   "id": "9b18a61c",
   "metadata": {},
   "outputs": [
    {
     "data": {
      "text/plain": [
       "str"
      ]
     },
     "execution_count": 89,
     "metadata": {},
     "output_type": "execute_result"
    }
   ],
   "source": [
    "type(s)"
   ]
  },
  {
   "cell_type": "code",
   "execution_count": 92,
   "id": "3ba59afb",
   "metadata": {},
   "outputs": [],
   "source": [
    "l = type(s.split())"
   ]
  },
  {
   "cell_type": "code",
   "execution_count": 93,
   "id": "c6b8b3eb",
   "metadata": {},
   "outputs": [
    {
     "data": {
      "text/plain": [
       "list[0]"
      ]
     },
     "execution_count": 93,
     "metadata": {},
     "output_type": "execute_result"
    }
   ],
   "source": [
    "l[0]"
   ]
  },
  {
   "cell_type": "code",
   "execution_count": 94,
   "id": "24cc0dfc",
   "metadata": {},
   "outputs": [
    {
     "data": {
      "text/plain": [
       "'Radha Krishna hare Rama '"
      ]
     },
     "execution_count": 94,
     "metadata": {},
     "output_type": "execute_result"
    }
   ],
   "source": [
    "s"
   ]
  },
  {
   "cell_type": "code",
   "execution_count": 95,
   "id": "5fcde12c",
   "metadata": {},
   "outputs": [
    {
     "data": {
      "text/plain": [
       "['R', 'dh', ' Krishn', ' h', 're R', 'm', ' ']"
      ]
     },
     "execution_count": 95,
     "metadata": {},
     "output_type": "execute_result"
    }
   ],
   "source": [
    "s.split('a')"
   ]
  },
  {
   "cell_type": "code",
   "execution_count": 96,
   "id": "60b89eb8",
   "metadata": {},
   "outputs": [
    {
     "data": {
      "text/plain": [
       "'Radha Krishna hare Rama '"
      ]
     },
     "execution_count": 96,
     "metadata": {},
     "output_type": "execute_result"
    }
   ],
   "source": [
    "s"
   ]
  },
  {
   "cell_type": "code",
   "execution_count": 97,
   "id": "ae43551c",
   "metadata": {},
   "outputs": [
    {
     "data": {
      "text/plain": [
       "'rADHA kRISHNA HARE rAMA '"
      ]
     },
     "execution_count": 97,
     "metadata": {},
     "output_type": "execute_result"
    }
   ],
   "source": [
    "s.swapcase()"
   ]
  },
  {
   "cell_type": "code",
   "execution_count": 98,
   "id": "2d9941f4",
   "metadata": {},
   "outputs": [
    {
     "data": {
      "text/plain": [
       "'Radha Krishna Hare Rama '"
      ]
     },
     "execution_count": 98,
     "metadata": {},
     "output_type": "execute_result"
    }
   ],
   "source": [
    "s.title()"
   ]
  },
  {
   "cell_type": "code",
   "execution_count": 99,
   "id": "5928b09e",
   "metadata": {},
   "outputs": [
    {
     "data": {
      "text/plain": [
       "'Radha krishna hare rama '"
      ]
     },
     "execution_count": 99,
     "metadata": {},
     "output_type": "execute_result"
    }
   ],
   "source": [
    "s.capitalize()"
   ]
  },
  {
   "cell_type": "code",
   "execution_count": 100,
   "id": "c79f0b42",
   "metadata": {},
   "outputs": [],
   "source": [
    "b = 'sudh'"
   ]
  },
  {
   "cell_type": "code",
   "execution_count": 101,
   "id": "12d545bb",
   "metadata": {},
   "outputs": [],
   "source": [
    "c = 'Hare krishna'"
   ]
  },
  {
   "cell_type": "code",
   "execution_count": 102,
   "id": "cf06f811",
   "metadata": {},
   "outputs": [
    {
     "data": {
      "text/plain": [
       "'Hsudhasudhrsudhesudh sudhksudhrsudhisudhssudhhsudhnsudha'"
      ]
     },
     "execution_count": 102,
     "metadata": {},
     "output_type": "execute_result"
    }
   ],
   "source": [
    "b.join(c)"
   ]
  },
  {
   "cell_type": "code",
   "execution_count": 106,
   "id": "ddc1368c",
   "metadata": {},
   "outputs": [
    {
     "data": {
      "text/plain": [
       "'Hsudhasudhrsudhesudh sudhksudhrsudhisudhssudhhsudhnsudha'"
      ]
     },
     "execution_count": 106,
     "metadata": {},
     "output_type": "execute_result"
    }
   ],
   "source": [
    "b.join(c)"
   ]
  },
  {
   "cell_type": "code",
   "execution_count": 113,
   "id": "1b188317",
   "metadata": {},
   "outputs": [
    {
     "data": {
      "text/plain": [
       "','"
      ]
     },
     "execution_count": 113,
     "metadata": {},
     "output_type": "execute_result"
    }
   ],
   "source": [
    "'krishna'.join(',')"
   ]
  },
  {
   "cell_type": "code",
   "execution_count": 111,
   "id": "5b796967",
   "metadata": {},
   "outputs": [
    {
     "data": {
      "text/plain": [
       "'k r i s h n a'"
      ]
     },
     "execution_count": 111,
     "metadata": {},
     "output_type": "execute_result"
    }
   ],
   "source": [
    "b = 'krishna'\n",
    "c = ' '\n",
    "c.join(b)"
   ]
  },
  {
   "cell_type": "code",
   "execution_count": 114,
   "id": "32d10a7b",
   "metadata": {},
   "outputs": [
    {
     "data": {
      "text/plain": [
       "'k r i s h n a'"
      ]
     },
     "execution_count": 114,
     "metadata": {},
     "output_type": "execute_result"
    }
   ],
   "source": [
    "' '.join('krishna')"
   ]
  },
  {
   "cell_type": "code",
   "execution_count": 115,
   "id": "8bceb168",
   "metadata": {},
   "outputs": [
    {
     "data": {
      "text/plain": [
       "'k, r, i, s, h, n, a'"
      ]
     },
     "execution_count": 115,
     "metadata": {},
     "output_type": "execute_result"
    }
   ],
   "source": [
    "', '.join('krishna')"
   ]
  },
  {
   "cell_type": "code",
   "execution_count": 116,
   "id": "05c0ec41",
   "metadata": {},
   "outputs": [
    {
     "data": {
      "text/plain": [
       "'10'"
      ]
     },
     "execution_count": 116,
     "metadata": {},
     "output_type": "execute_result"
    }
   ],
   "source": [
    "a"
   ]
  },
  {
   "cell_type": "code",
   "execution_count": 127,
   "id": "8a15220c",
   "metadata": {},
   "outputs": [
    {
     "data": {
      "text/plain": [
       "'*Radha Krishna hare Rama r'"
      ]
     },
     "execution_count": 127,
     "metadata": {},
     "output_type": "execute_result"
    }
   ],
   "source": [
    "s.join('*r')"
   ]
  },
  {
   "cell_type": "code",
   "execution_count": 128,
   "id": "426c8bb2",
   "metadata": {},
   "outputs": [
    {
     "data": {
      "text/plain": [
       "'Radha Krishna hare Rama '"
      ]
     },
     "execution_count": 128,
     "metadata": {},
     "output_type": "execute_result"
    }
   ],
   "source": [
    "s"
   ]
  },
  {
   "cell_type": "code",
   "execution_count": 132,
   "id": "d24dee65",
   "metadata": {},
   "outputs": [
    {
     "data": {
      "text/plain": [
       "'rkrishna akrishna dkrishna hkrishna a'"
      ]
     },
     "execution_count": 132,
     "metadata": {},
     "output_type": "execute_result"
    }
   ],
   "source": [
    "b = 'krishna '\n",
    "c = 'radha'\n",
    "b.join(c)"
   ]
  },
  {
   "cell_type": "code",
   "execution_count": 133,
   "id": "e6ceed69",
   "metadata": {},
   "outputs": [
    {
     "data": {
      "text/plain": [
       "'Radha Krishna hare Rama '"
      ]
     },
     "execution_count": 133,
     "metadata": {},
     "output_type": "execute_result"
    }
   ],
   "source": [
    "s"
   ]
  },
  {
   "cell_type": "code",
   "execution_count": 134,
   "id": "403f01f7",
   "metadata": {},
   "outputs": [
    {
     "data": {
      "text/plain": [
       "<reversed at 0x22dfa0e7190>"
      ]
     },
     "execution_count": 134,
     "metadata": {},
     "output_type": "execute_result"
    }
   ],
   "source": [
    "reversed(s)"
   ]
  },
  {
   "cell_type": "code",
   "execution_count": 135,
   "id": "583502fd",
   "metadata": {},
   "outputs": [
    {
     "data": {
      "text/plain": [
       "[' ',\n",
       " 'a',\n",
       " 'm',\n",
       " 'a',\n",
       " 'R',\n",
       " ' ',\n",
       " 'e',\n",
       " 'r',\n",
       " 'a',\n",
       " 'h',\n",
       " ' ',\n",
       " 'a',\n",
       " 'n',\n",
       " 'h',\n",
       " 's',\n",
       " 'i',\n",
       " 'r',\n",
       " 'K',\n",
       " ' ',\n",
       " 'a',\n",
       " 'h',\n",
       " 'd',\n",
       " 'a',\n",
       " 'R']"
      ]
     },
     "execution_count": 135,
     "metadata": {},
     "output_type": "execute_result"
    }
   ],
   "source": [
    "list(reversed(s))"
   ]
  },
  {
   "cell_type": "code",
   "execution_count": 136,
   "id": "10aa07ce",
   "metadata": {},
   "outputs": [],
   "source": [
    "s = \" Radha \" "
   ]
  },
  {
   "cell_type": "code",
   "execution_count": 138,
   "id": "b8d2d211",
   "metadata": {},
   "outputs": [
    {
     "data": {
      "text/plain": [
       "'Radha '"
      ]
     },
     "execution_count": 138,
     "metadata": {},
     "output_type": "execute_result"
    }
   ],
   "source": [
    "s.lstrip()"
   ]
  },
  {
   "cell_type": "code",
   "execution_count": 139,
   "id": "5974060b",
   "metadata": {},
   "outputs": [
    {
     "data": {
      "text/plain": [
       "' Radha'"
      ]
     },
     "execution_count": 139,
     "metadata": {},
     "output_type": "execute_result"
    }
   ],
   "source": [
    "s.rstrip()"
   ]
  },
  {
   "cell_type": "code",
   "execution_count": 140,
   "id": "3dae0e17",
   "metadata": {},
   "outputs": [
    {
     "data": {
      "text/plain": [
       "' Rkdhk '"
      ]
     },
     "execution_count": 140,
     "metadata": {},
     "output_type": "execute_result"
    }
   ],
   "source": [
    "s.replace('a', 'k')"
   ]
  },
  {
   "cell_type": "code",
   "execution_count": 141,
   "id": "d3932f56",
   "metadata": {},
   "outputs": [
    {
     "data": {
      "text/plain": [
       "'**************** Radha *****************'"
      ]
     },
     "execution_count": 141,
     "metadata": {},
     "output_type": "execute_result"
    }
   ],
   "source": [
    "s.center(40,\"*\")"
   ]
  },
  {
   "cell_type": "code",
   "execution_count": 142,
   "id": "f555ee1a",
   "metadata": {},
   "outputs": [
    {
     "data": {
      "text/plain": [
       "' Radha '"
      ]
     },
     "execution_count": 142,
     "metadata": {},
     "output_type": "execute_result"
    }
   ],
   "source": [
    "s"
   ]
  },
  {
   "cell_type": "code",
   "execution_count": 143,
   "id": "277b22cf",
   "metadata": {},
   "outputs": [
    {
     "data": {
      "text/plain": [
       "False"
      ]
     },
     "execution_count": 143,
     "metadata": {},
     "output_type": "execute_result"
    }
   ],
   "source": [
    "s.isupper()"
   ]
  },
  {
   "cell_type": "code",
   "execution_count": 145,
   "id": "38535ed6",
   "metadata": {},
   "outputs": [
    {
     "data": {
      "text/plain": [
       "False"
      ]
     },
     "execution_count": 145,
     "metadata": {},
     "output_type": "execute_result"
    }
   ],
   "source": [
    "s.islower()"
   ]
  },
  {
   "cell_type": "code",
   "execution_count": 146,
   "id": "734471e2",
   "metadata": {},
   "outputs": [
    {
     "data": {
      "text/plain": [
       "False"
      ]
     },
     "execution_count": 146,
     "metadata": {},
     "output_type": "execute_result"
    }
   ],
   "source": [
    "s.isdigit()"
   ]
  },
  {
   "cell_type": "code",
   "execution_count": 149,
   "id": "9a08613b",
   "metadata": {},
   "outputs": [
    {
     "data": {
      "text/plain": [
       "True"
      ]
     },
     "execution_count": 149,
     "metadata": {},
     "output_type": "execute_result"
    }
   ],
   "source": [
    "s.endswith(' ')"
   ]
  },
  {
   "cell_type": "code",
   "execution_count": 150,
   "id": "500da25c",
   "metadata": {},
   "outputs": [
    {
     "data": {
      "text/plain": [
       "' Radha '"
      ]
     },
     "execution_count": 150,
     "metadata": {},
     "output_type": "execute_result"
    }
   ],
   "source": [
    "s"
   ]
  },
  {
   "cell_type": "code",
   "execution_count": 151,
   "id": "9fa322d0",
   "metadata": {},
   "outputs": [
    {
     "data": {
      "text/plain": [
       "True"
      ]
     },
     "execution_count": 151,
     "metadata": {},
     "output_type": "execute_result"
    }
   ],
   "source": [
    "s.startswith(' ')"
   ]
  },
  {
   "cell_type": "code",
   "execution_count": 152,
   "id": "3068dc03",
   "metadata": {},
   "outputs": [],
   "source": [
    "l = ['sudh', 'kumar', 34, 34.5]"
   ]
  },
  {
   "cell_type": "code",
   "execution_count": 153,
   "id": "e3606329",
   "metadata": {},
   "outputs": [
    {
     "data": {
      "text/plain": [
       "['sudh', 'kumar', 34, 34.5]"
      ]
     },
     "execution_count": 153,
     "metadata": {},
     "output_type": "execute_result"
    }
   ],
   "source": [
    "l"
   ]
  },
  {
   "cell_type": "code",
   "execution_count": 155,
   "id": "8babb4e8",
   "metadata": {},
   "outputs": [
    {
     "data": {
      "text/plain": [
       "34.5"
      ]
     },
     "execution_count": 155,
     "metadata": {},
     "output_type": "execute_result"
    }
   ],
   "source": [
    "l[3]"
   ]
  },
  {
   "cell_type": "code",
   "execution_count": 157,
   "id": "5dbbfe5d",
   "metadata": {},
   "outputs": [
    {
     "data": {
      "text/plain": [
       "34.5"
      ]
     },
     "execution_count": 157,
     "metadata": {},
     "output_type": "execute_result"
    }
   ],
   "source": [
    "l[3].real"
   ]
  },
  {
   "cell_type": "code",
   "execution_count": 159,
   "id": "57fa4811",
   "metadata": {},
   "outputs": [],
   "source": [
    "l1 = ['Radha', 'Krishna', 'Hare']"
   ]
  },
  {
   "cell_type": "code",
   "execution_count": 161,
   "id": "54df28ea",
   "metadata": {},
   "outputs": [
    {
     "data": {
      "text/plain": [
       "['Radha', 'Krishna', 'Hare', 'sudh', 'kumar', 34, 34.5]"
      ]
     },
     "execution_count": 161,
     "metadata": {},
     "output_type": "execute_result"
    }
   ],
   "source": [
    "l1+l"
   ]
  },
  {
   "cell_type": "code",
   "execution_count": 162,
   "id": "bdc5b042",
   "metadata": {},
   "outputs": [
    {
     "ename": "TypeError",
     "evalue": "can only concatenate list (not \"str\") to list",
     "output_type": "error",
     "traceback": [
      "\u001b[1;31m---------------------------------------------------------------------------\u001b[0m",
      "\u001b[1;31mTypeError\u001b[0m                                 Traceback (most recent call last)",
      "\u001b[1;32mC:\\Users\\RAKSHA~1\\AppData\\Local\\Temp/ipykernel_12216/1104314627.py\u001b[0m in \u001b[0;36m<module>\u001b[1;34m\u001b[0m\n\u001b[1;32m----> 1\u001b[1;33m \u001b[0ml1\u001b[0m \u001b[1;33m+\u001b[0m\u001b[1;34m'sudh'\u001b[0m\u001b[1;33m\u001b[0m\u001b[1;33m\u001b[0m\u001b[0m\n\u001b[0m",
      "\u001b[1;31mTypeError\u001b[0m: can only concatenate list (not \"str\") to list"
     ]
    }
   ],
   "source": [
    "l1 +'sudh'"
   ]
  },
  {
   "cell_type": "code",
   "execution_count": 163,
   "id": "3526e2be",
   "metadata": {},
   "outputs": [
    {
     "data": {
      "text/plain": [
       "['Radha', 'Krishna', 'Hare', 'Sitamata']"
      ]
     },
     "execution_count": 163,
     "metadata": {},
     "output_type": "execute_result"
    }
   ],
   "source": [
    "l1 + ['Sitamata']"
   ]
  },
  {
   "cell_type": "code",
   "execution_count": 164,
   "id": "5c02a055",
   "metadata": {},
   "outputs": [
    {
     "data": {
      "text/plain": [
       "['Radha', 'Krishna', 'Hare']"
      ]
     },
     "execution_count": 164,
     "metadata": {},
     "output_type": "execute_result"
    }
   ],
   "source": [
    "l1"
   ]
  },
  {
   "cell_type": "code",
   "execution_count": 165,
   "id": "091ba6b1",
   "metadata": {},
   "outputs": [
    {
     "data": {
      "text/plain": [
       "'Radharani'"
      ]
     },
     "execution_count": 165,
     "metadata": {},
     "output_type": "execute_result"
    }
   ],
   "source": [
    "l1[0].replace('Radha', 'Radharani')"
   ]
  },
  {
   "cell_type": "code",
   "execution_count": 166,
   "id": "10bcc976",
   "metadata": {},
   "outputs": [
    {
     "data": {
      "text/plain": [
       "['Radha', 'Krishna', 'Hare']"
      ]
     },
     "execution_count": 166,
     "metadata": {},
     "output_type": "execute_result"
    }
   ],
   "source": [
    "l1"
   ]
  },
  {
   "cell_type": "code",
   "execution_count": 167,
   "id": "03c0d177",
   "metadata": {},
   "outputs": [
    {
     "data": {
      "text/plain": [
       "['sudh', 'kumar', 34, 34.5]"
      ]
     },
     "execution_count": 167,
     "metadata": {},
     "output_type": "execute_result"
    }
   ],
   "source": [
    "l"
   ]
  },
  {
   "cell_type": "code",
   "execution_count": 168,
   "id": "f678518d",
   "metadata": {},
   "outputs": [],
   "source": [
    "s = 'Radha'"
   ]
  },
  {
   "cell_type": "code",
   "execution_count": 169,
   "id": "94a5196f",
   "metadata": {},
   "outputs": [
    {
     "ename": "TypeError",
     "evalue": "'str' object does not support item assignment",
     "output_type": "error",
     "traceback": [
      "\u001b[1;31m---------------------------------------------------------------------------\u001b[0m",
      "\u001b[1;31mTypeError\u001b[0m                                 Traceback (most recent call last)",
      "\u001b[1;32mC:\\Users\\RAKSHA~1\\AppData\\Local\\Temp/ipykernel_12216/4236568121.py\u001b[0m in \u001b[0;36m<module>\u001b[1;34m\u001b[0m\n\u001b[1;32m----> 1\u001b[1;33m \u001b[0ms\u001b[0m\u001b[1;33m[\u001b[0m\u001b[1;36m0\u001b[0m\u001b[1;33m]\u001b[0m \u001b[1;33m=\u001b[0m \u001b[1;34m'K'\u001b[0m\u001b[1;33m\u001b[0m\u001b[1;33m\u001b[0m\u001b[0m\n\u001b[0m",
      "\u001b[1;31mTypeError\u001b[0m: 'str' object does not support item assignment"
     ]
    }
   ],
   "source": [
    "s[0] = 'K'"
   ]
  },
  {
   "cell_type": "code",
   "execution_count": 170,
   "id": "2b98fab5",
   "metadata": {},
   "outputs": [
    {
     "data": {
      "text/plain": [
       "['Radha', 'Krishna', 'Hare']"
      ]
     },
     "execution_count": 170,
     "metadata": {},
     "output_type": "execute_result"
    }
   ],
   "source": [
    "l1"
   ]
  },
  {
   "cell_type": "code",
   "execution_count": 171,
   "id": "0e92bdd9",
   "metadata": {},
   "outputs": [
    {
     "data": {
      "text/plain": [
       "True"
      ]
     },
     "execution_count": 171,
     "metadata": {},
     "output_type": "execute_result"
    }
   ],
   "source": [
    "'Radha' in l1"
   ]
  },
  {
   "cell_type": "code",
   "execution_count": 173,
   "id": "51223304",
   "metadata": {},
   "outputs": [
    {
     "data": {
      "text/plain": [
       "['Radha', 'Krishna', 'Hare']"
      ]
     },
     "execution_count": 173,
     "metadata": {},
     "output_type": "execute_result"
    }
   ],
   "source": [
    "l1"
   ]
  },
  {
   "cell_type": "code",
   "execution_count": 174,
   "id": "e308da04",
   "metadata": {},
   "outputs": [],
   "source": [
    "l1.append('hari')"
   ]
  },
  {
   "cell_type": "code",
   "execution_count": 175,
   "id": "2747bfe0",
   "metadata": {},
   "outputs": [
    {
     "data": {
      "text/plain": [
       "['Radha', 'Krishna', 'Hare', 'hari']"
      ]
     },
     "execution_count": 175,
     "metadata": {},
     "output_type": "execute_result"
    }
   ],
   "source": [
    "l1"
   ]
  },
  {
   "cell_type": "code",
   "execution_count": 177,
   "id": "c90e4f81",
   "metadata": {},
   "outputs": [
    {
     "data": {
      "text/plain": [
       "'hari'"
      ]
     },
     "execution_count": 177,
     "metadata": {},
     "output_type": "execute_result"
    }
   ],
   "source": [
    "l1.pop()"
   ]
  },
  {
   "cell_type": "code",
   "execution_count": 178,
   "id": "67d1ac2a",
   "metadata": {},
   "outputs": [
    {
     "data": {
      "text/plain": [
       "['Radha', 'Krishna', 'Hare']"
      ]
     },
     "execution_count": 178,
     "metadata": {},
     "output_type": "execute_result"
    }
   ],
   "source": [
    "l1"
   ]
  },
  {
   "cell_type": "code",
   "execution_count": 179,
   "id": "bfcfe639",
   "metadata": {},
   "outputs": [],
   "source": [
    "l1.insert(1,'Radheshwari')"
   ]
  },
  {
   "cell_type": "code",
   "execution_count": 180,
   "id": "13cd0f14",
   "metadata": {},
   "outputs": [
    {
     "data": {
      "text/plain": [
       "['Radha', 'Radheshwari', 'Krishna', 'Hare']"
      ]
     },
     "execution_count": 180,
     "metadata": {},
     "output_type": "execute_result"
    }
   ],
   "source": [
    "l1"
   ]
  },
  {
   "cell_type": "code",
   "execution_count": 181,
   "id": "fa7c8573",
   "metadata": {},
   "outputs": [],
   "source": [
    "l1.insert(3, ['hare krishna', 'hare rama'])"
   ]
  },
  {
   "cell_type": "code",
   "execution_count": 182,
   "id": "8459d7ef",
   "metadata": {},
   "outputs": [
    {
     "data": {
      "text/plain": [
       "['Radha', 'Radheshwari', 'Krishna', ['hare krishna', 'hare rama'], 'Hare']"
      ]
     },
     "execution_count": 182,
     "metadata": {},
     "output_type": "execute_result"
    }
   ],
   "source": [
    "l1"
   ]
  },
  {
   "cell_type": "code",
   "execution_count": 183,
   "id": "d1f892a1",
   "metadata": {},
   "outputs": [],
   "source": [
    "l1.reverse()"
   ]
  },
  {
   "cell_type": "code",
   "execution_count": 184,
   "id": "163385d9",
   "metadata": {},
   "outputs": [
    {
     "data": {
      "text/plain": [
       "['Hare', ['hare krishna', 'hare rama'], 'Krishna', 'Radheshwari', 'Radha']"
      ]
     },
     "execution_count": 184,
     "metadata": {},
     "output_type": "execute_result"
    }
   ],
   "source": [
    "l1"
   ]
  },
  {
   "cell_type": "code",
   "execution_count": 185,
   "id": "ab0fa524",
   "metadata": {},
   "outputs": [
    {
     "data": {
      "text/plain": [
       "1"
      ]
     },
     "execution_count": 185,
     "metadata": {},
     "output_type": "execute_result"
    }
   ],
   "source": [
    "l1.count('Hare')"
   ]
  },
  {
   "cell_type": "code",
   "execution_count": 187,
   "id": "f6d449f5",
   "metadata": {},
   "outputs": [
    {
     "data": {
      "text/plain": [
       "1"
      ]
     },
     "execution_count": 187,
     "metadata": {},
     "output_type": "execute_result"
    }
   ],
   "source": [
    "l1.count('Radha')"
   ]
  },
  {
   "cell_type": "code",
   "execution_count": 188,
   "id": "c1ffab61",
   "metadata": {},
   "outputs": [
    {
     "data": {
      "text/plain": [
       "0"
      ]
     },
     "execution_count": 188,
     "metadata": {},
     "output_type": "execute_result"
    }
   ],
   "source": [
    "l1.count('a')"
   ]
  },
  {
   "cell_type": "code",
   "execution_count": 191,
   "id": "bc23014b",
   "metadata": {},
   "outputs": [],
   "source": [
    "l1.extend([2,3,4])"
   ]
  },
  {
   "cell_type": "code",
   "execution_count": 193,
   "id": "b944964b",
   "metadata": {},
   "outputs": [
    {
     "data": {
      "text/plain": [
       "['Hare',\n",
       " ['hare krishna', 'hare rama'],\n",
       " 'Krishna',\n",
       " 'Radheshwari',\n",
       " 'Radha',\n",
       " 2,\n",
       " 3,\n",
       " 4,\n",
       " 5,\n",
       " 2,\n",
       " 3,\n",
       " 4]"
      ]
     },
     "execution_count": 193,
     "metadata": {},
     "output_type": "execute_result"
    }
   ],
   "source": [
    "l1"
   ]
  },
  {
   "cell_type": "code",
   "execution_count": 194,
   "id": "a01591d6",
   "metadata": {},
   "outputs": [
    {
     "name": "stdout",
     "output_type": "stream",
     "text": [
      "[1, 2, 3, 4, 5]\n"
     ]
    }
   ],
   "source": [
    "# Original list with duplicates\n",
    "my_list = [1, 2, 2, 3, 4, 4, 5]\n",
    "\n",
    "# Using dict.fromkeys() to remove duplicates\n",
    "unique_list = list(dict.fromkeys(my_list))\n",
    "\n",
    "print(unique_list)\n"
   ]
  },
  {
   "cell_type": "code",
   "execution_count": 195,
   "id": "efbf9e63",
   "metadata": {},
   "outputs": [
    {
     "data": {
      "text/plain": [
       "{1: None, 2: None, 3: None, 4: None, 5: None}"
      ]
     },
     "execution_count": 195,
     "metadata": {},
     "output_type": "execute_result"
    }
   ],
   "source": [
    "dict.fromkeys(my_list)"
   ]
  },
  {
   "cell_type": "code",
   "execution_count": 196,
   "id": "ff7277b1",
   "metadata": {},
   "outputs": [
    {
     "data": {
      "text/plain": [
       "[1, 2, 3, 4, 5]"
      ]
     },
     "execution_count": 196,
     "metadata": {},
     "output_type": "execute_result"
    }
   ],
   "source": [
    "list(dict.fromkeys(my_list))"
   ]
  },
  {
   "cell_type": "code",
   "execution_count": 197,
   "id": "78cf292e",
   "metadata": {},
   "outputs": [],
   "source": [
    "t  = (2,3,4,5,6)"
   ]
  },
  {
   "cell_type": "code",
   "execution_count": 198,
   "id": "1ff52223",
   "metadata": {},
   "outputs": [
    {
     "data": {
      "text/plain": [
       "(2, 3, 4, 5, 6)"
      ]
     },
     "execution_count": 198,
     "metadata": {},
     "output_type": "execute_result"
    }
   ],
   "source": [
    "t"
   ]
  },
  {
   "cell_type": "code",
   "execution_count": 199,
   "id": "5b2640d6",
   "metadata": {},
   "outputs": [
    {
     "data": {
      "text/plain": [
       "tuple"
      ]
     },
     "execution_count": 199,
     "metadata": {},
     "output_type": "execute_result"
    }
   ],
   "source": [
    "type(t)"
   ]
  },
  {
   "cell_type": "code",
   "execution_count": 208,
   "id": "e5a3f900",
   "metadata": {},
   "outputs": [
    {
     "data": {
      "text/plain": [
       "'Radha'"
      ]
     },
     "execution_count": 208,
     "metadata": {},
     "output_type": "execute_result"
    }
   ],
   "source": [
    "l1.pop()"
   ]
  },
  {
   "cell_type": "code",
   "execution_count": 211,
   "id": "1e076afc",
   "metadata": {},
   "outputs": [],
   "source": [
    "l1.reverse()"
   ]
  },
  {
   "cell_type": "code",
   "execution_count": 212,
   "id": "79c59395",
   "metadata": {},
   "outputs": [
    {
     "data": {
      "text/plain": [
       "['Radheshwari', 'Krishna', ['hare krishna', 'hare rama'], 'Hare']"
      ]
     },
     "execution_count": 212,
     "metadata": {},
     "output_type": "execute_result"
    }
   ],
   "source": [
    "l1"
   ]
  },
  {
   "cell_type": "code",
   "execution_count": 213,
   "id": "fde161ea",
   "metadata": {},
   "outputs": [],
   "source": [
    "t1 = tuple(l1)"
   ]
  },
  {
   "cell_type": "code",
   "execution_count": 216,
   "id": "5a9f988d",
   "metadata": {},
   "outputs": [
    {
     "data": {
      "text/plain": [
       "('Radheshwari', 'Krishna', ['hare krishna', 'hare rama'], 'Hare')"
      ]
     },
     "execution_count": 216,
     "metadata": {},
     "output_type": "execute_result"
    }
   ],
   "source": [
    "t1 "
   ]
  },
  {
   "cell_type": "code",
   "execution_count": 218,
   "id": "45221f4d",
   "metadata": {},
   "outputs": [
    {
     "data": {
      "text/plain": [
       "'Radheshwari'"
      ]
     },
     "execution_count": 218,
     "metadata": {},
     "output_type": "execute_result"
    }
   ],
   "source": [
    "t1[0]"
   ]
  },
  {
   "cell_type": "code",
   "execution_count": 221,
   "id": "db0905df",
   "metadata": {},
   "outputs": [
    {
     "data": {
      "text/plain": [
       "('Radheshwari', 'Krishna', ['hare krishna', 'hare rama'])"
      ]
     },
     "execution_count": 221,
     "metadata": {},
     "output_type": "execute_result"
    }
   ],
   "source": [
    "t1[:-1:]"
   ]
  },
  {
   "cell_type": "code",
   "execution_count": 222,
   "id": "0a9ec051",
   "metadata": {},
   "outputs": [
    {
     "data": {
      "text/plain": [
       "('Hare', ['hare krishna', 'hare rama'], 'Krishna', 'Radheshwari')"
      ]
     },
     "execution_count": 222,
     "metadata": {},
     "output_type": "execute_result"
    }
   ],
   "source": [
    "t1[::-1]"
   ]
  },
  {
   "cell_type": "code",
   "execution_count": 223,
   "id": "18aa3c5c",
   "metadata": {},
   "outputs": [
    {
     "data": {
      "text/plain": [
       "['sudh', 'kumar', 34, 34.5]"
      ]
     },
     "execution_count": 223,
     "metadata": {},
     "output_type": "execute_result"
    }
   ],
   "source": [
    "l"
   ]
  },
  {
   "cell_type": "code",
   "execution_count": 224,
   "id": "105dc85d",
   "metadata": {},
   "outputs": [],
   "source": [
    "l[0] = 'Radhika'"
   ]
  },
  {
   "cell_type": "code",
   "execution_count": 226,
   "id": "d341a64f",
   "metadata": {},
   "outputs": [
    {
     "data": {
      "text/plain": [
       "['Radhika', 'kumar', 34, 34.5]"
      ]
     },
     "execution_count": 226,
     "metadata": {},
     "output_type": "execute_result"
    }
   ],
   "source": [
    "l"
   ]
  },
  {
   "cell_type": "code",
   "execution_count": 227,
   "id": "e8743e74",
   "metadata": {},
   "outputs": [
    {
     "data": {
      "text/plain": [
       "(2, 3, 4, 5, 6)"
      ]
     },
     "execution_count": 227,
     "metadata": {},
     "output_type": "execute_result"
    }
   ],
   "source": [
    "t"
   ]
  },
  {
   "cell_type": "code",
   "execution_count": 229,
   "id": "6d35db04",
   "metadata": {},
   "outputs": [
    {
     "ename": "TypeError",
     "evalue": "'tuple' object does not support item assignment",
     "output_type": "error",
     "traceback": [
      "\u001b[1;31m---------------------------------------------------------------------------\u001b[0m",
      "\u001b[1;31mTypeError\u001b[0m                                 Traceback (most recent call last)",
      "\u001b[1;32mC:\\Users\\RAKSHA~1\\AppData\\Local\\Temp/ipykernel_12216/557289718.py\u001b[0m in \u001b[0;36m<module>\u001b[1;34m\u001b[0m\n\u001b[1;32m----> 1\u001b[1;33m \u001b[0mt\u001b[0m\u001b[1;33m[\u001b[0m\u001b[1;36m0\u001b[0m\u001b[1;33m]\u001b[0m \u001b[1;33m=\u001b[0m \u001b[1;34m'Radhika'\u001b[0m\u001b[1;33m\u001b[0m\u001b[1;33m\u001b[0m\u001b[0m\n\u001b[0m",
      "\u001b[1;31mTypeError\u001b[0m: 'tuple' object does not support item assignment"
     ]
    }
   ],
   "source": [
    "t[0] = 'Radhika'"
   ]
  },
  {
   "cell_type": "code",
   "execution_count": 240,
   "id": "462bcb75",
   "metadata": {},
   "outputs": [],
   "source": [
    "t1 = ('Radheshwari', 'Krishna', ['hare krishna', 'hare', 'hare rama'], 'hare', 'hare')"
   ]
  },
  {
   "cell_type": "code",
   "execution_count": 241,
   "id": "221b2ec1",
   "metadata": {},
   "outputs": [
    {
     "data": {
      "text/plain": [
       "2"
      ]
     },
     "execution_count": 241,
     "metadata": {},
     "output_type": "execute_result"
    }
   ],
   "source": [
    "t1.count('hare')"
   ]
  },
  {
   "cell_type": "code",
   "execution_count": 242,
   "id": "86bc5cbe",
   "metadata": {},
   "outputs": [
    {
     "data": {
      "text/plain": [
       "['hare krishna', 'hare', 'hare rama']"
      ]
     },
     "execution_count": 242,
     "metadata": {},
     "output_type": "execute_result"
    }
   ],
   "source": [
    "t1[2]"
   ]
  },
  {
   "cell_type": "code",
   "execution_count": 243,
   "id": "5f919166",
   "metadata": {},
   "outputs": [
    {
     "data": {
      "text/plain": [
       "1"
      ]
     },
     "execution_count": 243,
     "metadata": {},
     "output_type": "execute_result"
    }
   ],
   "source": [
    "t1[2].count('hare')"
   ]
  },
  {
   "cell_type": "code",
   "execution_count": 245,
   "id": "d7650d4a",
   "metadata": {},
   "outputs": [
    {
     "data": {
      "text/plain": [
       "3"
      ]
     },
     "execution_count": 245,
     "metadata": {},
     "output_type": "execute_result"
    }
   ],
   "source": [
    "t1.index('hare')"
   ]
  },
  {
   "cell_type": "code",
   "execution_count": 247,
   "id": "b2335a88",
   "metadata": {},
   "outputs": [
    {
     "data": {
      "text/plain": [
       "['Radheshwari', 'Krishna', ['hare krishna', 'hare rama'], 'Hare']"
      ]
     },
     "execution_count": 247,
     "metadata": {},
     "output_type": "execute_result"
    }
   ],
   "source": [
    "l1"
   ]
  },
  {
   "cell_type": "code",
   "execution_count": 248,
   "id": "43611dd2",
   "metadata": {},
   "outputs": [
    {
     "data": {
      "text/plain": [
       "list"
      ]
     },
     "execution_count": 248,
     "metadata": {},
     "output_type": "execute_result"
    }
   ],
   "source": [
    "type(l1)"
   ]
  },
  {
   "cell_type": "code",
   "execution_count": 250,
   "id": "123c4936",
   "metadata": {},
   "outputs": [],
   "source": [
    "l2 = [111,2,3,4,5,6,7,1,2,1,1,3,4,5,6,7,8,3,3,4,4]"
   ]
  },
  {
   "cell_type": "code",
   "execution_count": 251,
   "id": "21e599c3",
   "metadata": {},
   "outputs": [],
   "source": [
    "s = set(l2)"
   ]
  },
  {
   "cell_type": "code",
   "execution_count": 252,
   "id": "12a40c21",
   "metadata": {},
   "outputs": [
    {
     "data": {
      "text/plain": [
       "{1, 2, 3, 4, 5, 6, 7, 8, 111}"
      ]
     },
     "execution_count": 252,
     "metadata": {},
     "output_type": "execute_result"
    }
   ],
   "source": [
    "s"
   ]
  },
  {
   "cell_type": "code",
   "execution_count": 253,
   "id": "8e20af3b",
   "metadata": {},
   "outputs": [
    {
     "ename": "TypeError",
     "evalue": "'set' object is not subscriptable",
     "output_type": "error",
     "traceback": [
      "\u001b[1;31m---------------------------------------------------------------------------\u001b[0m",
      "\u001b[1;31mTypeError\u001b[0m                                 Traceback (most recent call last)",
      "\u001b[1;32mC:\\Users\\RAKSHA~1\\AppData\\Local\\Temp/ipykernel_12216/243613605.py\u001b[0m in \u001b[0;36m<module>\u001b[1;34m\u001b[0m\n\u001b[1;32m----> 1\u001b[1;33m \u001b[0ms\u001b[0m\u001b[1;33m[\u001b[0m\u001b[1;36m0\u001b[0m\u001b[1;33m]\u001b[0m\u001b[1;33m\u001b[0m\u001b[1;33m\u001b[0m\u001b[0m\n\u001b[0m",
      "\u001b[1;31mTypeError\u001b[0m: 'set' object is not subscriptable"
     ]
    }
   ],
   "source": [
    "s[0]"
   ]
  },
  {
   "cell_type": "code",
   "execution_count": 254,
   "id": "9fe5328d",
   "metadata": {},
   "outputs": [
    {
     "data": {
      "text/plain": [
       "[1, 2, 3, 4, 5, 6, 7, 8, 111]"
      ]
     },
     "execution_count": 254,
     "metadata": {},
     "output_type": "execute_result"
    }
   ],
   "source": [
    "list(s)"
   ]
  },
  {
   "cell_type": "code",
   "execution_count": 255,
   "id": "b61a6994",
   "metadata": {},
   "outputs": [
    {
     "data": {
      "text/plain": [
       "{1, 2, 3, 4, 5, 6, 7, 8, 111}"
      ]
     },
     "execution_count": 255,
     "metadata": {},
     "output_type": "execute_result"
    }
   ],
   "source": [
    "s"
   ]
  },
  {
   "cell_type": "code",
   "execution_count": 256,
   "id": "4d736578",
   "metadata": {},
   "outputs": [],
   "source": [
    "s.add(345)"
   ]
  },
  {
   "cell_type": "code",
   "execution_count": 257,
   "id": "9012bef1",
   "metadata": {},
   "outputs": [
    {
     "data": {
      "text/plain": [
       "{1, 2, 3, 4, 5, 6, 7, 8, 111, 345}"
      ]
     },
     "execution_count": 257,
     "metadata": {},
     "output_type": "execute_result"
    }
   ],
   "source": [
    "s"
   ]
  },
  {
   "cell_type": "code",
   "execution_count": 258,
   "id": "f4cd0cd6",
   "metadata": {},
   "outputs": [],
   "source": [
    "s.add('Radha')"
   ]
  },
  {
   "cell_type": "code",
   "execution_count": 259,
   "id": "bc8f5aef",
   "metadata": {},
   "outputs": [
    {
     "data": {
      "text/plain": [
       "{1, 111, 2, 3, 345, 4, 5, 6, 7, 8, 'Radha'}"
      ]
     },
     "execution_count": 259,
     "metadata": {},
     "output_type": "execute_result"
    }
   ],
   "source": [
    "s"
   ]
  },
  {
   "cell_type": "code",
   "execution_count": 261,
   "id": "1898b730",
   "metadata": {},
   "outputs": [],
   "source": [
    "s.add((1,2,3))"
   ]
  },
  {
   "cell_type": "code",
   "execution_count": 262,
   "id": "cbc57569",
   "metadata": {},
   "outputs": [
    {
     "data": {
      "text/plain": [
       "{(1, 2, 3), 1, 111, 2, 3, 345, 4, 5, 6, 7, 8, 'Radha'}"
      ]
     },
     "execution_count": 262,
     "metadata": {},
     "output_type": "execute_result"
    }
   ],
   "source": [
    "s"
   ]
  },
  {
   "cell_type": "code",
   "execution_count": 263,
   "id": "7e85aae5",
   "metadata": {},
   "outputs": [],
   "source": [
    "s.remove(1)"
   ]
  },
  {
   "cell_type": "code",
   "execution_count": 264,
   "id": "0f1fe55d",
   "metadata": {},
   "outputs": [
    {
     "data": {
      "text/plain": [
       "{(1, 2, 3), 111, 2, 3, 345, 4, 5, 6, 7, 8, 'Radha'}"
      ]
     },
     "execution_count": 264,
     "metadata": {},
     "output_type": "execute_result"
    }
   ],
   "source": [
    "s"
   ]
  },
  {
   "cell_type": "code",
   "execution_count": 267,
   "id": "94347945",
   "metadata": {},
   "outputs": [],
   "source": [
    "d1 = {\"key1\" : 1234, \"key2\" : \"sudhd\" , 45 : [1,2,3,4]}"
   ]
  },
  {
   "cell_type": "code",
   "execution_count": 268,
   "id": "741cf232",
   "metadata": {},
   "outputs": [
    {
     "data": {
      "text/plain": [
       "1234"
      ]
     },
     "execution_count": 268,
     "metadata": {},
     "output_type": "execute_result"
    }
   ],
   "source": [
    "d1['key1']"
   ]
  },
  {
   "cell_type": "code",
   "execution_count": 269,
   "id": "13e5a7a0",
   "metadata": {},
   "outputs": [
    {
     "data": {
      "text/plain": [
       "[1, 2, 3, 4]"
      ]
     },
     "execution_count": 269,
     "metadata": {},
     "output_type": "execute_result"
    }
   ],
   "source": [
    "d1[45]"
   ]
  },
  {
   "cell_type": "code",
   "execution_count": 270,
   "id": "8e63b435",
   "metadata": {},
   "outputs": [],
   "source": [
    "d1[45][0] = 'Radha'"
   ]
  },
  {
   "cell_type": "code",
   "execution_count": 271,
   "id": "e4d1c1cf",
   "metadata": {},
   "outputs": [
    {
     "data": {
      "text/plain": [
       "{'key1': 1234, 'key2': 'sudhd', 45: ['Radha', 2, 3, 4]}"
      ]
     },
     "execution_count": 271,
     "metadata": {},
     "output_type": "execute_result"
    }
   ],
   "source": [
    "d1"
   ]
  },
  {
   "cell_type": "code",
   "execution_count": 272,
   "id": "ebee782a",
   "metadata": {},
   "outputs": [
    {
     "data": {
      "text/plain": [
       "'sudhd'"
      ]
     },
     "execution_count": 272,
     "metadata": {},
     "output_type": "execute_result"
    }
   ],
   "source": [
    "d1['key2']"
   ]
  },
  {
   "cell_type": "code",
   "execution_count": 273,
   "id": "34857807",
   "metadata": {},
   "outputs": [
    {
     "data": {
      "text/plain": [
       "str"
      ]
     },
     "execution_count": 273,
     "metadata": {},
     "output_type": "execute_result"
    }
   ],
   "source": [
    "type(d1['key2'])"
   ]
  },
  {
   "cell_type": "code",
   "execution_count": 275,
   "id": "4c421453",
   "metadata": {},
   "outputs": [
    {
     "data": {
      "text/plain": [
       "3"
      ]
     },
     "execution_count": 275,
     "metadata": {},
     "output_type": "execute_result"
    }
   ],
   "source": [
    "d1[45][2]"
   ]
  },
  {
   "cell_type": "code",
   "execution_count": 276,
   "id": "333cb0f6",
   "metadata": {},
   "outputs": [
    {
     "data": {
      "text/plain": [
       "dict_keys(['key1', 'key2', 45])"
      ]
     },
     "execution_count": 276,
     "metadata": {},
     "output_type": "execute_result"
    }
   ],
   "source": [
    "d1.keys()"
   ]
  },
  {
   "cell_type": "code",
   "execution_count": 277,
   "id": "efe1f37e",
   "metadata": {},
   "outputs": [
    {
     "data": {
      "text/plain": [
       "dict_values([1234, 'sudhd', ['Radha', 2, 3, 4]])"
      ]
     },
     "execution_count": 277,
     "metadata": {},
     "output_type": "execute_result"
    }
   ],
   "source": [
    "d1.values()"
   ]
  },
  {
   "cell_type": "code",
   "execution_count": 278,
   "id": "1fdb46d9",
   "metadata": {},
   "outputs": [
    {
     "data": {
      "text/plain": [
       "dict_items([('key1', 1234), ('key2', 'sudhd'), (45, ['Radha', 2, 3, 4])])"
      ]
     },
     "execution_count": 278,
     "metadata": {},
     "output_type": "execute_result"
    }
   ],
   "source": [
    "d1.items()"
   ]
  },
  {
   "cell_type": "code",
   "execution_count": 279,
   "id": "1c811165",
   "metadata": {},
   "outputs": [],
   "source": [
    "d1['key4'] = \"Krishna\""
   ]
  },
  {
   "cell_type": "code",
   "execution_count": 280,
   "id": "1de267fd",
   "metadata": {},
   "outputs": [
    {
     "data": {
      "text/plain": [
       "{'key1': 1234, 'key2': 'sudhd', 45: ['Radha', 2, 3, 4], 'key4': 'Krishna'}"
      ]
     },
     "execution_count": 280,
     "metadata": {},
     "output_type": "execute_result"
    }
   ],
   "source": [
    "d1"
   ]
  },
  {
   "cell_type": "code",
   "execution_count": 281,
   "id": "8f6df2a6",
   "metadata": {},
   "outputs": [],
   "source": [
    "d1[4] = [3,4,5,6,7,8,9]"
   ]
  },
  {
   "cell_type": "code",
   "execution_count": 282,
   "id": "2b99f888",
   "metadata": {},
   "outputs": [
    {
     "data": {
      "text/plain": [
       "{'key1': 1234,\n",
       " 'key2': 'sudhd',\n",
       " 45: ['Radha', 2, 3, 4],\n",
       " 'key4': 'Krishna',\n",
       " 4: [3, 4, 5, 6, 7, 8, 9]}"
      ]
     },
     "execution_count": 282,
     "metadata": {},
     "output_type": "execute_result"
    }
   ],
   "source": [
    "d1"
   ]
  },
  {
   "cell_type": "code",
   "execution_count": 283,
   "id": "242b2cf5",
   "metadata": {},
   "outputs": [
    {
     "data": {
      "text/plain": [
       "1234"
      ]
     },
     "execution_count": 283,
     "metadata": {},
     "output_type": "execute_result"
    }
   ],
   "source": [
    "d1.get('key1')"
   ]
  },
  {
   "cell_type": "code",
   "execution_count": 284,
   "id": "2e87f872",
   "metadata": {},
   "outputs": [
    {
     "ename": "TypeError",
     "evalue": "unhashable type: 'set'",
     "output_type": "error",
     "traceback": [
      "\u001b[1;31m---------------------------------------------------------------------------\u001b[0m",
      "\u001b[1;31mTypeError\u001b[0m                                 Traceback (most recent call last)",
      "\u001b[1;32mC:\\Users\\RAKSHA~1\\AppData\\Local\\Temp/ipykernel_12216/485145678.py\u001b[0m in \u001b[0;36m<module>\u001b[1;34m\u001b[0m\n\u001b[1;32m----> 1\u001b[1;33m \u001b[0md1\u001b[0m\u001b[1;33m[\u001b[0m\u001b[1;33m{\u001b[0m\u001b[1;36m2\u001b[0m\u001b[1;33m,\u001b[0m\u001b[1;36m3\u001b[0m\u001b[1;33m,\u001b[0m\u001b[1;36m4\u001b[0m\u001b[1;33m}\u001b[0m\u001b[1;33m]\u001b[0m \u001b[1;33m=\u001b[0m \u001b[1;34m'krishna'\u001b[0m\u001b[1;33m\u001b[0m\u001b[1;33m\u001b[0m\u001b[0m\n\u001b[0m",
      "\u001b[1;31mTypeError\u001b[0m: unhashable type: 'set'"
     ]
    }
   ],
   "source": [
    "d1[{2,3,4}] = 'krishna'"
   ]
  },
  {
   "cell_type": "code",
   "execution_count": 285,
   "id": "b8c675ad",
   "metadata": {},
   "outputs": [],
   "source": [
    "d1[(2,3,4)] = 'krishna'"
   ]
  },
  {
   "cell_type": "code",
   "execution_count": 286,
   "id": "78133eae",
   "metadata": {},
   "outputs": [
    {
     "data": {
      "text/plain": [
       "{'key1': 1234,\n",
       " 'key2': 'sudhd',\n",
       " 45: ['Radha', 2, 3, 4],\n",
       " 'key4': 'Krishna',\n",
       " 4: [3, 4, 5, 6, 7, 8, 9],\n",
       " (2, 3, 4): 'krishna'}"
      ]
     },
     "execution_count": 286,
     "metadata": {},
     "output_type": "execute_result"
    }
   ],
   "source": [
    "d1"
   ]
  },
  {
   "cell_type": "code",
   "execution_count": 289,
   "id": "fa89a39f",
   "metadata": {},
   "outputs": [],
   "source": [
    "d2 = {\"key5\" : 'Hare', \"key6\" : 'Rama'}"
   ]
  },
  {
   "cell_type": "code",
   "execution_count": 290,
   "id": "2cd25f88",
   "metadata": {},
   "outputs": [
    {
     "data": {
      "text/plain": [
       "{'key1': 1234,\n",
       " 'key2': 'sudhd',\n",
       " 45: ['Radha', 2, 3, 4],\n",
       " 'key4': 'Krishna',\n",
       " 4: [3, 4, 5, 6, 7, 8, 9],\n",
       " (2, 3, 4): 'krishna'}"
      ]
     },
     "execution_count": 290,
     "metadata": {},
     "output_type": "execute_result"
    }
   ],
   "source": [
    "d1"
   ]
  },
  {
   "cell_type": "code",
   "execution_count": 291,
   "id": "a5068de9",
   "metadata": {},
   "outputs": [],
   "source": [
    "d1.update(d2)"
   ]
  },
  {
   "cell_type": "code",
   "execution_count": 292,
   "id": "da712975",
   "metadata": {},
   "outputs": [
    {
     "data": {
      "text/plain": [
       "{'key1': 1234,\n",
       " 'key2': 'sudhd',\n",
       " 45: ['Radha', 2, 3, 4],\n",
       " 'key4': 'Krishna',\n",
       " 4: [3, 4, 5, 6, 7, 8, 9],\n",
       " (2, 3, 4): 'krishna',\n",
       " 'key5': 'Hare',\n",
       " 'key6': 'Rama'}"
      ]
     },
     "execution_count": 292,
     "metadata": {},
     "output_type": "execute_result"
    }
   ],
   "source": [
    "d1"
   ]
  },
  {
   "cell_type": "code",
   "execution_count": 293,
   "id": "5e21d653",
   "metadata": {},
   "outputs": [
    {
     "data": {
      "text/plain": [
       "{'key5': 'Hare', 'key6': 'Rama'}"
      ]
     },
     "execution_count": 293,
     "metadata": {},
     "output_type": "execute_result"
    }
   ],
   "source": [
    "d2"
   ]
  },
  {
   "cell_type": "code",
   "execution_count": 294,
   "id": "6b3cfe67",
   "metadata": {},
   "outputs": [],
   "source": [
    "a = 10 "
   ]
  },
  {
   "cell_type": "code",
   "execution_count": 295,
   "id": "1bf45e8d",
   "metadata": {},
   "outputs": [
    {
     "name": "stdout",
     "output_type": "stream",
     "text": [
      "govind\n"
     ]
    }
   ],
   "source": [
    "if a<15:\n",
    "    print('govind')"
   ]
  },
  {
   "cell_type": "code",
   "execution_count": 297,
   "id": "c5813cb2",
   "metadata": {},
   "outputs": [
    {
     "name": "stdout",
     "output_type": "stream",
     "text": [
      "hare krishna\n"
     ]
    }
   ],
   "source": [
    "if 5<3:\n",
    "    print(' 2 is lesset')\n",
    "else:\n",
    "    print(\"hare krishna\")"
   ]
  },
  {
   "cell_type": "code",
   "execution_count": 299,
   "id": "723530c3",
   "metadata": {},
   "outputs": [
    {
     "name": "stdout",
     "output_type": "stream",
     "text": [
      "100\n",
      "hare krishna\n"
     ]
    }
   ],
   "source": [
    "income = int(input())\n",
    "if income < 50 :\n",
    "    print('able to eat something')\n",
    "elif income < 70:\n",
    "    print('able drink and eat')\n",
    "elif income <90 :\n",
    "    print('I will able to rent house')\n",
    "else:\n",
    "    print('hare krishna')"
   ]
  },
  {
   "cell_type": "code",
   "execution_count": 300,
   "id": "2f283f40",
   "metadata": {},
   "outputs": [
    {
     "data": {
      "text/plain": [
       "True"
      ]
     },
     "execution_count": 300,
     "metadata": {},
     "output_type": "execute_result"
    }
   ],
   "source": [
    "'krishna' == 'krishna'"
   ]
  },
  {
   "cell_type": "code",
   "execution_count": 301,
   "id": "132e5263",
   "metadata": {},
   "outputs": [
    {
     "name": "stdout",
     "output_type": "stream",
     "text": [
      "valid hare krsihna\n"
     ]
    }
   ],
   "source": [
    "a = 9\n",
    "if a == 9:\n",
    "    print('valid hare krsihna')"
   ]
  },
  {
   "cell_type": "code",
   "execution_count": 302,
   "id": "ae082d94",
   "metadata": {},
   "outputs": [
    {
     "name": "stdout",
     "output_type": "stream",
     "text": [
      "1\n",
      "2\n",
      "3\n",
      "4\n",
      "5\n"
     ]
    }
   ],
   "source": [
    "l = [1,2,3,4,5]\n",
    "for i in l:\n",
    "    print(i)"
   ]
  },
  {
   "cell_type": "code",
   "execution_count": 304,
   "id": "b737ca93",
   "metadata": {},
   "outputs": [
    {
     "name": "stdout",
     "output_type": "stream",
     "text": [
      "s\n",
      "u\n",
      "d\n",
      "h\n"
     ]
    }
   ],
   "source": [
    "s = 'sudh'\n",
    "for i in s:\n",
    "    print(i)"
   ]
  },
  {
   "cell_type": "code",
   "execution_count": 337,
   "id": "8dba65b7",
   "metadata": {},
   "outputs": [],
   "source": [
    "l = [1,34.5, 45+6j, 'Radha', True, {4 : 5, 6 : 66}]"
   ]
  },
  {
   "cell_type": "code",
   "execution_count": 338,
   "id": "144f3d10",
   "metadata": {},
   "outputs": [
    {
     "name": "stdout",
     "output_type": "stream",
     "text": [
      "(0, 1)\n",
      "(1, 34.5)\n",
      "(2, (45+6j))\n",
      "(3, 'Radha')\n",
      "(4, True)\n",
      "(5, {4: 5, 6: 66})\n"
     ]
    }
   ],
   "source": [
    "for i in enumerate(l):\n",
    "    print((i))"
   ]
  },
  {
   "cell_type": "code",
   "execution_count": 339,
   "id": "a8e8f16c",
   "metadata": {},
   "outputs": [
    {
     "name": "stdout",
     "output_type": "stream",
     "text": [
      "<class 'int'> 1\n",
      "<class 'float'> 34.5\n",
      "<class 'complex'> (45+6j)\n",
      "<class 'str'> Radha\n",
      "<class 'bool'> True\n",
      "<class 'dict'> {4: 5, 6: 66}\n"
     ]
    }
   ],
   "source": [
    "for i in l:\n",
    "    print(type(i),i)"
   ]
  },
  {
   "cell_type": "code",
   "execution_count": 340,
   "id": "1cbefc1f",
   "metadata": {},
   "outputs": [
    {
     "data": {
      "text/plain": [
       "[1, 34.5, (45+6j), 'Radha', True, {4: 5, 6: 66}]"
      ]
     },
     "execution_count": 340,
     "metadata": {},
     "output_type": "execute_result"
    }
   ],
   "source": [
    "l"
   ]
  },
  {
   "cell_type": "code",
   "execution_count": 341,
   "id": "dd03806d",
   "metadata": {},
   "outputs": [
    {
     "data": {
      "text/plain": [
       "[3, 3]"
      ]
     },
     "execution_count": 341,
     "metadata": {},
     "output_type": "execute_result"
    }
   ],
   "source": [
    "[i+2 for i in l if isinstance(i,int)]"
   ]
  },
  {
   "cell_type": "code",
   "execution_count": 342,
   "id": "2640db62",
   "metadata": {},
   "outputs": [],
   "source": [
    "l.remove({4: 5, 6: 66})"
   ]
  },
  {
   "cell_type": "code",
   "execution_count": 343,
   "id": "78401d96",
   "metadata": {},
   "outputs": [
    {
     "data": {
      "text/plain": [
       "[1, 34.5, (45+6j), 'Radha', True]"
      ]
     },
     "execution_count": 343,
     "metadata": {},
     "output_type": "execute_result"
    }
   ],
   "source": [
    "l"
   ]
  },
  {
   "cell_type": "code",
   "execution_count": 344,
   "id": "4e6e7e20",
   "metadata": {},
   "outputs": [
    {
     "data": {
      "text/plain": [
       "[3, 36.5, (47+6j), 'Radha2', 3]"
      ]
     },
     "execution_count": 344,
     "metadata": {},
     "output_type": "execute_result"
    }
   ],
   "source": [
    "[i+'2' if isinstance(i,str) else i+2 for i in l]"
   ]
  },
  {
   "cell_type": "code",
   "execution_count": 345,
   "id": "834d380d",
   "metadata": {},
   "outputs": [],
   "source": [
    "l = [1,2,3,4,5]"
   ]
  },
  {
   "cell_type": "code",
   "execution_count": 346,
   "id": "f8371a1f",
   "metadata": {},
   "outputs": [],
   "source": [
    "l1=[]\n",
    "for i in l:\n",
    "    l1.append(i+2)\n"
   ]
  },
  {
   "cell_type": "code",
   "execution_count": 347,
   "id": "549b4873",
   "metadata": {},
   "outputs": [
    {
     "data": {
      "text/plain": [
       "[3, 4, 5, 6, 7]"
      ]
     },
     "execution_count": 347,
     "metadata": {},
     "output_type": "execute_result"
    }
   ],
   "source": [
    "l1"
   ]
  },
  {
   "cell_type": "code",
   "execution_count": 351,
   "id": "225abbd0",
   "metadata": {},
   "outputs": [],
   "source": [
    "l2 = [1,4,5,6,7,8,34.5, 45+6j, 'Radha', True, {4 : 5, 6 : 66}]"
   ]
  },
  {
   "cell_type": "code",
   "execution_count": 352,
   "id": "354fd658",
   "metadata": {},
   "outputs": [],
   "source": [
    "l1 = []\n",
    "for i in l2:\n",
    "    if type(i) == int:\n",
    "        l1.append(i)"
   ]
  },
  {
   "cell_type": "code",
   "execution_count": 353,
   "id": "dc07d663",
   "metadata": {},
   "outputs": [
    {
     "data": {
      "text/plain": [
       "[1, 4, 5, 6, 7, 8]"
      ]
     },
     "execution_count": 353,
     "metadata": {},
     "output_type": "execute_result"
    }
   ],
   "source": [
    "l1"
   ]
  },
  {
   "cell_type": "code",
   "execution_count": 357,
   "id": "30e82112",
   "metadata": {},
   "outputs": [
    {
     "data": {
      "text/plain": [
       "[{4: 5, 6: 66}]"
      ]
     },
     "execution_count": 357,
     "metadata": {},
     "output_type": "execute_result"
    }
   ],
   "source": [
    "[i for i in l2 if isinstance(i, dict)]"
   ]
  },
  {
   "cell_type": "code",
   "execution_count": 358,
   "id": "f08766f8",
   "metadata": {},
   "outputs": [
    {
     "data": {
      "text/plain": [
       "['R', 'a', 'd', 'h', 'a']"
      ]
     },
     "execution_count": 358,
     "metadata": {},
     "output_type": "execute_result"
    }
   ],
   "source": [
    "s = 'Radha'\n",
    "[i for i in s if isinstance(i,str)]"
   ]
  },
  {
   "cell_type": "code",
   "execution_count": 361,
   "id": "ef6c9357",
   "metadata": {},
   "outputs": [
    {
     "data": {
      "text/plain": [
       "[1, 2, 3, 4, 5]"
      ]
     },
     "execution_count": 361,
     "metadata": {},
     "output_type": "execute_result"
    }
   ],
   "source": [
    "l"
   ]
  },
  {
   "cell_type": "code",
   "execution_count": 362,
   "id": "49894c89",
   "metadata": {},
   "outputs": [
    {
     "data": {
      "text/plain": [
       "[1, 4, 9, 16, 25]"
      ]
     },
     "execution_count": 362,
     "metadata": {},
     "output_type": "execute_result"
    }
   ],
   "source": [
    "[i**2 for i in l if isinstance(i,int)]"
   ]
  },
  {
   "cell_type": "code",
   "execution_count": 366,
   "id": "84637abb",
   "metadata": {},
   "outputs": [
    {
     "name": "stdout",
     "output_type": "stream",
     "text": [
      "name Radha\n",
      "emailid Radha\n",
      "phoneno Radha\n",
      "address Radha\n"
     ]
    }
   ],
   "source": [
    "l = ['name', 'emailid', 'phoneno', 'address']\n",
    "for i in l:\n",
    "    print(i+' Radha')"
   ]
  },
  {
   "cell_type": "code",
   "execution_count": 367,
   "id": "7b4c0591",
   "metadata": {},
   "outputs": [
    {
     "name": "stdout",
     "output_type": "stream",
     "text": [
      "name\n",
      "emailid\n",
      "phoneno\n",
      "address\n",
      "if for loop is going to complete itself then only it will come to else\n"
     ]
    }
   ],
   "source": [
    "for i in l:\n",
    "    print(i)\n",
    "    \n",
    "else:\n",
    "    print('if for loop is going to complete itself then only it will come to else')"
   ]
  },
  {
   "cell_type": "code",
   "execution_count": 369,
   "id": "3bf7b33e",
   "metadata": {},
   "outputs": [
    {
     "name": "stdout",
     "output_type": "stream",
     "text": [
      "name\n"
     ]
    }
   ],
   "source": [
    "for i in l:\n",
    "    if i == 'emailid':\n",
    "        break\n",
    "    print(i)\n",
    "    \n",
    "else:\n",
    "    print('check this statement')"
   ]
  },
  {
   "cell_type": "code",
   "execution_count": 371,
   "id": "15301389",
   "metadata": {},
   "outputs": [
    {
     "name": "stdout",
     "output_type": "stream",
     "text": [
      "R\n",
      "a\n"
     ]
    }
   ],
   "source": [
    "s = 'Radha'\n",
    "for i in s:\n",
    "    if i == 'd':\n",
    "        break\n",
    "    print(i)\n",
    "\n",
    "else:\n",
    "    print('dont execute')"
   ]
  },
  {
   "cell_type": "code",
   "execution_count": 373,
   "id": "b5530926",
   "metadata": {},
   "outputs": [
    {
     "name": "stdout",
     "output_type": "stream",
     "text": [
      "1\n",
      "2\n",
      "3\n",
      "4\n",
      "5\n"
     ]
    }
   ],
   "source": [
    "a = 1 \n",
    "while a<6:\n",
    "    print(a)\n",
    "    a = a+1\n"
   ]
  },
  {
   "cell_type": "code",
   "execution_count": 374,
   "id": "085defc2",
   "metadata": {},
   "outputs": [
    {
     "data": {
      "text/plain": [
       "range(0, 6)"
      ]
     },
     "execution_count": 374,
     "metadata": {},
     "output_type": "execute_result"
    }
   ],
   "source": [
    "range(6)"
   ]
  },
  {
   "cell_type": "code",
   "execution_count": 375,
   "id": "41269518",
   "metadata": {},
   "outputs": [
    {
     "data": {
      "text/plain": [
       "[0, 1, 2, 3, 4, 5]"
      ]
     },
     "execution_count": 375,
     "metadata": {},
     "output_type": "execute_result"
    }
   ],
   "source": [
    "list(range(6))"
   ]
  },
  {
   "cell_type": "code",
   "execution_count": 377,
   "id": "d0f522ce",
   "metadata": {},
   "outputs": [
    {
     "data": {
      "text/plain": [
       "[4, 6, 8]"
      ]
     },
     "execution_count": 377,
     "metadata": {},
     "output_type": "execute_result"
    }
   ],
   "source": [
    "list(range(4,10,2))"
   ]
  },
  {
   "cell_type": "code",
   "execution_count": 378,
   "id": "c55fe8ed",
   "metadata": {},
   "outputs": [
    {
     "name": "stdout",
     "output_type": "stream",
     "text": [
      "0\n",
      "1\n",
      "2\n",
      "3\n",
      "4\n"
     ]
    }
   ],
   "source": [
    "for i in range(5):\n",
    "    print(i)"
   ]
  },
  {
   "cell_type": "code",
   "execution_count": 379,
   "id": "a0ba7d2a",
   "metadata": {},
   "outputs": [],
   "source": [
    "t = (1,2,3,4,5,6,7)"
   ]
  },
  {
   "cell_type": "code",
   "execution_count": 406,
   "id": "712b1dd0",
   "metadata": {},
   "outputs": [
    {
     "name": "stdout",
     "output_type": "stream",
     "text": [
      "7\n",
      "6\n",
      "5\n",
      "4\n",
      "3\n",
      "2\n",
      "1\n"
     ]
    }
   ],
   "source": [
    "for i in range(len(t),0,-1):\n",
    "    print(i)"
   ]
  },
  {
   "cell_type": "code",
   "execution_count": 410,
   "id": "4f7064b8",
   "metadata": {},
   "outputs": [],
   "source": [
    "t1 = (3,4,4,5,6,7,7)"
   ]
  },
  {
   "cell_type": "code",
   "execution_count": 411,
   "id": "59c22613",
   "metadata": {},
   "outputs": [
    {
     "name": "stdout",
     "output_type": "stream",
     "text": [
      "7\n",
      "7\n",
      "6\n",
      "5\n",
      "4\n",
      "4\n",
      "3\n"
     ]
    }
   ],
   "source": [
    "for i in range(len(t1)-1, -1, -1):\n",
    "    print(t[i])"
   ]
  },
  {
   "cell_type": "code",
   "execution_count": 412,
   "id": "f6299dd0",
   "metadata": {},
   "outputs": [
    {
     "data": {
      "text/plain": [
       "7"
      ]
     },
     "execution_count": 412,
     "metadata": {},
     "output_type": "execute_result"
    }
   ],
   "source": [
    "len(t1)"
   ]
  },
  {
   "cell_type": "code",
   "execution_count": 413,
   "id": "54077525",
   "metadata": {},
   "outputs": [
    {
     "data": {
      "text/plain": [
       "[0, 1, 2, 3, 4, 5, 6]"
      ]
     },
     "execution_count": 413,
     "metadata": {},
     "output_type": "execute_result"
    }
   ],
   "source": [
    "list(range(0,7))"
   ]
  },
  {
   "cell_type": "code",
   "execution_count": 414,
   "id": "a4b89cf0",
   "metadata": {},
   "outputs": [],
   "source": [
    "t1 = (3,4,4,5,6,7,7)"
   ]
  },
  {
   "cell_type": "code",
   "execution_count": 420,
   "id": "9a5aeb98",
   "metadata": {},
   "outputs": [
    {
     "name": "stdout",
     "output_type": "stream",
     "text": [
      "7\n",
      "7\n",
      "6\n",
      "5\n",
      "4\n",
      "4\n",
      "3\n"
     ]
    }
   ],
   "source": [
    "for i in range(len(t1)-1,-1,-1):\n",
    "    print(t[i])"
   ]
  },
  {
   "cell_type": "code",
   "execution_count": 421,
   "id": "59ebbd44",
   "metadata": {},
   "outputs": [],
   "source": [
    "d = {'a' : 'Radha', 'b' : 'Krishan', 'c' : 'Hare', 'd' : 'Rama'}"
   ]
  },
  {
   "cell_type": "code",
   "execution_count": 422,
   "id": "1974b39b",
   "metadata": {},
   "outputs": [
    {
     "name": "stdout",
     "output_type": "stream",
     "text": [
      "a\n",
      "b\n",
      "c\n",
      "d\n"
     ]
    }
   ],
   "source": [
    "for i in d:\n",
    "    print(i)"
   ]
  },
  {
   "cell_type": "code",
   "execution_count": 425,
   "id": "c0348265",
   "metadata": {},
   "outputs": [
    {
     "name": "stdout",
     "output_type": "stream",
     "text": [
      "Radha\n",
      "Krishan\n",
      "Hare\n",
      "Rama\n"
     ]
    }
   ],
   "source": [
    "for i in d.values():\n",
    "    print(i)"
   ]
  },
  {
   "cell_type": "code",
   "execution_count": 426,
   "id": "0bc35f34",
   "metadata": {},
   "outputs": [
    {
     "data": {
      "text/plain": [
       "'Rama'"
      ]
     },
     "execution_count": 426,
     "metadata": {},
     "output_type": "execute_result"
    }
   ],
   "source": [
    "d['d']"
   ]
  },
  {
   "cell_type": "code",
   "execution_count": 427,
   "id": "a80d6b50",
   "metadata": {},
   "outputs": [
    {
     "name": "stdout",
     "output_type": "stream",
     "text": [
      "a Radha\n",
      "b Krishan\n",
      "c Hare\n",
      "d Rama\n"
     ]
    }
   ],
   "source": [
    "for i in d:\n",
    "    print(i, d[i])"
   ]
  },
  {
   "cell_type": "code",
   "execution_count": 428,
   "id": "c7634863",
   "metadata": {},
   "outputs": [],
   "source": [
    "def test1():\n",
    "    print('this is my first fun')"
   ]
  },
  {
   "cell_type": "code",
   "execution_count": 429,
   "id": "87ad5b3a",
   "metadata": {},
   "outputs": [
    {
     "name": "stdout",
     "output_type": "stream",
     "text": [
      "this is my first fun\n"
     ]
    }
   ],
   "source": [
    "test1()"
   ]
  },
  {
   "cell_type": "code",
   "execution_count": 430,
   "id": "e6f739fd",
   "metadata": {},
   "outputs": [
    {
     "name": "stdout",
     "output_type": "stream",
     "text": [
      "this is my first fun\n"
     ]
    }
   ],
   "source": [
    "a = test1()"
   ]
  },
  {
   "cell_type": "code",
   "execution_count": 431,
   "id": "495dbe24",
   "metadata": {},
   "outputs": [
    {
     "ename": "TypeError",
     "evalue": "unsupported operand type(s) for +: 'NoneType' and 'str'",
     "output_type": "error",
     "traceback": [
      "\u001b[1;31m---------------------------------------------------------------------------\u001b[0m",
      "\u001b[1;31mTypeError\u001b[0m                                 Traceback (most recent call last)",
      "\u001b[1;32mC:\\Users\\RAKSHA~1\\AppData\\Local\\Temp/ipykernel_12216/4177830168.py\u001b[0m in \u001b[0;36m<module>\u001b[1;34m\u001b[0m\n\u001b[1;32m----> 1\u001b[1;33m \u001b[0ma\u001b[0m \u001b[1;33m+\u001b[0m \u001b[1;34m\"Hare krishna\"\u001b[0m\u001b[1;33m\u001b[0m\u001b[1;33m\u001b[0m\u001b[0m\n\u001b[0m",
      "\u001b[1;31mTypeError\u001b[0m: unsupported operand type(s) for +: 'NoneType' and 'str'"
     ]
    }
   ],
   "source": [
    "a + \"Hare krishna\""
   ]
  },
  {
   "cell_type": "code",
   "execution_count": 432,
   "id": "f255f68f",
   "metadata": {},
   "outputs": [
    {
     "data": {
      "text/plain": [
       "'None'"
      ]
     },
     "execution_count": 432,
     "metadata": {},
     "output_type": "execute_result"
    }
   ],
   "source": [
    "str(a)"
   ]
  },
  {
   "cell_type": "code",
   "execution_count": 433,
   "id": "aaa03c84",
   "metadata": {},
   "outputs": [
    {
     "data": {
      "text/plain": [
       "NoneType"
      ]
     },
     "execution_count": 433,
     "metadata": {},
     "output_type": "execute_result"
    }
   ],
   "source": [
    "type(a)"
   ]
  },
  {
   "cell_type": "code",
   "execution_count": 434,
   "id": "e8f14f16",
   "metadata": {},
   "outputs": [],
   "source": [
    "def test2():\n",
    "    return \"this is my first func\""
   ]
  },
  {
   "cell_type": "code",
   "execution_count": 436,
   "id": "f5babbcd",
   "metadata": {},
   "outputs": [
    {
     "data": {
      "text/plain": [
       "str"
      ]
     },
     "execution_count": 436,
     "metadata": {},
     "output_type": "execute_result"
    }
   ],
   "source": [
    "type(test2())"
   ]
  },
  {
   "cell_type": "code",
   "execution_count": 437,
   "id": "4f8c4f67",
   "metadata": {},
   "outputs": [
    {
     "data": {
      "text/plain": [
       "'this is my first func Hare Krishna'"
      ]
     },
     "execution_count": 437,
     "metadata": {},
     "output_type": "execute_result"
    }
   ],
   "source": [
    "test2()+\" Hare Krishna\""
   ]
  },
  {
   "cell_type": "code",
   "execution_count": 439,
   "id": "f8a70907",
   "metadata": {},
   "outputs": [],
   "source": [
    "def test3():\n",
    "    return 342"
   ]
  },
  {
   "cell_type": "code",
   "execution_count": 440,
   "id": "6efbf802",
   "metadata": {},
   "outputs": [
    {
     "data": {
      "text/plain": [
       "794"
      ]
     },
     "execution_count": 440,
     "metadata": {},
     "output_type": "execute_result"
    }
   ],
   "source": [
    "test3()+452"
   ]
  },
  {
   "cell_type": "code",
   "execution_count": 441,
   "id": "d3646411",
   "metadata": {},
   "outputs": [
    {
     "data": {
      "text/plain": [
       "int"
      ]
     },
     "execution_count": 441,
     "metadata": {},
     "output_type": "execute_result"
    }
   ],
   "source": [
    "type(test3())"
   ]
  },
  {
   "cell_type": "code",
   "execution_count": 443,
   "id": "38278c15",
   "metadata": {},
   "outputs": [],
   "source": [
    "def test4():\n",
    "    return 4,3,2,4,'sudh',[1,2,3,45]"
   ]
  },
  {
   "cell_type": "code",
   "execution_count": 444,
   "id": "87e3cfd5",
   "metadata": {},
   "outputs": [
    {
     "data": {
      "text/plain": [
       "(4, 3, 2, 4, 'sudh', [1, 2, 3, 45])"
      ]
     },
     "execution_count": 444,
     "metadata": {},
     "output_type": "execute_result"
    }
   ],
   "source": [
    "test4()"
   ]
  },
  {
   "cell_type": "code",
   "execution_count": 445,
   "id": "fd178474",
   "metadata": {},
   "outputs": [
    {
     "data": {
      "text/plain": [
       "tuple"
      ]
     },
     "execution_count": 445,
     "metadata": {},
     "output_type": "execute_result"
    }
   ],
   "source": [
    "type(test4())"
   ]
  },
  {
   "cell_type": "code",
   "execution_count": 446,
   "id": "06ba5845",
   "metadata": {},
   "outputs": [],
   "source": [
    "b = test4()"
   ]
  },
  {
   "cell_type": "code",
   "execution_count": 447,
   "id": "7e3d5f48",
   "metadata": {},
   "outputs": [
    {
     "data": {
      "text/plain": [
       "(4, 3, 2, 4, 'sudh', [1, 2, 3, 45])"
      ]
     },
     "execution_count": 447,
     "metadata": {},
     "output_type": "execute_result"
    }
   ],
   "source": [
    "b"
   ]
  },
  {
   "cell_type": "code",
   "execution_count": 448,
   "id": "7caaaf14",
   "metadata": {},
   "outputs": [
    {
     "data": {
      "text/plain": [
       "3"
      ]
     },
     "execution_count": 448,
     "metadata": {},
     "output_type": "execute_result"
    }
   ],
   "source": [
    "b[1]"
   ]
  },
  {
   "cell_type": "code",
   "execution_count": 449,
   "id": "ddfa4e5c",
   "metadata": {},
   "outputs": [],
   "source": [
    "def test5():\n",
    "    a = 6*7/6\n",
    "    return a"
   ]
  },
  {
   "cell_type": "code",
   "execution_count": 451,
   "id": "3cde40ec",
   "metadata": {},
   "outputs": [
    {
     "data": {
      "text/plain": [
       "7.0"
      ]
     },
     "execution_count": 451,
     "metadata": {},
     "output_type": "execute_result"
    }
   ],
   "source": [
    "test5()"
   ]
  },
  {
   "cell_type": "code",
   "execution_count": 453,
   "id": "3cf77bde",
   "metadata": {},
   "outputs": [],
   "source": [
    "def test(l):\n",
    "    l1 = []\n",
    "    for i in l:\n",
    "        if type(i) == int:\n",
    "            l1.append(i)\n",
    "    return l1\n",
    "            "
   ]
  },
  {
   "cell_type": "code",
   "execution_count": 454,
   "id": "dd3a58f1",
   "metadata": {},
   "outputs": [
    {
     "data": {
      "text/plain": [
       "[1, 2, 3, 4, 5]"
      ]
     },
     "execution_count": 454,
     "metadata": {},
     "output_type": "execute_result"
    }
   ],
   "source": [
    "test([1,2,3,4,5,'sudh'])"
   ]
  },
  {
   "cell_type": "code",
   "execution_count": 457,
   "id": "24e66a38",
   "metadata": {},
   "outputs": [],
   "source": [
    "x = lambda l : [i for i in l if isinstance(i,int)]"
   ]
  },
  {
   "cell_type": "code",
   "execution_count": 458,
   "id": "4cfe97ba",
   "metadata": {},
   "outputs": [
    {
     "data": {
      "text/plain": [
       "[1, 2, 3, 4, 5]"
      ]
     },
     "execution_count": 458,
     "metadata": {},
     "output_type": "execute_result"
    }
   ],
   "source": [
    "x([1,2,3,4,5,'sudh'])"
   ]
  },
  {
   "cell_type": "code",
   "execution_count": 462,
   "id": "006c1ee6",
   "metadata": {},
   "outputs": [
    {
     "data": {
      "text/plain": [
       "list"
      ]
     },
     "execution_count": 462,
     "metadata": {},
     "output_type": "execute_result"
    }
   ],
   "source": [
    "type(test([1,2,3,4,5,'sudh']))"
   ]
  },
  {
   "cell_type": "code",
   "execution_count": 466,
   "id": "8666c3dd",
   "metadata": {},
   "outputs": [],
   "source": [
    "def test7(d):\n",
    "    l1=[]\n",
    "    if type(d) == dict:\n",
    "        return d.keys()\n",
    "    \n",
    "    else :\n",
    "        return \"pass a dict\"\n"
   ]
  },
  {
   "cell_type": "code",
   "execution_count": 467,
   "id": "50338d6c",
   "metadata": {},
   "outputs": [
    {
     "data": {
      "text/plain": [
       "dict_keys(['a', 'b', 'c'])"
      ]
     },
     "execution_count": 467,
     "metadata": {},
     "output_type": "execute_result"
    }
   ],
   "source": [
    "test7({'a' : 'Radha', 'b': 'Krishna', 'c': 'hare'})"
   ]
  },
  {
   "cell_type": "code",
   "execution_count": 473,
   "id": "403e6963",
   "metadata": {},
   "outputs": [],
   "source": [
    "def test8(l1,l2):\n",
    "    if type(l1)==list and type(l2) ==list:\n",
    "        return l1+l2"
   ]
  },
  {
   "cell_type": "code",
   "execution_count": 474,
   "id": "9c5df41f",
   "metadata": {},
   "outputs": [
    {
     "data": {
      "text/plain": [
       "[1, 2, 3, 4, 1, 2, 3, 4]"
      ]
     },
     "execution_count": 474,
     "metadata": {},
     "output_type": "execute_result"
    }
   ],
   "source": [
    "test8([1,2,3,4],[1,2,3,4])"
   ]
  },
  {
   "cell_type": "code",
   "execution_count": 475,
   "id": "0a564a85",
   "metadata": {},
   "outputs": [],
   "source": [
    "def test9():\n",
    "    '''returns additon of nos'''\n",
    "    a = 5+9\n",
    "    return a"
   ]
  },
  {
   "cell_type": "code",
   "execution_count": 477,
   "id": "4cef976f",
   "metadata": {},
   "outputs": [
    {
     "name": "stdout",
     "output_type": "stream",
     "text": [
      "Help on function test9 in module __main__:\n",
      "\n",
      "test9()\n",
      "    returns additon of nos\n",
      "\n"
     ]
    }
   ],
   "source": [
    "help(test9)"
   ]
  },
  {
   "cell_type": "code",
   "execution_count": 478,
   "id": "4dcb8cb2",
   "metadata": {},
   "outputs": [
    {
     "data": {
      "text/plain": [
       "14"
      ]
     },
     "execution_count": 478,
     "metadata": {},
     "output_type": "execute_result"
    }
   ],
   "source": [
    "test9()"
   ]
  },
  {
   "cell_type": "code",
   "execution_count": 479,
   "id": "ebaec9f9",
   "metadata": {},
   "outputs": [],
   "source": [
    "def string_count(s):\n",
    "    if type(s) == str:\n",
    "        count = 0\n",
    "        for i in s:\n",
    "            count= count+1\n",
    "    return count\n",
    "            "
   ]
  },
  {
   "cell_type": "code",
   "execution_count": 480,
   "id": "980e7eaa",
   "metadata": {},
   "outputs": [
    {
     "data": {
      "text/plain": [
       "5"
      ]
     },
     "execution_count": 480,
     "metadata": {},
     "output_type": "execute_result"
    }
   ],
   "source": [
    "string_count('Radha')"
   ]
  },
  {
   "cell_type": "code",
   "execution_count": 481,
   "id": "76e8ba0a",
   "metadata": {},
   "outputs": [
    {
     "data": {
      "text/plain": [
       "5"
      ]
     },
     "execution_count": 481,
     "metadata": {},
     "output_type": "execute_result"
    }
   ],
   "source": [
    "len('Radha')"
   ]
  },
  {
   "cell_type": "code",
   "execution_count": 482,
   "id": "35ad1629",
   "metadata": {},
   "outputs": [],
   "source": [
    "def print_index(l):\n",
    "    for i ,j in enumerate(l):\n",
    "        print(i,j)"
   ]
  },
  {
   "cell_type": "code",
   "execution_count": 483,
   "id": "b3bf2edb",
   "metadata": {},
   "outputs": [
    {
     "name": "stdout",
     "output_type": "stream",
     "text": [
      "0 sudh\n",
      "1  hare\n",
      "2 krishna\n"
     ]
    }
   ],
   "source": [
    "print_index(['sudh',' hare', 'krishna'])"
   ]
  },
  {
   "cell_type": "code",
   "execution_count": 487,
   "id": "e344b797",
   "metadata": {},
   "outputs": [],
   "source": [
    "def list_addition(*args):\n",
    "    l = []\n",
    "    for i in args:\n",
    "        if type(i)==list:\n",
    "            l = l+i\n",
    "    return l"
   ]
  },
  {
   "cell_type": "code",
   "execution_count": 488,
   "id": "d2c8b33c",
   "metadata": {},
   "outputs": [
    {
     "data": {
      "text/plain": [
       "[1, 2, 3, 4, 5, 6, 7, 4]"
      ]
     },
     "execution_count": 488,
     "metadata": {},
     "output_type": "execute_result"
    }
   ],
   "source": [
    "list_addition([1,2,3,4],[5,6,7,4],'sudh', 'raksha')"
   ]
  },
  {
   "cell_type": "code",
   "execution_count": 492,
   "id": "d54c2eb7",
   "metadata": {},
   "outputs": [],
   "source": [
    "def index_list(l):\n",
    "    for i ,j in enumerate(l):\n",
    "        print(i,j)\n",
    "        "
   ]
  },
  {
   "cell_type": "code",
   "execution_count": 494,
   "id": "c58ad2ab",
   "metadata": {},
   "outputs": [
    {
     "name": "stdout",
     "output_type": "stream",
     "text": [
      "0 1\n",
      "1 1\n",
      "2 2\n",
      "3 3\n",
      "4 1\n",
      "5 4\n",
      "6 5\n"
     ]
    }
   ],
   "source": [
    "index_list([1,1,2,3,1,4,5])"
   ]
  },
  {
   "cell_type": "code",
   "execution_count": 502,
   "id": "2fd0fed6",
   "metadata": {},
   "outputs": [],
   "source": [
    "def index_list(l):\n",
    "    l1 = []\n",
    "    for i in range(len(l)):\n",
    "        l1.append(f\"index of {l[i]} is {i}\")\n",
    "    return l1\n",
    "        \n",
    "        "
   ]
  },
  {
   "cell_type": "code",
   "execution_count": 503,
   "id": "8c6d383e",
   "metadata": {},
   "outputs": [
    {
     "data": {
      "text/plain": [
       "['index of 1 is 0',\n",
       " 'index of 1 is 1',\n",
       " 'index of 2 is 2',\n",
       " 'index of 3 is 3',\n",
       " 'index of 1 is 4',\n",
       " 'index of 4 is 5',\n",
       " 'index of 5 is 6']"
      ]
     },
     "execution_count": 503,
     "metadata": {},
     "output_type": "execute_result"
    }
   ],
   "source": [
    "index_list([1,1,2,3,1,4,5])"
   ]
  },
  {
   "cell_type": "code",
   "execution_count": 505,
   "id": "83d4c938",
   "metadata": {},
   "outputs": [],
   "source": [
    "def list_files(path):\n",
    "    import os\n",
    "    return os.listdir(path)"
   ]
  },
  {
   "cell_type": "code",
   "execution_count": 507,
   "id": "929235c9",
   "metadata": {},
   "outputs": [
    {
     "data": {
      "text/plain": [
       "['.ipynb_checkpoints',\n",
       " 'Abstraction.ipynb',\n",
       " 'Accenture_practice.ipynb',\n",
       " 'All_in_one_python.ipynb',\n",
       " 'Class Method.ipynb',\n",
       " 'decorator.ipynb',\n",
       " 'Dender Method.ipynb',\n",
       " 'Encapsulation.ipynb',\n",
       " 'Property Decorator.ipynb',\n",
       " 'Python_coding_interview_questions.ipynb',\n",
       " 'Static Method.ipynb',\n",
       " 'test.txt',\n",
       " 'Untitled.ipynb']"
      ]
     },
     "execution_count": 507,
     "metadata": {},
     "output_type": "execute_result"
    }
   ],
   "source": [
    "import os \n",
    "list_files(os.getcwd())"
   ]
  },
  {
   "cell_type": "code",
   "execution_count": 516,
   "id": "91891cf8",
   "metadata": {},
   "outputs": [],
   "source": [
    "def current_time():\n",
    "    from datetime import datetime\n",
    "    current_time = datetime.now().time()\n",
    "    return current_time"
   ]
  },
  {
   "cell_type": "code",
   "execution_count": 517,
   "id": "41088003",
   "metadata": {},
   "outputs": [
    {
     "data": {
      "text/plain": [
       "datetime.time(18, 37, 53, 252952)"
      ]
     },
     "execution_count": 517,
     "metadata": {},
     "output_type": "execute_result"
    }
   ],
   "source": [
    "current_time()"
   ]
  },
  {
   "cell_type": "code",
   "execution_count": 518,
   "id": "873a4662",
   "metadata": {},
   "outputs": [],
   "source": [
    "from datetime import date"
   ]
  },
  {
   "cell_type": "code",
   "execution_count": 521,
   "id": "37c98fad",
   "metadata": {},
   "outputs": [
    {
     "data": {
      "text/plain": [
       "datetime.date(2024, 9, 1)"
      ]
     },
     "execution_count": 521,
     "metadata": {},
     "output_type": "execute_result"
    }
   ],
   "source": [
    "date.today()"
   ]
  },
  {
   "cell_type": "code",
   "execution_count": 526,
   "id": "6c337e51",
   "metadata": {},
   "outputs": [],
   "source": [
    "def gencube(n):\n",
    "    for i in range(n):\n",
    "        return i**3"
   ]
  },
  {
   "cell_type": "code",
   "execution_count": 527,
   "id": "e779482e",
   "metadata": {},
   "outputs": [
    {
     "data": {
      "text/plain": [
       "0"
      ]
     },
     "execution_count": 527,
     "metadata": {},
     "output_type": "execute_result"
    }
   ],
   "source": [
    "gencube(5)"
   ]
  },
  {
   "cell_type": "code",
   "execution_count": 529,
   "id": "fc234506",
   "metadata": {},
   "outputs": [],
   "source": [
    "def gencube(n):\n",
    "    for i in range(n):\n",
    "        print(i**3)"
   ]
  },
  {
   "cell_type": "code",
   "execution_count": 530,
   "id": "2c8cdca3",
   "metadata": {},
   "outputs": [
    {
     "name": "stdout",
     "output_type": "stream",
     "text": [
      "0\n",
      "1\n",
      "8\n",
      "27\n",
      "64\n"
     ]
    }
   ],
   "source": [
    "gencube(5)"
   ]
  },
  {
   "cell_type": "code",
   "execution_count": 532,
   "id": "c84f82ae",
   "metadata": {},
   "outputs": [],
   "source": [
    "def gencube(n):\n",
    "    for i in range(n):\n",
    "        yield i**3"
   ]
  },
  {
   "cell_type": "code",
   "execution_count": 533,
   "id": "c4194a37",
   "metadata": {},
   "outputs": [
    {
     "data": {
      "text/plain": [
       "<generator object gencube at 0x0000022DFC23D4A0>"
      ]
     },
     "execution_count": 533,
     "metadata": {},
     "output_type": "execute_result"
    }
   ],
   "source": [
    "gencube(5)"
   ]
  },
  {
   "cell_type": "code",
   "execution_count": 534,
   "id": "8538d9b3",
   "metadata": {},
   "outputs": [
    {
     "data": {
      "text/plain": [
       "[0, 1, 8, 27, 64]"
      ]
     },
     "execution_count": 534,
     "metadata": {},
     "output_type": "execute_result"
    }
   ],
   "source": [
    "list(gencube(5))"
   ]
  },
  {
   "cell_type": "code",
   "execution_count": 535,
   "id": "868e613f",
   "metadata": {},
   "outputs": [],
   "source": [
    "def fib(n):\n",
    "    a = 1\n",
    "    b = 1\n",
    "    \n",
    "    for i in range(n):\n",
    "        yield a, i \n",
    "        a,b = b,a+b"
   ]
  },
  {
   "cell_type": "code",
   "execution_count": 539,
   "id": "6eedff8e",
   "metadata": {},
   "outputs": [
    {
     "data": {
      "text/plain": [
       "((1, 0),\n",
       " (1, 1),\n",
       " (2, 2),\n",
       " (3, 3),\n",
       " (5, 4),\n",
       " (8, 5),\n",
       " (13, 6),\n",
       " (21, 7),\n",
       " (34, 8),\n",
       " (55, 9),\n",
       " (89, 10),\n",
       " (144, 11))"
      ]
     },
     "execution_count": 539,
     "metadata": {},
     "output_type": "execute_result"
    }
   ],
   "source": [
    "tuple(fib(12))"
   ]
  },
  {
   "cell_type": "code",
   "execution_count": 541,
   "id": "c1f8c31b",
   "metadata": {},
   "outputs": [
    {
     "name": "stdout",
     "output_type": "stream",
     "text": [
      " Volume in drive E is New Volume\n",
      " Volume Serial Number is A69C-CBD4\n",
      "\n",
      " Directory of E:\\Python_Practice\\03-08-2024\n",
      "\n",
      "03-09-2024  13:00    <DIR>          .\n",
      "03-09-2024  12:48    <DIR>          ..\n",
      "29-08-2024  21:13    <DIR>          .ipynb_checkpoints\n",
      "08-02-2024  20:30             2,807 Abstraction.ipynb\n",
      "03-09-2024  13:00           106,420 Accenture_practice.ipynb\n",
      "05-04-2024  10:50           195,047 All_in_one_python.ipynb\n",
      "04-04-2024  20:21            18,867 Class Method.ipynb\n",
      "04-04-2024  16:05             3,860 decorator.ipynb\n",
      "09-02-2024  15:18            10,638 Dender Method.ipynb\n",
      "04-04-2024  15:28            12,233 Encapsulation.ipynb\n",
      "09-02-2024  16:32             5,806 Property Decorator.ipynb\n",
      "12-01-2024  15:38            27,558 Python_coding_interview_questions.ipynb\n",
      "09-02-2024  15:04             5,851 Static Method.ipynb\n",
      "04-04-2024  10:28               226 test.txt\n",
      "29-08-2024  21:13            12,987 Untitled.ipynb\n",
      "              12 File(s)        402,300 bytes\n",
      "               3 Dir(s)  332,048,130,048 bytes free\n"
     ]
    }
   ],
   "source": [
    "%ls"
   ]
  },
  {
   "cell_type": "code",
   "execution_count": 543,
   "id": "e064d0fa",
   "metadata": {},
   "outputs": [
    {
     "name": "stdout",
     "output_type": "stream",
     "text": [
      " Volume in drive E is New Volume\n",
      " Volume Serial Number is A69C-CBD4\n",
      "\n",
      " Directory of E:\\Python_Practice\\03-08-2024\n",
      "\n",
      "03-09-2024  13:00    <DIR>          .\n",
      "03-09-2024  12:48    <DIR>          ..\n",
      "29-08-2024  21:13    <DIR>          .ipynb_checkpoints\n",
      "08-02-2024  20:30             2,807 Abstraction.ipynb\n",
      "03-09-2024  13:00           106,420 Accenture_practice.ipynb\n",
      "05-04-2024  10:50           195,047 All_in_one_python.ipynb\n",
      "04-04-2024  20:21            18,867 Class Method.ipynb\n",
      "04-04-2024  16:05             3,860 decorator.ipynb\n",
      "09-02-2024  15:18            10,638 Dender Method.ipynb\n",
      "04-04-2024  15:28            12,233 Encapsulation.ipynb\n",
      "09-02-2024  16:32             5,806 Property Decorator.ipynb\n",
      "12-01-2024  15:38            27,558 Python_coding_interview_questions.ipynb\n",
      "09-02-2024  15:04             5,851 Static Method.ipynb\n",
      "04-04-2024  10:28               226 test.txt\n",
      "29-08-2024  21:13            12,987 Untitled.ipynb\n",
      "              12 File(s)        402,300 bytes\n",
      "               3 Dir(s)  332,048,130,048 bytes free\n"
     ]
    }
   ],
   "source": [
    "ls"
   ]
  },
  {
   "cell_type": "code",
   "execution_count": 545,
   "id": "1fa84014",
   "metadata": {},
   "outputs": [],
   "source": [
    "f = open('test.txt', \"w\")"
   ]
  },
  {
   "cell_type": "code",
   "execution_count": 546,
   "id": "c9c73961",
   "metadata": {},
   "outputs": [
    {
     "data": {
      "text/plain": [
       "51"
      ]
     },
     "execution_count": 546,
     "metadata": {},
     "output_type": "execute_result"
    }
   ],
   "source": [
    "f.write('hare krishna hare krishna krishna krishna hare hare')"
   ]
  },
  {
   "cell_type": "code",
   "execution_count": 547,
   "id": "1d875112",
   "metadata": {},
   "outputs": [],
   "source": [
    "f.close()"
   ]
  },
  {
   "cell_type": "code",
   "execution_count": 549,
   "id": "098260cf",
   "metadata": {},
   "outputs": [],
   "source": [
    "f = open('test.txt', 'r')"
   ]
  },
  {
   "cell_type": "code",
   "execution_count": 550,
   "id": "6f3a1fe6",
   "metadata": {},
   "outputs": [
    {
     "data": {
      "text/plain": [
       "'hare krishna hare krishna krishna krishna hare hare'"
      ]
     },
     "execution_count": 550,
     "metadata": {},
     "output_type": "execute_result"
    }
   ],
   "source": [
    "f.read()"
   ]
  },
  {
   "cell_type": "code",
   "execution_count": 551,
   "id": "44ac722c",
   "metadata": {},
   "outputs": [],
   "source": [
    "f.close()"
   ]
  },
  {
   "cell_type": "code",
   "execution_count": 552,
   "id": "dd4d8677",
   "metadata": {},
   "outputs": [],
   "source": [
    "import os"
   ]
  },
  {
   "cell_type": "code",
   "execution_count": 554,
   "id": "12ab8b8a",
   "metadata": {},
   "outputs": [
    {
     "data": {
      "text/plain": [
       "['.ipynb_checkpoints',\n",
       " 'Abstraction.ipynb',\n",
       " 'Accenture_practice.ipynb',\n",
       " 'All_in_one_python.ipynb',\n",
       " 'Class Method.ipynb',\n",
       " 'decorator.ipynb',\n",
       " 'Dender Method.ipynb',\n",
       " 'Encapsulation.ipynb',\n",
       " 'Property Decorator.ipynb',\n",
       " 'Python_coding_interview_questions.ipynb',\n",
       " 'Static Method.ipynb',\n",
       " 'test.txt',\n",
       " 'Untitled.ipynb']"
      ]
     },
     "execution_count": 554,
     "metadata": {},
     "output_type": "execute_result"
    }
   ],
   "source": [
    "os.listdir()"
   ]
  },
  {
   "cell_type": "code",
   "execution_count": 555,
   "id": "b9f8efcf",
   "metadata": {},
   "outputs": [
    {
     "name": "stdout",
     "output_type": "stream",
     "text": [
      "Abstraction.ipynb\n",
      "Accenture_practice.ipynb\n",
      "All_in_one_python.ipynb\n",
      "Class Method.ipynb\n",
      "decorator.ipynb\n",
      "Dender Method.ipynb\n",
      "Encapsulation.ipynb\n",
      "Property Decorator.ipynb\n",
      "Python_coding_interview_questions.ipynb\n",
      "Static Method.ipynb\n",
      "Untitled.ipynb\n"
     ]
    }
   ],
   "source": [
    "for i in os.listdir():\n",
    "    if i.endswith('.ipynb'):\n",
    "        print(i)"
   ]
  },
  {
   "cell_type": "code",
   "execution_count": 556,
   "id": "247470d7",
   "metadata": {},
   "outputs": [
    {
     "ename": "ZeroDivisionError",
     "evalue": "division by zero",
     "output_type": "error",
     "traceback": [
      "\u001b[1;31m---------------------------------------------------------------------------\u001b[0m",
      "\u001b[1;31mZeroDivisionError\u001b[0m                         Traceback (most recent call last)",
      "\u001b[1;32mC:\\Users\\RAKSHA~1\\AppData\\Local\\Temp/ipykernel_12216/2874912419.py\u001b[0m in \u001b[0;36m<module>\u001b[1;34m\u001b[0m\n\u001b[1;32m----> 1\u001b[1;33m \u001b[1;36m5\u001b[0m\u001b[1;33m/\u001b[0m\u001b[1;36m0\u001b[0m\u001b[1;33m\u001b[0m\u001b[1;33m\u001b[0m\u001b[0m\n\u001b[0m",
      "\u001b[1;31mZeroDivisionError\u001b[0m: division by zero"
     ]
    }
   ],
   "source": [
    "5/0"
   ]
  },
  {
   "cell_type": "code",
   "execution_count": 557,
   "id": "0a72f912",
   "metadata": {},
   "outputs": [
    {
     "name": "stdout",
     "output_type": "stream",
     "text": [
      "division by zero\n"
     ]
    }
   ],
   "source": [
    "try:\n",
    "    a = 5\n",
    "    b = 0\n",
    "    \n",
    "    c = a/b\n",
    "    \n",
    "    print(c)\n",
    "\n",
    "except Exception as e:\n",
    "    print(e)"
   ]
  },
  {
   "cell_type": "code",
   "execution_count": 560,
   "id": "876218b1",
   "metadata": {},
   "outputs": [
    {
     "name": "stdout",
     "output_type": "stream",
     "text": [
      "not writable\n"
     ]
    }
   ],
   "source": [
    "try:\n",
    "    f = open(\"test.txt\", 'r')\n",
    "    f.write('hare krishna')\n",
    "except Exception as e:\n",
    "    print(e)"
   ]
  },
  {
   "cell_type": "code",
   "execution_count": 561,
   "id": "44662160",
   "metadata": {},
   "outputs": [
    {
     "name": "stdout",
     "output_type": "stream",
     "text": [
      "own exception has raised successfully\n"
     ]
    },
    {
     "ename": "Exception",
     "evalue": "index out of range",
     "output_type": "error",
     "traceback": [
      "\u001b[1;31m---------------------------------------------------------------------------\u001b[0m",
      "\u001b[1;31mException\u001b[0m                                 Traceback (most recent call last)",
      "\u001b[1;32mC:\\Users\\RAKSHA~1\\AppData\\Local\\Temp/ipykernel_12216/2745039655.py\u001b[0m in \u001b[0;36m<module>\u001b[1;34m\u001b[0m\n\u001b[0;32m      6\u001b[0m         \u001b[1;32mreturn\u001b[0m \u001b[0ml1\u001b[0m\u001b[1;33m\u001b[0m\u001b[1;33m\u001b[0m\u001b[0m\n\u001b[0;32m      7\u001b[0m \u001b[1;33m\u001b[0m\u001b[0m\n\u001b[1;32m----> 8\u001b[1;33m     \u001b[1;32mraise\u001b[0m \u001b[0mException\u001b[0m\u001b[1;33m(\u001b[0m\u001b[1;34m\"index out of range\"\u001b[0m\u001b[1;33m)\u001b[0m\u001b[1;33m\u001b[0m\u001b[1;33m\u001b[0m\u001b[0m\n\u001b[0m\u001b[0;32m      9\u001b[0m \u001b[1;33m\u001b[0m\u001b[0m\n\u001b[0;32m     10\u001b[0m \u001b[1;32mfinally\u001b[0m \u001b[1;33m:\u001b[0m\u001b[1;33m\u001b[0m\u001b[1;33m\u001b[0m\u001b[0m\n",
      "\u001b[1;31mException\u001b[0m: index out of range"
     ]
    }
   ],
   "source": [
    "try:\n",
    "    def demo(l):\n",
    "        l1 = []\n",
    "        for i in range(len(l)+1):\n",
    "            l1.append(i**2)\n",
    "        return l1\n",
    "    \n",
    "    raise Exception(\"index out of range\")\n",
    "\n",
    "finally :\n",
    "    print('own exception has raised successfully')\n",
    "            "
   ]
  },
  {
   "cell_type": "code",
   "execution_count": 563,
   "id": "75046e78",
   "metadata": {},
   "outputs": [],
   "source": [
    "class car:\n",
    "    def __init__(self, brand_name, fuel_type,body_type):\n",
    "        self.brand_name = brand_name\n",
    "        self.fuel_type = fuel_type\n",
    "        self.body_type = body_type\n",
    "        \n",
    "    def desc_car(self):\n",
    "        print(self.brand_name , self.fuel_type, self.body_type)\n",
    "        \n",
    "        \n",
    "        "
   ]
  },
  {
   "cell_type": "code",
   "execution_count": 567,
   "id": "115094fc",
   "metadata": {},
   "outputs": [],
   "source": [
    "n1 = car('toyota', 'petrol', 'suv')"
   ]
  },
  {
   "cell_type": "code",
   "execution_count": 568,
   "id": "dff453b0",
   "metadata": {},
   "outputs": [
    {
     "data": {
      "text/plain": [
       "'suv'"
      ]
     },
     "execution_count": 568,
     "metadata": {},
     "output_type": "execute_result"
    }
   ],
   "source": [
    "n1.body_type"
   ]
  },
  {
   "cell_type": "code",
   "execution_count": 570,
   "id": "e3b74e72",
   "metadata": {},
   "outputs": [
    {
     "name": "stdout",
     "output_type": "stream",
     "text": [
      "toyota petrol suv\n"
     ]
    }
   ],
   "source": [
    "n1.desc_car()"
   ]
  },
  {
   "cell_type": "code",
   "execution_count": 585,
   "id": "9b54c50c",
   "metadata": {},
   "outputs": [],
   "source": [
    "class list_parser:\n",
    "    \n",
    "    def __init__(self,l):\n",
    "        self.l = l\n",
    "        \n",
    "    def reverse_list(self):\n",
    "        l1= []\n",
    "        for i in range(len(self.l),0,-1):\n",
    "            l1.append(i)\n",
    "        return l1\n",
    "    \n",
    "    def square_list(self):\n",
    "        l1 = []\n",
    "        for i in range(len(self.l)):\n",
    "            l1.append(i**2)\n",
    "        return l1\n",
    "            "
   ]
  },
  {
   "cell_type": "code",
   "execution_count": 586,
   "id": "9c8ac983",
   "metadata": {},
   "outputs": [],
   "source": [
    "n1 = list_parser([1,2,3,4,5,6])"
   ]
  },
  {
   "cell_type": "code",
   "execution_count": 587,
   "id": "cc28ff50",
   "metadata": {},
   "outputs": [
    {
     "data": {
      "text/plain": [
       "[6, 5, 4, 3, 2, 1]"
      ]
     },
     "execution_count": 587,
     "metadata": {},
     "output_type": "execute_result"
    }
   ],
   "source": [
    "n1.reverse_list()"
   ]
  },
  {
   "cell_type": "code",
   "execution_count": 588,
   "id": "574f3629",
   "metadata": {},
   "outputs": [
    {
     "data": {
      "text/plain": [
       "[0, 1, 4, 9, 16, 25]"
      ]
     },
     "execution_count": 588,
     "metadata": {},
     "output_type": "execute_result"
    }
   ],
   "source": [
    "n1.square_list()"
   ]
  },
  {
   "cell_type": "code",
   "execution_count": 572,
   "id": "31b1a618",
   "metadata": {},
   "outputs": [],
   "source": [
    "l = [1,2,3,4,5,6]"
   ]
  },
  {
   "cell_type": "code",
   "execution_count": 589,
   "id": "4c810c2e",
   "metadata": {},
   "outputs": [
    {
     "name": "stdout",
     "output_type": "stream",
     "text": [
      "6\n",
      "5\n",
      "4\n",
      "3\n",
      "2\n",
      "1\n"
     ]
    }
   ],
   "source": [
    "for i in range(len(l),0,-1):\n",
    "    print(i)"
   ]
  },
  {
   "cell_type": "code",
   "execution_count": 616,
   "id": "7cc0cc86",
   "metadata": {},
   "outputs": [],
   "source": [
    "import abc\n",
    "\n",
    "class skills:\n",
    "    \n",
    "    @abc.abstractmethod\n",
    "    def student_details(self):\n",
    "        return \" skills deatisls\"\n",
    "    \n",
    "    @abc.abstractmethod\n",
    "    def student_assignment(self):\n",
    "        pass\n",
    "    \n",
    "    @abc.abstractmethod\n",
    "    def student_marks(self):\n",
    "        pass"
   ]
  },
  {
   "cell_type": "code",
   "execution_count": 617,
   "id": "61a1f02a",
   "metadata": {},
   "outputs": [],
   "source": [
    "class data_science(skills):\n",
    "    \n",
    "    def student_details(self):\n",
    "        return \"It will return a details of data science master\"\n",
    "    \n",
    "    def student_assignment(self):\n",
    "        return \"It will rerutn assignment of data science\""
   ]
  },
  {
   "cell_type": "code",
   "execution_count": 618,
   "id": "3051bb53",
   "metadata": {},
   "outputs": [],
   "source": [
    "class web_dev(skills):\n",
    "    \n",
    "    def student_assignment(self):\n",
    "        return \"web dev ass\"\n",
    "    \n",
    "    def student_details(self):\n",
    "        return \"web dev\""
   ]
  },
  {
   "cell_type": "code",
   "execution_count": 619,
   "id": "4f0305af",
   "metadata": {},
   "outputs": [],
   "source": [
    "wb = web_dev()"
   ]
  },
  {
   "cell_type": "code",
   "execution_count": 620,
   "id": "18f636a6",
   "metadata": {},
   "outputs": [
    {
     "data": {
      "text/plain": [
       "'web dev ass'"
      ]
     },
     "execution_count": 620,
     "metadata": {},
     "output_type": "execute_result"
    }
   ],
   "source": [
    "wb.student_assignment()"
   ]
  },
  {
   "cell_type": "code",
   "execution_count": 621,
   "id": "797ccbf5",
   "metadata": {},
   "outputs": [],
   "source": [
    "ds = data_science()"
   ]
  },
  {
   "cell_type": "code",
   "execution_count": 622,
   "id": "6baf8b76",
   "metadata": {},
   "outputs": [
    {
     "data": {
      "text/plain": [
       "'It will rerutn assignment of data science'"
      ]
     },
     "execution_count": 622,
     "metadata": {},
     "output_type": "execute_result"
    }
   ],
   "source": [
    "ds.student_assignment()"
   ]
  },
  {
   "cell_type": "code",
   "execution_count": 623,
   "id": "4752d917",
   "metadata": {},
   "outputs": [],
   "source": [
    "n1 = skills()"
   ]
  },
  {
   "cell_type": "code",
   "execution_count": 624,
   "id": "f8c1d71c",
   "metadata": {},
   "outputs": [],
   "source": [
    "n1.student_assignment()"
   ]
  },
  {
   "cell_type": "code",
   "execution_count": 625,
   "id": "afab12dc",
   "metadata": {},
   "outputs": [
    {
     "data": {
      "text/plain": [
       "' skills deatisls'"
      ]
     },
     "execution_count": 625,
     "metadata": {},
     "output_type": "execute_result"
    }
   ],
   "source": [
    "n1.student_details()"
   ]
  },
  {
   "cell_type": "code",
   "execution_count": 626,
   "id": "82a738b3",
   "metadata": {},
   "outputs": [
    {
     "data": {
      "text/plain": [
       "'E:\\\\Python_Practice\\\\03-08-2024'"
      ]
     },
     "execution_count": 626,
     "metadata": {},
     "output_type": "execute_result"
    }
   ],
   "source": [
    "pwd()"
   ]
  },
  {
   "cell_type": "code",
   "execution_count": 2,
   "id": "40e3a061",
   "metadata": {},
   "outputs": [],
   "source": [
    "s = \"sudh\""
   ]
  },
  {
   "cell_type": "code",
   "execution_count": 3,
   "id": "380a2402",
   "metadata": {},
   "outputs": [
    {
     "data": {
      "text/plain": [
       "str"
      ]
     },
     "execution_count": 3,
     "metadata": {},
     "output_type": "execute_result"
    }
   ],
   "source": [
    "type(s)"
   ]
  },
  {
   "cell_type": "code",
   "execution_count": 4,
   "id": "3d96b311",
   "metadata": {},
   "outputs": [
    {
     "data": {
      "text/plain": [
       "'s'"
      ]
     },
     "execution_count": 4,
     "metadata": {},
     "output_type": "execute_result"
    }
   ],
   "source": [
    "s[0]"
   ]
  },
  {
   "cell_type": "code",
   "execution_count": 5,
   "id": "23fc03fa",
   "metadata": {},
   "outputs": [
    {
     "data": {
      "text/plain": [
       "'u'"
      ]
     },
     "execution_count": 5,
     "metadata": {},
     "output_type": "execute_result"
    }
   ],
   "source": [
    "s[1]"
   ]
  },
  {
   "cell_type": "code",
   "execution_count": 6,
   "id": "26a1e0e4",
   "metadata": {},
   "outputs": [
    {
     "data": {
      "text/plain": [
       "'h'"
      ]
     },
     "execution_count": 6,
     "metadata": {},
     "output_type": "execute_result"
    }
   ],
   "source": [
    "s[-1]"
   ]
  },
  {
   "cell_type": "code",
   "execution_count": 7,
   "id": "0d9719b5",
   "metadata": {},
   "outputs": [
    {
     "data": {
      "text/plain": [
       "'hdus'"
      ]
     },
     "execution_count": 7,
     "metadata": {},
     "output_type": "execute_result"
    }
   ],
   "source": [
    "s[::-1]"
   ]
  },
  {
   "cell_type": "code",
   "execution_count": 8,
   "id": "2ae408a1",
   "metadata": {},
   "outputs": [],
   "source": [
    "a = \"my name is Radha\""
   ]
  },
  {
   "cell_type": "code",
   "execution_count": 9,
   "id": "905cfe50",
   "metadata": {},
   "outputs": [
    {
     "data": {
      "text/plain": [
       "'m'"
      ]
     },
     "execution_count": 9,
     "metadata": {},
     "output_type": "execute_result"
    }
   ],
   "source": [
    "a[0]"
   ]
  },
  {
   "cell_type": "code",
   "execution_count": 10,
   "id": "32ed41bb",
   "metadata": {},
   "outputs": [
    {
     "data": {
      "text/plain": [
       "'a'"
      ]
     },
     "execution_count": 10,
     "metadata": {},
     "output_type": "execute_result"
    }
   ],
   "source": [
    "a[-1]"
   ]
  },
  {
   "cell_type": "code",
   "execution_count": 11,
   "id": "8513cee5",
   "metadata": {},
   "outputs": [
    {
     "ename": "IndexError",
     "evalue": "string index out of range",
     "output_type": "error",
     "traceback": [
      "\u001b[1;31m---------------------------------------------------------------------------\u001b[0m",
      "\u001b[1;31mIndexError\u001b[0m                                Traceback (most recent call last)",
      "\u001b[1;32mC:\\Users\\RAKSHA~1\\AppData\\Local\\Temp/ipykernel_25124/3418884185.py\u001b[0m in \u001b[0;36m<module>\u001b[1;34m\u001b[0m\n\u001b[1;32m----> 1\u001b[1;33m \u001b[0ma\u001b[0m\u001b[1;33m[\u001b[0m\u001b[1;36m100\u001b[0m\u001b[1;33m]\u001b[0m\u001b[1;33m\u001b[0m\u001b[1;33m\u001b[0m\u001b[0m\n\u001b[0m",
      "\u001b[1;31mIndexError\u001b[0m: string index out of range"
     ]
    }
   ],
   "source": [
    "a[100]"
   ]
  },
  {
   "cell_type": "code",
   "execution_count": 12,
   "id": "b91f9451",
   "metadata": {},
   "outputs": [
    {
     "data": {
      "text/plain": [
       "'m'"
      ]
     },
     "execution_count": 12,
     "metadata": {},
     "output_type": "execute_result"
    }
   ],
   "source": [
    "a[::100]"
   ]
  },
  {
   "cell_type": "code",
   "execution_count": 13,
   "id": "05d4fc95",
   "metadata": {},
   "outputs": [
    {
     "data": {
      "text/plain": [
       "'y'"
      ]
     },
     "execution_count": 13,
     "metadata": {},
     "output_type": "execute_result"
    }
   ],
   "source": [
    "a[1:-2:100]"
   ]
  },
  {
   "cell_type": "code",
   "execution_count": 14,
   "id": "d436938c",
   "metadata": {},
   "outputs": [
    {
     "data": {
      "text/plain": [
       "'my name is Radha'"
      ]
     },
     "execution_count": 14,
     "metadata": {},
     "output_type": "execute_result"
    }
   ],
   "source": [
    "a"
   ]
  },
  {
   "cell_type": "code",
   "execution_count": 17,
   "id": "f4f48a30",
   "metadata": {},
   "outputs": [
    {
     "data": {
      "text/plain": [
       "'m a'"
      ]
     },
     "execution_count": 17,
     "metadata": {},
     "output_type": "execute_result"
    }
   ],
   "source": [
    "a[0:5:2]"
   ]
  },
  {
   "cell_type": "code",
   "execution_count": 18,
   "id": "7080f29d",
   "metadata": {},
   "outputs": [],
   "source": [
    "b = \"ineuron\""
   ]
  },
  {
   "cell_type": "code",
   "execution_count": 19,
   "id": "f0015a2a",
   "metadata": {},
   "outputs": [
    {
     "data": {
      "text/plain": [
       "'ine'"
      ]
     },
     "execution_count": 19,
     "metadata": {},
     "output_type": "execute_result"
    }
   ],
   "source": [
    "b[0:3]"
   ]
  },
  {
   "cell_type": "code",
   "execution_count": 20,
   "id": "5eabb3d4",
   "metadata": {},
   "outputs": [
    {
     "ename": "IndexError",
     "evalue": "string index out of range",
     "output_type": "error",
     "traceback": [
      "\u001b[1;31m---------------------------------------------------------------------------\u001b[0m",
      "\u001b[1;31mIndexError\u001b[0m                                Traceback (most recent call last)",
      "\u001b[1;32mC:\\Users\\RAKSHA~1\\AppData\\Local\\Temp/ipykernel_25124/3371902095.py\u001b[0m in \u001b[0;36m<module>\u001b[1;34m\u001b[0m\n\u001b[1;32m----> 1\u001b[1;33m \u001b[0mb\u001b[0m\u001b[1;33m[\u001b[0m\u001b[1;33m-\u001b[0m\u001b[1;36m100\u001b[0m\u001b[1;33m]\u001b[0m\u001b[1;33m\u001b[0m\u001b[1;33m\u001b[0m\u001b[0m\n\u001b[0m",
      "\u001b[1;31mIndexError\u001b[0m: string index out of range"
     ]
    }
   ],
   "source": [
    "b[-100]"
   ]
  },
  {
   "cell_type": "code",
   "execution_count": 21,
   "id": "423dbfa6",
   "metadata": {},
   "outputs": [
    {
     "data": {
      "text/plain": [
       "''"
      ]
     },
     "execution_count": 21,
     "metadata": {},
     "output_type": "execute_result"
    }
   ],
   "source": [
    "b[-1:-4]"
   ]
  },
  {
   "cell_type": "code",
   "execution_count": 22,
   "id": "97a7b06d",
   "metadata": {},
   "outputs": [],
   "source": [
    "a = \"kumar\""
   ]
  },
  {
   "cell_type": "code",
   "execution_count": 23,
   "id": "3f3491b7",
   "metadata": {},
   "outputs": [
    {
     "data": {
      "text/plain": [
       "'kumar'"
      ]
     },
     "execution_count": 23,
     "metadata": {},
     "output_type": "execute_result"
    }
   ],
   "source": [
    "a[0:300]"
   ]
  },
  {
   "cell_type": "code",
   "execution_count": 24,
   "id": "0b673304",
   "metadata": {},
   "outputs": [
    {
     "data": {
      "text/plain": [
       "'kmr'"
      ]
     },
     "execution_count": 24,
     "metadata": {},
     "output_type": "execute_result"
    }
   ],
   "source": [
    "a[0:300:2]"
   ]
  },
  {
   "cell_type": "code",
   "execution_count": 27,
   "id": "f00fe7e4",
   "metadata": {},
   "outputs": [
    {
     "data": {
      "text/plain": [
       "'ramuk'"
      ]
     },
     "execution_count": 27,
     "metadata": {},
     "output_type": "execute_result"
    }
   ],
   "source": [
    "a[-1:-100:-1]"
   ]
  },
  {
   "cell_type": "code",
   "execution_count": 29,
   "id": "0dcbb3c1",
   "metadata": {},
   "outputs": [
    {
     "data": {
      "text/plain": [
       "'ram'"
      ]
     },
     "execution_count": 29,
     "metadata": {},
     "output_type": "execute_result"
    }
   ],
   "source": [
    "a[-1:-4:-1]"
   ]
  },
  {
   "cell_type": "code",
   "execution_count": 30,
   "id": "29095383",
   "metadata": {},
   "outputs": [
    {
     "data": {
      "text/plain": [
       "'kumar'"
      ]
     },
     "execution_count": 30,
     "metadata": {},
     "output_type": "execute_result"
    }
   ],
   "source": [
    "a[::]"
   ]
  },
  {
   "cell_type": "code",
   "execution_count": 31,
   "id": "3c9b515d",
   "metadata": {},
   "outputs": [
    {
     "data": {
      "text/plain": [
       "'ar'"
      ]
     },
     "execution_count": 31,
     "metadata": {},
     "output_type": "execute_result"
    }
   ],
   "source": [
    "a[-2:]"
   ]
  },
  {
   "cell_type": "code",
   "execution_count": 32,
   "id": "cc623665",
   "metadata": {},
   "outputs": [
    {
     "data": {
      "text/plain": [
       "'a'"
      ]
     },
     "execution_count": 32,
     "metadata": {},
     "output_type": "execute_result"
    }
   ],
   "source": [
    "a[-2:-1]"
   ]
  },
  {
   "cell_type": "code",
   "execution_count": 33,
   "id": "ad25934a",
   "metadata": {},
   "outputs": [
    {
     "data": {
      "text/plain": [
       "'ramuk'"
      ]
     },
     "execution_count": 33,
     "metadata": {},
     "output_type": "execute_result"
    }
   ],
   "source": [
    "a[-1::-1]"
   ]
  },
  {
   "cell_type": "code",
   "execution_count": 34,
   "id": "b5f6d79f",
   "metadata": {},
   "outputs": [],
   "source": [
    "a = \"i am working with cg\""
   ]
  },
  {
   "cell_type": "code",
   "execution_count": 41,
   "id": "f4215dbc",
   "metadata": {},
   "outputs": [
    {
     "name": "stdout",
     "output_type": "stream",
     "text": [
      "gc htiw gnikrow ma i\n"
     ]
    }
   ],
   "source": [
    "b = \"\"\n",
    "for i in a:\n",
    "    b = i+b\n",
    "print(b)"
   ]
  },
  {
   "cell_type": "code",
   "execution_count": 42,
   "id": "d42f2506",
   "metadata": {},
   "outputs": [
    {
     "name": "stdout",
     "output_type": "stream",
     "text": [
      "olleH\n"
     ]
    }
   ],
   "source": [
    "def reverse_string(s):\n",
    "    reversed_string = \"\"  # Initialize an empty string to store the reversed result\n",
    "    index = len(s) - 1    # Start from the last index of the string\n",
    "    \n",
    "    while index >= 0:     # Loop until the index reaches the beginning of the string\n",
    "        reversed_string += s[index]  # Add the current character to 'reversed_string'\n",
    "        index -= 1        # Move to the previous character by decrementing the index\n",
    "    \n",
    "    return reversed_string  # Return the reversed string\n",
    "\n",
    "# Example usage:\n",
    "input_string = \"Hello\"\n",
    "print(reverse_string(input_string))  # Output: \"olleH\"\n"
   ]
  },
  {
   "cell_type": "code",
   "execution_count": 47,
   "id": "0508a741",
   "metadata": {},
   "outputs": [
    {
     "name": "stdout",
     "output_type": "stream",
     "text": [
      "gc htiw gnikrow ma i\n"
     ]
    }
   ],
   "source": [
    "a = \"i am working with cg\"\n",
    "b = \"\"\n",
    "i = len(a)-1\n",
    "while i>=0:\n",
    "    b = b+a[i]\n",
    "    i = i-1\n",
    "    \n",
    "print(b)"
   ]
  },
  {
   "cell_type": "code",
   "execution_count": 48,
   "id": "0e0b17a3",
   "metadata": {},
   "outputs": [
    {
     "data": {
      "text/plain": [
       "'sudhsudh'"
      ]
     },
     "execution_count": 48,
     "metadata": {},
     "output_type": "execute_result"
    }
   ],
   "source": [
    "\"sudh\"+\"sudh\""
   ]
  },
  {
   "cell_type": "code",
   "execution_count": 49,
   "id": "eda498ee",
   "metadata": {},
   "outputs": [
    {
     "data": {
      "text/plain": [
       "'sudhsudhsudh'"
      ]
     },
     "execution_count": 49,
     "metadata": {},
     "output_type": "execute_result"
    }
   ],
   "source": [
    "\"sudh\"*3"
   ]
  },
  {
   "cell_type": "code",
   "execution_count": 50,
   "id": "c2d1f402",
   "metadata": {},
   "outputs": [
    {
     "data": {
      "text/plain": [
       "'i am working with cg'"
      ]
     },
     "execution_count": 50,
     "metadata": {},
     "output_type": "execute_result"
    }
   ],
   "source": [
    "a"
   ]
  },
  {
   "cell_type": "code",
   "execution_count": 53,
   "id": "8fa00445",
   "metadata": {},
   "outputs": [
    {
     "name": "stdout",
     "output_type": "stream",
     "text": [
      "gc htiw gnikrow ma i\n"
     ]
    }
   ],
   "source": [
    "b  = \"\"\n",
    "for i in a:\n",
    "    b = i+b\n",
    "print(b)"
   ]
  },
  {
   "cell_type": "code",
   "execution_count": 54,
   "id": "942877f5",
   "metadata": {},
   "outputs": [
    {
     "data": {
      "text/plain": [
       "'i am working with cg'"
      ]
     },
     "execution_count": 54,
     "metadata": {},
     "output_type": "execute_result"
    }
   ],
   "source": [
    "a"
   ]
  },
  {
   "cell_type": "code",
   "execution_count": 55,
   "id": "2b9cd2b6",
   "metadata": {},
   "outputs": [
    {
     "data": {
      "text/plain": [
       "0"
      ]
     },
     "execution_count": 55,
     "metadata": {},
     "output_type": "execute_result"
    }
   ],
   "source": [
    "a.find('i')"
   ]
  },
  {
   "cell_type": "code",
   "execution_count": 64,
   "id": "1fc76581",
   "metadata": {},
   "outputs": [
    {
     "data": {
      "text/plain": [
       "3"
      ]
     },
     "execution_count": 64,
     "metadata": {},
     "output_type": "execute_result"
    }
   ],
   "source": [
    "a.count('i')"
   ]
  },
  {
   "cell_type": "code",
   "execution_count": 66,
   "id": "55642dbb",
   "metadata": {},
   "outputs": [
    {
     "data": {
      "text/plain": [
       "'i am working with cg'"
      ]
     },
     "execution_count": 66,
     "metadata": {},
     "output_type": "execute_result"
    }
   ],
   "source": [
    "a"
   ]
  },
  {
   "cell_type": "code",
   "execution_count": 67,
   "id": "03d8e8f6",
   "metadata": {},
   "outputs": [
    {
     "data": {
      "text/plain": [
       "['i', 'am', 'working', 'with', 'cg']"
      ]
     },
     "execution_count": 67,
     "metadata": {},
     "output_type": "execute_result"
    }
   ],
   "source": [
    "a.split()"
   ]
  },
  {
   "cell_type": "code",
   "execution_count": 74,
   "id": "622ce21d",
   "metadata": {},
   "outputs": [
    {
     "name": "stdout",
     "output_type": "stream",
     "text": [
      "0 i\n",
      "9 i\n",
      "14 i\n"
     ]
    }
   ],
   "source": [
    "for i ,j in enumerate(a):\n",
    "    if j == 'i':\n",
    "        print(i,j)"
   ]
  },
  {
   "cell_type": "code",
   "execution_count": 75,
   "id": "2d9367be",
   "metadata": {},
   "outputs": [],
   "source": [
    "l = a.split()"
   ]
  },
  {
   "cell_type": "code",
   "execution_count": 76,
   "id": "4a574c70",
   "metadata": {},
   "outputs": [
    {
     "data": {
      "text/plain": [
       "['i', 'am', 'working', 'with', 'cg']"
      ]
     },
     "execution_count": 76,
     "metadata": {},
     "output_type": "execute_result"
    }
   ],
   "source": [
    "l"
   ]
  },
  {
   "cell_type": "code",
   "execution_count": 77,
   "id": "bea63702",
   "metadata": {},
   "outputs": [
    {
     "data": {
      "text/plain": [
       "'i'"
      ]
     },
     "execution_count": 77,
     "metadata": {},
     "output_type": "execute_result"
    }
   ],
   "source": [
    "l[0]"
   ]
  },
  {
   "cell_type": "code",
   "execution_count": 78,
   "id": "50040322",
   "metadata": {},
   "outputs": [
    {
     "data": {
      "text/plain": [
       "['i', 'am', 'working']"
      ]
     },
     "execution_count": 78,
     "metadata": {},
     "output_type": "execute_result"
    }
   ],
   "source": [
    "l[0:3]"
   ]
  },
  {
   "cell_type": "code",
   "execution_count": 79,
   "id": "ec66c1e3",
   "metadata": {},
   "outputs": [
    {
     "data": {
      "text/plain": [
       "['i ', 'm working with cg']"
      ]
     },
     "execution_count": 79,
     "metadata": {},
     "output_type": "execute_result"
    }
   ],
   "source": [
    "a.split(sep = 'a')"
   ]
  },
  {
   "cell_type": "code",
   "execution_count": 81,
   "id": "a3d7ecfd",
   "metadata": {},
   "outputs": [
    {
     "data": {
      "text/plain": [
       "['i am ', 'orking ', 'ith cg']"
      ]
     },
     "execution_count": 81,
     "metadata": {},
     "output_type": "execute_result"
    }
   ],
   "source": [
    "a.split('w')"
   ]
  },
  {
   "cell_type": "code",
   "execution_count": 82,
   "id": "abfd3278",
   "metadata": {},
   "outputs": [
    {
     "data": {
      "text/plain": [
       "'I AM WORKING WITH CG'"
      ]
     },
     "execution_count": 82,
     "metadata": {},
     "output_type": "execute_result"
    }
   ],
   "source": [
    "a.upper()"
   ]
  },
  {
   "cell_type": "code",
   "execution_count": 83,
   "id": "3ab5b96b",
   "metadata": {},
   "outputs": [
    {
     "data": {
      "text/plain": [
       "'i am working with cg'"
      ]
     },
     "execution_count": 83,
     "metadata": {},
     "output_type": "execute_result"
    }
   ],
   "source": [
    "a.lower()"
   ]
  },
  {
   "cell_type": "code",
   "execution_count": 84,
   "id": "5cdbced6",
   "metadata": {},
   "outputs": [
    {
     "data": {
      "text/plain": [
       "'I Am Working With Cg'"
      ]
     },
     "execution_count": 84,
     "metadata": {},
     "output_type": "execute_result"
    }
   ],
   "source": [
    "a.title()"
   ]
  },
  {
   "cell_type": "code",
   "execution_count": 85,
   "id": "cd5a1bcf",
   "metadata": {},
   "outputs": [
    {
     "data": {
      "text/plain": [
       "'I AM WORKING WITH CG'"
      ]
     },
     "execution_count": 85,
     "metadata": {},
     "output_type": "execute_result"
    }
   ],
   "source": [
    "a.swapcase()"
   ]
  },
  {
   "cell_type": "code",
   "execution_count": 86,
   "id": "986d8acf",
   "metadata": {},
   "outputs": [
    {
     "data": {
      "text/plain": [
       "False"
      ]
     },
     "execution_count": 86,
     "metadata": {},
     "output_type": "execute_result"
    }
   ],
   "source": [
    "a.isspace()"
   ]
  },
  {
   "cell_type": "code",
   "execution_count": 88,
   "id": "10ed81a5",
   "metadata": {},
   "outputs": [
    {
     "data": {
      "text/plain": [
       "['i', 'am', 'working', 'with', 'cg']"
      ]
     },
     "execution_count": 88,
     "metadata": {},
     "output_type": "execute_result"
    }
   ],
   "source": [
    "l"
   ]
  },
  {
   "cell_type": "code",
   "execution_count": 90,
   "id": "30f3d3f5",
   "metadata": {},
   "outputs": [
    {
     "ename": "TypeError",
     "evalue": "can only concatenate list (not \"str\") to list",
     "output_type": "error",
     "traceback": [
      "\u001b[1;31m---------------------------------------------------------------------------\u001b[0m",
      "\u001b[1;31mTypeError\u001b[0m                                 Traceback (most recent call last)",
      "\u001b[1;32mC:\\Users\\RAKSHA~1\\AppData\\Local\\Temp/ipykernel_25124/4253538468.py\u001b[0m in \u001b[0;36m<module>\u001b[1;34m\u001b[0m\n\u001b[1;32m----> 1\u001b[1;33m \u001b[0ml\u001b[0m \u001b[1;33m+\u001b[0m \u001b[1;34m\"sudh\"\u001b[0m\u001b[1;33m\u001b[0m\u001b[1;33m\u001b[0m\u001b[0m\n\u001b[0m",
      "\u001b[1;31mTypeError\u001b[0m: can only concatenate list (not \"str\") to list"
     ]
    }
   ],
   "source": [
    "l + \"sudh\""
   ]
  },
  {
   "cell_type": "code",
   "execution_count": 91,
   "id": "b29258e1",
   "metadata": {},
   "outputs": [
    {
     "data": {
      "text/plain": [
       "['i', 'am', 'working', 'with', 'cg', 'sudh']"
      ]
     },
     "execution_count": 91,
     "metadata": {},
     "output_type": "execute_result"
    }
   ],
   "source": [
    "l + ['sudh']"
   ]
  },
  {
   "cell_type": "code",
   "execution_count": 92,
   "id": "e963523f",
   "metadata": {},
   "outputs": [
    {
     "data": {
      "text/plain": [
       "['i', 'am', 'working', 'with', 'cg', 'i', 'am', 'working', 'with', 'cg']"
      ]
     },
     "execution_count": 92,
     "metadata": {},
     "output_type": "execute_result"
    }
   ],
   "source": [
    "l*2"
   ]
  },
  {
   "cell_type": "code",
   "execution_count": 93,
   "id": "f7bcc2fc",
   "metadata": {},
   "outputs": [],
   "source": [
    "l[0] = \"Radha\""
   ]
  },
  {
   "cell_type": "code",
   "execution_count": 94,
   "id": "a6f4acc7",
   "metadata": {},
   "outputs": [
    {
     "data": {
      "text/plain": [
       "['Radha', 'am', 'working', 'with', 'cg']"
      ]
     },
     "execution_count": 94,
     "metadata": {},
     "output_type": "execute_result"
    }
   ],
   "source": [
    "l"
   ]
  },
  {
   "cell_type": "code",
   "execution_count": 96,
   "id": "f5cb7cf3",
   "metadata": {},
   "outputs": [
    {
     "data": {
      "text/plain": [
       "'Hari'"
      ]
     },
     "execution_count": 96,
     "metadata": {},
     "output_type": "execute_result"
    }
   ],
   "source": [
    "l[0].replace('Radha', 'Hari')"
   ]
  },
  {
   "cell_type": "code",
   "execution_count": 98,
   "id": "6be5a37d",
   "metadata": {},
   "outputs": [
    {
     "data": {
      "text/plain": [
       "['Radha', 'am', 'working', 'with', 'cg']"
      ]
     },
     "execution_count": 98,
     "metadata": {},
     "output_type": "execute_result"
    }
   ],
   "source": [
    "l"
   ]
  },
  {
   "cell_type": "code",
   "execution_count": 100,
   "id": "a8f9f9a1",
   "metadata": {},
   "outputs": [
    {
     "data": {
      "text/plain": [
       "'Radha'"
      ]
     },
     "execution_count": 100,
     "metadata": {},
     "output_type": "execute_result"
    }
   ],
   "source": [
    "l[0]"
   ]
  },
  {
   "cell_type": "code",
   "execution_count": 101,
   "id": "49a2b46b",
   "metadata": {},
   "outputs": [],
   "source": [
    "s = \"sudh\""
   ]
  },
  {
   "cell_type": "code",
   "execution_count": 104,
   "id": "71b1105b",
   "metadata": {},
   "outputs": [
    {
     "ename": "TypeError",
     "evalue": "'str' object does not support item assignment",
     "output_type": "error",
     "traceback": [
      "\u001b[1;31m---------------------------------------------------------------------------\u001b[0m",
      "\u001b[1;31mTypeError\u001b[0m                                 Traceback (most recent call last)",
      "\u001b[1;32mC:\\Users\\RAKSHA~1\\AppData\\Local\\Temp/ipykernel_25124/1146379809.py\u001b[0m in \u001b[0;36m<module>\u001b[1;34m\u001b[0m\n\u001b[1;32m----> 1\u001b[1;33m \u001b[0ms\u001b[0m\u001b[1;33m[\u001b[0m\u001b[1;36m0\u001b[0m\u001b[1;33m]\u001b[0m \u001b[1;33m=\u001b[0m \u001b[1;34m\"K\"\u001b[0m\u001b[1;33m\u001b[0m\u001b[1;33m\u001b[0m\u001b[0m\n\u001b[0m",
      "\u001b[1;31mTypeError\u001b[0m: 'str' object does not support item assignment"
     ]
    }
   ],
   "source": [
    "s[0] = \"K\""
   ]
  },
  {
   "cell_type": "code",
   "execution_count": 105,
   "id": "a61e553b",
   "metadata": {},
   "outputs": [
    {
     "ename": "TypeError",
     "evalue": "'str' object is not an iterator",
     "output_type": "error",
     "traceback": [
      "\u001b[1;31m---------------------------------------------------------------------------\u001b[0m",
      "\u001b[1;31mTypeError\u001b[0m                                 Traceback (most recent call last)",
      "\u001b[1;32mC:\\Users\\RAKSHA~1\\AppData\\Local\\Temp/ipykernel_25124/1977886155.py\u001b[0m in \u001b[0;36m<module>\u001b[1;34m\u001b[0m\n\u001b[1;32m----> 1\u001b[1;33m \u001b[0mnext\u001b[0m\u001b[1;33m(\u001b[0m\u001b[0ms\u001b[0m\u001b[1;33m)\u001b[0m\u001b[1;33m\u001b[0m\u001b[1;33m\u001b[0m\u001b[0m\n\u001b[0m",
      "\u001b[1;31mTypeError\u001b[0m: 'str' object is not an iterator"
     ]
    }
   ],
   "source": [
    "next(s)"
   ]
  },
  {
   "cell_type": "code",
   "execution_count": 108,
   "id": "97e43458",
   "metadata": {},
   "outputs": [],
   "source": [
    "s = iter(s)"
   ]
  },
  {
   "cell_type": "code",
   "execution_count": 109,
   "id": "ab3fc0ef",
   "metadata": {},
   "outputs": [
    {
     "data": {
      "text/plain": [
       "'s'"
      ]
     },
     "execution_count": 109,
     "metadata": {},
     "output_type": "execute_result"
    }
   ],
   "source": [
    "next(s)"
   ]
  },
  {
   "cell_type": "code",
   "execution_count": 110,
   "id": "5cd516bb",
   "metadata": {},
   "outputs": [
    {
     "data": {
      "text/plain": [
       "'u'"
      ]
     },
     "execution_count": 110,
     "metadata": {},
     "output_type": "execute_result"
    }
   ],
   "source": [
    "next(s)"
   ]
  },
  {
   "cell_type": "code",
   "execution_count": 111,
   "id": "d08416e6",
   "metadata": {},
   "outputs": [
    {
     "data": {
      "text/plain": [
       "'d'"
      ]
     },
     "execution_count": 111,
     "metadata": {},
     "output_type": "execute_result"
    }
   ],
   "source": [
    "next(s)"
   ]
  },
  {
   "cell_type": "code",
   "execution_count": 112,
   "id": "7eafa7e9",
   "metadata": {},
   "outputs": [
    {
     "data": {
      "text/plain": [
       "'h'"
      ]
     },
     "execution_count": 112,
     "metadata": {},
     "output_type": "execute_result"
    }
   ],
   "source": [
    "next(s)"
   ]
  },
  {
   "cell_type": "code",
   "execution_count": 113,
   "id": "7c3fd9a9",
   "metadata": {},
   "outputs": [
    {
     "data": {
      "text/plain": [
       "'Radha'"
      ]
     },
     "execution_count": 113,
     "metadata": {},
     "output_type": "execute_result"
    }
   ],
   "source": [
    "l[0]"
   ]
  },
  {
   "cell_type": "code",
   "execution_count": 114,
   "id": "b6313c05",
   "metadata": {},
   "outputs": [
    {
     "data": {
      "text/plain": [
       "<str_iterator at 0x265c06d2190>"
      ]
     },
     "execution_count": 114,
     "metadata": {},
     "output_type": "execute_result"
    }
   ],
   "source": [
    "s"
   ]
  },
  {
   "cell_type": "code",
   "execution_count": 115,
   "id": "ff4f6a57",
   "metadata": {},
   "outputs": [],
   "source": [
    "s = \"sudh\""
   ]
  },
  {
   "cell_type": "code",
   "execution_count": 116,
   "id": "11e230f1",
   "metadata": {},
   "outputs": [
    {
     "data": {
      "text/plain": [
       "'vudh'"
      ]
     },
     "execution_count": 116,
     "metadata": {},
     "output_type": "execute_result"
    }
   ],
   "source": [
    "s.replace('s','v')"
   ]
  },
  {
   "cell_type": "code",
   "execution_count": 117,
   "id": "64d1d673",
   "metadata": {},
   "outputs": [
    {
     "data": {
      "text/plain": [
       "['Radha', 'am', 'working', 'with', 'cg']"
      ]
     },
     "execution_count": 117,
     "metadata": {},
     "output_type": "execute_result"
    }
   ],
   "source": [
    "l"
   ]
  },
  {
   "cell_type": "code",
   "execution_count": 118,
   "id": "6abeb410",
   "metadata": {},
   "outputs": [
    {
     "data": {
      "text/plain": [
       "False"
      ]
     },
     "execution_count": 118,
     "metadata": {},
     "output_type": "execute_result"
    }
   ],
   "source": [
    "'radha' in l"
   ]
  },
  {
   "cell_type": "code",
   "execution_count": 119,
   "id": "bc0194a6",
   "metadata": {},
   "outputs": [],
   "source": [
    "l.append('Hari')"
   ]
  },
  {
   "cell_type": "code",
   "execution_count": 120,
   "id": "a5d86229",
   "metadata": {},
   "outputs": [
    {
     "data": {
      "text/plain": [
       "['Radha', 'am', 'working', 'with', 'cg', 'Hari']"
      ]
     },
     "execution_count": 120,
     "metadata": {},
     "output_type": "execute_result"
    }
   ],
   "source": [
    "l"
   ]
  },
  {
   "cell_type": "code",
   "execution_count": 122,
   "id": "c15c0ff0",
   "metadata": {},
   "outputs": [],
   "source": [
    "l.remove('am')"
   ]
  },
  {
   "cell_type": "code",
   "execution_count": 123,
   "id": "c67e52ee",
   "metadata": {},
   "outputs": [
    {
     "data": {
      "text/plain": [
       "['Radha', 'working', 'with', 'cg', 'Hari']"
      ]
     },
     "execution_count": 123,
     "metadata": {},
     "output_type": "execute_result"
    }
   ],
   "source": [
    "l"
   ]
  },
  {
   "cell_type": "code",
   "execution_count": 124,
   "id": "464e1b01",
   "metadata": {},
   "outputs": [
    {
     "data": {
      "text/plain": [
       "'Hari'"
      ]
     },
     "execution_count": 124,
     "metadata": {},
     "output_type": "execute_result"
    }
   ],
   "source": [
    "l.pop()"
   ]
  },
  {
   "cell_type": "code",
   "execution_count": 125,
   "id": "435305d8",
   "metadata": {},
   "outputs": [
    {
     "data": {
      "text/plain": [
       "'with'"
      ]
     },
     "execution_count": 125,
     "metadata": {},
     "output_type": "execute_result"
    }
   ],
   "source": [
    "l.pop(2)"
   ]
  },
  {
   "cell_type": "code",
   "execution_count": 126,
   "id": "d4368ef8",
   "metadata": {},
   "outputs": [
    {
     "data": {
      "text/plain": [
       "['Radha', 'working', 'cg']"
      ]
     },
     "execution_count": 126,
     "metadata": {},
     "output_type": "execute_result"
    }
   ],
   "source": [
    "l"
   ]
  },
  {
   "cell_type": "code",
   "execution_count": 127,
   "id": "1ab1c0c5",
   "metadata": {},
   "outputs": [],
   "source": [
    "l.insert(2,\"hari\")"
   ]
  },
  {
   "cell_type": "code",
   "execution_count": 128,
   "id": "223341de",
   "metadata": {},
   "outputs": [
    {
     "data": {
      "text/plain": [
       "['Radha', 'working', 'hari', 'cg']"
      ]
     },
     "execution_count": 128,
     "metadata": {},
     "output_type": "execute_result"
    }
   ],
   "source": [
    "l"
   ]
  },
  {
   "cell_type": "code",
   "execution_count": 129,
   "id": "43322bdd",
   "metadata": {},
   "outputs": [],
   "source": [
    "l2 = ['hare']"
   ]
  },
  {
   "cell_type": "code",
   "execution_count": 130,
   "id": "4af065ec",
   "metadata": {},
   "outputs": [],
   "source": [
    "l2.insert(2,['krishna', 'Radha'])"
   ]
  },
  {
   "cell_type": "code",
   "execution_count": 131,
   "id": "e2b9764d",
   "metadata": {},
   "outputs": [
    {
     "data": {
      "text/plain": [
       "['hare', ['krishna', 'Radha']]"
      ]
     },
     "execution_count": 131,
     "metadata": {},
     "output_type": "execute_result"
    }
   ],
   "source": [
    "l2"
   ]
  },
  {
   "cell_type": "code",
   "execution_count": 133,
   "id": "ad2516d1",
   "metadata": {},
   "outputs": [
    {
     "data": {
      "text/plain": [
       "['Radha', 'working', 'hari', 'cg']"
      ]
     },
     "execution_count": 133,
     "metadata": {},
     "output_type": "execute_result"
    }
   ],
   "source": [
    "l"
   ]
  },
  {
   "cell_type": "code",
   "execution_count": 134,
   "id": "c877248a",
   "metadata": {},
   "outputs": [],
   "source": [
    "l.reverse()"
   ]
  },
  {
   "cell_type": "code",
   "execution_count": 135,
   "id": "44e21774",
   "metadata": {},
   "outputs": [
    {
     "data": {
      "text/plain": [
       "['cg', 'hari', 'working', 'Radha']"
      ]
     },
     "execution_count": 135,
     "metadata": {},
     "output_type": "execute_result"
    }
   ],
   "source": [
    "l"
   ]
  },
  {
   "cell_type": "code",
   "execution_count": 136,
   "id": "03995b61",
   "metadata": {},
   "outputs": [
    {
     "data": {
      "text/plain": [
       "['hare', ['krishna', 'Radha']]"
      ]
     },
     "execution_count": 136,
     "metadata": {},
     "output_type": "execute_result"
    }
   ],
   "source": [
    "l2"
   ]
  },
  {
   "cell_type": "code",
   "execution_count": 140,
   "id": "05643147",
   "metadata": {},
   "outputs": [
    {
     "data": {
      "text/plain": [
       "'Radha'"
      ]
     },
     "execution_count": 140,
     "metadata": {},
     "output_type": "execute_result"
    }
   ],
   "source": [
    "l2[1][1]"
   ]
  },
  {
   "cell_type": "code",
   "execution_count": 141,
   "id": "4311cca3",
   "metadata": {},
   "outputs": [
    {
     "data": {
      "text/plain": [
       "['hare', ['krishna', 'Radha']]"
      ]
     },
     "execution_count": 141,
     "metadata": {},
     "output_type": "execute_result"
    }
   ],
   "source": [
    "l2"
   ]
  },
  {
   "cell_type": "code",
   "execution_count": 147,
   "id": "68b30f66",
   "metadata": {},
   "outputs": [
    {
     "data": {
      "text/plain": [
       "2"
      ]
     },
     "execution_count": 147,
     "metadata": {},
     "output_type": "execute_result"
    }
   ],
   "source": [
    "l.count('hari')"
   ]
  },
  {
   "cell_type": "code",
   "execution_count": 146,
   "id": "189c5626",
   "metadata": {},
   "outputs": [],
   "source": [
    "l.insert(2, 'hari')"
   ]
  },
  {
   "cell_type": "code",
   "execution_count": 148,
   "id": "aad1106f",
   "metadata": {},
   "outputs": [],
   "source": [
    "l2.append([2,3,4,5,6])"
   ]
  },
  {
   "cell_type": "code",
   "execution_count": 149,
   "id": "45cdce9d",
   "metadata": {},
   "outputs": [
    {
     "data": {
      "text/plain": [
       "['hare', ['krishna', 'Radha'], [2, 3, 4, 5, 6]]"
      ]
     },
     "execution_count": 149,
     "metadata": {},
     "output_type": "execute_result"
    }
   ],
   "source": [
    "l2"
   ]
  },
  {
   "cell_type": "code",
   "execution_count": 150,
   "id": "371e7d4a",
   "metadata": {},
   "outputs": [],
   "source": [
    "l2.extend([1,2,3,4,5,'Radharani', 'hare krishna'])"
   ]
  },
  {
   "cell_type": "code",
   "execution_count": 151,
   "id": "4f31774c",
   "metadata": {},
   "outputs": [
    {
     "data": {
      "text/plain": [
       "['hare',\n",
       " ['krishna', 'Radha'],\n",
       " [2, 3, 4, 5, 6],\n",
       " 1,\n",
       " 2,\n",
       " 3,\n",
       " 4,\n",
       " 5,\n",
       " 'Radharani',\n",
       " 'hare krishna']"
      ]
     },
     "execution_count": 151,
     "metadata": {},
     "output_type": "execute_result"
    }
   ],
   "source": [
    "l2"
   ]
  },
  {
   "cell_type": "code",
   "execution_count": 152,
   "id": "12bea681",
   "metadata": {},
   "outputs": [
    {
     "data": {
      "text/plain": [
       "'E:\\\\Python_Practice\\\\03-08-2024'"
      ]
     },
     "execution_count": 152,
     "metadata": {},
     "output_type": "execute_result"
    }
   ],
   "source": [
    "pwd()"
   ]
  },
  {
   "cell_type": "code",
   "execution_count": null,
   "id": "70ea1c67",
   "metadata": {},
   "outputs": [],
   "source": []
  }
 ],
 "metadata": {
  "kernelspec": {
   "display_name": "Python 3 (ipykernel)",
   "language": "python",
   "name": "python3"
  },
  "language_info": {
   "codemirror_mode": {
    "name": "ipython",
    "version": 3
   },
   "file_extension": ".py",
   "mimetype": "text/x-python",
   "name": "python",
   "nbconvert_exporter": "python",
   "pygments_lexer": "ipython3",
   "version": "3.9.7"
  }
 },
 "nbformat": 4,
 "nbformat_minor": 5
}
