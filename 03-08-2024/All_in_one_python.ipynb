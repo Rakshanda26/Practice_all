{
 "cells": [
  {
   "cell_type": "code",
   "execution_count": 1,
   "id": "810caea0",
   "metadata": {},
   "outputs": [
    {
     "name": "stdout",
     "output_type": "stream",
     "text": [
      "The Zen of Python, by Tim Peters\n",
      "\n",
      "Beautiful is better than ugly.\n",
      "Explicit is better than implicit.\n",
      "Simple is better than complex.\n",
      "Complex is better than complicated.\n",
      "Flat is better than nested.\n",
      "Sparse is better than dense.\n",
      "Readability counts.\n",
      "Special cases aren't special enough to break the rules.\n",
      "Although practicality beats purity.\n",
      "Errors should never pass silently.\n",
      "Unless explicitly silenced.\n",
      "In the face of ambiguity, refuse the temptation to guess.\n",
      "There should be one-- and preferably only one --obvious way to do it.\n",
      "Although that way may not be obvious at first unless you're Dutch.\n",
      "Now is better than never.\n",
      "Although never is often better than *right* now.\n",
      "If the implementation is hard to explain, it's a bad idea.\n",
      "If the implementation is easy to explain, it may be a good idea.\n",
      "Namespaces are one honking great idea -- let's do more of those!\n"
     ]
    }
   ],
   "source": [
    "import this"
   ]
  },
  {
   "cell_type": "code",
   "execution_count": 2,
   "id": "a7847af4",
   "metadata": {},
   "outputs": [
    {
     "name": "stdout",
     "output_type": "stream",
     "text": [
      "this is my python progra\n"
     ]
    }
   ],
   "source": [
    "print(\"this is my python progra\")"
   ]
  },
  {
   "cell_type": "code",
   "execution_count": 3,
   "id": "88828a3d",
   "metadata": {},
   "outputs": [
    {
     "data": {
      "text/plain": [
       "3"
      ]
     },
     "execution_count": 3,
     "metadata": {},
     "output_type": "execute_result"
    }
   ],
   "source": [
    "1+2"
   ]
  },
  {
   "cell_type": "code",
   "execution_count": 4,
   "id": "cf462761",
   "metadata": {},
   "outputs": [],
   "source": [
    "c = \"sudh\""
   ]
  },
  {
   "cell_type": "code",
   "execution_count": 5,
   "id": "8c150b55",
   "metadata": {},
   "outputs": [
    {
     "data": {
      "text/plain": [
       "str"
      ]
     },
     "execution_count": 5,
     "metadata": {},
     "output_type": "execute_result"
    }
   ],
   "source": [
    "type(c)"
   ]
  },
  {
   "cell_type": "code",
   "execution_count": 6,
   "id": "368c7b41",
   "metadata": {},
   "outputs": [],
   "source": [
    "d = 5+ 6j"
   ]
  },
  {
   "cell_type": "code",
   "execution_count": 7,
   "id": "24e68c2e",
   "metadata": {},
   "outputs": [
    {
     "data": {
      "text/plain": [
       "(5+6j)"
      ]
     },
     "execution_count": 7,
     "metadata": {},
     "output_type": "execute_result"
    }
   ],
   "source": [
    "d"
   ]
  },
  {
   "cell_type": "code",
   "execution_count": 8,
   "id": "24a7c372",
   "metadata": {},
   "outputs": [
    {
     "data": {
      "text/plain": [
       "complex"
      ]
     },
     "execution_count": 8,
     "metadata": {},
     "output_type": "execute_result"
    }
   ],
   "source": [
    "type(d)"
   ]
  },
  {
   "cell_type": "code",
   "execution_count": 10,
   "id": "cba6fc39",
   "metadata": {},
   "outputs": [
    {
     "data": {
      "text/plain": [
       "6.0"
      ]
     },
     "execution_count": 10,
     "metadata": {},
     "output_type": "execute_result"
    }
   ],
   "source": [
    "d.imag"
   ]
  },
  {
   "cell_type": "code",
   "execution_count": 11,
   "id": "010eb206",
   "metadata": {},
   "outputs": [
    {
     "data": {
      "text/plain": [
       "5.0"
      ]
     },
     "execution_count": 11,
     "metadata": {},
     "output_type": "execute_result"
    }
   ],
   "source": [
    "d.real"
   ]
  },
  {
   "cell_type": "code",
   "execution_count": 12,
   "id": "b274f7f0",
   "metadata": {},
   "outputs": [],
   "source": [
    "a = \"sudh\""
   ]
  },
  {
   "cell_type": "code",
   "execution_count": 14,
   "id": "800092f8",
   "metadata": {},
   "outputs": [
    {
     "ename": "TypeError",
     "evalue": "can only concatenate str (not \"int\") to str",
     "output_type": "error",
     "traceback": [
      "\u001b[1;31m---------------------------------------------------------------------------\u001b[0m",
      "\u001b[1;31mTypeError\u001b[0m                                 Traceback (most recent call last)",
      "\u001b[1;32mC:\\Users\\RAKSHA~1\\AppData\\Local\\Temp/ipykernel_17860/840261973.py\u001b[0m in \u001b[0;36m<module>\u001b[1;34m\u001b[0m\n\u001b[1;32m----> 1\u001b[1;33m \u001b[0ma\u001b[0m \u001b[1;33m+\u001b[0m\u001b[1;36m4\u001b[0m\u001b[1;33m\u001b[0m\u001b[1;33m\u001b[0m\u001b[0m\n\u001b[0m",
      "\u001b[1;31mTypeError\u001b[0m: can only concatenate str (not \"int\") to str"
     ]
    }
   ],
   "source": [
    "a +4"
   ]
  },
  {
   "cell_type": "code",
   "execution_count": 15,
   "id": "7ba777c0",
   "metadata": {},
   "outputs": [
    {
     "data": {
      "text/plain": [
       "'sudhsudh'"
      ]
     },
     "execution_count": 15,
     "metadata": {},
     "output_type": "execute_result"
    }
   ],
   "source": [
    "a +a "
   ]
  },
  {
   "cell_type": "code",
   "execution_count": 16,
   "id": "1cc22888",
   "metadata": {},
   "outputs": [
    {
     "data": {
      "text/plain": [
       "'sudh4'"
      ]
     },
     "execution_count": 16,
     "metadata": {},
     "output_type": "execute_result"
    }
   ],
   "source": [
    "a + str(4)"
   ]
  },
  {
   "cell_type": "code",
   "execution_count": 17,
   "id": "33b25756",
   "metadata": {},
   "outputs": [
    {
     "data": {
      "text/plain": [
       "2"
      ]
     },
     "execution_count": 17,
     "metadata": {},
     "output_type": "execute_result"
    }
   ],
   "source": [
    "True + True"
   ]
  },
  {
   "cell_type": "code",
   "execution_count": 19,
   "id": "503f4fca",
   "metadata": {},
   "outputs": [
    {
     "name": "stdout",
     "output_type": "stream",
     "text": [
      "56\n"
     ]
    }
   ],
   "source": [
    "a = input()"
   ]
  },
  {
   "cell_type": "code",
   "execution_count": 20,
   "id": "df74505d",
   "metadata": {},
   "outputs": [
    {
     "data": {
      "text/plain": [
       "str"
      ]
     },
     "execution_count": 20,
     "metadata": {},
     "output_type": "execute_result"
    }
   ],
   "source": [
    "type(a)"
   ]
  },
  {
   "cell_type": "code",
   "execution_count": 21,
   "id": "f378cda4",
   "metadata": {},
   "outputs": [
    {
     "data": {
      "text/plain": [
       "101"
      ]
     },
     "execution_count": 21,
     "metadata": {},
     "output_type": "execute_result"
    }
   ],
   "source": [
    "int(a)+ 45"
   ]
  },
  {
   "cell_type": "code",
   "execution_count": 22,
   "id": "258d0a55",
   "metadata": {},
   "outputs": [
    {
     "data": {
      "text/plain": [
       "2534630117872"
      ]
     },
     "execution_count": 22,
     "metadata": {},
     "output_type": "execute_result"
    }
   ],
   "source": [
    "id(a)"
   ]
  },
  {
   "cell_type": "code",
   "execution_count": 23,
   "id": "bb2bdd05",
   "metadata": {},
   "outputs": [],
   "source": [
    "s = \"sudh\""
   ]
  },
  {
   "cell_type": "code",
   "execution_count": 24,
   "id": "42240e95",
   "metadata": {},
   "outputs": [
    {
     "data": {
      "text/plain": [
       "str"
      ]
     },
     "execution_count": 24,
     "metadata": {},
     "output_type": "execute_result"
    }
   ],
   "source": [
    "type(s)"
   ]
  },
  {
   "cell_type": "code",
   "execution_count": 25,
   "id": "e88da1c2",
   "metadata": {},
   "outputs": [
    {
     "data": {
      "text/plain": [
       "'s'"
      ]
     },
     "execution_count": 25,
     "metadata": {},
     "output_type": "execute_result"
    }
   ],
   "source": [
    "s[0]"
   ]
  },
  {
   "cell_type": "code",
   "execution_count": 26,
   "id": "b3ca4ada",
   "metadata": {},
   "outputs": [
    {
     "data": {
      "text/plain": [
       "'hdus'"
      ]
     },
     "execution_count": 26,
     "metadata": {},
     "output_type": "execute_result"
    }
   ],
   "source": [
    "s[::-1]"
   ]
  },
  {
   "cell_type": "code",
   "execution_count": 30,
   "id": "d2cc9b6e",
   "metadata": {},
   "outputs": [
    {
     "name": "stdout",
     "output_type": "stream",
     "text": [
      "h\n",
      "d\n",
      "u\n",
      "s\n"
     ]
    }
   ],
   "source": [
    "for i in range(len(s)-1,-1,-1):\n",
    "    print(s[i])"
   ]
  },
  {
   "cell_type": "code",
   "execution_count": 31,
   "id": "a6703f64",
   "metadata": {},
   "outputs": [
    {
     "data": {
      "text/plain": [
       "4"
      ]
     },
     "execution_count": 31,
     "metadata": {},
     "output_type": "execute_result"
    }
   ],
   "source": [
    "len(s)"
   ]
  },
  {
   "cell_type": "code",
   "execution_count": 32,
   "id": "cf5bba65",
   "metadata": {},
   "outputs": [
    {
     "data": {
      "text/plain": [
       "'u'"
      ]
     },
     "execution_count": 32,
     "metadata": {},
     "output_type": "execute_result"
    }
   ],
   "source": [
    "s[1]"
   ]
  },
  {
   "cell_type": "code",
   "execution_count": 33,
   "id": "3fc04738",
   "metadata": {},
   "outputs": [
    {
     "data": {
      "text/plain": [
       "'s'"
      ]
     },
     "execution_count": 33,
     "metadata": {},
     "output_type": "execute_result"
    }
   ],
   "source": [
    "s[0]"
   ]
  },
  {
   "cell_type": "code",
   "execution_count": 34,
   "id": "ce060030",
   "metadata": {},
   "outputs": [
    {
     "data": {
      "text/plain": [
       "4"
      ]
     },
     "execution_count": 34,
     "metadata": {},
     "output_type": "execute_result"
    }
   ],
   "source": [
    "len(s)"
   ]
  },
  {
   "cell_type": "code",
   "execution_count": 38,
   "id": "da8ebfad",
   "metadata": {},
   "outputs": [
    {
     "name": "stdout",
     "output_type": "stream",
     "text": [
      "3\n",
      "2\n",
      "1\n",
      "0\n"
     ]
    }
   ],
   "source": [
    "for i in range(len(s)-1,-1,-1):\n",
    "    print(i)"
   ]
  },
  {
   "cell_type": "code",
   "execution_count": 42,
   "id": "c2d98452",
   "metadata": {},
   "outputs": [
    {
     "data": {
      "text/plain": [
       "'u'"
      ]
     },
     "execution_count": 42,
     "metadata": {},
     "output_type": "execute_result"
    }
   ],
   "source": [
    "s[-3]"
   ]
  },
  {
   "cell_type": "code",
   "execution_count": 43,
   "id": "ead76acf",
   "metadata": {},
   "outputs": [
    {
     "data": {
      "text/plain": [
       "'h'"
      ]
     },
     "execution_count": 43,
     "metadata": {},
     "output_type": "execute_result"
    }
   ],
   "source": [
    "s[-1]"
   ]
  },
  {
   "cell_type": "code",
   "execution_count": 44,
   "id": "3aed6dc1",
   "metadata": {},
   "outputs": [
    {
     "data": {
      "text/plain": [
       "'sudh'"
      ]
     },
     "execution_count": 44,
     "metadata": {},
     "output_type": "execute_result"
    }
   ],
   "source": [
    "s"
   ]
  },
  {
   "cell_type": "code",
   "execution_count": 45,
   "id": "119fddec",
   "metadata": {},
   "outputs": [
    {
     "data": {
      "text/plain": [
       "'s'"
      ]
     },
     "execution_count": 45,
     "metadata": {},
     "output_type": "execute_result"
    }
   ],
   "source": [
    "s[-4]"
   ]
  },
  {
   "cell_type": "code",
   "execution_count": 47,
   "id": "76bfcb26",
   "metadata": {},
   "outputs": [
    {
     "data": {
      "text/plain": [
       "'u'"
      ]
     },
     "execution_count": 47,
     "metadata": {},
     "output_type": "execute_result"
    }
   ],
   "source": [
    "s[1]"
   ]
  },
  {
   "cell_type": "code",
   "execution_count": 52,
   "id": "da1885ba",
   "metadata": {},
   "outputs": [
    {
     "ename": "TypeError",
     "evalue": "'int' object is not iterable",
     "output_type": "error",
     "traceback": [
      "\u001b[1;31m---------------------------------------------------------------------------\u001b[0m",
      "\u001b[1;31mTypeError\u001b[0m                                 Traceback (most recent call last)",
      "\u001b[1;32mC:\\Users\\RAKSHA~1\\AppData\\Local\\Temp/ipykernel_17860/356333120.py\u001b[0m in \u001b[0;36m<module>\u001b[1;34m\u001b[0m\n\u001b[0;32m      1\u001b[0m \u001b[0ms\u001b[0m \u001b[1;33m=\u001b[0m \u001b[1;34m\"sudh\"\u001b[0m\u001b[1;33m\u001b[0m\u001b[1;33m\u001b[0m\u001b[0m\n\u001b[1;32m----> 2\u001b[1;33m \u001b[1;32mfor\u001b[0m \u001b[0mi\u001b[0m \u001b[1;32min\u001b[0m \u001b[0mlen\u001b[0m\u001b[1;33m(\u001b[0m\u001b[0ms\u001b[0m\u001b[1;33m)\u001b[0m\u001b[1;33m:\u001b[0m\u001b[1;33m\u001b[0m\u001b[1;33m\u001b[0m\u001b[0m\n\u001b[0m\u001b[0;32m      3\u001b[0m     \u001b[0mprint\u001b[0m\u001b[1;33m(\u001b[0m\u001b[0mi\u001b[0m\u001b[1;33m)\u001b[0m\u001b[1;33m\u001b[0m\u001b[1;33m\u001b[0m\u001b[0m\n",
      "\u001b[1;31mTypeError\u001b[0m: 'int' object is not iterable"
     ]
    }
   ],
   "source": [
    "s = \"sudh\"\n",
    "for i in len(s):\n",
    "    print(i)"
   ]
  },
  {
   "cell_type": "code",
   "execution_count": 53,
   "id": "be1ae79f",
   "metadata": {},
   "outputs": [],
   "source": [
    "a = len(s)"
   ]
  },
  {
   "cell_type": "code",
   "execution_count": 54,
   "id": "a8d1ad52",
   "metadata": {},
   "outputs": [
    {
     "data": {
      "text/plain": [
       "4"
      ]
     },
     "execution_count": 54,
     "metadata": {},
     "output_type": "execute_result"
    }
   ],
   "source": [
    "a"
   ]
  },
  {
   "cell_type": "code",
   "execution_count": 55,
   "id": "61087405",
   "metadata": {},
   "outputs": [
    {
     "data": {
      "text/plain": [
       "int"
      ]
     },
     "execution_count": 55,
     "metadata": {},
     "output_type": "execute_result"
    }
   ],
   "source": [
    "type(a)"
   ]
  },
  {
   "cell_type": "code",
   "execution_count": 58,
   "id": "42d7ae52",
   "metadata": {},
   "outputs": [],
   "source": [
    "b = range(4)"
   ]
  },
  {
   "cell_type": "code",
   "execution_count": 59,
   "id": "0e1e65c5",
   "metadata": {},
   "outputs": [
    {
     "data": {
      "text/plain": [
       "range"
      ]
     },
     "execution_count": 59,
     "metadata": {},
     "output_type": "execute_result"
    }
   ],
   "source": [
    "type(b)"
   ]
  },
  {
   "cell_type": "code",
   "execution_count": 69,
   "id": "faf3af5c",
   "metadata": {},
   "outputs": [
    {
     "name": "stdout",
     "output_type": "stream",
     "text": [
      "3\n",
      "2\n",
      "1\n",
      "0\n"
     ]
    }
   ],
   "source": [
    "a = \"sudh\"\n",
    "for i in range(len(a)-1,-1,-1):\n",
    "    print(i)"
   ]
  },
  {
   "cell_type": "code",
   "execution_count": 71,
   "id": "c50c85eb",
   "metadata": {},
   "outputs": [
    {
     "data": {
      "text/plain": [
       "3"
      ]
     },
     "execution_count": 71,
     "metadata": {},
     "output_type": "execute_result"
    }
   ],
   "source": [
    "len(a)-1"
   ]
  },
  {
   "cell_type": "code",
   "execution_count": 72,
   "id": "4fce62ff",
   "metadata": {},
   "outputs": [
    {
     "data": {
      "text/plain": [
       "'s'"
      ]
     },
     "execution_count": 72,
     "metadata": {},
     "output_type": "execute_result"
    }
   ],
   "source": [
    "a[0]"
   ]
  },
  {
   "cell_type": "code",
   "execution_count": 73,
   "id": "991eb839",
   "metadata": {},
   "outputs": [
    {
     "data": {
      "text/plain": [
       "'sudh'"
      ]
     },
     "execution_count": 73,
     "metadata": {},
     "output_type": "execute_result"
    }
   ],
   "source": [
    "a[0:100]"
   ]
  },
  {
   "cell_type": "code",
   "execution_count": 74,
   "id": "704ec912",
   "metadata": {},
   "outputs": [
    {
     "ename": "IndexError",
     "evalue": "string index out of range",
     "output_type": "error",
     "traceback": [
      "\u001b[1;31m---------------------------------------------------------------------------\u001b[0m",
      "\u001b[1;31mIndexError\u001b[0m                                Traceback (most recent call last)",
      "\u001b[1;32mC:\\Users\\RAKSHA~1\\AppData\\Local\\Temp/ipykernel_17860/3418884185.py\u001b[0m in \u001b[0;36m<module>\u001b[1;34m\u001b[0m\n\u001b[1;32m----> 1\u001b[1;33m \u001b[0ma\u001b[0m\u001b[1;33m[\u001b[0m\u001b[1;36m100\u001b[0m\u001b[1;33m]\u001b[0m\u001b[1;33m\u001b[0m\u001b[1;33m\u001b[0m\u001b[0m\n\u001b[0m",
      "\u001b[1;31mIndexError\u001b[0m: string index out of range"
     ]
    }
   ],
   "source": [
    "a[100]"
   ]
  },
  {
   "cell_type": "code",
   "execution_count": 75,
   "id": "1a797bbf",
   "metadata": {},
   "outputs": [
    {
     "data": {
      "text/plain": [
       "'sudh'"
      ]
     },
     "execution_count": 75,
     "metadata": {},
     "output_type": "execute_result"
    }
   ],
   "source": [
    "a[0:100]"
   ]
  },
  {
   "cell_type": "code",
   "execution_count": 77,
   "id": "b353db9f",
   "metadata": {},
   "outputs": [
    {
     "data": {
      "text/plain": [
       "''"
      ]
     },
     "execution_count": 77,
     "metadata": {},
     "output_type": "execute_result"
    }
   ],
   "source": [
    "a[-1:-4]"
   ]
  },
  {
   "cell_type": "code",
   "execution_count": 81,
   "id": "84d5cf8d",
   "metadata": {},
   "outputs": [
    {
     "data": {
      "text/plain": [
       "'hdus'"
      ]
     },
     "execution_count": 81,
     "metadata": {},
     "output_type": "execute_result"
    }
   ],
   "source": [
    "a[-1:-5:-1]"
   ]
  },
  {
   "cell_type": "code",
   "execution_count": 79,
   "id": "9bb81044",
   "metadata": {},
   "outputs": [
    {
     "data": {
      "text/plain": [
       "'sudh'"
      ]
     },
     "execution_count": 79,
     "metadata": {},
     "output_type": "execute_result"
    }
   ],
   "source": [
    "a"
   ]
  },
  {
   "cell_type": "code",
   "execution_count": 82,
   "id": "84ff908f",
   "metadata": {},
   "outputs": [
    {
     "data": {
      "text/plain": [
       "''"
      ]
     },
     "execution_count": 82,
     "metadata": {},
     "output_type": "execute_result"
    }
   ],
   "source": [
    "a[0:4:-1]"
   ]
  },
  {
   "cell_type": "code",
   "execution_count": 83,
   "id": "d951515c",
   "metadata": {},
   "outputs": [
    {
     "data": {
      "text/plain": [
       "'sudh'"
      ]
     },
     "execution_count": 83,
     "metadata": {},
     "output_type": "execute_result"
    }
   ],
   "source": [
    "a[0:4:1]"
   ]
  },
  {
   "cell_type": "code",
   "execution_count": 84,
   "id": "e83c30a3",
   "metadata": {},
   "outputs": [
    {
     "data": {
      "text/plain": [
       "'hdus'"
      ]
     },
     "execution_count": 84,
     "metadata": {},
     "output_type": "execute_result"
    }
   ],
   "source": [
    "a[-1:-100:-1]"
   ]
  },
  {
   "cell_type": "code",
   "execution_count": 85,
   "id": "5ed3affc",
   "metadata": {},
   "outputs": [
    {
     "data": {
      "text/plain": [
       "'hdus'"
      ]
     },
     "execution_count": 85,
     "metadata": {},
     "output_type": "execute_result"
    }
   ],
   "source": [
    "a[-1::-1]"
   ]
  },
  {
   "cell_type": "code",
   "execution_count": 90,
   "id": "7da8cbeb",
   "metadata": {},
   "outputs": [
    {
     "name": "stdout",
     "output_type": "stream",
     "text": [
      "3\n",
      "2\n",
      "1\n",
      "0\n"
     ]
    }
   ],
   "source": [
    "for i in range(len(a)-1,-1,-1):\n",
    "    print(i)"
   ]
  },
  {
   "cell_type": "code",
   "execution_count": 91,
   "id": "37a8be64",
   "metadata": {},
   "outputs": [
    {
     "data": {
      "text/plain": [
       "'dh'"
      ]
     },
     "execution_count": 91,
     "metadata": {},
     "output_type": "execute_result"
    }
   ],
   "source": [
    "a[-2:]"
   ]
  },
  {
   "cell_type": "code",
   "execution_count": 92,
   "id": "7806db22",
   "metadata": {},
   "outputs": [
    {
     "data": {
      "text/plain": [
       "'hdus'"
      ]
     },
     "execution_count": 92,
     "metadata": {},
     "output_type": "execute_result"
    }
   ],
   "source": [
    "a[::-1]"
   ]
  },
  {
   "cell_type": "code",
   "execution_count": 93,
   "id": "96200237",
   "metadata": {},
   "outputs": [
    {
     "data": {
      "text/plain": [
       "'sudhsudhsudh'"
      ]
     },
     "execution_count": 93,
     "metadata": {},
     "output_type": "execute_result"
    }
   ],
   "source": [
    "\"sudh\" *3"
   ]
  },
  {
   "cell_type": "code",
   "execution_count": 94,
   "id": "d68f556f",
   "metadata": {},
   "outputs": [
    {
     "data": {
      "text/plain": [
       "-1"
      ]
     },
     "execution_count": 94,
     "metadata": {},
     "output_type": "execute_result"
    }
   ],
   "source": [
    "a.find('a')"
   ]
  },
  {
   "cell_type": "code",
   "execution_count": 95,
   "id": "91785647",
   "metadata": {},
   "outputs": [
    {
     "data": {
      "text/plain": [
       "2"
      ]
     },
     "execution_count": 95,
     "metadata": {},
     "output_type": "execute_result"
    }
   ],
   "source": [
    "a.find('dh')"
   ]
  },
  {
   "cell_type": "code",
   "execution_count": 96,
   "id": "bec22b52",
   "metadata": {},
   "outputs": [
    {
     "data": {
      "text/plain": [
       "-1"
      ]
     },
     "execution_count": 96,
     "metadata": {},
     "output_type": "execute_result"
    }
   ],
   "source": [
    "a.find('us')"
   ]
  },
  {
   "cell_type": "code",
   "execution_count": 97,
   "id": "34cb0087",
   "metadata": {},
   "outputs": [
    {
     "data": {
      "text/plain": [
       "-1"
      ]
     },
     "execution_count": 97,
     "metadata": {},
     "output_type": "execute_result"
    }
   ],
   "source": [
    "a.find('hh')"
   ]
  },
  {
   "cell_type": "code",
   "execution_count": 98,
   "id": "b2b0f50e",
   "metadata": {},
   "outputs": [
    {
     "data": {
      "text/plain": [
       "0"
      ]
     },
     "execution_count": 98,
     "metadata": {},
     "output_type": "execute_result"
    }
   ],
   "source": [
    "a.count('i')"
   ]
  },
  {
   "cell_type": "code",
   "execution_count": 99,
   "id": "4b74a9d9",
   "metadata": {},
   "outputs": [
    {
     "data": {
      "text/plain": [
       "1"
      ]
     },
     "execution_count": 99,
     "metadata": {},
     "output_type": "execute_result"
    }
   ],
   "source": [
    "a.count('s')"
   ]
  },
  {
   "cell_type": "code",
   "execution_count": 100,
   "id": "a458a62f",
   "metadata": {},
   "outputs": [],
   "source": [
    "a= 'I am working with cg'"
   ]
  },
  {
   "cell_type": "code",
   "execution_count": 101,
   "id": "007f7e02",
   "metadata": {},
   "outputs": [
    {
     "data": {
      "text/plain": [
       "['I', 'am', 'working', 'with', 'cg']"
      ]
     },
     "execution_count": 101,
     "metadata": {},
     "output_type": "execute_result"
    }
   ],
   "source": [
    "a.split()"
   ]
  },
  {
   "cell_type": "code",
   "execution_count": 102,
   "id": "b1fd9b11",
   "metadata": {},
   "outputs": [
    {
     "data": {
      "text/plain": [
       "list"
      ]
     },
     "execution_count": 102,
     "metadata": {},
     "output_type": "execute_result"
    }
   ],
   "source": [
    "type(a.split())"
   ]
  },
  {
   "cell_type": "code",
   "execution_count": 103,
   "id": "d8a3c659",
   "metadata": {},
   "outputs": [],
   "source": [
    "l = a.split()"
   ]
  },
  {
   "cell_type": "code",
   "execution_count": 104,
   "id": "6a1781e0",
   "metadata": {},
   "outputs": [
    {
     "data": {
      "text/plain": [
       "['I', 'am', 'working', 'with', 'cg']"
      ]
     },
     "execution_count": 104,
     "metadata": {},
     "output_type": "execute_result"
    }
   ],
   "source": [
    "l"
   ]
  },
  {
   "cell_type": "code",
   "execution_count": 105,
   "id": "c66e8116",
   "metadata": {},
   "outputs": [
    {
     "data": {
      "text/plain": [
       "'I'"
      ]
     },
     "execution_count": 105,
     "metadata": {},
     "output_type": "execute_result"
    }
   ],
   "source": [
    "l[0]"
   ]
  },
  {
   "cell_type": "code",
   "execution_count": 106,
   "id": "871f0d6d",
   "metadata": {},
   "outputs": [
    {
     "data": {
      "text/plain": [
       "['cg', 'with', 'working', 'am', 'I']"
      ]
     },
     "execution_count": 106,
     "metadata": {},
     "output_type": "execute_result"
    }
   ],
   "source": [
    "l[::-1]"
   ]
  },
  {
   "cell_type": "code",
   "execution_count": 107,
   "id": "f95905e9",
   "metadata": {},
   "outputs": [
    {
     "data": {
      "text/plain": [
       "'gc htiw gnikrow ma I'"
      ]
     },
     "execution_count": 107,
     "metadata": {},
     "output_type": "execute_result"
    }
   ],
   "source": [
    "a[-1::-1]"
   ]
  },
  {
   "cell_type": "code",
   "execution_count": 108,
   "id": "4af1f551",
   "metadata": {},
   "outputs": [
    {
     "data": {
      "text/plain": [
       "'I am working with cg'"
      ]
     },
     "execution_count": 108,
     "metadata": {},
     "output_type": "execute_result"
    }
   ],
   "source": [
    "a"
   ]
  },
  {
   "cell_type": "code",
   "execution_count": 109,
   "id": "c7a771a5",
   "metadata": {},
   "outputs": [
    {
     "data": {
      "text/plain": [
       "['I am ', 'rking with cg']"
      ]
     },
     "execution_count": 109,
     "metadata": {},
     "output_type": "execute_result"
    }
   ],
   "source": [
    "a.split('wo')"
   ]
  },
  {
   "cell_type": "code",
   "execution_count": 110,
   "id": "11ee6ff8",
   "metadata": {},
   "outputs": [
    {
     "data": {
      "text/plain": [
       "'I AM WORKING WITH CG'"
      ]
     },
     "execution_count": 110,
     "metadata": {},
     "output_type": "execute_result"
    }
   ],
   "source": [
    "a.upper()"
   ]
  },
  {
   "cell_type": "code",
   "execution_count": 111,
   "id": "b87536b2",
   "metadata": {},
   "outputs": [
    {
     "data": {
      "text/plain": [
       "'i am working with cg'"
      ]
     },
     "execution_count": 111,
     "metadata": {},
     "output_type": "execute_result"
    }
   ],
   "source": [
    "a.lower()"
   ]
  },
  {
   "cell_type": "code",
   "execution_count": 112,
   "id": "d1e67f59",
   "metadata": {},
   "outputs": [
    {
     "data": {
      "text/plain": [
       "'i AM WORKING WITH CG'"
      ]
     },
     "execution_count": 112,
     "metadata": {},
     "output_type": "execute_result"
    }
   ],
   "source": [
    "a.swapcase()"
   ]
  },
  {
   "cell_type": "code",
   "execution_count": 113,
   "id": "fc3b84ea",
   "metadata": {},
   "outputs": [
    {
     "data": {
      "text/plain": [
       "'I Am Working With Cg'"
      ]
     },
     "execution_count": 113,
     "metadata": {},
     "output_type": "execute_result"
    }
   ],
   "source": [
    "a.title()"
   ]
  },
  {
   "cell_type": "code",
   "execution_count": 114,
   "id": "f4c7217d",
   "metadata": {},
   "outputs": [
    {
     "data": {
      "text/plain": [
       "'I am working with cg'"
      ]
     },
     "execution_count": 114,
     "metadata": {},
     "output_type": "execute_result"
    }
   ],
   "source": [
    "a.capitalize()"
   ]
  },
  {
   "cell_type": "code",
   "execution_count": 115,
   "id": "5f227173",
   "metadata": {},
   "outputs": [],
   "source": [
    "b = \"sudh\"\n",
    "d = \"ineuron\""
   ]
  },
  {
   "cell_type": "code",
   "execution_count": 116,
   "id": "8b9efbd4",
   "metadata": {},
   "outputs": [
    {
     "data": {
      "text/plain": [
       "'isudhnsudhesudhusudhrsudhosudhn'"
      ]
     },
     "execution_count": 116,
     "metadata": {},
     "output_type": "execute_result"
    }
   ],
   "source": [
    "b.join(d)"
   ]
  },
  {
   "cell_type": "code",
   "execution_count": 117,
   "id": "424cbcdd",
   "metadata": {},
   "outputs": [
    {
     "data": {
      "text/plain": [
       "' '"
      ]
     },
     "execution_count": 117,
     "metadata": {},
     "output_type": "execute_result"
    }
   ],
   "source": [
    "b.join(\" \")"
   ]
  },
  {
   "cell_type": "code",
   "execution_count": 118,
   "id": "20688db7",
   "metadata": {},
   "outputs": [
    {
     "data": {
      "text/plain": [
       "'s u d h'"
      ]
     },
     "execution_count": 118,
     "metadata": {},
     "output_type": "execute_result"
    }
   ],
   "source": [
    "\" \".join(b)"
   ]
  },
  {
   "cell_type": "code",
   "execution_count": 119,
   "id": "d99cd8fb",
   "metadata": {},
   "outputs": [
    {
     "data": {
      "text/plain": [
       "<reversed at 0x24e24059fa0>"
      ]
     },
     "execution_count": 119,
     "metadata": {},
     "output_type": "execute_result"
    }
   ],
   "source": [
    "reversed('sudh')"
   ]
  },
  {
   "cell_type": "code",
   "execution_count": 120,
   "id": "16fafd37",
   "metadata": {},
   "outputs": [
    {
     "name": "stdout",
     "output_type": "stream",
     "text": [
      "h\n",
      "d\n",
      "u\n",
      "s\n"
     ]
    }
   ],
   "source": [
    "for i in reversed('sudh'):\n",
    "    print(i)"
   ]
  },
  {
   "cell_type": "code",
   "execution_count": 129,
   "id": "34e3c9e4",
   "metadata": {},
   "outputs": [],
   "source": [
    "s = \" sudh kumar \""
   ]
  },
  {
   "cell_type": "code",
   "execution_count": 132,
   "id": "b602785e",
   "metadata": {},
   "outputs": [
    {
     "data": {
      "text/plain": [
       "[' s', 'dh k', 'mar ']"
      ]
     },
     "execution_count": 132,
     "metadata": {},
     "output_type": "execute_result"
    }
   ],
   "source": [
    "s = \" sudh kumar \"\n",
    "s.rsplit(sep = \"u\" )"
   ]
  },
  {
   "cell_type": "code",
   "execution_count": 135,
   "id": "af4345ce",
   "metadata": {},
   "outputs": [
    {
     "data": {
      "text/plain": [
       "' s xyz dh k xyz mar '"
      ]
     },
     "execution_count": 135,
     "metadata": {},
     "output_type": "execute_result"
    }
   ],
   "source": [
    "s.replace('u', ' xyz ')"
   ]
  },
  {
   "cell_type": "code",
   "execution_count": 137,
   "id": "0f68a9d1",
   "metadata": {},
   "outputs": [
    {
     "data": {
      "text/plain": [
       "' sudh kumar'"
      ]
     },
     "execution_count": 137,
     "metadata": {},
     "output_type": "execute_result"
    }
   ],
   "source": [
    "s.rstrip()"
   ]
  },
  {
   "cell_type": "code",
   "execution_count": 138,
   "id": "79e4b1c0",
   "metadata": {},
   "outputs": [
    {
     "data": {
      "text/plain": [
       "'sudh kumar '"
      ]
     },
     "execution_count": 138,
     "metadata": {},
     "output_type": "execute_result"
    }
   ],
   "source": [
    "s.lstrip()"
   ]
  },
  {
   "cell_type": "code",
   "execution_count": 139,
   "id": "79992b0a",
   "metadata": {},
   "outputs": [],
   "source": [
    "s = \"sudh\""
   ]
  },
  {
   "cell_type": "code",
   "execution_count": 144,
   "id": "09662983",
   "metadata": {},
   "outputs": [
    {
     "data": {
      "text/plain": [
       "'******************sudh******************'"
      ]
     },
     "execution_count": 144,
     "metadata": {},
     "output_type": "execute_result"
    }
   ],
   "source": [
    "s.center(40 , \"*\")"
   ]
  },
  {
   "cell_type": "code",
   "execution_count": 145,
   "id": "e99a75b9",
   "metadata": {},
   "outputs": [
    {
     "data": {
      "text/plain": [
       "False"
      ]
     },
     "execution_count": 145,
     "metadata": {},
     "output_type": "execute_result"
    }
   ],
   "source": [
    "s.isupper()"
   ]
  },
  {
   "cell_type": "code",
   "execution_count": 146,
   "id": "112f22cf",
   "metadata": {},
   "outputs": [
    {
     "data": {
      "text/plain": [
       "True"
      ]
     },
     "execution_count": 146,
     "metadata": {},
     "output_type": "execute_result"
    }
   ],
   "source": [
    "s.islower()"
   ]
  },
  {
   "cell_type": "code",
   "execution_count": 147,
   "id": "a3aeceee",
   "metadata": {},
   "outputs": [
    {
     "data": {
      "text/plain": [
       "False"
      ]
     },
     "execution_count": 147,
     "metadata": {},
     "output_type": "execute_result"
    }
   ],
   "source": [
    "s.isdigit()"
   ]
  },
  {
   "cell_type": "code",
   "execution_count": 148,
   "id": "aa28925f",
   "metadata": {},
   "outputs": [],
   "source": [
    "s = \"123\""
   ]
  },
  {
   "cell_type": "code",
   "execution_count": 149,
   "id": "caad6351",
   "metadata": {},
   "outputs": [
    {
     "data": {
      "text/plain": [
       "True"
      ]
     },
     "execution_count": 149,
     "metadata": {},
     "output_type": "execute_result"
    }
   ],
   "source": [
    "s.isdigit()"
   ]
  },
  {
   "cell_type": "code",
   "execution_count": 150,
   "id": "7a9ea030",
   "metadata": {},
   "outputs": [
    {
     "data": {
      "text/plain": [
       "False"
      ]
     },
     "execution_count": 150,
     "metadata": {},
     "output_type": "execute_result"
    }
   ],
   "source": [
    "s.endswith('s')"
   ]
  },
  {
   "cell_type": "code",
   "execution_count": 151,
   "id": "07f2195e",
   "metadata": {},
   "outputs": [
    {
     "data": {
      "text/plain": [
       "False"
      ]
     },
     "execution_count": 151,
     "metadata": {},
     "output_type": "execute_result"
    }
   ],
   "source": [
    "s.endswith('h')"
   ]
  },
  {
   "cell_type": "code",
   "execution_count": 152,
   "id": "d90951e0",
   "metadata": {},
   "outputs": [
    {
     "data": {
      "text/plain": [
       "True"
      ]
     },
     "execution_count": 152,
     "metadata": {},
     "output_type": "execute_result"
    }
   ],
   "source": [
    "s.endswith('3')"
   ]
  },
  {
   "cell_type": "code",
   "execution_count": 153,
   "id": "ab8f8ff9",
   "metadata": {},
   "outputs": [
    {
     "data": {
      "text/plain": [
       "False"
      ]
     },
     "execution_count": 153,
     "metadata": {},
     "output_type": "execute_result"
    }
   ],
   "source": [
    "s.startswith('s')"
   ]
  },
  {
   "cell_type": "code",
   "execution_count": 154,
   "id": "1867540a",
   "metadata": {},
   "outputs": [
    {
     "data": {
      "text/plain": [
       "False"
      ]
     },
     "execution_count": 154,
     "metadata": {},
     "output_type": "execute_result"
    }
   ],
   "source": [
    "s.istitle()"
   ]
  },
  {
   "cell_type": "code",
   "execution_count": 155,
   "id": "ac3b5f3f",
   "metadata": {},
   "outputs": [
    {
     "data": {
      "text/plain": [
       "False"
      ]
     },
     "execution_count": 155,
     "metadata": {},
     "output_type": "execute_result"
    }
   ],
   "source": [
    "s.isalpha()"
   ]
  },
  {
   "cell_type": "code",
   "execution_count": 156,
   "id": "7a3e06c9",
   "metadata": {},
   "outputs": [],
   "source": [
    "s = \"krishna\""
   ]
  },
  {
   "cell_type": "code",
   "execution_count": 157,
   "id": "471be47f",
   "metadata": {},
   "outputs": [
    {
     "data": {
      "text/plain": [
       "b'krishna'"
      ]
     },
     "execution_count": 157,
     "metadata": {},
     "output_type": "execute_result"
    }
   ],
   "source": [
    "s.encode()"
   ]
  },
  {
   "cell_type": "code",
   "execution_count": 158,
   "id": "233917e3",
   "metadata": {},
   "outputs": [],
   "source": [
    "# list is the collection of multiple homogeneous dataset\n",
    "l = [1,'Radha', True, 6+5j, 45.6]"
   ]
  },
  {
   "cell_type": "code",
   "execution_count": 159,
   "id": "1989201b",
   "metadata": {},
   "outputs": [
    {
     "data": {
      "text/plain": [
       "45.6"
      ]
     },
     "execution_count": 159,
     "metadata": {},
     "output_type": "execute_result"
    }
   ],
   "source": [
    "l[-1]"
   ]
  },
  {
   "cell_type": "code",
   "execution_count": 160,
   "id": "74708c83",
   "metadata": {},
   "outputs": [
    {
     "data": {
      "text/plain": [
       "(6+5j)"
      ]
     },
     "execution_count": 160,
     "metadata": {},
     "output_type": "execute_result"
    }
   ],
   "source": [
    "l[3]"
   ]
  },
  {
   "cell_type": "code",
   "execution_count": 161,
   "id": "3dc507e0",
   "metadata": {},
   "outputs": [
    {
     "data": {
      "text/plain": [
       "5.0"
      ]
     },
     "execution_count": 161,
     "metadata": {},
     "output_type": "execute_result"
    }
   ],
   "source": [
    "l[3].imag"
   ]
  },
  {
   "cell_type": "code",
   "execution_count": 162,
   "id": "55b72280",
   "metadata": {},
   "outputs": [
    {
     "data": {
      "text/plain": [
       "6.0"
      ]
     },
     "execution_count": 162,
     "metadata": {},
     "output_type": "execute_result"
    }
   ],
   "source": [
    "l[3].real"
   ]
  },
  {
   "cell_type": "code",
   "execution_count": 164,
   "id": "c9a4a237",
   "metadata": {},
   "outputs": [
    {
     "data": {
      "text/plain": [
       "[45.6, (6+5j), True, 'Radha', 1]"
      ]
     },
     "execution_count": 164,
     "metadata": {},
     "output_type": "execute_result"
    }
   ],
   "source": [
    "l[::-1]"
   ]
  },
  {
   "cell_type": "code",
   "execution_count": 190,
   "id": "cd425e90",
   "metadata": {},
   "outputs": [],
   "source": [
    "l1 = ['radhe' 'radhe']\n",
    "l2 = ['krishna', 'krishna']"
   ]
  },
  {
   "cell_type": "code",
   "execution_count": 191,
   "id": "07da5cc0",
   "metadata": {},
   "outputs": [
    {
     "data": {
      "text/plain": [
       "['radheradhe', 'krishna', 'krishna']"
      ]
     },
     "execution_count": 191,
     "metadata": {},
     "output_type": "execute_result"
    }
   ],
   "source": [
    "l1+l2"
   ]
  },
  {
   "cell_type": "code",
   "execution_count": 192,
   "id": "fb5da56d",
   "metadata": {},
   "outputs": [
    {
     "ename": "TypeError",
     "evalue": "can only concatenate list (not \"str\") to list",
     "output_type": "error",
     "traceback": [
      "\u001b[1;31m---------------------------------------------------------------------------\u001b[0m",
      "\u001b[1;31mTypeError\u001b[0m                                 Traceback (most recent call last)",
      "\u001b[1;32mC:\\Users\\RAKSHA~1\\AppData\\Local\\Temp/ipykernel_17860/4020770222.py\u001b[0m in \u001b[0;36m<module>\u001b[1;34m\u001b[0m\n\u001b[1;32m----> 1\u001b[1;33m \u001b[0ml1\u001b[0m\u001b[1;33m+\u001b[0m\u001b[1;34m'krishna'\u001b[0m\u001b[1;33m\u001b[0m\u001b[1;33m\u001b[0m\u001b[0m\n\u001b[0m",
      "\u001b[1;31mTypeError\u001b[0m: can only concatenate list (not \"str\") to list"
     ]
    }
   ],
   "source": [
    "l1+'krishna'"
   ]
  },
  {
   "cell_type": "code",
   "execution_count": 193,
   "id": "3a605ede",
   "metadata": {},
   "outputs": [
    {
     "data": {
      "text/plain": [
       "[1, 'Radhe Radhe', True, (6+5j), 45.6]"
      ]
     },
     "execution_count": 193,
     "metadata": {},
     "output_type": "execute_result"
    }
   ],
   "source": [
    "l"
   ]
  },
  {
   "cell_type": "code",
   "execution_count": 194,
   "id": "ea4a246a",
   "metadata": {},
   "outputs": [],
   "source": [
    "l[1]= 'Radhe Radhe'"
   ]
  },
  {
   "cell_type": "code",
   "execution_count": 195,
   "id": "e0af7075",
   "metadata": {},
   "outputs": [
    {
     "data": {
      "text/plain": [
       "[1, 'Radhe Radhe', True, (6+5j), 45.6]"
      ]
     },
     "execution_count": 195,
     "metadata": {},
     "output_type": "execute_result"
    }
   ],
   "source": [
    "l"
   ]
  },
  {
   "cell_type": "code",
   "execution_count": 196,
   "id": "c4d3ad45",
   "metadata": {},
   "outputs": [
    {
     "data": {
      "text/plain": [
       "[1, 'Radhe Radhe', True, (6+5j), 45.6, 'sudh']"
      ]
     },
     "execution_count": 196,
     "metadata": {},
     "output_type": "execute_result"
    }
   ],
   "source": [
    "l + ['sudh']"
   ]
  },
  {
   "cell_type": "code",
   "execution_count": 199,
   "id": "ce64ab81",
   "metadata": {},
   "outputs": [
    {
     "data": {
      "text/plain": [
       "['radheradhe', 'radheradhe']"
      ]
     },
     "execution_count": 199,
     "metadata": {},
     "output_type": "execute_result"
    }
   ],
   "source": [
    "l1*2"
   ]
  },
  {
   "cell_type": "code",
   "execution_count": 200,
   "id": "86bc8e54",
   "metadata": {},
   "outputs": [
    {
     "data": {
      "text/plain": [
       "['radheradhe']"
      ]
     },
     "execution_count": 200,
     "metadata": {},
     "output_type": "execute_result"
    }
   ],
   "source": [
    "l1"
   ]
  },
  {
   "cell_type": "code",
   "execution_count": 201,
   "id": "3834f7f2",
   "metadata": {},
   "outputs": [],
   "source": [
    "l1 = l1[0].replace('radheradhe', 'RadheRadhe')"
   ]
  },
  {
   "cell_type": "code",
   "execution_count": 202,
   "id": "37147cd4",
   "metadata": {},
   "outputs": [
    {
     "data": {
      "text/plain": [
       "'RadheRadhe'"
      ]
     },
     "execution_count": 202,
     "metadata": {},
     "output_type": "execute_result"
    }
   ],
   "source": [
    "l1"
   ]
  },
  {
   "cell_type": "code",
   "execution_count": 203,
   "id": "4e1cec40",
   "metadata": {},
   "outputs": [
    {
     "data": {
      "text/plain": [
       "str"
      ]
     },
     "execution_count": 203,
     "metadata": {},
     "output_type": "execute_result"
    }
   ],
   "source": [
    "type(l1)"
   ]
  },
  {
   "cell_type": "code",
   "execution_count": 205,
   "id": "330093d0",
   "metadata": {},
   "outputs": [
    {
     "data": {
      "text/plain": [
       "[1, 'Radhe Radhe', True, (6+5j), 45.6]"
      ]
     },
     "execution_count": 205,
     "metadata": {},
     "output_type": "execute_result"
    }
   ],
   "source": [
    "l"
   ]
  },
  {
   "cell_type": "code",
   "execution_count": 207,
   "id": "d2267c68",
   "metadata": {},
   "outputs": [
    {
     "data": {
      "text/plain": [
       "'Hari Hari'"
      ]
     },
     "execution_count": 207,
     "metadata": {},
     "output_type": "execute_result"
    }
   ],
   "source": [
    "l[1].replace('Radhe Radhe', \"Hari Hari\")\n"
   ]
  },
  {
   "cell_type": "code",
   "execution_count": 209,
   "id": "e2b9019c",
   "metadata": {},
   "outputs": [
    {
     "data": {
      "text/plain": [
       "[1, 'Radhe Radhe', True, (6+5j), 45.6]"
      ]
     },
     "execution_count": 209,
     "metadata": {},
     "output_type": "execute_result"
    }
   ],
   "source": [
    "l"
   ]
  },
  {
   "cell_type": "code",
   "execution_count": 210,
   "id": "f1401e82",
   "metadata": {},
   "outputs": [],
   "source": [
    "l[0] = 'Hari Hari'"
   ]
  },
  {
   "cell_type": "code",
   "execution_count": 211,
   "id": "74dbc095",
   "metadata": {},
   "outputs": [
    {
     "data": {
      "text/plain": [
       "['Hari Hari', 'Radhe Radhe', True, (6+5j), 45.6]"
      ]
     },
     "execution_count": 211,
     "metadata": {},
     "output_type": "execute_result"
    }
   ],
   "source": [
    "l"
   ]
  },
  {
   "cell_type": "code",
   "execution_count": 212,
   "id": "44de90a4",
   "metadata": {},
   "outputs": [],
   "source": [
    "l[0] = 'Hare Krishna'"
   ]
  },
  {
   "cell_type": "code",
   "execution_count": 213,
   "id": "e3d5c558",
   "metadata": {},
   "outputs": [
    {
     "data": {
      "text/plain": [
       "['Hare Krishna', 'Radhe Radhe', True, (6+5j), 45.6]"
      ]
     },
     "execution_count": 213,
     "metadata": {},
     "output_type": "execute_result"
    }
   ],
   "source": [
    "l"
   ]
  },
  {
   "cell_type": "code",
   "execution_count": 215,
   "id": "fe32c8b8",
   "metadata": {},
   "outputs": [
    {
     "ename": "TypeError",
     "evalue": "'str' object does not support item assignment",
     "output_type": "error",
     "traceback": [
      "\u001b[1;31m---------------------------------------------------------------------------\u001b[0m",
      "\u001b[1;31mTypeError\u001b[0m                                 Traceback (most recent call last)",
      "\u001b[1;32mC:\\Users\\RAKSHA~1\\AppData\\Local\\Temp/ipykernel_17860/774639240.py\u001b[0m in \u001b[0;36m<module>\u001b[1;34m\u001b[0m\n\u001b[1;32m----> 1\u001b[1;33m \u001b[0ml\u001b[0m\u001b[1;33m[\u001b[0m\u001b[1;36m0\u001b[0m\u001b[1;33m]\u001b[0m\u001b[1;33m[\u001b[0m\u001b[1;36m0\u001b[0m\u001b[1;33m]\u001b[0m\u001b[1;33m=\u001b[0m\u001b[1;34m'k'\u001b[0m\u001b[1;33m\u001b[0m\u001b[1;33m\u001b[0m\u001b[0m\n\u001b[0m",
      "\u001b[1;31mTypeError\u001b[0m: 'str' object does not support item assignment"
     ]
    }
   ],
   "source": [
    "l[0][0]='k'"
   ]
  },
  {
   "cell_type": "code",
   "execution_count": 221,
   "id": "3025a204",
   "metadata": {},
   "outputs": [
    {
     "data": {
      "text/plain": [
       "'kare Krishna'"
      ]
     },
     "execution_count": 221,
     "metadata": {},
     "output_type": "execute_result"
    }
   ],
   "source": [
    "l[0].replace('H', 'k')"
   ]
  },
  {
   "cell_type": "code",
   "execution_count": 222,
   "id": "e367e81f",
   "metadata": {},
   "outputs": [
    {
     "data": {
      "text/plain": [
       "['Hare Krishna', 'Radhe Radhe', True, (6+5j), 45.6]"
      ]
     },
     "execution_count": 222,
     "metadata": {},
     "output_type": "execute_result"
    }
   ],
   "source": [
    "l"
   ]
  },
  {
   "cell_type": "code",
   "execution_count": 223,
   "id": "672b670d",
   "metadata": {},
   "outputs": [],
   "source": [
    "# List is the collection of homogenous element, list is mutable where string is immutable entity"
   ]
  },
  {
   "cell_type": "code",
   "execution_count": 224,
   "id": "e218ee0f",
   "metadata": {},
   "outputs": [],
   "source": [
    "s = \"krishna\""
   ]
  },
  {
   "cell_type": "code",
   "execution_count": 226,
   "id": "478b20bf",
   "metadata": {},
   "outputs": [
    {
     "ename": "TypeError",
     "evalue": "'str' object does not support item assignment",
     "output_type": "error",
     "traceback": [
      "\u001b[1;31m---------------------------------------------------------------------------\u001b[0m",
      "\u001b[1;31mTypeError\u001b[0m                                 Traceback (most recent call last)",
      "\u001b[1;32mC:\\Users\\RAKSHA~1\\AppData\\Local\\Temp/ipykernel_17860/3201312296.py\u001b[0m in \u001b[0;36m<module>\u001b[1;34m\u001b[0m\n\u001b[1;32m----> 1\u001b[1;33m \u001b[0ms\u001b[0m\u001b[1;33m[\u001b[0m\u001b[1;36m0\u001b[0m\u001b[1;33m]\u001b[0m \u001b[1;33m=\u001b[0m \u001b[1;34m'R'\u001b[0m\u001b[1;33m\u001b[0m\u001b[1;33m\u001b[0m\u001b[0m\n\u001b[0m",
      "\u001b[1;31mTypeError\u001b[0m: 'str' object does not support item assignment"
     ]
    }
   ],
   "source": [
    "s[0] = 'R'"
   ]
  },
  {
   "cell_type": "code",
   "execution_count": 227,
   "id": "645a0f28",
   "metadata": {},
   "outputs": [
    {
     "data": {
      "text/plain": [
       "'RadheRadhe'"
      ]
     },
     "execution_count": 227,
     "metadata": {},
     "output_type": "execute_result"
    }
   ],
   "source": [
    "l1"
   ]
  },
  {
   "cell_type": "code",
   "execution_count": 228,
   "id": "38a05929",
   "metadata": {},
   "outputs": [
    {
     "data": {
      "text/plain": [
       "10"
      ]
     },
     "execution_count": 228,
     "metadata": {},
     "output_type": "execute_result"
    }
   ],
   "source": [
    "len(l1)"
   ]
  },
  {
   "cell_type": "code",
   "execution_count": 229,
   "id": "cc3b2fbb",
   "metadata": {},
   "outputs": [
    {
     "data": {
      "text/plain": [
       "['Hare Krishna', 'Radhe Radhe', True, (6+5j), 45.6]"
      ]
     },
     "execution_count": 229,
     "metadata": {},
     "output_type": "execute_result"
    }
   ],
   "source": [
    "l"
   ]
  },
  {
   "cell_type": "code",
   "execution_count": 230,
   "id": "2f012fc1",
   "metadata": {},
   "outputs": [
    {
     "data": {
      "text/plain": [
       "5"
      ]
     },
     "execution_count": 230,
     "metadata": {},
     "output_type": "execute_result"
    }
   ],
   "source": [
    "len(l)"
   ]
  },
  {
   "cell_type": "code",
   "execution_count": 232,
   "id": "8910e411",
   "metadata": {},
   "outputs": [
    {
     "data": {
      "text/plain": [
       "True"
      ]
     },
     "execution_count": 232,
     "metadata": {},
     "output_type": "execute_result"
    }
   ],
   "source": [
    "'Radhe Radhe' in l"
   ]
  },
  {
   "cell_type": "code",
   "execution_count": 233,
   "id": "a9ae55ee",
   "metadata": {},
   "outputs": [
    {
     "data": {
      "text/plain": [
       "'RadheRadhe'"
      ]
     },
     "execution_count": 233,
     "metadata": {},
     "output_type": "execute_result"
    }
   ],
   "source": [
    "l1"
   ]
  },
  {
   "cell_type": "code",
   "execution_count": 235,
   "id": "4341dbb9",
   "metadata": {},
   "outputs": [
    {
     "data": {
      "text/plain": [
       "['R', 'a', 'd', 'h', 'e', 'R', 'a', 'd', 'h', 'e']"
      ]
     },
     "execution_count": 235,
     "metadata": {},
     "output_type": "execute_result"
    }
   ],
   "source": [
    "list(l1)"
   ]
  },
  {
   "cell_type": "code",
   "execution_count": 238,
   "id": "cd10dd81",
   "metadata": {},
   "outputs": [],
   "source": [
    "l1 = [l1]"
   ]
  },
  {
   "cell_type": "code",
   "execution_count": 239,
   "id": "bdb560e3",
   "metadata": {},
   "outputs": [
    {
     "data": {
      "text/plain": [
       "['RadheRadhe']"
      ]
     },
     "execution_count": 239,
     "metadata": {},
     "output_type": "execute_result"
    }
   ],
   "source": [
    "l1"
   ]
  },
  {
   "cell_type": "code",
   "execution_count": 240,
   "id": "5c01af57",
   "metadata": {},
   "outputs": [],
   "source": [
    "l1.append(l2)"
   ]
  },
  {
   "cell_type": "code",
   "execution_count": 241,
   "id": "b333c7c8",
   "metadata": {},
   "outputs": [
    {
     "data": {
      "text/plain": [
       "['RadheRadhe', ['krishna', 'krishna']]"
      ]
     },
     "execution_count": 241,
     "metadata": {},
     "output_type": "execute_result"
    }
   ],
   "source": [
    "l1"
   ]
  },
  {
   "cell_type": "code",
   "execution_count": 242,
   "id": "0e084b72",
   "metadata": {},
   "outputs": [
    {
     "data": {
      "text/plain": [
       "['krishna', 'krishna']"
      ]
     },
     "execution_count": 242,
     "metadata": {},
     "output_type": "execute_result"
    }
   ],
   "source": [
    "l2"
   ]
  },
  {
   "cell_type": "code",
   "execution_count": 243,
   "id": "54ac8f07",
   "metadata": {},
   "outputs": [],
   "source": [
    "l1.append(l)"
   ]
  },
  {
   "cell_type": "code",
   "execution_count": 244,
   "id": "286eaf5e",
   "metadata": {},
   "outputs": [
    {
     "data": {
      "text/plain": [
       "['RadheRadhe',\n",
       " ['krishna', 'krishna'],\n",
       " ['Hare Krishna', 'Radhe Radhe', True, (6+5j), 45.6]]"
      ]
     },
     "execution_count": 244,
     "metadata": {},
     "output_type": "execute_result"
    }
   ],
   "source": [
    "l1"
   ]
  },
  {
   "cell_type": "code",
   "execution_count": 246,
   "id": "d9dce210",
   "metadata": {},
   "outputs": [
    {
     "data": {
      "text/plain": [
       "['Hare Krishna', 'Radhe Radhe', True, (6+5j), 45.6]"
      ]
     },
     "execution_count": 246,
     "metadata": {},
     "output_type": "execute_result"
    }
   ],
   "source": [
    "l1.pop()"
   ]
  },
  {
   "cell_type": "code",
   "execution_count": 248,
   "id": "a665cab4",
   "metadata": {},
   "outputs": [
    {
     "data": {
      "text/plain": [
       "['RadheRadhe', ['krishna', 'krishna']]"
      ]
     },
     "execution_count": 248,
     "metadata": {},
     "output_type": "execute_result"
    }
   ],
   "source": [
    "l1"
   ]
  },
  {
   "cell_type": "code",
   "execution_count": 250,
   "id": "64ae410e",
   "metadata": {},
   "outputs": [
    {
     "data": {
      "text/plain": [
       "['krishna', 'krishna']"
      ]
     },
     "execution_count": 250,
     "metadata": {},
     "output_type": "execute_result"
    }
   ],
   "source": [
    "l1.pop()"
   ]
  },
  {
   "cell_type": "code",
   "execution_count": 251,
   "id": "c8505367",
   "metadata": {},
   "outputs": [
    {
     "data": {
      "text/plain": [
       "['RadheRadhe']"
      ]
     },
     "execution_count": 251,
     "metadata": {},
     "output_type": "execute_result"
    }
   ],
   "source": [
    "l1"
   ]
  },
  {
   "cell_type": "code",
   "execution_count": 252,
   "id": "634f6e01",
   "metadata": {},
   "outputs": [],
   "source": [
    "l1.append('Hare krishna')"
   ]
  },
  {
   "cell_type": "code",
   "execution_count": 253,
   "id": "7c3d635e",
   "metadata": {},
   "outputs": [
    {
     "data": {
      "text/plain": [
       "['RadheRadhe', 'Hare krishna']"
      ]
     },
     "execution_count": 253,
     "metadata": {},
     "output_type": "execute_result"
    }
   ],
   "source": [
    "l1"
   ]
  },
  {
   "cell_type": "code",
   "execution_count": 254,
   "id": "a30de435",
   "metadata": {},
   "outputs": [],
   "source": [
    "l1.insert(1,'RadhaKrishna')"
   ]
  },
  {
   "cell_type": "code",
   "execution_count": 255,
   "id": "a9c33086",
   "metadata": {},
   "outputs": [
    {
     "data": {
      "text/plain": [
       "['RadheRadhe', 'RadhaKrishna', 'Hare krishna']"
      ]
     },
     "execution_count": 255,
     "metadata": {},
     "output_type": "execute_result"
    }
   ],
   "source": [
    "l1"
   ]
  },
  {
   "cell_type": "code",
   "execution_count": 256,
   "id": "0db981c0",
   "metadata": {},
   "outputs": [
    {
     "data": {
      "text/plain": [
       "['RadheRadhe', 'RadhaKrishna', 'Hare krishna']"
      ]
     },
     "execution_count": 256,
     "metadata": {},
     "output_type": "execute_result"
    }
   ],
   "source": [
    "l1"
   ]
  },
  {
   "cell_type": "code",
   "execution_count": 257,
   "id": "e05faa95",
   "metadata": {},
   "outputs": [
    {
     "data": {
      "text/plain": [
       "['krishna', 'krishna']"
      ]
     },
     "execution_count": 257,
     "metadata": {},
     "output_type": "execute_result"
    }
   ],
   "source": [
    "l2"
   ]
  },
  {
   "cell_type": "code",
   "execution_count": 259,
   "id": "f42b84be",
   "metadata": {},
   "outputs": [],
   "source": [
    "l1.reverse()"
   ]
  },
  {
   "cell_type": "code",
   "execution_count": 260,
   "id": "89631122",
   "metadata": {},
   "outputs": [
    {
     "data": {
      "text/plain": [
       "['Hare krishna', 'RadhaKrishna', 'RadheRadhe']"
      ]
     },
     "execution_count": 260,
     "metadata": {},
     "output_type": "execute_result"
    }
   ],
   "source": [
    "l1"
   ]
  },
  {
   "cell_type": "code",
   "execution_count": 261,
   "id": "c11fbe3b",
   "metadata": {},
   "outputs": [],
   "source": [
    "s = \"sudh\""
   ]
  },
  {
   "cell_type": "code",
   "execution_count": 262,
   "id": "c2e99896",
   "metadata": {},
   "outputs": [
    {
     "data": {
      "text/plain": [
       "<reversed at 0x24e24196790>"
      ]
     },
     "execution_count": 262,
     "metadata": {},
     "output_type": "execute_result"
    }
   ],
   "source": [
    "reversed(s)"
   ]
  },
  {
   "cell_type": "code",
   "execution_count": 263,
   "id": "b427c244",
   "metadata": {},
   "outputs": [
    {
     "name": "stdout",
     "output_type": "stream",
     "text": [
      "h\n",
      "d\n",
      "u\n",
      "s\n"
     ]
    }
   ],
   "source": [
    "for i in reversed(s):\n",
    "    print(i)"
   ]
  },
  {
   "cell_type": "code",
   "execution_count": 264,
   "id": "d330ffb7",
   "metadata": {},
   "outputs": [
    {
     "data": {
      "text/plain": [
       "['krishna', 'krishna']"
      ]
     },
     "execution_count": 264,
     "metadata": {},
     "output_type": "execute_result"
    }
   ],
   "source": [
    "l2"
   ]
  },
  {
   "cell_type": "code",
   "execution_count": 265,
   "id": "4f14a574",
   "metadata": {},
   "outputs": [
    {
     "data": {
      "text/plain": [
       "['Hare krishna', 'RadhaKrishna', 'RadheRadhe']"
      ]
     },
     "execution_count": 265,
     "metadata": {},
     "output_type": "execute_result"
    }
   ],
   "source": [
    "l1"
   ]
  },
  {
   "cell_type": "code",
   "execution_count": 266,
   "id": "b1975236",
   "metadata": {},
   "outputs": [
    {
     "data": {
      "text/plain": [
       "0"
      ]
     },
     "execution_count": 266,
     "metadata": {},
     "output_type": "execute_result"
    }
   ],
   "source": [
    "l1.count('krishna')"
   ]
  },
  {
   "cell_type": "code",
   "execution_count": 267,
   "id": "ef6ce380",
   "metadata": {},
   "outputs": [],
   "source": [
    "l2.append([3,4,5,6])"
   ]
  },
  {
   "cell_type": "code",
   "execution_count": 268,
   "id": "4d6e94fd",
   "metadata": {},
   "outputs": [
    {
     "data": {
      "text/plain": [
       "['krishna', 'krishna', [3, 4, 5, 6]]"
      ]
     },
     "execution_count": 268,
     "metadata": {},
     "output_type": "execute_result"
    }
   ],
   "source": [
    "l2"
   ]
  },
  {
   "cell_type": "code",
   "execution_count": 269,
   "id": "0b545e0b",
   "metadata": {},
   "outputs": [],
   "source": [
    "l2.extend([3,4,5,6,7])"
   ]
  },
  {
   "cell_type": "code",
   "execution_count": 270,
   "id": "829e495e",
   "metadata": {},
   "outputs": [
    {
     "data": {
      "text/plain": [
       "['krishna', 'krishna', [3, 4, 5, 6], 3, 4, 5, 6, 7]"
      ]
     },
     "execution_count": 270,
     "metadata": {},
     "output_type": "execute_result"
    }
   ],
   "source": [
    "l2"
   ]
  },
  {
   "cell_type": "code",
   "execution_count": 271,
   "id": "9a7c01e8",
   "metadata": {},
   "outputs": [
    {
     "data": {
      "text/plain": [
       "'sudh'"
      ]
     },
     "execution_count": 271,
     "metadata": {},
     "output_type": "execute_result"
    }
   ],
   "source": [
    "s"
   ]
  },
  {
   "cell_type": "code",
   "execution_count": 272,
   "id": "b95974f0",
   "metadata": {},
   "outputs": [
    {
     "data": {
      "text/plain": [
       "False"
      ]
     },
     "execution_count": 272,
     "metadata": {},
     "output_type": "execute_result"
    }
   ],
   "source": [
    "s.isspace()"
   ]
  },
  {
   "cell_type": "code",
   "execution_count": 273,
   "id": "0896816b",
   "metadata": {},
   "outputs": [
    {
     "data": {
      "text/plain": [
       "['Hare Krishna', 'Radhe Radhe', True, (6+5j), 45.6]"
      ]
     },
     "execution_count": 273,
     "metadata": {},
     "output_type": "execute_result"
    }
   ],
   "source": [
    "l"
   ]
  },
  {
   "cell_type": "code",
   "execution_count": 275,
   "id": "18d6e5ba",
   "metadata": {},
   "outputs": [
    {
     "ename": "TypeError",
     "evalue": "'<' not supported between instances of 'complex' and 'float'",
     "output_type": "error",
     "traceback": [
      "\u001b[1;31m---------------------------------------------------------------------------\u001b[0m",
      "\u001b[1;31mTypeError\u001b[0m                                 Traceback (most recent call last)",
      "\u001b[1;32mC:\\Users\\RAKSHA~1\\AppData\\Local\\Temp/ipykernel_17860/3455015817.py\u001b[0m in \u001b[0;36m<module>\u001b[1;34m\u001b[0m\n\u001b[1;32m----> 1\u001b[1;33m \u001b[0ml\u001b[0m\u001b[1;33m.\u001b[0m\u001b[0msort\u001b[0m\u001b[1;33m(\u001b[0m\u001b[0mreverse\u001b[0m\u001b[1;33m=\u001b[0m \u001b[1;32mTrue\u001b[0m\u001b[1;33m)\u001b[0m\u001b[1;33m\u001b[0m\u001b[1;33m\u001b[0m\u001b[0m\n\u001b[0m",
      "\u001b[1;31mTypeError\u001b[0m: '<' not supported between instances of 'complex' and 'float'"
     ]
    }
   ],
   "source": [
    "l.sort(reverse= True)"
   ]
  },
  {
   "cell_type": "code",
   "execution_count": 276,
   "id": "ab43378e",
   "metadata": {},
   "outputs": [],
   "source": [
    "l3 = [5,6,2,3,5,7]"
   ]
  },
  {
   "cell_type": "code",
   "execution_count": 277,
   "id": "c76bb999",
   "metadata": {},
   "outputs": [],
   "source": [
    "l3.sort()"
   ]
  },
  {
   "cell_type": "code",
   "execution_count": 278,
   "id": "49998ddd",
   "metadata": {},
   "outputs": [
    {
     "data": {
      "text/plain": [
       "[2, 3, 5, 5, 6, 7]"
      ]
     },
     "execution_count": 278,
     "metadata": {},
     "output_type": "execute_result"
    }
   ],
   "source": [
    "l3"
   ]
  },
  {
   "cell_type": "code",
   "execution_count": 279,
   "id": "e4dc5f8b",
   "metadata": {},
   "outputs": [],
   "source": [
    "l3.sort(reverse=True)"
   ]
  },
  {
   "cell_type": "code",
   "execution_count": 280,
   "id": "d6904d71",
   "metadata": {},
   "outputs": [
    {
     "data": {
      "text/plain": [
       "[7, 6, 5, 5, 3, 2]"
      ]
     },
     "execution_count": 280,
     "metadata": {},
     "output_type": "execute_result"
    }
   ],
   "source": [
    "l3"
   ]
  },
  {
   "cell_type": "code",
   "execution_count": 281,
   "id": "59674f13",
   "metadata": {},
   "outputs": [
    {
     "data": {
      "text/plain": [
       "['krishna', 'krishna', [3, 4, 5, 6], 3, 4, 5, 6, 7]"
      ]
     },
     "execution_count": 281,
     "metadata": {},
     "output_type": "execute_result"
    }
   ],
   "source": [
    "l2"
   ]
  },
  {
   "cell_type": "code",
   "execution_count": 282,
   "id": "72956f2a",
   "metadata": {},
   "outputs": [
    {
     "ename": "TypeError",
     "evalue": "'<' not supported between instances of 'list' and 'str'",
     "output_type": "error",
     "traceback": [
      "\u001b[1;31m---------------------------------------------------------------------------\u001b[0m",
      "\u001b[1;31mTypeError\u001b[0m                                 Traceback (most recent call last)",
      "\u001b[1;32mC:\\Users\\RAKSHA~1\\AppData\\Local\\Temp/ipykernel_17860/3971031949.py\u001b[0m in \u001b[0;36m<module>\u001b[1;34m\u001b[0m\n\u001b[1;32m----> 1\u001b[1;33m \u001b[0ml2\u001b[0m\u001b[1;33m.\u001b[0m\u001b[0msort\u001b[0m\u001b[1;33m(\u001b[0m\u001b[1;33m)\u001b[0m\u001b[1;33m\u001b[0m\u001b[1;33m\u001b[0m\u001b[0m\n\u001b[0m",
      "\u001b[1;31mTypeError\u001b[0m: '<' not supported between instances of 'list' and 'str'"
     ]
    }
   ],
   "source": [
    "l2.sort()"
   ]
  },
  {
   "cell_type": "code",
   "execution_count": 289,
   "id": "a1efcb9b",
   "metadata": {},
   "outputs": [
    {
     "ename": "TypeError",
     "evalue": "'<' not supported between instances of 'int' and 'str'",
     "output_type": "error",
     "traceback": [
      "\u001b[1;31m---------------------------------------------------------------------------\u001b[0m",
      "\u001b[1;31mTypeError\u001b[0m                                 Traceback (most recent call last)",
      "\u001b[1;32mC:\\Users\\RAKSHA~1\\AppData\\Local\\Temp/ipykernel_17860/934050907.py\u001b[0m in \u001b[0;36m<module>\u001b[1;34m\u001b[0m\n\u001b[0;32m      1\u001b[0m \u001b[0ml2\u001b[0m \u001b[1;33m=\u001b[0m \u001b[1;33m[\u001b[0m\u001b[1;34m'krishna'\u001b[0m\u001b[1;33m,\u001b[0m \u001b[1;34m'krishna'\u001b[0m\u001b[1;33m,\u001b[0m \u001b[1;33m[\u001b[0m\u001b[1;36m3\u001b[0m\u001b[1;33m,\u001b[0m \u001b[1;36m4\u001b[0m\u001b[1;33m,\u001b[0m \u001b[1;36m5\u001b[0m\u001b[1;33m,\u001b[0m \u001b[1;36m6\u001b[0m\u001b[1;33m]\u001b[0m\u001b[1;33m,\u001b[0m \u001b[1;36m3\u001b[0m\u001b[1;33m,\u001b[0m \u001b[1;36m4\u001b[0m\u001b[1;33m,\u001b[0m \u001b[1;36m5\u001b[0m\u001b[1;33m,\u001b[0m \u001b[1;36m6\u001b[0m\u001b[1;33m,\u001b[0m \u001b[1;36m7\u001b[0m\u001b[1;33m]\u001b[0m\u001b[1;33m\u001b[0m\u001b[1;33m\u001b[0m\u001b[0m\n\u001b[1;32m----> 2\u001b[1;33m \u001b[0ml2\u001b[0m\u001b[1;33m.\u001b[0m\u001b[0msort\u001b[0m\u001b[1;33m(\u001b[0m\u001b[0mkey\u001b[0m\u001b[1;33m=\u001b[0m\u001b[1;32mlambda\u001b[0m \u001b[0mx\u001b[0m\u001b[1;33m:\u001b[0m \u001b[1;33m(\u001b[0m\u001b[0misinstance\u001b[0m\u001b[1;33m(\u001b[0m\u001b[0mx\u001b[0m\u001b[1;33m,\u001b[0m \u001b[0mlist\u001b[0m\u001b[1;33m)\u001b[0m\u001b[1;33m,\u001b[0m \u001b[0mx\u001b[0m\u001b[1;33m)\u001b[0m\u001b[1;33m)\u001b[0m\u001b[1;33m\u001b[0m\u001b[1;33m\u001b[0m\u001b[0m\n\u001b[0m\u001b[0;32m      3\u001b[0m \u001b[0mprint\u001b[0m\u001b[1;33m(\u001b[0m\u001b[0ml2\u001b[0m\u001b[1;33m)\u001b[0m\u001b[1;33m\u001b[0m\u001b[1;33m\u001b[0m\u001b[0m\n",
      "\u001b[1;31mTypeError\u001b[0m: '<' not supported between instances of 'int' and 'str'"
     ]
    }
   ],
   "source": [
    "l2 = ['krishna', 'krishna', [3, 4, 5, 6], 3, 4, 5, 6, 7]\n",
    "l2.sort(key=lambda x: (isinstance(x, list), x))\n",
    "print(l2)\n"
   ]
  },
  {
   "cell_type": "code",
   "execution_count": 301,
   "id": "d976c288",
   "metadata": {},
   "outputs": [
    {
     "name": "stdout",
     "output_type": "stream",
     "text": [
      "['3', '4', '5', '6', '7', '[3, 4, 5, 6]', 'hari', 'krishna', 'krishna']\n"
     ]
    }
   ],
   "source": [
    "l2 = ['krishna', 'krishna', 'hari', [3, 4, 5, 6], 3, 4, 5, 6, 7]\n",
    "\n",
    "# Convert non-string elements to strings\n",
    "l2 = [str(item) if not isinstance(item, str) else item for item in l2]\n",
    "\n",
    "# Sort the list\n",
    "l2.sort()\n",
    "\n",
    "print(l2)\n"
   ]
  },
  {
   "cell_type": "code",
   "execution_count": 302,
   "id": "bcb86025",
   "metadata": {},
   "outputs": [],
   "source": [
    "l2 = ['krishna', 'krishna', [3, 4, 5, 6], 3, 4, 5, 6, 7]"
   ]
  },
  {
   "cell_type": "code",
   "execution_count": 303,
   "id": "f569786a",
   "metadata": {},
   "outputs": [
    {
     "data": {
      "text/plain": [
       "int"
      ]
     },
     "execution_count": 303,
     "metadata": {},
     "output_type": "execute_result"
    }
   ],
   "source": [
    "type(l2[3])"
   ]
  },
  {
   "cell_type": "code",
   "execution_count": 304,
   "id": "6bda5741",
   "metadata": {},
   "outputs": [],
   "source": [
    "l4  = ['krishna', 'krishna', 'hari', 3, 4, 5, 6, 7]"
   ]
  },
  {
   "cell_type": "code",
   "execution_count": 305,
   "id": "61b2c78e",
   "metadata": {},
   "outputs": [
    {
     "ename": "TypeError",
     "evalue": "'<' not supported between instances of 'int' and 'str'",
     "output_type": "error",
     "traceback": [
      "\u001b[1;31m---------------------------------------------------------------------------\u001b[0m",
      "\u001b[1;31mTypeError\u001b[0m                                 Traceback (most recent call last)",
      "\u001b[1;32mC:\\Users\\RAKSHA~1\\AppData\\Local\\Temp/ipykernel_17860/1892640535.py\u001b[0m in \u001b[0;36m<module>\u001b[1;34m\u001b[0m\n\u001b[1;32m----> 1\u001b[1;33m \u001b[0ml4\u001b[0m\u001b[1;33m.\u001b[0m\u001b[0msort\u001b[0m\u001b[1;33m(\u001b[0m\u001b[1;33m)\u001b[0m\u001b[1;33m\u001b[0m\u001b[1;33m\u001b[0m\u001b[0m\n\u001b[0m",
      "\u001b[1;31mTypeError\u001b[0m: '<' not supported between instances of 'int' and 'str'"
     ]
    }
   ],
   "source": [
    "l4.sort()"
   ]
  },
  {
   "cell_type": "code",
   "execution_count": 306,
   "id": "95336307",
   "metadata": {},
   "outputs": [],
   "source": [
    "l5 = ['krishna', 'krishna', 'hari']"
   ]
  },
  {
   "cell_type": "code",
   "execution_count": 307,
   "id": "90b04cdf",
   "metadata": {},
   "outputs": [],
   "source": [
    "l5.sort()"
   ]
  },
  {
   "cell_type": "code",
   "execution_count": 308,
   "id": "628157b4",
   "metadata": {},
   "outputs": [
    {
     "data": {
      "text/plain": [
       "['hari', 'krishna', 'krishna']"
      ]
     },
     "execution_count": 308,
     "metadata": {},
     "output_type": "execute_result"
    }
   ],
   "source": [
    "l5"
   ]
  },
  {
   "cell_type": "code",
   "execution_count": null,
   "id": "3f3ec852",
   "metadata": {},
   "outputs": [],
   "source": [
    "l2 = ['krishna', 'krishna', 'hari', [3, 4, 5, 6], 3, 4, 5, 6, 7]\n",
    "\n",
    "# Convert non-string elements to strings\n",
    "l2 = [str(item) if not isinstance(item, str) else item for item in l2]\n",
    "\n",
    "# Sort the list\n",
    "l2.sort()\n",
    "\n",
    "print(l2)\n"
   ]
  },
  {
   "cell_type": "code",
   "execution_count": 310,
   "id": "096e829e",
   "metadata": {},
   "outputs": [],
   "source": [
    "l2 = [str(i) if not isinstance(i, str) else i for i in l2]"
   ]
  },
  {
   "cell_type": "code",
   "execution_count": 311,
   "id": "f6e52373",
   "metadata": {},
   "outputs": [
    {
     "data": {
      "text/plain": [
       "['krishna', 'krishna', '[3, 4, 5, 6]', '3', '4', '5', '6', '7']"
      ]
     },
     "execution_count": 311,
     "metadata": {},
     "output_type": "execute_result"
    }
   ],
   "source": [
    "l2"
   ]
  },
  {
   "cell_type": "code",
   "execution_count": 312,
   "id": "aa7da53f",
   "metadata": {},
   "outputs": [],
   "source": [
    "l2 = [ str(i) if not isinstance(i,str) else i for i in l2]"
   ]
  },
  {
   "cell_type": "code",
   "execution_count": 318,
   "id": "a6af6c4d",
   "metadata": {},
   "outputs": [
    {
     "ename": "SyntaxError",
     "evalue": "'return' outside function (Temp/ipykernel_17860/3405610212.py, line 4)",
     "output_type": "error",
     "traceback": [
      "\u001b[1;36m  File \u001b[1;32m\"C:\\Users\\RAKSHA~1\\AppData\\Local\\Temp/ipykernel_17860/3405610212.py\"\u001b[1;36m, line \u001b[1;32m4\u001b[0m\n\u001b[1;33m    return(str(i))\u001b[0m\n\u001b[1;37m    ^\u001b[0m\n\u001b[1;31mSyntaxError\u001b[0m\u001b[1;31m:\u001b[0m 'return' outside function\n"
     ]
    }
   ],
   "source": [
    "l2 = ['krishna', 'krishna', '[3, 4, 5, 6]', '3', '4', '5', '6', '7']\n",
    "for i in l2:\n",
    "    if isinstance(i, str):\n",
    "        return(str(i))\n",
    "    else:\n",
    "        return i"
   ]
  },
  {
   "cell_type": "code",
   "execution_count": 325,
   "id": "e5c11a83",
   "metadata": {},
   "outputs": [],
   "source": [
    "l2 = ['krishna', 'krishna','hari',  '[3, 4, 5, 6]', '3', '4', '5', '6', '7']\n",
    "l2.sort(key=lambda x:str(x), reverse=True)"
   ]
  },
  {
   "cell_type": "code",
   "execution_count": 326,
   "id": "77d27b95",
   "metadata": {},
   "outputs": [
    {
     "data": {
      "text/plain": [
       "['krishna', 'krishna', 'hari', '[3, 4, 5, 6]', '7', '6', '5', '4', '3']"
      ]
     },
     "execution_count": 326,
     "metadata": {},
     "output_type": "execute_result"
    }
   ],
   "source": [
    "l2"
   ]
  },
  {
   "cell_type": "code",
   "execution_count": 327,
   "id": "21457c2d",
   "metadata": {},
   "outputs": [],
   "source": [
    "t = (1,2,3,4)"
   ]
  },
  {
   "cell_type": "code",
   "execution_count": 328,
   "id": "9fbd8887",
   "metadata": {},
   "outputs": [
    {
     "data": {
      "text/plain": [
       "tuple"
      ]
     },
     "execution_count": 328,
     "metadata": {},
     "output_type": "execute_result"
    }
   ],
   "source": [
    "type(t)"
   ]
  },
  {
   "cell_type": "code",
   "execution_count": 329,
   "id": "a71a2a04",
   "metadata": {},
   "outputs": [],
   "source": [
    "t1 = (\"sudh\", \"kumar\", \"krishna\", \"Radha\")"
   ]
  },
  {
   "cell_type": "code",
   "execution_count": 330,
   "id": "0b83f395",
   "metadata": {},
   "outputs": [
    {
     "data": {
      "text/plain": [
       "'sudh'"
      ]
     },
     "execution_count": 330,
     "metadata": {},
     "output_type": "execute_result"
    }
   ],
   "source": [
    "t1[0]"
   ]
  },
  {
   "cell_type": "code",
   "execution_count": 331,
   "id": "9ea98e2c",
   "metadata": {},
   "outputs": [
    {
     "ename": "TypeError",
     "evalue": "'tuple' object does not support item assignment",
     "output_type": "error",
     "traceback": [
      "\u001b[1;31m---------------------------------------------------------------------------\u001b[0m",
      "\u001b[1;31mTypeError\u001b[0m                                 Traceback (most recent call last)",
      "\u001b[1;32mC:\\Users\\RAKSHA~1\\AppData\\Local\\Temp/ipykernel_17860/207040853.py\u001b[0m in \u001b[0;36m<module>\u001b[1;34m\u001b[0m\n\u001b[1;32m----> 1\u001b[1;33m \u001b[0mt1\u001b[0m\u001b[1;33m[\u001b[0m\u001b[1;36m1\u001b[0m\u001b[1;33m]\u001b[0m\u001b[1;33m=\u001b[0m \u001b[1;34m\"Radharani\"\u001b[0m\u001b[1;33m\u001b[0m\u001b[1;33m\u001b[0m\u001b[0m\n\u001b[0m",
      "\u001b[1;31mTypeError\u001b[0m: 'tuple' object does not support item assignment"
     ]
    }
   ],
   "source": [
    "t1[1]= \"Radharani\""
   ]
  },
  {
   "cell_type": "code",
   "execution_count": 332,
   "id": "93871c72",
   "metadata": {},
   "outputs": [
    {
     "data": {
      "text/plain": [
       "('Radha', 'krishna', 'kumar', 'sudh')"
      ]
     },
     "execution_count": 332,
     "metadata": {},
     "output_type": "execute_result"
    }
   ],
   "source": [
    "t1[::-1]"
   ]
  },
  {
   "cell_type": "code",
   "execution_count": 333,
   "id": "14e91244",
   "metadata": {},
   "outputs": [],
   "source": [
    "t2 = (3+4j, True, 45.6)"
   ]
  },
  {
   "cell_type": "code",
   "execution_count": 334,
   "id": "b3f52398",
   "metadata": {},
   "outputs": [
    {
     "data": {
      "text/plain": [
       "('sudh', 'kumar', 'krishna', 'Radha', (3+4j), True, 45.6)"
      ]
     },
     "execution_count": 334,
     "metadata": {},
     "output_type": "execute_result"
    }
   ],
   "source": [
    "t1+t2"
   ]
  },
  {
   "cell_type": "code",
   "execution_count": 336,
   "id": "0af02679",
   "metadata": {},
   "outputs": [
    {
     "data": {
      "text/plain": [
       "('sudh', 'kumar', 'krishna', 'Radha', 'sudh', 'kumar', 'krishna', 'Radha')"
      ]
     },
     "execution_count": 336,
     "metadata": {},
     "output_type": "execute_result"
    }
   ],
   "source": [
    "t1*2"
   ]
  },
  {
   "cell_type": "code",
   "execution_count": 337,
   "id": "a0192755",
   "metadata": {},
   "outputs": [
    {
     "data": {
      "text/plain": [
       "('sudh', 'kumar', 'krishna', 'Radha')"
      ]
     },
     "execution_count": 337,
     "metadata": {},
     "output_type": "execute_result"
    }
   ],
   "source": [
    "t1"
   ]
  },
  {
   "cell_type": "code",
   "execution_count": 339,
   "id": "c2d54903",
   "metadata": {},
   "outputs": [
    {
     "data": {
      "text/plain": [
       "1"
      ]
     },
     "execution_count": 339,
     "metadata": {},
     "output_type": "execute_result"
    }
   ],
   "source": [
    "t1.count('krishna')"
   ]
  },
  {
   "cell_type": "code",
   "execution_count": 340,
   "id": "45505219",
   "metadata": {},
   "outputs": [
    {
     "data": {
      "text/plain": [
       "3"
      ]
     },
     "execution_count": 340,
     "metadata": {},
     "output_type": "execute_result"
    }
   ],
   "source": [
    "t1.index('Radha')"
   ]
  },
  {
   "cell_type": "code",
   "execution_count": 341,
   "id": "c62a4fed",
   "metadata": {},
   "outputs": [
    {
     "ename": "TypeError",
     "evalue": "'tuple' object does not support item assignment",
     "output_type": "error",
     "traceback": [
      "\u001b[1;31m---------------------------------------------------------------------------\u001b[0m",
      "\u001b[1;31mTypeError\u001b[0m                                 Traceback (most recent call last)",
      "\u001b[1;32mC:\\Users\\RAKSHA~1\\AppData\\Local\\Temp/ipykernel_17860/4120269861.py\u001b[0m in \u001b[0;36m<module>\u001b[1;34m\u001b[0m\n\u001b[1;32m----> 1\u001b[1;33m \u001b[0mt1\u001b[0m\u001b[1;33m[\u001b[0m\u001b[1;36m4\u001b[0m\u001b[1;33m]\u001b[0m \u001b[1;33m=\u001b[0m \u001b[1;34m\"Radharani\"\u001b[0m\u001b[1;33m\u001b[0m\u001b[1;33m\u001b[0m\u001b[0m\n\u001b[0m",
      "\u001b[1;31mTypeError\u001b[0m: 'tuple' object does not support item assignment"
     ]
    }
   ],
   "source": [
    "t1[4] = \"Radharani\""
   ]
  },
  {
   "cell_type": "code",
   "execution_count": 342,
   "id": "bded6139",
   "metadata": {},
   "outputs": [],
   "source": [
    "t1 = (3,4,5)"
   ]
  },
  {
   "cell_type": "code",
   "execution_count": 343,
   "id": "bb444da4",
   "metadata": {},
   "outputs": [],
   "source": [
    "l = list(t1)"
   ]
  },
  {
   "cell_type": "code",
   "execution_count": 344,
   "id": "4f5cb021",
   "metadata": {},
   "outputs": [
    {
     "data": {
      "text/plain": [
       "[3, 4, 5]"
      ]
     },
     "execution_count": 344,
     "metadata": {},
     "output_type": "execute_result"
    }
   ],
   "source": [
    "l"
   ]
  },
  {
   "cell_type": "code",
   "execution_count": 345,
   "id": "708f3d38",
   "metadata": {},
   "outputs": [],
   "source": [
    "t= ([1,2,3,4], \"radharani\")"
   ]
  },
  {
   "cell_type": "code",
   "execution_count": 347,
   "id": "fea84c14",
   "metadata": {},
   "outputs": [],
   "source": [
    "t[0][1] = \"Hari Hari\""
   ]
  },
  {
   "cell_type": "code",
   "execution_count": 348,
   "id": "35fc4b40",
   "metadata": {},
   "outputs": [
    {
     "data": {
      "text/plain": [
       "([1, 'Hari Hari', 3, 4], 'radharani')"
      ]
     },
     "execution_count": 348,
     "metadata": {},
     "output_type": "execute_result"
    }
   ],
   "source": [
    "t"
   ]
  },
  {
   "cell_type": "code",
   "execution_count": 349,
   "id": "262db627",
   "metadata": {},
   "outputs": [],
   "source": [
    "l = [1,2,3,4,5,5,5,56,7]"
   ]
  },
  {
   "cell_type": "code",
   "execution_count": 350,
   "id": "082a74ce",
   "metadata": {},
   "outputs": [
    {
     "data": {
      "text/plain": [
       "{1, 2, 3, 4, 5, 7, 56}"
      ]
     },
     "execution_count": 350,
     "metadata": {},
     "output_type": "execute_result"
    }
   ],
   "source": [
    "set(l)"
   ]
  },
  {
   "cell_type": "code",
   "execution_count": 352,
   "id": "e6d8e088",
   "metadata": {},
   "outputs": [],
   "source": [
    "s1 = {1,2,3,4,5,6,6,7,7,1,1,3}"
   ]
  },
  {
   "cell_type": "code",
   "execution_count": 353,
   "id": "129e9e1e",
   "metadata": {},
   "outputs": [
    {
     "data": {
      "text/plain": [
       "{1, 2, 3, 4, 5, 6, 7}"
      ]
     },
     "execution_count": 353,
     "metadata": {},
     "output_type": "execute_result"
    }
   ],
   "source": [
    "s1"
   ]
  },
  {
   "cell_type": "code",
   "execution_count": 354,
   "id": "c1911c37",
   "metadata": {},
   "outputs": [
    {
     "ename": "TypeError",
     "evalue": "'set' object is not subscriptable",
     "output_type": "error",
     "traceback": [
      "\u001b[1;31m---------------------------------------------------------------------------\u001b[0m",
      "\u001b[1;31mTypeError\u001b[0m                                 Traceback (most recent call last)",
      "\u001b[1;32mC:\\Users\\RAKSHA~1\\AppData\\Local\\Temp/ipykernel_17860/643609873.py\u001b[0m in \u001b[0;36m<module>\u001b[1;34m\u001b[0m\n\u001b[1;32m----> 1\u001b[1;33m \u001b[0ms1\u001b[0m\u001b[1;33m[\u001b[0m\u001b[1;36m0\u001b[0m\u001b[1;33m]\u001b[0m\u001b[1;33m\u001b[0m\u001b[1;33m\u001b[0m\u001b[0m\n\u001b[0m",
      "\u001b[1;31mTypeError\u001b[0m: 'set' object is not subscriptable"
     ]
    }
   ],
   "source": [
    "s1[0]"
   ]
  },
  {
   "cell_type": "code",
   "execution_count": 355,
   "id": "f8d2085e",
   "metadata": {},
   "outputs": [
    {
     "data": {
      "text/plain": [
       "[1, 2, 3, 4, 5, 6, 7]"
      ]
     },
     "execution_count": 355,
     "metadata": {},
     "output_type": "execute_result"
    }
   ],
   "source": [
    "list(s1)"
   ]
  },
  {
   "cell_type": "code",
   "execution_count": 359,
   "id": "9a65a19a",
   "metadata": {},
   "outputs": [],
   "source": [
    "s1.add(45)"
   ]
  },
  {
   "cell_type": "code",
   "execution_count": 360,
   "id": "3805155d",
   "metadata": {},
   "outputs": [
    {
     "data": {
      "text/plain": [
       "{1, 2, 3, 4, 5, 6, 7, 45}"
      ]
     },
     "execution_count": 360,
     "metadata": {},
     "output_type": "execute_result"
    }
   ],
   "source": [
    "s1"
   ]
  },
  {
   "cell_type": "code",
   "execution_count": 361,
   "id": "da64c275",
   "metadata": {},
   "outputs": [],
   "source": [
    "s1.update({'radha'})"
   ]
  },
  {
   "cell_type": "code",
   "execution_count": 362,
   "id": "b55b4bac",
   "metadata": {},
   "outputs": [
    {
     "data": {
      "text/plain": [
       "{1, 2, 3, 4, 45, 5, 6, 7, 'radha'}"
      ]
     },
     "execution_count": 362,
     "metadata": {},
     "output_type": "execute_result"
    }
   ],
   "source": [
    "s1"
   ]
  },
  {
   "cell_type": "code",
   "execution_count": 363,
   "id": "d1ef48bb",
   "metadata": {},
   "outputs": [],
   "source": [
    "s1.clear()"
   ]
  },
  {
   "cell_type": "code",
   "execution_count": 364,
   "id": "e4b2c5ee",
   "metadata": {},
   "outputs": [
    {
     "data": {
      "text/plain": [
       "set()"
      ]
     },
     "execution_count": 364,
     "metadata": {},
     "output_type": "execute_result"
    }
   ],
   "source": [
    "s1"
   ]
  },
  {
   "cell_type": "code",
   "execution_count": 365,
   "id": "c5ef74bd",
   "metadata": {},
   "outputs": [],
   "source": [
    "s1= {1, 2, 3, 4, 45, 5, 6, 7, 'radha'}"
   ]
  },
  {
   "cell_type": "code",
   "execution_count": 366,
   "id": "f34d4239",
   "metadata": {},
   "outputs": [],
   "source": [
    "s1.discard(3)"
   ]
  },
  {
   "cell_type": "code",
   "execution_count": 367,
   "id": "be6c6617",
   "metadata": {},
   "outputs": [
    {
     "data": {
      "text/plain": [
       "{1, 2, 4, 45, 5, 6, 7, 'radha'}"
      ]
     },
     "execution_count": 367,
     "metadata": {},
     "output_type": "execute_result"
    }
   ],
   "source": [
    "s1"
   ]
  },
  {
   "cell_type": "code",
   "execution_count": 368,
   "id": "a6a62fa9",
   "metadata": {},
   "outputs": [],
   "source": [
    "d = {4:\"sudh\"}"
   ]
  },
  {
   "cell_type": "code",
   "execution_count": 369,
   "id": "d0779eb1",
   "metadata": {},
   "outputs": [
    {
     "data": {
      "text/plain": [
       "{4: 'sudh'}"
      ]
     },
     "execution_count": 369,
     "metadata": {},
     "output_type": "execute_result"
    }
   ],
   "source": [
    "d"
   ]
  },
  {
   "cell_type": "code",
   "execution_count": 370,
   "id": "1a0d696a",
   "metadata": {},
   "outputs": [
    {
     "data": {
      "text/plain": [
       "dict_items([(4, 'sudh')])"
      ]
     },
     "execution_count": 370,
     "metadata": {},
     "output_type": "execute_result"
    }
   ],
   "source": [
    "d.items()"
   ]
  },
  {
   "cell_type": "code",
   "execution_count": 371,
   "id": "ac7e3c03",
   "metadata": {},
   "outputs": [
    {
     "data": {
      "text/plain": [
       "dict_keys([4])"
      ]
     },
     "execution_count": 371,
     "metadata": {},
     "output_type": "execute_result"
    }
   ],
   "source": [
    "d.keys()"
   ]
  },
  {
   "cell_type": "code",
   "execution_count": 372,
   "id": "ac64981f",
   "metadata": {},
   "outputs": [
    {
     "data": {
      "text/plain": [
       "dict_values(['sudh'])"
      ]
     },
     "execution_count": 372,
     "metadata": {},
     "output_type": "execute_result"
    }
   ],
   "source": [
    "d.values()"
   ]
  },
  {
   "cell_type": "code",
   "execution_count": 374,
   "id": "cdb663a3",
   "metadata": {},
   "outputs": [],
   "source": [
    "d1 = {1 : \"radha\", 2: \"hari\", 3 : \"krishna\"}"
   ]
  },
  {
   "cell_type": "code",
   "execution_count": 376,
   "id": "0e8e2938",
   "metadata": {},
   "outputs": [
    {
     "data": {
      "text/plain": [
       "dict_items([(1, 'radha'), (2, 'hari'), (3, 'krishna')])"
      ]
     },
     "execution_count": 376,
     "metadata": {},
     "output_type": "execute_result"
    }
   ],
   "source": [
    "d1.items()"
   ]
  },
  {
   "cell_type": "code",
   "execution_count": 378,
   "id": "db7d6869",
   "metadata": {},
   "outputs": [],
   "source": [
    "d1[1] = \"radharani\""
   ]
  },
  {
   "cell_type": "code",
   "execution_count": 379,
   "id": "a7d0979a",
   "metadata": {},
   "outputs": [
    {
     "data": {
      "text/plain": [
       "{1: 'radharani', 2: 'hari', 3: 'krishna'}"
      ]
     },
     "execution_count": 379,
     "metadata": {},
     "output_type": "execute_result"
    }
   ],
   "source": [
    "d1"
   ]
  },
  {
   "cell_type": "code",
   "execution_count": 380,
   "id": "5c114190",
   "metadata": {},
   "outputs": [
    {
     "data": {
      "text/plain": [
       "'krishna'"
      ]
     },
     "execution_count": 380,
     "metadata": {},
     "output_type": "execute_result"
    }
   ],
   "source": [
    "d1[3]"
   ]
  },
  {
   "cell_type": "code",
   "execution_count": 381,
   "id": "35c7c91a",
   "metadata": {},
   "outputs": [],
   "source": [
    "d1[4] = [3,4,5,6,7]"
   ]
  },
  {
   "cell_type": "code",
   "execution_count": 382,
   "id": "7ab8d2c7",
   "metadata": {},
   "outputs": [
    {
     "data": {
      "text/plain": [
       "{1: 'radharani', 2: 'hari', 3: 'krishna', 4: [3, 4, 5, 6, 7]}"
      ]
     },
     "execution_count": 382,
     "metadata": {},
     "output_type": "execute_result"
    }
   ],
   "source": [
    "d1"
   ]
  },
  {
   "cell_type": "code",
   "execution_count": 386,
   "id": "a8ab1371",
   "metadata": {},
   "outputs": [],
   "source": [
    "d1[3] = [12,4]"
   ]
  },
  {
   "cell_type": "code",
   "execution_count": 387,
   "id": "b35459ec",
   "metadata": {},
   "outputs": [
    {
     "data": {
      "text/plain": [
       "{1: 'radharani', 2: 'hari', 3: [12, 4], 4: [3, 4, 5, 6, 7]}"
      ]
     },
     "execution_count": 387,
     "metadata": {},
     "output_type": "execute_result"
    }
   ],
   "source": [
    "d1"
   ]
  },
  {
   "cell_type": "code",
   "execution_count": 388,
   "id": "18cfd8df",
   "metadata": {},
   "outputs": [],
   "source": [
    "d1[7] = {33,44,55}"
   ]
  },
  {
   "cell_type": "code",
   "execution_count": 389,
   "id": "8faf6366",
   "metadata": {},
   "outputs": [
    {
     "data": {
      "text/plain": [
       "{1: 'radharani', 2: 'hari', 3: [12, 4], 4: [3, 4, 5, 6, 7], 7: {33, 44, 55}}"
      ]
     },
     "execution_count": 389,
     "metadata": {},
     "output_type": "execute_result"
    }
   ],
   "source": [
    "d1"
   ]
  },
  {
   "cell_type": "code",
   "execution_count": 393,
   "id": "3f122e30",
   "metadata": {},
   "outputs": [
    {
     "data": {
      "text/plain": [
       "5"
      ]
     },
     "execution_count": 393,
     "metadata": {},
     "output_type": "execute_result"
    }
   ],
   "source": [
    "d1[4][2]"
   ]
  },
  {
   "cell_type": "code",
   "execution_count": 397,
   "id": "209d18ab",
   "metadata": {},
   "outputs": [],
   "source": [
    "d1 = {1:\"radha\", 2 : \"krishna\"}\n",
    "d2 = {3: \"shrinivas\", 4: \"Bhargavi\"}"
   ]
  },
  {
   "cell_type": "code",
   "execution_count": 398,
   "id": "5fed36d0",
   "metadata": {},
   "outputs": [],
   "source": [
    "d1.update(d2)"
   ]
  },
  {
   "cell_type": "code",
   "execution_count": 399,
   "id": "c07fc093",
   "metadata": {},
   "outputs": [
    {
     "data": {
      "text/plain": [
       "{1: 'radha', 2: 'krishna', 3: 'shrinivas', 4: 'Bhargavi'}"
      ]
     },
     "execution_count": 399,
     "metadata": {},
     "output_type": "execute_result"
    }
   ],
   "source": [
    "d1"
   ]
  },
  {
   "cell_type": "code",
   "execution_count": 400,
   "id": "f4ae6017",
   "metadata": {},
   "outputs": [
    {
     "data": {
      "text/plain": [
       "'Bhargavi'"
      ]
     },
     "execution_count": 400,
     "metadata": {},
     "output_type": "execute_result"
    }
   ],
   "source": [
    "d1.get(4)"
   ]
  },
  {
   "cell_type": "code",
   "execution_count": 401,
   "id": "de1f7c44",
   "metadata": {},
   "outputs": [],
   "source": [
    "a = 10"
   ]
  },
  {
   "cell_type": "code",
   "execution_count": 402,
   "id": "c891614f",
   "metadata": {},
   "outputs": [
    {
     "name": "stdout",
     "output_type": "stream",
     "text": [
      "sfds\n"
     ]
    }
   ],
   "source": [
    "if a <15:\n",
    "    print(\"sfds\")"
   ]
  },
  {
   "cell_type": "code",
   "execution_count": 403,
   "id": "59b7c8ae",
   "metadata": {},
   "outputs": [],
   "source": [
    "if a <15:\n",
    "    pass"
   ]
  },
  {
   "cell_type": "code",
   "execution_count": 404,
   "id": "80d4a21d",
   "metadata": {},
   "outputs": [
    {
     "name": "stdout",
     "output_type": "stream",
     "text": [
      "krihsna\n"
     ]
    }
   ],
   "source": [
    "if a <15 :\n",
    "    print(\"krihsna\")"
   ]
  },
  {
   "cell_type": "code",
   "execution_count": 405,
   "id": "8d95c0c0",
   "metadata": {},
   "outputs": [
    {
     "name": "stdout",
     "output_type": "stream",
     "text": [
      "no\n"
     ]
    }
   ],
   "source": [
    "if 10 <3 : \n",
    "    print('yes')\n",
    "else :\n",
    "    print('no')"
   ]
  },
  {
   "cell_type": "code",
   "execution_count": 408,
   "id": "e71d6637",
   "metadata": {},
   "outputs": [
    {
     "name": "stdout",
     "output_type": "stream",
     "text": [
      "<class 'int'> 1\n",
      "<class 'str'> radha\n",
      "<class 'complex'> (3+4j)\n",
      "<class 'int'> 4\n",
      "<class 'int'> 5\n"
     ]
    }
   ],
   "source": [
    "l = [1,\"radha\", 3+4j ,4,5]\n",
    "for i in l:\n",
    "    print(type(i), i)"
   ]
  },
  {
   "cell_type": "code",
   "execution_count": 410,
   "id": "0d3a0188",
   "metadata": {},
   "outputs": [
    {
     "name": "stdout",
     "output_type": "stream",
     "text": [
      "(0, 1) <class 'tuple'>\n",
      "(1, 'radha') <class 'tuple'>\n",
      "(2, (3+4j)) <class 'tuple'>\n",
      "(3, 4) <class 'tuple'>\n",
      "(4, 5) <class 'tuple'>\n"
     ]
    }
   ],
   "source": [
    "for i in enumerate(l):\n",
    "    print(i, type(i))"
   ]
  },
  {
   "cell_type": "code",
   "execution_count": 411,
   "id": "82984d93",
   "metadata": {},
   "outputs": [],
   "source": [
    "l = [3,4,5,6,7]"
   ]
  },
  {
   "cell_type": "code",
   "execution_count": 412,
   "id": "67a02cce",
   "metadata": {},
   "outputs": [
    {
     "data": {
      "text/plain": [
       "[5, 6, 7, 8, 9]"
      ]
     },
     "execution_count": 412,
     "metadata": {},
     "output_type": "execute_result"
    }
   ],
   "source": [
    "[i+2 for i in l]"
   ]
  },
  {
   "cell_type": "code",
   "execution_count": 426,
   "id": "9deefcba",
   "metadata": {},
   "outputs": [],
   "source": [
    "x = lambda l : [(i+2) for i in l]"
   ]
  },
  {
   "cell_type": "code",
   "execution_count": 427,
   "id": "ed13c0b6",
   "metadata": {},
   "outputs": [
    {
     "data": {
      "text/plain": [
       "[5, 6, 7, 8, 9]"
      ]
     },
     "execution_count": 427,
     "metadata": {},
     "output_type": "execute_result"
    }
   ],
   "source": [
    "x([3,4,5,6,7])"
   ]
  },
  {
   "cell_type": "code",
   "execution_count": 429,
   "id": "bfdea82c",
   "metadata": {},
   "outputs": [],
   "source": [
    "y = lambda x : str(x)"
   ]
  },
  {
   "cell_type": "code",
   "execution_count": 430,
   "id": "3707c238",
   "metadata": {},
   "outputs": [
    {
     "data": {
      "text/plain": [
       "'[1, 2, 3, 4]'"
      ]
     },
     "execution_count": 430,
     "metadata": {},
     "output_type": "execute_result"
    }
   ],
   "source": [
    "y([1, 2,3,4])"
   ]
  },
  {
   "cell_type": "code",
   "execution_count": 431,
   "id": "3ae02dee",
   "metadata": {},
   "outputs": [
    {
     "data": {
      "text/plain": [
       "[5, 6, 7, 8, 9]"
      ]
     },
     "execution_count": 431,
     "metadata": {},
     "output_type": "execute_result"
    }
   ],
   "source": [
    "[i+2 for i in l]"
   ]
  },
  {
   "cell_type": "code",
   "execution_count": 434,
   "id": "48716a22",
   "metadata": {},
   "outputs": [
    {
     "data": {
      "text/plain": [
       "[3, 4, 5, 6, 7]"
      ]
     },
     "execution_count": 434,
     "metadata": {},
     "output_type": "execute_result"
    }
   ],
   "source": [
    "[i for i in l if isinstance(i, int)]"
   ]
  },
  {
   "cell_type": "code",
   "execution_count": 436,
   "id": "ca1e51dc",
   "metadata": {},
   "outputs": [],
   "source": [
    "y = lambda l : [i for i in l if isinstance(i,int)]"
   ]
  },
  {
   "cell_type": "code",
   "execution_count": 437,
   "id": "ee84499f",
   "metadata": {},
   "outputs": [
    {
     "data": {
      "text/plain": [
       "[3, 4, 5, 6, 7]"
      ]
     },
     "execution_count": 437,
     "metadata": {},
     "output_type": "execute_result"
    }
   ],
   "source": [
    "y([3, 4, 5, 6, 7, 'a'])"
   ]
  },
  {
   "cell_type": "code",
   "execution_count": 447,
   "id": "0dde2c31",
   "metadata": {},
   "outputs": [],
   "source": [
    "l1 = []\n",
    "l = [3, 4, 5, 6, 7, 'a']\n",
    "for i in l:\n",
    "    if type(i) == int:\n",
    "        l1.append(i)\n"
   ]
  },
  {
   "cell_type": "code",
   "execution_count": 448,
   "id": "e0f76b62",
   "metadata": {},
   "outputs": [
    {
     "data": {
      "text/plain": [
       "[3, 4, 5, 6, 7]"
      ]
     },
     "execution_count": 448,
     "metadata": {},
     "output_type": "execute_result"
    }
   ],
   "source": [
    "l1"
   ]
  },
  {
   "cell_type": "code",
   "execution_count": 456,
   "id": "f3f80260",
   "metadata": {},
   "outputs": [
    {
     "name": "stdout",
     "output_type": "stream",
     "text": [
      "[33, 4, 6, 7]\n"
     ]
    }
   ],
   "source": [
    "l = [3, 4, 5, 6, 7, 'a', [33,4,6,7] ]\n",
    "l1 = []\n",
    "for i in l:\n",
    "    if type(i) == list:\n",
    "        for j in i:\n",
    "            l1.append(j)\n",
    "\n",
    "print(l1)"
   ]
  },
  {
   "cell_type": "code",
   "execution_count": 457,
   "id": "0ec17e98",
   "metadata": {},
   "outputs": [
    {
     "name": "stdout",
     "output_type": "stream",
     "text": [
      "(0, 3)\n",
      "(1, 4)\n",
      "(2, 5)\n",
      "(3, 6)\n",
      "(4, 7)\n",
      "(5, 'a')\n",
      "(6, [33, 4, 6, 7])\n"
     ]
    }
   ],
   "source": [
    "l = [3, 4, 5, 6, 7, 'a', [33,4,6,7] ]\n",
    "for i in enumerate(l):\n",
    "    print(i)"
   ]
  },
  {
   "cell_type": "code",
   "execution_count": 458,
   "id": "0db137a4",
   "metadata": {},
   "outputs": [
    {
     "data": {
      "text/plain": [
       "(3, 4, 5, 6, 7, 'a', [33, 4, 6, 7, 'radha', 'krishna'])"
      ]
     },
     "execution_count": 458,
     "metadata": {},
     "output_type": "execute_result"
    }
   ],
   "source": [
    "3, 4, 5, 6, 7, 'a', [33,4,6,7, \"radha\", \"krishna\"]"
   ]
  },
  {
   "cell_type": "code",
   "execution_count": 467,
   "id": "66c3f700",
   "metadata": {},
   "outputs": [
    {
     "name": "stdout",
     "output_type": "stream",
     "text": [
      "['a', 'r', 'a', 'd', 'h', 'a', 'k', 'r', 'i', 's', 'h', 'n', 'a']\n"
     ]
    }
   ],
   "source": [
    "l = [3, 4, 5, 6, 7, 'a', 33,4,6,7, \"radha\", \"krishna\"]\n",
    "l2 = []\n",
    "for i in l:\n",
    "    if type(i) == str:\n",
    "        for j in i:\n",
    "            l2.append(j)\n",
    "print(l2)"
   ]
  },
  {
   "cell_type": "code",
   "execution_count": 468,
   "id": "ca87f26c",
   "metadata": {},
   "outputs": [
    {
     "data": {
      "text/plain": [
       "['a', 'r', 'a', 'd', 'h', 'a', 'k', 'r', 'i', 's', 'h', 'n', 'a']"
      ]
     },
     "execution_count": 468,
     "metadata": {},
     "output_type": "execute_result"
    }
   ],
   "source": [
    "l2"
   ]
  },
  {
   "cell_type": "code",
   "execution_count": 469,
   "id": "42bbadb4",
   "metadata": {},
   "outputs": [
    {
     "data": {
      "text/plain": [
       "[1, 4, 9, 16]"
      ]
     },
     "execution_count": 469,
     "metadata": {},
     "output_type": "execute_result"
    }
   ],
   "source": [
    "l = [1,2,3,4]\n",
    "\n",
    "[i**2 for i in l]"
   ]
  },
  {
   "cell_type": "code",
   "execution_count": 470,
   "id": "6248520b",
   "metadata": {},
   "outputs": [
    {
     "name": "stdout",
     "output_type": "stream",
     "text": [
      "['a']\n",
      "['r', 'a', 'd', 'h', 'a']\n",
      "['k', 'r', 'i', 's', 'h', 'n', 'a']\n"
     ]
    }
   ],
   "source": [
    "l = [3, 4, 5, 6, 7, 'a', 33,4,6,7, \"radha\", \"krishna\"]\n",
    "\n",
    "for i in l:\n",
    "    if type(i) == str:\n",
    "        l1 = []\n",
    "        for j in i:\n",
    "            l1.append(j)\n",
    "        print(l1)"
   ]
  },
  {
   "cell_type": "code",
   "execution_count": 475,
   "id": "d2e24e39",
   "metadata": {},
   "outputs": [
    {
     "name": "stdout",
     "output_type": "stream",
     "text": [
      "hare\n"
     ]
    }
   ],
   "source": [
    "l = [\"hare\", \"hari\", \"krishna\"]\n",
    "for i in l:\n",
    "    if i == \"hari\":\n",
    "        break\n",
    "    print(i)\n",
    "\n",
    "else:\n",
    "    print(\"this will execute when for loop complete sucessfully \")"
   ]
  },
  {
   "cell_type": "code",
   "execution_count": 477,
   "id": "5fe38470",
   "metadata": {},
   "outputs": [
    {
     "name": "stdout",
     "output_type": "stream",
     "text": [
      "hari\n",
      "this will execute when for loop complete sucessfully \n"
     ]
    }
   ],
   "source": [
    "l = [\"hare\", \"hari\", \"krishna\"]\n",
    "for i in l:\n",
    "    if i == \"hari\":\n",
    "        print(i)\n",
    "\n",
    "else:\n",
    "    print(\"this will execute when for loop complete sucessfully \")"
   ]
  },
  {
   "cell_type": "code",
   "execution_count": 483,
   "id": "fcf867ad",
   "metadata": {},
   "outputs": [
    {
     "name": "stdout",
     "output_type": "stream",
     "text": [
      "10\n",
      "11\n",
      "12\n",
      "13\n",
      "14\n",
      "15\n",
      "16\n",
      "17\n",
      "18\n",
      "19\n"
     ]
    }
   ],
   "source": [
    "a = 10\n",
    "while a<20:\n",
    "    print(a)\n",
    "    a = a+1"
   ]
  },
  {
   "cell_type": "code",
   "execution_count": 484,
   "id": "ea9d8e4e",
   "metadata": {},
   "outputs": [
    {
     "data": {
      "text/plain": [
       "range(0, 6)"
      ]
     },
     "execution_count": 484,
     "metadata": {},
     "output_type": "execute_result"
    }
   ],
   "source": [
    "range(6)"
   ]
  },
  {
   "cell_type": "code",
   "execution_count": 485,
   "id": "66901f09",
   "metadata": {},
   "outputs": [
    {
     "data": {
      "text/plain": [
       "[0, 1, 2, 3, 4, 5]"
      ]
     },
     "execution_count": 485,
     "metadata": {},
     "output_type": "execute_result"
    }
   ],
   "source": [
    "list(range(6))"
   ]
  },
  {
   "cell_type": "code",
   "execution_count": 486,
   "id": "1713b3fb",
   "metadata": {},
   "outputs": [
    {
     "data": {
      "text/plain": [
       "[2, 4, 6, 8, 10, 12, 14]"
      ]
     },
     "execution_count": 486,
     "metadata": {},
     "output_type": "execute_result"
    }
   ],
   "source": [
    "list(range(2,16,2))"
   ]
  },
  {
   "cell_type": "code",
   "execution_count": 491,
   "id": "e5462efb",
   "metadata": {},
   "outputs": [
    {
     "data": {
      "text/plain": [
       "[4, 3, 2, 1]"
      ]
     },
     "execution_count": 491,
     "metadata": {},
     "output_type": "execute_result"
    }
   ],
   "source": [
    "list(range(4, 0, -1))"
   ]
  },
  {
   "cell_type": "code",
   "execution_count": 506,
   "id": "b80ed39b",
   "metadata": {},
   "outputs": [
    {
     "name": "stdout",
     "output_type": "stream",
     "text": [
      "6\n",
      "5\n",
      "4\n",
      "3\n",
      "2\n",
      "1\n"
     ]
    }
   ],
   "source": [
    "t = (1,2,3,4,5,6)\n",
    "for i in range(len(t)-1,-1,-1):\n",
    "    print(t[i])"
   ]
  },
  {
   "cell_type": "code",
   "execution_count": 507,
   "id": "3aa7d388",
   "metadata": {},
   "outputs": [
    {
     "data": {
      "text/plain": [
       "6"
      ]
     },
     "execution_count": 507,
     "metadata": {},
     "output_type": "execute_result"
    }
   ],
   "source": [
    "t = (1,2,3,4,5,6)\n",
    "len(t)"
   ]
  },
  {
   "cell_type": "code",
   "execution_count": 508,
   "id": "5ff36b12",
   "metadata": {},
   "outputs": [
    {
     "ename": "TypeError",
     "evalue": "'int' object is not iterable",
     "output_type": "error",
     "traceback": [
      "\u001b[1;31m---------------------------------------------------------------------------\u001b[0m",
      "\u001b[1;31mTypeError\u001b[0m                                 Traceback (most recent call last)",
      "\u001b[1;32mC:\\Users\\RAKSHA~1\\AppData\\Local\\Temp/ipykernel_17860/2962000937.py\u001b[0m in \u001b[0;36m<module>\u001b[1;34m\u001b[0m\n\u001b[1;32m----> 1\u001b[1;33m \u001b[1;32mfor\u001b[0m \u001b[0mi\u001b[0m \u001b[1;32min\u001b[0m \u001b[0mlen\u001b[0m\u001b[1;33m(\u001b[0m\u001b[0mt\u001b[0m\u001b[1;33m)\u001b[0m\u001b[1;33m:\u001b[0m\u001b[1;33m\u001b[0m\u001b[1;33m\u001b[0m\u001b[0m\n\u001b[0m\u001b[0;32m      2\u001b[0m     \u001b[0mprint\u001b[0m\u001b[1;33m(\u001b[0m\u001b[0mi\u001b[0m\u001b[1;33m)\u001b[0m\u001b[1;33m\u001b[0m\u001b[1;33m\u001b[0m\u001b[0m\n",
      "\u001b[1;31mTypeError\u001b[0m: 'int' object is not iterable"
     ]
    }
   ],
   "source": [
    "for i in len(t):\n",
    "    print(i)"
   ]
  },
  {
   "cell_type": "code",
   "execution_count": 509,
   "id": "a2e0d4c9",
   "metadata": {},
   "outputs": [],
   "source": [
    "d = {\"a\" : 'Hare', 'b' : \"krishna\"}"
   ]
  },
  {
   "cell_type": "code",
   "execution_count": 510,
   "id": "b94a65cb",
   "metadata": {},
   "outputs": [
    {
     "name": "stdout",
     "output_type": "stream",
     "text": [
      "a Hare\n",
      "b krishna\n"
     ]
    }
   ],
   "source": [
    "for i in d:\n",
    "    print(i, d[i])"
   ]
  },
  {
   "cell_type": "code",
   "execution_count": 511,
   "id": "da4dba29",
   "metadata": {},
   "outputs": [
    {
     "name": "stdout",
     "output_type": "stream",
     "text": [
      "('a', 'Hare')\n",
      "('b', 'krishna')\n"
     ]
    }
   ],
   "source": [
    "for i in d.items():\n",
    "    print(i)"
   ]
  },
  {
   "cell_type": "code",
   "execution_count": 512,
   "id": "88c66300",
   "metadata": {},
   "outputs": [
    {
     "data": {
      "text/plain": [
       "4"
      ]
     },
     "execution_count": 512,
     "metadata": {},
     "output_type": "execute_result"
    }
   ],
   "source": [
    "len('sudh')"
   ]
  },
  {
   "cell_type": "code",
   "execution_count": 513,
   "id": "edaa0d6f",
   "metadata": {},
   "outputs": [],
   "source": [
    "def test():\n",
    "    print(\"Hare krishna\")"
   ]
  },
  {
   "cell_type": "code",
   "execution_count": 514,
   "id": "575bb5b5",
   "metadata": {},
   "outputs": [
    {
     "name": "stdout",
     "output_type": "stream",
     "text": [
      "Hare krishna\n"
     ]
    }
   ],
   "source": [
    "test()"
   ]
  },
  {
   "cell_type": "code",
   "execution_count": 518,
   "id": "aac5ec89",
   "metadata": {},
   "outputs": [],
   "source": [
    "def test1():\n",
    "    return \"hare krishna hare krishna \""
   ]
  },
  {
   "cell_type": "code",
   "execution_count": 519,
   "id": "3073db18",
   "metadata": {},
   "outputs": [
    {
     "data": {
      "text/plain": [
       "'hare krishna hare krishna hare krishna hare krishna '"
      ]
     },
     "execution_count": 519,
     "metadata": {},
     "output_type": "execute_result"
    }
   ],
   "source": [
    "test1()*2"
   ]
  },
  {
   "cell_type": "code",
   "execution_count": 522,
   "id": "38676d53",
   "metadata": {},
   "outputs": [
    {
     "data": {
      "text/plain": [
       "'hare krishna hare krishna krishna krishna hare hare '"
      ]
     },
     "execution_count": 522,
     "metadata": {},
     "output_type": "execute_result"
    }
   ],
   "source": [
    "test1()+'krishna krishna hare hare '"
   ]
  },
  {
   "cell_type": "code",
   "execution_count": 524,
   "id": "b2898abb",
   "metadata": {},
   "outputs": [
    {
     "data": {
      "text/plain": [
       "str"
      ]
     },
     "execution_count": 524,
     "metadata": {},
     "output_type": "execute_result"
    }
   ],
   "source": [
    "type(test1())"
   ]
  },
  {
   "cell_type": "code",
   "execution_count": 526,
   "id": "3af996cf",
   "metadata": {},
   "outputs": [
    {
     "data": {
      "text/plain": [
       "{' ', 'a', 'e', 'h', 'i', 'k', 'n', 'r', 's'}"
      ]
     },
     "execution_count": 526,
     "metadata": {},
     "output_type": "execute_result"
    }
   ],
   "source": [
    "set(test1())"
   ]
  },
  {
   "cell_type": "code",
   "execution_count": 527,
   "id": "c8f6e959",
   "metadata": {},
   "outputs": [],
   "source": [
    "def test2():\n",
    "    return 343"
   ]
  },
  {
   "cell_type": "code",
   "execution_count": 528,
   "id": "7d68fa67",
   "metadata": {},
   "outputs": [
    {
     "data": {
      "text/plain": [
       "int"
      ]
     },
     "execution_count": 528,
     "metadata": {},
     "output_type": "execute_result"
    }
   ],
   "source": [
    "type(test2())"
   ]
  },
  {
   "cell_type": "code",
   "execution_count": 529,
   "id": "1dfb59a2",
   "metadata": {},
   "outputs": [
    {
     "data": {
      "text/plain": [
       "388"
      ]
     },
     "execution_count": 529,
     "metadata": {},
     "output_type": "execute_result"
    }
   ],
   "source": [
    "test2()+45"
   ]
  },
  {
   "cell_type": "code",
   "execution_count": 530,
   "id": "8d988eb2",
   "metadata": {},
   "outputs": [],
   "source": [
    "def test3():\n",
    "    return 3,4,5,6,7,[5,6,7]"
   ]
  },
  {
   "cell_type": "code",
   "execution_count": 532,
   "id": "a489c9a9",
   "metadata": {},
   "outputs": [],
   "source": [
    "b = test3()"
   ]
  },
  {
   "cell_type": "code",
   "execution_count": 533,
   "id": "3fdab8db",
   "metadata": {},
   "outputs": [
    {
     "data": {
      "text/plain": [
       "3"
      ]
     },
     "execution_count": 533,
     "metadata": {},
     "output_type": "execute_result"
    }
   ],
   "source": [
    "b[0]"
   ]
  },
  {
   "cell_type": "code",
   "execution_count": 536,
   "id": "3c8a8d1c",
   "metadata": {},
   "outputs": [
    {
     "name": "stdout",
     "output_type": "stream",
     "text": [
      "(0, 3)\n",
      "(1, 4)\n",
      "(2, 5)\n",
      "(3, 6)\n",
      "(4, 7)\n",
      "(5, [5, 6, 7])\n"
     ]
    }
   ],
   "source": [
    "for i in enumerate(b):\n",
    "    print(i)"
   ]
  },
  {
   "cell_type": "code",
   "execution_count": 538,
   "id": "39110ea4",
   "metadata": {},
   "outputs": [],
   "source": [
    "b[5][0] = \"Radhe Radhe\""
   ]
  },
  {
   "cell_type": "code",
   "execution_count": 539,
   "id": "e9bd22b7",
   "metadata": {},
   "outputs": [
    {
     "data": {
      "text/plain": [
       "(3, 4, 5, 6, 7, ['Radhe Radhe', 6, 7])"
      ]
     },
     "execution_count": 539,
     "metadata": {},
     "output_type": "execute_result"
    }
   ],
   "source": [
    "b"
   ]
  },
  {
   "cell_type": "code",
   "execution_count": null,
   "id": "899494ab",
   "metadata": {},
   "outputs": [],
   "source": []
  },
  {
   "cell_type": "code",
   "execution_count": 542,
   "id": "b041085f",
   "metadata": {},
   "outputs": [],
   "source": [
    "b = list(b)"
   ]
  },
  {
   "cell_type": "code",
   "execution_count": 543,
   "id": "e58e9635",
   "metadata": {},
   "outputs": [],
   "source": [
    "b[5].insert(1, \"Jay shree krishna\")"
   ]
  },
  {
   "cell_type": "code",
   "execution_count": 544,
   "id": "ab672e6a",
   "metadata": {},
   "outputs": [
    {
     "data": {
      "text/plain": [
       "[3, 4, 5, 6, 7, ['Radhe Radhe', 'Jay shree krishna', 6, 7]]"
      ]
     },
     "execution_count": 544,
     "metadata": {},
     "output_type": "execute_result"
    }
   ],
   "source": [
    "b"
   ]
  },
  {
   "cell_type": "code",
   "execution_count": 545,
   "id": "126e8f3c",
   "metadata": {},
   "outputs": [
    {
     "data": {
      "text/plain": [
       "dict_keys(['a', 'b'])"
      ]
     },
     "execution_count": 545,
     "metadata": {},
     "output_type": "execute_result"
    }
   ],
   "source": [
    "def test7(a):\n",
    "    if type(a) == dict:\n",
    "        return a.keys()\n",
    "    \n",
    "test7({'a': \"krishna\", 'b': 'hare'})\n",
    "    "
   ]
  },
  {
   "cell_type": "code",
   "execution_count": 546,
   "id": "8ff9e6cd",
   "metadata": {},
   "outputs": [],
   "source": [
    "def test8(l1,l2):\n",
    "    if type(l1) == list and type(l2) == list:\n",
    "        return l1+l2"
   ]
  },
  {
   "cell_type": "code",
   "execution_count": 547,
   "id": "0c81aa4b",
   "metadata": {},
   "outputs": [
    {
     "data": {
      "text/plain": [
       "[1, 2, 3, 3, 4, 5]"
      ]
     },
     "execution_count": 547,
     "metadata": {},
     "output_type": "execute_result"
    }
   ],
   "source": [
    "test8([1,2,3],[3,4,5])"
   ]
  },
  {
   "cell_type": "code",
   "execution_count": 549,
   "id": "d55bd753",
   "metadata": {},
   "outputs": [],
   "source": [
    "def test8(l1,l2):\n",
    "    if type(l1) == list and type(l2) == list:\n",
    "        l1.extend(l2)\n",
    "        return l1"
   ]
  },
  {
   "cell_type": "code",
   "execution_count": 550,
   "id": "b7ce914c",
   "metadata": {},
   "outputs": [
    {
     "data": {
      "text/plain": [
       "[1, 2, 3, 3, 4, 5]"
      ]
     },
     "execution_count": 550,
     "metadata": {},
     "output_type": "execute_result"
    }
   ],
   "source": [
    "test8([1,2,3],[3,4,5])"
   ]
  },
  {
   "cell_type": "code",
   "execution_count": 551,
   "id": "949810a5",
   "metadata": {},
   "outputs": [
    {
     "data": {
      "text/plain": [
       "12"
      ]
     },
     "execution_count": 551,
     "metadata": {},
     "output_type": "execute_result"
    }
   ],
   "source": [
    "def fun(s):\n",
    "    if type(s) == str:\n",
    "        count = 0\n",
    "        for i in s:\n",
    "            count = count+1\n",
    "        return count\n",
    "fun('Radhakrishna')"
   ]
  },
  {
   "cell_type": "code",
   "execution_count": 553,
   "id": "22471e30",
   "metadata": {},
   "outputs": [],
   "source": [
    "def fun(l):\n",
    "    if type(l) == list or type(l) == tuple or type(l) == str:\n",
    "        for i , j in enumerate(l):\n",
    "            print (x of {j} is {i} \"    "
   ]
  },
  {
   "cell_type": "code",
   "execution_count": 554,
   "id": "2a49d553",
   "metadata": {},
   "outputs": [
    {
     "data": {
      "text/plain": [
       "'index of R is 0 '"
      ]
     },
     "execution_count": 554,
     "metadata": {},
     "output_type": "execute_result"
    }
   ],
   "source": [
    "fun(\"Radha\")"
   ]
  },
  {
   "cell_type": "code",
   "execution_count": 559,
   "id": "0884ae54",
   "metadata": {},
   "outputs": [],
   "source": [
    "def fun(l):\n",
    "    if type(l) == list or type(l) == tuple or type(l) == str:\n",
    "        for i , j in enumerate(l):\n",
    "            print(f\"index of {j} is  {i} \")    "
   ]
  },
  {
   "cell_type": "code",
   "execution_count": 560,
   "id": "343f15b1",
   "metadata": {},
   "outputs": [
    {
     "name": "stdout",
     "output_type": "stream",
     "text": [
      "index of R is  0 \n",
      "index of a is  1 \n",
      "index of d is  2 \n",
      "index of h is  3 \n",
      "index of a is  4 \n"
     ]
    }
   ],
   "source": [
    "fun(\"Radha\")"
   ]
  },
  {
   "cell_type": "code",
   "execution_count": 567,
   "id": "d4940056",
   "metadata": {},
   "outputs": [
    {
     "data": {
      "text/plain": [
       "['.ipynb_checkpoints',\n",
       " 'Abstraction.ipynb',\n",
       " 'Class Method.ipynb',\n",
       " 'decorator.ipynb',\n",
       " 'Dender Method.ipynb',\n",
       " 'Encapsulation.ipynb',\n",
       " 'Property Decorator.ipynb',\n",
       " 'Static Method.ipynb',\n",
       " 'Untitled.ipynb']"
      ]
     },
     "execution_count": 567,
     "metadata": {},
     "output_type": "execute_result"
    }
   ],
   "source": [
    "import os \n",
    "def fun(path):\n",
    "    import os \n",
    "    return os.listdir()\n",
    "\n",
    "fun(os.getcwd())"
   ]
  },
  {
   "cell_type": "code",
   "execution_count": 569,
   "id": "97049843",
   "metadata": {},
   "outputs": [
    {
     "data": {
      "text/plain": [
       "'F:\\\\Feb_seven_2024\\\\Python_Practice'"
      ]
     },
     "execution_count": 569,
     "metadata": {},
     "output_type": "execute_result"
    }
   ],
   "source": [
    "pwd()"
   ]
  },
  {
   "cell_type": "code",
   "execution_count": 570,
   "id": "faf6866f",
   "metadata": {},
   "outputs": [],
   "source": [
    "def test(a,s,b):\n",
    "    return a,s,b"
   ]
  },
  {
   "cell_type": "code",
   "execution_count": 571,
   "id": "78e04eff",
   "metadata": {},
   "outputs": [],
   "source": [
    "def test1(*args):\n",
    "    return args"
   ]
  },
  {
   "cell_type": "code",
   "execution_count": 572,
   "id": "9dffae2c",
   "metadata": {},
   "outputs": [
    {
     "data": {
      "text/plain": [
       "(23, 4, 5, 6, 7, 4)"
      ]
     },
     "execution_count": 572,
     "metadata": {},
     "output_type": "execute_result"
    }
   ],
   "source": [
    "test1(23,4,5,6,7,4)"
   ]
  },
  {
   "cell_type": "code",
   "execution_count": 576,
   "id": "ac0574c8",
   "metadata": {},
   "outputs": [],
   "source": [
    "def test(*args,a):\n",
    "    return args, a"
   ]
  },
  {
   "cell_type": "code",
   "execution_count": 580,
   "id": "9a6c8497",
   "metadata": {},
   "outputs": [
    {
     "data": {
      "text/plain": [
       "((23, 4, 5, 6, 7, 4), 'Radha Rani')"
      ]
     },
     "execution_count": 580,
     "metadata": {},
     "output_type": "execute_result"
    }
   ],
   "source": [
    "test(23,4,5,6,7,4,a=\"Radha Rani\")"
   ]
  },
  {
   "cell_type": "code",
   "execution_count": 581,
   "id": "6d3af0e0",
   "metadata": {},
   "outputs": [
    {
     "data": {
      "text/plain": [
       "(23, (4, 5, 6, 7, 4, 'Radha Rani'))"
      ]
     },
     "execution_count": 581,
     "metadata": {},
     "output_type": "execute_result"
    }
   ],
   "source": [
    "def test3(a, *args):\n",
    "    return a, args\n",
    "\n",
    "test3(23,4,5,6,7,4, \"Radha Rani\")"
   ]
  },
  {
   "cell_type": "code",
   "execution_count": 583,
   "id": "eedbe174",
   "metadata": {},
   "outputs": [
    {
     "data": {
      "text/plain": [
       "('Radha Rani', (23, 4, 5, 6, 7, 4))"
      ]
     },
     "execution_count": 583,
     "metadata": {},
     "output_type": "execute_result"
    }
   ],
   "source": [
    "test3(\"Radha Rani\",23,4,5,6,7,4)"
   ]
  },
  {
   "cell_type": "code",
   "execution_count": 584,
   "id": "b08c70c3",
   "metadata": {},
   "outputs": [],
   "source": [
    "def test4(**kwargs):\n",
    "    return kwargs"
   ]
  },
  {
   "cell_type": "code",
   "execution_count": 585,
   "id": "49495e83",
   "metadata": {},
   "outputs": [
    {
     "data": {
      "text/plain": [
       "{'a': 'Radha', 'b': 'Krishna'}"
      ]
     },
     "execution_count": 585,
     "metadata": {},
     "output_type": "execute_result"
    }
   ],
   "source": [
    "test4(a= \"Radha\", b = \"Krishna\")"
   ]
  },
  {
   "cell_type": "code",
   "execution_count": 588,
   "id": "ec6050fa",
   "metadata": {},
   "outputs": [],
   "source": [
    "def test5(a, *args, **kwargs):\n",
    "    return a, args, kwargs"
   ]
  },
  {
   "cell_type": "code",
   "execution_count": 589,
   "id": "3c1b2fa9",
   "metadata": {},
   "outputs": [
    {
     "data": {
      "text/plain": [
       "(34,\n",
       " ([1, 2, 3, 4, 5], [4, 5, 6, 2]),\n",
       " {'b': 'Radhakrishna', 'c': 'Harekrishna'})"
      ]
     },
     "execution_count": 589,
     "metadata": {},
     "output_type": "execute_result"
    }
   ],
   "source": [
    "test5(34, [1,2,3,4,5], [4,5,6,2], b= 'Radhakrishna', c= \"Harekrishna\")"
   ]
  },
  {
   "cell_type": "code",
   "execution_count": 590,
   "id": "a11226a5",
   "metadata": {},
   "outputs": [],
   "source": [
    "a = lambda a , b : a*b"
   ]
  },
  {
   "cell_type": "code",
   "execution_count": 591,
   "id": "2f2f304a",
   "metadata": {},
   "outputs": [
    {
     "data": {
      "text/plain": [
       "12"
      ]
     },
     "execution_count": 591,
     "metadata": {},
     "output_type": "execute_result"
    }
   ],
   "source": [
    "a(3,4)"
   ]
  },
  {
   "cell_type": "code",
   "execution_count": 592,
   "id": "2a531bb3",
   "metadata": {},
   "outputs": [],
   "source": [
    "v = lambda *i : i**2"
   ]
  },
  {
   "cell_type": "code",
   "execution_count": 594,
   "id": "300d08e1",
   "metadata": {},
   "outputs": [
    {
     "ename": "TypeError",
     "evalue": "unsupported operand type(s) for ** or pow(): 'tuple' and 'int'",
     "output_type": "error",
     "traceback": [
      "\u001b[1;31m---------------------------------------------------------------------------\u001b[0m",
      "\u001b[1;31mTypeError\u001b[0m                                 Traceback (most recent call last)",
      "\u001b[1;32mC:\\Users\\RAKSHA~1\\AppData\\Local\\Temp/ipykernel_17860/2889851888.py\u001b[0m in \u001b[0;36m<module>\u001b[1;34m\u001b[0m\n\u001b[1;32m----> 1\u001b[1;33m \u001b[0mv\u001b[0m\u001b[1;33m(\u001b[0m\u001b[1;33m[\u001b[0m\u001b[1;36m1\u001b[0m\u001b[1;33m,\u001b[0m\u001b[1;36m2\u001b[0m\u001b[1;33m,\u001b[0m\u001b[1;36m3\u001b[0m\u001b[1;33m]\u001b[0m\u001b[1;33m)\u001b[0m\u001b[1;33m\u001b[0m\u001b[1;33m\u001b[0m\u001b[0m\n\u001b[0m",
      "\u001b[1;32mC:\\Users\\RAKSHA~1\\AppData\\Local\\Temp/ipykernel_17860/1449866130.py\u001b[0m in \u001b[0;36m<lambda>\u001b[1;34m(*i)\u001b[0m\n\u001b[1;32m----> 1\u001b[1;33m \u001b[0mv\u001b[0m \u001b[1;33m=\u001b[0m \u001b[1;32mlambda\u001b[0m \u001b[1;33m*\u001b[0m\u001b[0mi\u001b[0m \u001b[1;33m:\u001b[0m \u001b[0mi\u001b[0m\u001b[1;33m**\u001b[0m\u001b[1;36m2\u001b[0m\u001b[1;33m\u001b[0m\u001b[1;33m\u001b[0m\u001b[0m\n\u001b[0m",
      "\u001b[1;31mTypeError\u001b[0m: unsupported operand type(s) for ** or pow(): 'tuple' and 'int'"
     ]
    }
   ],
   "source": [
    "v([1,2,3])"
   ]
  },
  {
   "cell_type": "code",
   "execution_count": 600,
   "id": "c8d29e1a",
   "metadata": {},
   "outputs": [
    {
     "name": "stdout",
     "output_type": "stream",
     "text": [
      "[4, 9, 16]\n"
     ]
    }
   ],
   "source": [
    "v = lambda *a : [x**2 for x in a]\n",
    "result = v(2, 3, 4)\n",
    "print(result)  # Output: [4, 9, 16]\n"
   ]
  },
  {
   "cell_type": "code",
   "execution_count": 601,
   "id": "ba99c3ae",
   "metadata": {},
   "outputs": [],
   "source": [
    "v = lambda *a : [x**2 for x in a]"
   ]
  },
  {
   "cell_type": "code",
   "execution_count": 602,
   "id": "39dfda67",
   "metadata": {},
   "outputs": [
    {
     "data": {
      "text/plain": [
       "[4, 9, 16]"
      ]
     },
     "execution_count": 602,
     "metadata": {},
     "output_type": "execute_result"
    }
   ],
   "source": [
    "v(2,3,4)"
   ]
  },
  {
   "cell_type": "code",
   "execution_count": 615,
   "id": "9e1c4eda",
   "metadata": {},
   "outputs": [],
   "source": [
    "a = 10\n",
    "def test16(c,d):\n",
    "    a = 500\n",
    "    return c*d, a"
   ]
  },
  {
   "cell_type": "code",
   "execution_count": 616,
   "id": "16630d3c",
   "metadata": {},
   "outputs": [
    {
     "data": {
      "text/plain": [
       "(20, 500)"
      ]
     },
     "execution_count": 616,
     "metadata": {},
     "output_type": "execute_result"
    }
   ],
   "source": [
    "test16(a,2)"
   ]
  },
  {
   "cell_type": "code",
   "execution_count": 619,
   "id": "21093aa3",
   "metadata": {},
   "outputs": [
    {
     "data": {
      "text/plain": [
       "{0: 0, 1: 1, 2: 4, 3: 9, 4: 16}"
      ]
     },
     "execution_count": 619,
     "metadata": {},
     "output_type": "execute_result"
    }
   ],
   "source": [
    "def test2(l):\n",
    "    d = {}\n",
    "    for i in range(l):\n",
    "        d[i] = i**2\n",
    "    return d\n",
    "\n",
    "test2(5)"
   ]
  },
  {
   "cell_type": "code",
   "execution_count": 622,
   "id": "28005f50",
   "metadata": {},
   "outputs": [],
   "source": [
    "x= lambda l : { i:i**2 for i in range(l) }"
   ]
  },
  {
   "cell_type": "code",
   "execution_count": 624,
   "id": "d2de9c15",
   "metadata": {},
   "outputs": [
    {
     "data": {
      "text/plain": [
       "{0: 0, 1: 1, 2: 4, 3: 9, 4: 16, 5: 25}"
      ]
     },
     "execution_count": 624,
     "metadata": {},
     "output_type": "execute_result"
    }
   ],
   "source": [
    "x(6)"
   ]
  },
  {
   "cell_type": "code",
   "execution_count": 626,
   "id": "3f052c70",
   "metadata": {},
   "outputs": [
    {
     "data": {
      "text/plain": [
       "<generator object <genexpr> at 0x0000024E24E812E0>"
      ]
     },
     "execution_count": 626,
     "metadata": {},
     "output_type": "execute_result"
    }
   ],
   "source": [
    "(i for i in range(10))"
   ]
  },
  {
   "cell_type": "code",
   "execution_count": 627,
   "id": "52281636",
   "metadata": {},
   "outputs": [],
   "source": [
    "a = (i for i in range(10))"
   ]
  },
  {
   "cell_type": "code",
   "execution_count": 628,
   "id": "8d626dd1",
   "metadata": {},
   "outputs": [
    {
     "data": {
      "text/plain": [
       "(0, 1, 2, 3, 4, 5, 6, 7, 8, 9)"
      ]
     },
     "execution_count": 628,
     "metadata": {},
     "output_type": "execute_result"
    }
   ],
   "source": [
    "tuple(a)"
   ]
  },
  {
   "cell_type": "code",
   "execution_count": 630,
   "id": "e72d89d1",
   "metadata": {},
   "outputs": [
    {
     "ename": "TypeError",
     "evalue": "'int' object is not iterable",
     "output_type": "error",
     "traceback": [
      "\u001b[1;31m---------------------------------------------------------------------------\u001b[0m",
      "\u001b[1;31mTypeError\u001b[0m                                 Traceback (most recent call last)",
      "\u001b[1;32mC:\\Users\\RAKSHA~1\\AppData\\Local\\Temp/ipykernel_17860/815125379.py\u001b[0m in \u001b[0;36m<module>\u001b[1;34m\u001b[0m\n\u001b[0;32m      1\u001b[0m \u001b[0ma\u001b[0m \u001b[1;33m=\u001b[0m \u001b[1;36m56\u001b[0m\u001b[1;33m\u001b[0m\u001b[1;33m\u001b[0m\u001b[0m\n\u001b[1;32m----> 2\u001b[1;33m \u001b[1;32mfor\u001b[0m \u001b[0mi\u001b[0m \u001b[1;32min\u001b[0m \u001b[0ma\u001b[0m\u001b[1;33m:\u001b[0m\u001b[1;33m\u001b[0m\u001b[1;33m\u001b[0m\u001b[0m\n\u001b[0m\u001b[0;32m      3\u001b[0m     \u001b[0mprint\u001b[0m\u001b[1;33m(\u001b[0m\u001b[0mi\u001b[0m\u001b[1;33m)\u001b[0m\u001b[1;33m\u001b[0m\u001b[1;33m\u001b[0m\u001b[0m\n",
      "\u001b[1;31mTypeError\u001b[0m: 'int' object is not iterable"
     ]
    }
   ],
   "source": [
    "a = 56\n",
    "for i in a:\n",
    "    print(i)"
   ]
  },
  {
   "cell_type": "code",
   "execution_count": 633,
   "id": "f62547b8",
   "metadata": {},
   "outputs": [
    {
     "ename": "TypeError",
     "evalue": "'str' object is not an iterator",
     "output_type": "error",
     "traceback": [
      "\u001b[1;31m---------------------------------------------------------------------------\u001b[0m",
      "\u001b[1;31mTypeError\u001b[0m                                 Traceback (most recent call last)",
      "\u001b[1;32mC:\\Users\\RAKSHA~1\\AppData\\Local\\Temp/ipykernel_17860/201916199.py\u001b[0m in \u001b[0;36m<module>\u001b[1;34m\u001b[0m\n\u001b[0;32m      1\u001b[0m \u001b[0ms\u001b[0m \u001b[1;33m=\u001b[0m \u001b[1;34m\"Radha\"\u001b[0m\u001b[1;33m\u001b[0m\u001b[1;33m\u001b[0m\u001b[0m\n\u001b[1;32m----> 2\u001b[1;33m \u001b[0mnext\u001b[0m\u001b[1;33m(\u001b[0m\u001b[0ms\u001b[0m\u001b[1;33m)\u001b[0m\u001b[1;33m\u001b[0m\u001b[1;33m\u001b[0m\u001b[0m\n\u001b[0m",
      "\u001b[1;31mTypeError\u001b[0m: 'str' object is not an iterator"
     ]
    }
   ],
   "source": [
    "s = \"Radha\"\n",
    "next(s)"
   ]
  },
  {
   "cell_type": "code",
   "execution_count": 635,
   "id": "2c456387",
   "metadata": {},
   "outputs": [],
   "source": [
    "s = iter(s)"
   ]
  },
  {
   "cell_type": "code",
   "execution_count": 636,
   "id": "8b63ed72",
   "metadata": {},
   "outputs": [
    {
     "data": {
      "text/plain": [
       "'R'"
      ]
     },
     "execution_count": 636,
     "metadata": {},
     "output_type": "execute_result"
    }
   ],
   "source": [
    "next(s)"
   ]
  },
  {
   "cell_type": "code",
   "execution_count": 637,
   "id": "4a88cf57",
   "metadata": {},
   "outputs": [
    {
     "data": {
      "text/plain": [
       "'a'"
      ]
     },
     "execution_count": 637,
     "metadata": {},
     "output_type": "execute_result"
    }
   ],
   "source": [
    "next(s)"
   ]
  },
  {
   "cell_type": "code",
   "execution_count": 638,
   "id": "f4534169",
   "metadata": {},
   "outputs": [],
   "source": [
    "l = [1,2,3,4]"
   ]
  },
  {
   "cell_type": "code",
   "execution_count": 639,
   "id": "401bd27f",
   "metadata": {},
   "outputs": [
    {
     "ename": "TypeError",
     "evalue": "'list' object is not an iterator",
     "output_type": "error",
     "traceback": [
      "\u001b[1;31m---------------------------------------------------------------------------\u001b[0m",
      "\u001b[1;31mTypeError\u001b[0m                                 Traceback (most recent call last)",
      "\u001b[1;32mC:\\Users\\RAKSHA~1\\AppData\\Local\\Temp/ipykernel_17860/2016234150.py\u001b[0m in \u001b[0;36m<module>\u001b[1;34m\u001b[0m\n\u001b[1;32m----> 1\u001b[1;33m \u001b[0mnext\u001b[0m\u001b[1;33m(\u001b[0m\u001b[0ml\u001b[0m\u001b[1;33m)\u001b[0m\u001b[1;33m\u001b[0m\u001b[1;33m\u001b[0m\u001b[0m\n\u001b[0m",
      "\u001b[1;31mTypeError\u001b[0m: 'list' object is not an iterator"
     ]
    }
   ],
   "source": [
    "next(l)"
   ]
  },
  {
   "cell_type": "code",
   "execution_count": 641,
   "id": "50c480af",
   "metadata": {},
   "outputs": [],
   "source": [
    "l = iter(l)"
   ]
  },
  {
   "cell_type": "code",
   "execution_count": 642,
   "id": "27825734",
   "metadata": {},
   "outputs": [
    {
     "data": {
      "text/plain": [
       "1"
      ]
     },
     "execution_count": 642,
     "metadata": {},
     "output_type": "execute_result"
    }
   ],
   "source": [
    "next(l)"
   ]
  },
  {
   "cell_type": "code",
   "execution_count": 643,
   "id": "d768cd3c",
   "metadata": {},
   "outputs": [
    {
     "ename": "TypeError",
     "evalue": "'int' object is not iterable",
     "output_type": "error",
     "traceback": [
      "\u001b[1;31m---------------------------------------------------------------------------\u001b[0m",
      "\u001b[1;31mTypeError\u001b[0m                                 Traceback (most recent call last)",
      "\u001b[1;32mC:\\Users\\RAKSHA~1\\AppData\\Local\\Temp/ipykernel_17860/1978218796.py\u001b[0m in \u001b[0;36m<module>\u001b[1;34m\u001b[0m\n\u001b[0;32m      1\u001b[0m \u001b[0ma\u001b[0m \u001b[1;33m=\u001b[0m \u001b[1;36m45\u001b[0m\u001b[1;33m\u001b[0m\u001b[1;33m\u001b[0m\u001b[0m\n\u001b[1;32m----> 2\u001b[1;33m \u001b[1;32mfor\u001b[0m \u001b[0mi\u001b[0m \u001b[1;32min\u001b[0m \u001b[0ma\u001b[0m \u001b[1;33m:\u001b[0m\u001b[1;33m\u001b[0m\u001b[1;33m\u001b[0m\u001b[0m\n\u001b[0m\u001b[0;32m      3\u001b[0m     \u001b[0mprint\u001b[0m\u001b[1;33m(\u001b[0m\u001b[0mi\u001b[0m\u001b[1;33m)\u001b[0m\u001b[1;33m\u001b[0m\u001b[1;33m\u001b[0m\u001b[0m\n",
      "\u001b[1;31mTypeError\u001b[0m: 'int' object is not iterable"
     ]
    }
   ],
   "source": [
    "a = 45\n",
    "for i in a :\n",
    "    print(i)"
   ]
  },
  {
   "cell_type": "code",
   "execution_count": 645,
   "id": "312e1698",
   "metadata": {},
   "outputs": [
    {
     "ename": "TypeError",
     "evalue": "'int' object is not iterable",
     "output_type": "error",
     "traceback": [
      "\u001b[1;31m---------------------------------------------------------------------------\u001b[0m",
      "\u001b[1;31mTypeError\u001b[0m                                 Traceback (most recent call last)",
      "\u001b[1;32mC:\\Users\\RAKSHA~1\\AppData\\Local\\Temp/ipykernel_17860/767013278.py\u001b[0m in \u001b[0;36m<module>\u001b[1;34m\u001b[0m\n\u001b[1;32m----> 1\u001b[1;33m \u001b[0ma\u001b[0m \u001b[1;33m=\u001b[0m \u001b[0miter\u001b[0m\u001b[1;33m(\u001b[0m\u001b[0ma\u001b[0m\u001b[1;33m)\u001b[0m\u001b[1;33m\u001b[0m\u001b[1;33m\u001b[0m\u001b[0m\n\u001b[0m",
      "\u001b[1;31mTypeError\u001b[0m: 'int' object is not iterable"
     ]
    }
   ],
   "source": [
    "a = iter(a)"
   ]
  },
  {
   "cell_type": "code",
   "execution_count": 651,
   "id": "c9ecd2f1",
   "metadata": {},
   "outputs": [],
   "source": [
    "def test(n):\n",
    "    l1 = []\n",
    "    for i in range(n):\n",
    "        l1.append(i**2)\n",
    "    return l1\n",
    "    "
   ]
  },
  {
   "cell_type": "code",
   "execution_count": 652,
   "id": "6060a293",
   "metadata": {},
   "outputs": [
    {
     "data": {
      "text/plain": [
       "[0, 1, 4, 9]"
      ]
     },
     "execution_count": 652,
     "metadata": {},
     "output_type": "execute_result"
    }
   ],
   "source": [
    "test(4)"
   ]
  },
  {
   "cell_type": "code",
   "execution_count": 653,
   "id": "0ea2dcdf",
   "metadata": {},
   "outputs": [],
   "source": [
    "def test(n):\n",
    "    for i in range(n):\n",
    "        yield i**3"
   ]
  },
  {
   "cell_type": "code",
   "execution_count": 654,
   "id": "da636260",
   "metadata": {},
   "outputs": [
    {
     "data": {
      "text/plain": [
       "<generator object test at 0x0000024E24E9D3C0>"
      ]
     },
     "execution_count": 654,
     "metadata": {},
     "output_type": "execute_result"
    }
   ],
   "source": [
    "test(5)"
   ]
  },
  {
   "cell_type": "code",
   "execution_count": 655,
   "id": "3835cb5a",
   "metadata": {},
   "outputs": [
    {
     "name": "stdout",
     "output_type": "stream",
     "text": [
      "0\n",
      "1\n",
      "8\n",
      "27\n",
      "64\n"
     ]
    }
   ],
   "source": [
    "for i in test(5):\n",
    "    print(i)"
   ]
  },
  {
   "cell_type": "code",
   "execution_count": 656,
   "id": "bb85a3be",
   "metadata": {},
   "outputs": [
    {
     "data": {
      "text/plain": [
       "(0, 1, 8, 27, 64)"
      ]
     },
     "execution_count": 656,
     "metadata": {},
     "output_type": "execute_result"
    }
   ],
   "source": [
    "tuple(test(5))"
   ]
  },
  {
   "cell_type": "code",
   "execution_count": 657,
   "id": "2f0db662",
   "metadata": {},
   "outputs": [],
   "source": [
    "def fib(n):\n",
    "    a = 1\n",
    "    b = 1\n",
    "    c = 1 \n",
    "    \n",
    "    for i in range(n):\n",
    "        yield a, i \n",
    "        a , b= b, a+b"
   ]
  },
  {
   "cell_type": "code",
   "execution_count": 659,
   "id": "9726d347",
   "metadata": {},
   "outputs": [
    {
     "data": {
      "text/plain": [
       "((1, 0), (1, 1), (2, 2), (3, 3), (5, 4), (8, 5), (13, 6), (21, 7))"
      ]
     },
     "execution_count": 659,
     "metadata": {},
     "output_type": "execute_result"
    }
   ],
   "source": [
    "tuple(fib(8))"
   ]
  },
  {
   "cell_type": "code",
   "execution_count": 660,
   "id": "bd4c8e69",
   "metadata": {},
   "outputs": [
    {
     "name": "stdout",
     "output_type": "stream",
     "text": [
      "(1, 0)\n",
      "(1, 1)\n",
      "(2, 2)\n",
      "(3, 3)\n",
      "(5, 4)\n",
      "(8, 5)\n",
      "(13, 6)\n",
      "(21, 7)\n",
      "(34, 8)\n",
      "(55, 9)\n"
     ]
    }
   ],
   "source": [
    "for i in fib(10):\n",
    "    print(i)"
   ]
  },
  {
   "cell_type": "code",
   "execution_count": 691,
   "id": "803da5fb",
   "metadata": {},
   "outputs": [
    {
     "data": {
      "text/plain": [
       "51"
      ]
     },
     "execution_count": 691,
     "metadata": {},
     "output_type": "execute_result"
    }
   ],
   "source": [
    "f = open(\"test.txt\", \"w\")\n",
    "\n",
    "f.write(\"Hare krishna hare krishna krishna krishna hare hare\")"
   ]
  },
  {
   "cell_type": "code",
   "execution_count": 692,
   "id": "ecdf590d",
   "metadata": {},
   "outputs": [],
   "source": [
    "f.close()"
   ]
  },
  {
   "cell_type": "code",
   "execution_count": 693,
   "id": "c6826896",
   "metadata": {},
   "outputs": [
    {
     "data": {
      "text/plain": [
       "'Hare krishna hare krishna krishna krishna hare hare'"
      ]
     },
     "execution_count": 693,
     "metadata": {},
     "output_type": "execute_result"
    }
   ],
   "source": [
    "f = open(\"test.txt\", \"r\")\n",
    "\n",
    "f.read()"
   ]
  },
  {
   "cell_type": "code",
   "execution_count": 694,
   "id": "47f5267f",
   "metadata": {},
   "outputs": [
    {
     "data": {
      "text/plain": [
       "51"
      ]
     },
     "execution_count": 694,
     "metadata": {},
     "output_type": "execute_result"
    }
   ],
   "source": [
    "f.tell()"
   ]
  },
  {
   "cell_type": "code",
   "execution_count": 695,
   "id": "6cafca76",
   "metadata": {},
   "outputs": [
    {
     "data": {
      "text/plain": [
       "0"
      ]
     },
     "execution_count": 695,
     "metadata": {},
     "output_type": "execute_result"
    }
   ],
   "source": [
    "f.seek(0)"
   ]
  },
  {
   "cell_type": "code",
   "execution_count": 696,
   "id": "93e3abd7",
   "metadata": {},
   "outputs": [
    {
     "data": {
      "text/plain": [
       "0"
      ]
     },
     "execution_count": 696,
     "metadata": {},
     "output_type": "execute_result"
    }
   ],
   "source": [
    "f.tell()"
   ]
  },
  {
   "cell_type": "code",
   "execution_count": 700,
   "id": "07975f3d",
   "metadata": {},
   "outputs": [
    {
     "name": "stdout",
     "output_type": "stream",
     "text": [
      "Hare krishna hare krishna krishna krishna hare hareHare Ram Hare Ram Ram Ram Hare HareHare Ram Hare Ram Ram Ram Hare HareHare Ram Hare Ram Ram Ram Hare Hare\n",
      "35\n"
     ]
    }
   ],
   "source": [
    "def test1():\n",
    "    with open(\"test.txt\", \"a\") as f:\n",
    "        b= f.write(\"Hare Ram Hare Ram Ram Ram Hare Hare\")\n",
    "        print(b)\n",
    "        \n",
    "with open(\"test.txt\", 'r') as f:\n",
    "    a= f.read()\n",
    "    print(a)\n",
    "    \n",
    "test1()"
   ]
  },
  {
   "cell_type": "code",
   "execution_count": 701,
   "id": "46444451",
   "metadata": {},
   "outputs": [
    {
     "name": "stdout",
     "output_type": "stream",
     "text": [
      "Hare krishna hare krishna krishna krishna hare hareHare Ram Hare Ram Ram Ram Hare HareHare Ram Hare Ram Ram Ram Hare HareHare Ram Hare Ram Ram Ram Hare HareHare Ram Hare Ram Ram Ram Hare Hare\n",
      "35\n"
     ]
    }
   ],
   "source": [
    "def test1():\n",
    "    with open(\"test.txt\", \"a\") as f:\n",
    "        b = f.write(\"Hare Ram Hare Ram Ram Ram Hare Hare\")\n",
    "        print(b)\n",
    "        \n",
    "with open(\"test.txt\", 'r') as f:\n",
    "    a = f.read()\n",
    "    print(a)\n",
    "    \n",
    "test1()\n"
   ]
  },
  {
   "cell_type": "code",
   "execution_count": 704,
   "id": "200433d0",
   "metadata": {},
   "outputs": [
    {
     "name": "stdout",
     "output_type": "stream",
     "text": [
      " Volume in drive F is New Volume\n",
      " Volume Serial Number is 82AB-691C\n",
      "\n",
      " Directory of F:\\Feb_seven_2024\\Python_Practice\n",
      "\n",
      "04-04-2024  10:30    <DIR>          .\n",
      "08-02-2024  19:39    <DIR>          ..\n",
      "03-04-2024  12:56    <DIR>          .ipynb_checkpoints\n",
      "08-02-2024  20:30             2,807 Abstraction.ipynb\n",
      "09-02-2024  13:56            18,553 Class Method.ipynb\n",
      "09-02-2024  12:22             3,859 decorator.ipynb\n",
      "09-02-2024  15:18            10,638 Dender Method.ipynb\n",
      "06-03-2024  14:08             8,951 Encapsulation.ipynb\n",
      "09-02-2024  16:32             5,806 Property Decorator.ipynb\n",
      "09-02-2024  15:04             5,851 Static Method.ipynb\n",
      "04-04-2024  10:28               226 test.txt\n",
      "04-04-2024  10:30           135,278 Untitled.ipynb\n",
      "               9 File(s)        191,969 bytes\n",
      "               3 Dir(s)  303,668,342,784 bytes free\n"
     ]
    }
   ],
   "source": [
    "ls"
   ]
  },
  {
   "cell_type": "code",
   "execution_count": 705,
   "id": "d03375df",
   "metadata": {},
   "outputs": [
    {
     "ename": "ValueError",
     "evalue": "I/O operation on closed file",
     "output_type": "error",
     "traceback": [
      "\u001b[1;31m---------------------------------------------------------------------------\u001b[0m",
      "\u001b[1;31mValueError\u001b[0m                                Traceback (most recent call last)",
      "\u001b[1;32mC:\\Users\\RAKSHA~1\\AppData\\Local\\Temp/ipykernel_17860/2575569948.py\u001b[0m in \u001b[0;36m<module>\u001b[1;34m\u001b[0m\n\u001b[1;32m----> 1\u001b[1;33m \u001b[0mf\u001b[0m\u001b[1;33m.\u001b[0m\u001b[0mfileno\u001b[0m\u001b[1;33m(\u001b[0m\u001b[1;33m)\u001b[0m\u001b[1;33m\u001b[0m\u001b[1;33m\u001b[0m\u001b[0m\n\u001b[0m",
      "\u001b[1;31mValueError\u001b[0m: I/O operation on closed file"
     ]
    }
   ],
   "source": [
    "f.fileno()"
   ]
  },
  {
   "cell_type": "code",
   "execution_count": 708,
   "id": "5e0e4a83",
   "metadata": {},
   "outputs": [
    {
     "name": "stdout",
     "output_type": "stream",
     "text": [
      "test.txt\n"
     ]
    }
   ],
   "source": [
    "import os \n",
    "def text_file(a):\n",
    "    for i in os.listdir():\n",
    "        if i.endswith('.txt'):\n",
    "            print(i)\n",
    "            \n",
    "text_file(os.getcwd())"
   ]
  },
  {
   "cell_type": "code",
   "execution_count": 709,
   "id": "8dd072fd",
   "metadata": {},
   "outputs": [
    {
     "data": {
      "text/plain": [
       "1"
      ]
     },
     "execution_count": 709,
     "metadata": {},
     "output_type": "execute_result"
    }
   ],
   "source": [
    "import os \n",
    "os.system(\"ls *.txt\")"
   ]
  },
  {
   "cell_type": "code",
   "execution_count": 710,
   "id": "1bb2d7b1",
   "metadata": {},
   "outputs": [
    {
     "data": {
      "text/plain": [
       "0.5"
      ]
     },
     "execution_count": 710,
     "metadata": {},
     "output_type": "execute_result"
    }
   ],
   "source": [
    "a = 5\n",
    "a/10"
   ]
  },
  {
   "cell_type": "code",
   "execution_count": 718,
   "id": "7cc59adf",
   "metadata": {},
   "outputs": [
    {
     "name": "stdout",
     "output_type": "stream",
     "text": [
      "division by zero\n"
     ]
    }
   ],
   "source": [
    "try:\n",
    "    a = 10\n",
    "    b = a/0\n",
    "    print(b)\n",
    "    \n",
    "except ZeroDivisionError as e:\n",
    "    print(e)"
   ]
  },
  {
   "cell_type": "code",
   "execution_count": 719,
   "id": "7d37cc72",
   "metadata": {},
   "outputs": [
    {
     "name": "stdout",
     "output_type": "stream",
     "text": [
      "not writable\n"
     ]
    }
   ],
   "source": [
    "try:\n",
    "    f = open(\"test.txt\", \"r\")\n",
    "    f.write(\"HARE KRISHNA\")\n",
    "\n",
    "except Exception as e:\n",
    "    print(e)"
   ]
  },
  {
   "cell_type": "code",
   "execution_count": 721,
   "id": "04fb2104",
   "metadata": {},
   "outputs": [
    {
     "name": "stdout",
     "output_type": "stream",
     "text": [
      "1\n",
      "2\n",
      "3\n",
      "4\n",
      "5\n",
      "list index out of range\n"
     ]
    }
   ],
   "source": [
    "try :\n",
    "    l = [1,2,3,4,5]\n",
    "    for i in range(len(l)+1):\n",
    "        print(l[i])\n",
    "        \n",
    "except Exception as e:\n",
    "    print(e)\n",
    "    "
   ]
  },
  {
   "cell_type": "code",
   "execution_count": 722,
   "id": "28135859",
   "metadata": {},
   "outputs": [
    {
     "name": "stdout",
     "output_type": "stream",
     "text": [
      "1\n",
      "2\n",
      "3\n",
      "4\n",
      "5\n",
      "list index out of range\n",
      "Hare krishna\n"
     ]
    }
   ],
   "source": [
    "try :\n",
    "    l = [1,2,3,4,5]\n",
    "    for i in range(len(l)+1):\n",
    "        print(l[i])\n",
    "        \n",
    "except Exception as e:\n",
    "    print(e)\n",
    "    \n",
    "\n",
    "print(\"Hare krishna\")"
   ]
  },
  {
   "cell_type": "code",
   "execution_count": 724,
   "id": "5e3301d3",
   "metadata": {},
   "outputs": [
    {
     "name": "stdout",
     "output_type": "stream",
     "text": [
      "1\n",
      "2\n",
      "3\n",
      "4\n",
      "5\n",
      "list index out of range\n"
     ]
    }
   ],
   "source": [
    "try :\n",
    "    l = [1,2,3,4,5]\n",
    "    for i in range(len(l)+1):\n",
    "        print(l[i])\n",
    "        \n",
    "except Exception as e:\n",
    "    print(e)\n",
    "\n",
    "else:\n",
    "    print(\"try is not executed sucessfully , HARE KRISHNA\")\n",
    "    "
   ]
  },
  {
   "cell_type": "code",
   "execution_count": 726,
   "id": "bb8ebdc2",
   "metadata": {},
   "outputs": [
    {
     "name": "stdout",
     "output_type": "stream",
     "text": [
      "1\n",
      "2\n",
      "3\n",
      "4\n",
      "5\n",
      "try is  executed sucessfully , HARE KRISHNA\n"
     ]
    }
   ],
   "source": [
    "try :\n",
    "    l = [1,2,3,4,5]\n",
    "    for i in range(len(l)):\n",
    "        print(l[i])\n",
    "        \n",
    "except Exception as e:\n",
    "    print(e)\n",
    "\n",
    "else:\n",
    "    print(\"try is  executed sucessfully , HARE KRISHNA\")\n",
    "    "
   ]
  },
  {
   "cell_type": "code",
   "execution_count": 728,
   "id": "431dd203",
   "metadata": {},
   "outputs": [
    {
     "name": "stdout",
     "output_type": "stream",
     "text": [
      "1\n",
      "2\n",
      "3\n",
      "4\n",
      "5\n",
      "list index out of range\n",
      "I am exetuting alawys wher try fail or pass, HARI HARI\n"
     ]
    }
   ],
   "source": [
    "try :\n",
    "    l = [1,2,3,4,5]\n",
    "    for i in range(len(l)+1):\n",
    "        print(l[i])\n",
    "        \n",
    "except Exception as e:\n",
    "    print(e)\n",
    "\n",
    "else:\n",
    "    print(\"try is  executed sucessfully , HARE KRISHNA\")\n",
    "    \n",
    "finally:\n",
    "    print(\"I am exetuting alawys wher try fail or pass, HARI HARI\")\n",
    "    "
   ]
  },
  {
   "cell_type": "code",
   "execution_count": 729,
   "id": "12e39ca2",
   "metadata": {},
   "outputs": [
    {
     "name": "stdout",
     "output_type": "stream",
     "text": [
      "Hare krishna Hare Rama\n",
      "invalid literal for int() with base 10: 'Hare krishna Hare Rama'\n"
     ]
    }
   ],
   "source": [
    "def askint():\n",
    "    try:\n",
    "        a = int(input())\n",
    "        return a\n",
    "    \n",
    "    except Exception as e:\n",
    "        print(e)\n",
    "askint()"
   ]
  },
  {
   "cell_type": "code",
   "execution_count": 732,
   "id": "56e7c0fd",
   "metadata": {},
   "outputs": [
    {
     "name": "stdout",
     "output_type": "stream",
     "text": [
      "jay shree krishna\n",
      "invalid literal for int() with base 10: 'jay shree krishna'\n"
     ]
    }
   ],
   "source": [
    "def askint():\n",
    "    try:\n",
    "        while True:\n",
    "            a = int(input())\n",
    "            #return a\n",
    "    \n",
    "    except Exception as e:\n",
    "        print(e)\n",
    "askint()"
   ]
  },
  {
   "cell_type": "code",
   "execution_count": 739,
   "id": "ad841554",
   "metadata": {},
   "outputs": [
    {
     "name": "stdout",
     "output_type": "stream",
     "text": [
      "f\n",
      "invalid literal for int() with base 10: 'f'\n",
      "f\n",
      "invalid literal for int() with base 10: 'f'\n",
      "4\n"
     ]
    },
    {
     "data": {
      "text/plain": [
       "4"
      ]
     },
     "execution_count": 739,
     "metadata": {},
     "output_type": "execute_result"
    }
   ],
   "source": [
    "def askint():\n",
    "    flag = True\n",
    "    while flag :\n",
    "        try:\n",
    "            a = int(input())\n",
    "            return a\n",
    "            flag = False\n",
    "    \n",
    "        except Exception as e:\n",
    "            print(e)\n",
    "    \n",
    "askint()"
   ]
  },
  {
   "cell_type": "code",
   "execution_count": 741,
   "id": "2247ee3b",
   "metadata": {},
   "outputs": [
    {
     "ename": "SyntaxError",
     "evalue": "invalid syntax (Temp/ipykernel_17860/4120524034.py, line 5)",
     "output_type": "error",
     "traceback": [
      "\u001b[1;36m  File \u001b[1;32m\"C:\\Users\\RAKSHA~1\\AppData\\Local\\Temp/ipykernel_17860/4120524034.py\"\u001b[1;36m, line \u001b[1;32m5\u001b[0m\n\u001b[1;33m    raise Exception('error',a )\u001b[0m\n\u001b[1;37m    ^\u001b[0m\n\u001b[1;31mSyntaxError\u001b[0m\u001b[1;31m:\u001b[0m invalid syntax\n"
     ]
    }
   ],
   "source": [
    "def test(a):\n",
    "    try:\n",
    "        b= 10/a\n",
    "        print(b)\n",
    "    raise Exception('error',a )\n",
    "\n"
   ]
  },
  {
   "cell_type": "code",
   "execution_count": 747,
   "id": "589bb7e6",
   "metadata": {},
   "outputs": [],
   "source": [
    "def test(a):\n",
    "    try:\n",
    "        b = 10 / a\n",
    "        print(b)\n",
    "    except Exception as e:\n",
    "        raise Exception('error', a)"
   ]
  },
  {
   "cell_type": "code",
   "execution_count": 748,
   "id": "011d0d5e",
   "metadata": {},
   "outputs": [
    {
     "ename": "Exception",
     "evalue": "('error', 0)",
     "output_type": "error",
     "traceback": [
      "\u001b[1;31m---------------------------------------------------------------------------\u001b[0m",
      "\u001b[1;31mZeroDivisionError\u001b[0m                         Traceback (most recent call last)",
      "\u001b[1;32mC:\\Users\\RAKSHA~1\\AppData\\Local\\Temp/ipykernel_17860/3931455579.py\u001b[0m in \u001b[0;36mtest\u001b[1;34m(a)\u001b[0m\n\u001b[0;32m      2\u001b[0m     \u001b[1;32mtry\u001b[0m\u001b[1;33m:\u001b[0m\u001b[1;33m\u001b[0m\u001b[1;33m\u001b[0m\u001b[0m\n\u001b[1;32m----> 3\u001b[1;33m         \u001b[0mb\u001b[0m \u001b[1;33m=\u001b[0m \u001b[1;36m10\u001b[0m \u001b[1;33m/\u001b[0m \u001b[0ma\u001b[0m\u001b[1;33m\u001b[0m\u001b[1;33m\u001b[0m\u001b[0m\n\u001b[0m\u001b[0;32m      4\u001b[0m         \u001b[0mprint\u001b[0m\u001b[1;33m(\u001b[0m\u001b[0mb\u001b[0m\u001b[1;33m)\u001b[0m\u001b[1;33m\u001b[0m\u001b[1;33m\u001b[0m\u001b[0m\n",
      "\u001b[1;31mZeroDivisionError\u001b[0m: division by zero",
      "\nDuring handling of the above exception, another exception occurred:\n",
      "\u001b[1;31mException\u001b[0m                                 Traceback (most recent call last)",
      "\u001b[1;32mC:\\Users\\RAKSHA~1\\AppData\\Local\\Temp/ipykernel_17860/2181871861.py\u001b[0m in \u001b[0;36m<module>\u001b[1;34m\u001b[0m\n\u001b[1;32m----> 1\u001b[1;33m \u001b[0mtest\u001b[0m\u001b[1;33m(\u001b[0m\u001b[1;36m0\u001b[0m\u001b[1;33m)\u001b[0m\u001b[1;33m\u001b[0m\u001b[1;33m\u001b[0m\u001b[0m\n\u001b[0m",
      "\u001b[1;32mC:\\Users\\RAKSHA~1\\AppData\\Local\\Temp/ipykernel_17860/3931455579.py\u001b[0m in \u001b[0;36mtest\u001b[1;34m(a)\u001b[0m\n\u001b[0;32m      4\u001b[0m         \u001b[0mprint\u001b[0m\u001b[1;33m(\u001b[0m\u001b[0mb\u001b[0m\u001b[1;33m)\u001b[0m\u001b[1;33m\u001b[0m\u001b[1;33m\u001b[0m\u001b[0m\n\u001b[0;32m      5\u001b[0m     \u001b[1;32mexcept\u001b[0m \u001b[0mException\u001b[0m \u001b[1;32mas\u001b[0m \u001b[0me\u001b[0m\u001b[1;33m:\u001b[0m\u001b[1;33m\u001b[0m\u001b[1;33m\u001b[0m\u001b[0m\n\u001b[1;32m----> 6\u001b[1;33m         \u001b[1;32mraise\u001b[0m \u001b[0mException\u001b[0m\u001b[1;33m(\u001b[0m\u001b[1;34m'error'\u001b[0m\u001b[1;33m,\u001b[0m \u001b[0ma\u001b[0m\u001b[1;33m)\u001b[0m\u001b[1;33m\u001b[0m\u001b[1;33m\u001b[0m\u001b[0m\n\u001b[0m",
      "\u001b[1;31mException\u001b[0m: ('error', 0)"
     ]
    }
   ],
   "source": [
    "test(0)"
   ]
  },
  {
   "cell_type": "code",
   "execution_count": 749,
   "id": "1f0ce4ed",
   "metadata": {},
   "outputs": [],
   "source": [
    "def test(a):\n",
    "    if a<10:\n",
    "        raise Exception('value is less')"
   ]
  },
  {
   "cell_type": "code",
   "execution_count": 750,
   "id": "298c5f73",
   "metadata": {},
   "outputs": [
    {
     "ename": "Exception",
     "evalue": "value is less",
     "output_type": "error",
     "traceback": [
      "\u001b[1;31m---------------------------------------------------------------------------\u001b[0m",
      "\u001b[1;31mException\u001b[0m                                 Traceback (most recent call last)",
      "\u001b[1;32mC:\\Users\\RAKSHA~1\\AppData\\Local\\Temp/ipykernel_17860/3864145595.py\u001b[0m in \u001b[0;36m<module>\u001b[1;34m\u001b[0m\n\u001b[1;32m----> 1\u001b[1;33m \u001b[0mtest\u001b[0m\u001b[1;33m(\u001b[0m\u001b[1;36m3\u001b[0m\u001b[1;33m)\u001b[0m\u001b[1;33m\u001b[0m\u001b[1;33m\u001b[0m\u001b[0m\n\u001b[0m",
      "\u001b[1;32mC:\\Users\\RAKSHA~1\\AppData\\Local\\Temp/ipykernel_17860/781394597.py\u001b[0m in \u001b[0;36mtest\u001b[1;34m(a)\u001b[0m\n\u001b[0;32m      1\u001b[0m \u001b[1;32mdef\u001b[0m \u001b[0mtest\u001b[0m\u001b[1;33m(\u001b[0m\u001b[0ma\u001b[0m\u001b[1;33m)\u001b[0m\u001b[1;33m:\u001b[0m\u001b[1;33m\u001b[0m\u001b[1;33m\u001b[0m\u001b[0m\n\u001b[0;32m      2\u001b[0m     \u001b[1;32mif\u001b[0m \u001b[0ma\u001b[0m\u001b[1;33m<\u001b[0m\u001b[1;36m10\u001b[0m\u001b[1;33m:\u001b[0m\u001b[1;33m\u001b[0m\u001b[1;33m\u001b[0m\u001b[0m\n\u001b[1;32m----> 3\u001b[1;33m         \u001b[1;32mraise\u001b[0m \u001b[0mException\u001b[0m\u001b[1;33m(\u001b[0m\u001b[1;34m'value is less'\u001b[0m\u001b[1;33m)\u001b[0m\u001b[1;33m\u001b[0m\u001b[1;33m\u001b[0m\u001b[0m\n\u001b[0m",
      "\u001b[1;31mException\u001b[0m: value is less"
     ]
    }
   ],
   "source": [
    "test(3)"
   ]
  },
  {
   "cell_type": "code",
   "execution_count": 762,
   "id": "170951b6",
   "metadata": {},
   "outputs": [],
   "source": [
    "class car :\n",
    "    def __init__(self, brand_name, fuel_type, body_type):\n",
    "        self.brand = brand_name\n",
    "        self.fuel = fuel_type \n",
    "        self.body = body_type\n",
    "    \n",
    "    def desc_car(self):\n",
    "        print(self.brand, self.fuel, self.body)\n",
    "    "
   ]
  },
  {
   "cell_type": "code",
   "execution_count": 763,
   "id": "9e6c3344",
   "metadata": {},
   "outputs": [],
   "source": [
    "c1 = car('innova', 'disel', 'suv')"
   ]
  },
  {
   "cell_type": "code",
   "execution_count": 764,
   "id": "463885e9",
   "metadata": {},
   "outputs": [
    {
     "name": "stdout",
     "output_type": "stream",
     "text": [
      "innova disel suv\n"
     ]
    }
   ],
   "source": [
    "c1.desc_car()"
   ]
  },
  {
   "cell_type": "code",
   "execution_count": 765,
   "id": "254cc9dd",
   "metadata": {},
   "outputs": [
    {
     "data": {
      "text/plain": [
       "'suv'"
      ]
     },
     "execution_count": 765,
     "metadata": {},
     "output_type": "execute_result"
    }
   ],
   "source": [
    "c1.body"
   ]
  },
  {
   "cell_type": "code",
   "execution_count": 766,
   "id": "3b5fde57",
   "metadata": {},
   "outputs": [
    {
     "data": {
      "text/plain": [
       "'innova'"
      ]
     },
     "execution_count": 766,
     "metadata": {},
     "output_type": "execute_result"
    }
   ],
   "source": [
    "c1.brand"
   ]
  },
  {
   "cell_type": "code",
   "execution_count": 767,
   "id": "769d99cc",
   "metadata": {},
   "outputs": [
    {
     "data": {
      "text/plain": [
       "'disel'"
      ]
     },
     "execution_count": 767,
     "metadata": {},
     "output_type": "execute_result"
    }
   ],
   "source": [
    "c1.fuel"
   ]
  },
  {
   "cell_type": "code",
   "execution_count": 768,
   "id": "4efc7854",
   "metadata": {},
   "outputs": [],
   "source": [
    "a = 10 "
   ]
  },
  {
   "cell_type": "code",
   "execution_count": 769,
   "id": "1827da81",
   "metadata": {},
   "outputs": [],
   "source": [
    "class car1 :\n",
    "    \n",
    "    def test(self):\n",
    "        print(\"Hare krishna hare krishna\")"
   ]
  },
  {
   "cell_type": "code",
   "execution_count": 770,
   "id": "b3554081",
   "metadata": {},
   "outputs": [],
   "source": [
    "c2 = car1()"
   ]
  },
  {
   "cell_type": "code",
   "execution_count": 771,
   "id": "ee47021d",
   "metadata": {},
   "outputs": [
    {
     "name": "stdout",
     "output_type": "stream",
     "text": [
      "Hare krishna hare krishna\n"
     ]
    }
   ],
   "source": [
    "c2.test()"
   ]
  },
  {
   "cell_type": "code",
   "execution_count": 772,
   "id": "0af16a64",
   "metadata": {},
   "outputs": [
    {
     "data": {
      "text/plain": [
       "__main__.car1"
      ]
     },
     "execution_count": 772,
     "metadata": {},
     "output_type": "execute_result"
    }
   ],
   "source": [
    "type(c2)"
   ]
  },
  {
   "cell_type": "code",
   "execution_count": 773,
   "id": "3030d392",
   "metadata": {},
   "outputs": [
    {
     "name": "stdout",
     "output_type": "stream",
     "text": [
      "<class '__main__.car1'>\n"
     ]
    }
   ],
   "source": [
    "print(type(c2))"
   ]
  },
  {
   "cell_type": "code",
   "execution_count": 822,
   "id": "a85f416d",
   "metadata": {},
   "outputs": [],
   "source": [
    "class reverse_string:\n",
    "    def __init__(self, name):\n",
    "        self.name = name\n",
    "        \n",
    "    def reverse(self):\n",
    "        l1 = []\n",
    "        for i in range(len(self.name)-1,-1,-1):\n",
    "            l1.append(self.name[i])\n",
    "        return l1\n",
    "    \n",
    "    def reverse1(self):\n",
    "        l1 = []\n",
    "        for i in reversed(self.name):\n",
    "            print(i)\n",
    "    \n",
    "    "
   ]
  },
  {
   "cell_type": "code",
   "execution_count": 823,
   "id": "167f3fa1",
   "metadata": {},
   "outputs": [],
   "source": [
    "s1 = reverse_string(\"Radha\")"
   ]
  },
  {
   "cell_type": "code",
   "execution_count": 824,
   "id": "04f9686e",
   "metadata": {},
   "outputs": [
    {
     "data": {
      "text/plain": [
       "'Radha'"
      ]
     },
     "execution_count": 824,
     "metadata": {},
     "output_type": "execute_result"
    }
   ],
   "source": [
    "s1.name"
   ]
  },
  {
   "cell_type": "code",
   "execution_count": 825,
   "id": "d03fb929",
   "metadata": {},
   "outputs": [
    {
     "data": {
      "text/plain": [
       "['a', 'h', 'd', 'a', 'R']"
      ]
     },
     "execution_count": 825,
     "metadata": {},
     "output_type": "execute_result"
    }
   ],
   "source": [
    "s1.reverse()"
   ]
  },
  {
   "cell_type": "code",
   "execution_count": 826,
   "id": "c45e7109",
   "metadata": {},
   "outputs": [
    {
     "name": "stdout",
     "output_type": "stream",
     "text": [
      "a\n",
      "h\n",
      "d\n",
      "a\n",
      "R\n"
     ]
    }
   ],
   "source": [
    "s1.reverse1()"
   ]
  },
  {
   "cell_type": "code",
   "execution_count": 31,
   "id": "67686607",
   "metadata": {},
   "outputs": [],
   "source": [
    "class dict_parser1:\n",
    "    def __init__(self, a):\n",
    "        self.a = a\n",
    "    \n",
    "    def dict_check(self):\n",
    "        if type(self.a) == dict:\n",
    "            return True\n",
    "        else:\n",
    "             #False\n",
    "            raise Exception(\"not an dictnoariy\")\n",
    "            \n",
    "    def get_keys(self):\n",
    "        if self.dict_check():\n",
    "            return list(self.a.keys())\n",
    "        \n",
    "    def get_value(self):\n",
    "        if self.dict_check():\n",
    "            return list(self.a.values())\n",
    "        \n",
    "    def get_user_input(self):\n",
    "        b = eval(input())\n",
    "        self.a.update(b)\n",
    "        return self.a\n",
    "    \n",
    "    def insertion(self, **kwargs):\n",
    "        for k,v in kwargs.items():\n",
    "            self.a[k]= v\n",
    "        return self.a\n",
    "\n",
    "    \n"
   ]
  },
  {
   "cell_type": "code",
   "execution_count": 32,
   "id": "cf5e4d35",
   "metadata": {},
   "outputs": [],
   "source": [
    "d1 = dict_parser1({'a': 'Hare', 'b': 'krishna'})"
   ]
  },
  {
   "cell_type": "code",
   "execution_count": 33,
   "id": "4b5f56e1",
   "metadata": {},
   "outputs": [
    {
     "data": {
      "text/plain": [
       "True"
      ]
     },
     "execution_count": 33,
     "metadata": {},
     "output_type": "execute_result"
    }
   ],
   "source": [
    "d1.dict_check()"
   ]
  },
  {
   "cell_type": "code",
   "execution_count": 34,
   "id": "d83e6777",
   "metadata": {},
   "outputs": [
    {
     "data": {
      "text/plain": [
       "['a', 'b']"
      ]
     },
     "execution_count": 34,
     "metadata": {},
     "output_type": "execute_result"
    }
   ],
   "source": [
    "d1.get_keys()"
   ]
  },
  {
   "cell_type": "code",
   "execution_count": 35,
   "id": "2b5a004c",
   "metadata": {},
   "outputs": [
    {
     "data": {
      "text/plain": [
       "['Hare', 'krishna']"
      ]
     },
     "execution_count": 35,
     "metadata": {},
     "output_type": "execute_result"
    }
   ],
   "source": [
    "d1.get_value()"
   ]
  },
  {
   "cell_type": "code",
   "execution_count": 36,
   "id": "e90f46c0",
   "metadata": {},
   "outputs": [
    {
     "name": "stdout",
     "output_type": "stream",
     "text": [
      "\n"
     ]
    },
    {
     "ename": "SyntaxError",
     "evalue": "unexpected EOF while parsing (<string>, line 0)",
     "output_type": "error",
     "traceback": [
      "Traceback \u001b[1;36m(most recent call last)\u001b[0m:\n",
      "  File \u001b[0;32m\"C:\\Users\\RAKSHANDA\\anaconda3\\lib\\site-packages\\IPython\\core\\interactiveshell.py\"\u001b[0m, line \u001b[0;32m3444\u001b[0m, in \u001b[0;35mrun_code\u001b[0m\n    exec(code_obj, self.user_global_ns, self.user_ns)\n",
      "  File \u001b[0;32m\"C:\\Users\\RAKSHA~1\\AppData\\Local\\Temp/ipykernel_19064/4147919795.py\"\u001b[0m, line \u001b[0;32m1\u001b[0m, in \u001b[0;35m<module>\u001b[0m\n    d1.get_user_input()\n",
      "\u001b[1;36m  File \u001b[1;32m\"C:\\Users\\RAKSHA~1\\AppData\\Local\\Temp/ipykernel_19064/4143992670.py\"\u001b[1;36m, line \u001b[1;32m21\u001b[1;36m, in \u001b[1;35mget_user_input\u001b[1;36m\u001b[0m\n\u001b[1;33m    b = eval(input())\u001b[0m\n",
      "\u001b[1;36m  File \u001b[1;32m\"<string>\"\u001b[1;36m, line \u001b[1;32munknown\u001b[0m\n\u001b[1;33m    \u001b[0m\n\u001b[1;37m    ^\u001b[0m\n\u001b[1;31mSyntaxError\u001b[0m\u001b[1;31m:\u001b[0m unexpected EOF while parsing\n"
     ]
    }
   ],
   "source": [
    "d1.get_user_input()"
   ]
  },
  {
   "cell_type": "code",
   "execution_count": 37,
   "id": "90ef5dee",
   "metadata": {},
   "outputs": [
    {
     "data": {
      "text/plain": [
       "{'a': 'Hare', 'b': 'krishna', 'c': 'Radha', 'd': 'Sita'}"
      ]
     },
     "execution_count": 37,
     "metadata": {},
     "output_type": "execute_result"
    }
   ],
   "source": [
    "d1.insertion(c='Radha', d='Sita')"
   ]
  },
  {
   "cell_type": "code",
   "execution_count": 38,
   "id": "8d5bb030",
   "metadata": {},
   "outputs": [],
   "source": [
    "class xyz :\n",
    "    def __init__(self,a,b,c):\n",
    "        self.a = a\n",
    "        self.b = b \n",
    "        self.c = c\n",
    "        \n",
    "    def test(self):\n",
    "        print(\"hare krishna\")\n",
    "    \n",
    "    def test1(self1):\n",
    "        print('Hare Rama')\n",
    "        \n",
    "    def test2(self):\n",
    "        print(\"Radhe Radhe\")"
   ]
  },
  {
   "cell_type": "code",
   "execution_count": 39,
   "id": "55bc4793",
   "metadata": {},
   "outputs": [],
   "source": [
    "c1 = xyz(2,3,4)"
   ]
  },
  {
   "cell_type": "code",
   "execution_count": 40,
   "id": "dffadfcc",
   "metadata": {},
   "outputs": [
    {
     "name": "stdout",
     "output_type": "stream",
     "text": [
      "hare krishna\n"
     ]
    }
   ],
   "source": [
    "c1.test()"
   ]
  },
  {
   "cell_type": "code",
   "execution_count": 45,
   "id": "8fc5bb29",
   "metadata": {},
   "outputs": [],
   "source": [
    "class xyz1(xyz):\n",
    "    def test(self):\n",
    "        print(\"xyz1 class method\")"
   ]
  },
  {
   "cell_type": "code",
   "execution_count": 46,
   "id": "ea4fff7a",
   "metadata": {},
   "outputs": [],
   "source": [
    "c2 = xyz1(3,4,5)"
   ]
  },
  {
   "cell_type": "code",
   "execution_count": 47,
   "id": "ffe3f8bf",
   "metadata": {},
   "outputs": [
    {
     "name": "stdout",
     "output_type": "stream",
     "text": [
      "Radhe Radhe\n"
     ]
    }
   ],
   "source": [
    "c2.test2()"
   ]
  },
  {
   "cell_type": "code",
   "execution_count": 48,
   "id": "ab7561e0",
   "metadata": {},
   "outputs": [
    {
     "name": "stdout",
     "output_type": "stream",
     "text": [
      "xyz1 class method\n"
     ]
    }
   ],
   "source": [
    "c2.test()"
   ]
  },
  {
   "cell_type": "code",
   "execution_count": 49,
   "id": "16fd54b5",
   "metadata": {},
   "outputs": [],
   "source": [
    "l = [1,2,3,45,56,77,89]"
   ]
  },
  {
   "cell_type": "code",
   "execution_count": 50,
   "id": "efc972ce",
   "metadata": {},
   "outputs": [
    {
     "data": {
      "text/plain": [
       "[1, 4, 9, 2025, 3136, 5929, 7921]"
      ]
     },
     "execution_count": 50,
     "metadata": {},
     "output_type": "execute_result"
    }
   ],
   "source": [
    "[i**2 for i in l]"
   ]
  },
  {
   "cell_type": "code",
   "execution_count": 51,
   "id": "f915e0da",
   "metadata": {},
   "outputs": [],
   "source": [
    "a = lambda l : [i**2 for i in l]"
   ]
  },
  {
   "cell_type": "code",
   "execution_count": 52,
   "id": "3fe2902f",
   "metadata": {},
   "outputs": [
    {
     "data": {
      "text/plain": [
       "[1, 4, 9, 2025, 3136, 5929, 7921]"
      ]
     },
     "execution_count": 52,
     "metadata": {},
     "output_type": "execute_result"
    }
   ],
   "source": [
    "a([1,2,3,45,56,77,89])"
   ]
  },
  {
   "cell_type": "code",
   "execution_count": 53,
   "id": "24ffc4f9",
   "metadata": {},
   "outputs": [],
   "source": [
    "def test(a):\n",
    "    return a**2"
   ]
  },
  {
   "cell_type": "code",
   "execution_count": 55,
   "id": "8b7f3b59",
   "metadata": {},
   "outputs": [],
   "source": [
    "x = map(test,[1,2,3,45,56,77,89])"
   ]
  },
  {
   "cell_type": "code",
   "execution_count": 56,
   "id": "d14e314a",
   "metadata": {},
   "outputs": [
    {
     "data": {
      "text/plain": [
       "[1, 4, 9, 2025, 3136, 5929, 7921]"
      ]
     },
     "execution_count": 56,
     "metadata": {},
     "output_type": "execute_result"
    }
   ],
   "source": [
    "list(x)"
   ]
  },
  {
   "cell_type": "code",
   "execution_count": 58,
   "id": "caf26432",
   "metadata": {},
   "outputs": [],
   "source": [
    "def test1(a):\n",
    "    return a%2 == 0"
   ]
  },
  {
   "cell_type": "code",
   "execution_count": 59,
   "id": "c508d8b7",
   "metadata": {},
   "outputs": [
    {
     "data": {
      "text/plain": [
       "<filter at 0x1471ab679a0>"
      ]
     },
     "execution_count": 59,
     "metadata": {},
     "output_type": "execute_result"
    }
   ],
   "source": [
    "filter(test1,[1, 4, 9, 2025, 3136, 5929, 7921])"
   ]
  },
  {
   "cell_type": "code",
   "execution_count": 60,
   "id": "c9e9166d",
   "metadata": {},
   "outputs": [
    {
     "data": {
      "text/plain": [
       "[4, 3136]"
      ]
     },
     "execution_count": 60,
     "metadata": {},
     "output_type": "execute_result"
    }
   ],
   "source": [
    "list(filter(test1,[1, 4, 9, 2025, 3136, 5929, 7921]))"
   ]
  },
  {
   "cell_type": "code",
   "execution_count": 61,
   "id": "63f71fe6",
   "metadata": {},
   "outputs": [
    {
     "data": {
      "text/plain": [
       "[False, True, False, False, True, False, False]"
      ]
     },
     "execution_count": 61,
     "metadata": {},
     "output_type": "execute_result"
    }
   ],
   "source": [
    "list(map(test1,[1, 4, 9, 2025, 3136, 5929, 7921]))"
   ]
  },
  {
   "cell_type": "code",
   "execution_count": 62,
   "id": "eaeb444b",
   "metadata": {},
   "outputs": [
    {
     "data": {
      "text/plain": [
       "[3, 45]"
      ]
     },
     "execution_count": 62,
     "metadata": {},
     "output_type": "execute_result"
    }
   ],
   "source": [
    "list(filter(lambda x: x%3==0, l))"
   ]
  },
  {
   "cell_type": "code",
   "execution_count": 63,
   "id": "c0f3ff89",
   "metadata": {},
   "outputs": [],
   "source": [
    "from functools import reduce"
   ]
  },
  {
   "cell_type": "code",
   "execution_count": 64,
   "id": "094f8c9c",
   "metadata": {},
   "outputs": [],
   "source": [
    "def test2(a,b):\n",
    "    return a/b\n"
   ]
  },
  {
   "cell_type": "code",
   "execution_count": 65,
   "id": "916b630d",
   "metadata": {},
   "outputs": [
    {
     "data": {
      "text/plain": [
       "9.650892475932603e-09"
      ]
     },
     "execution_count": 65,
     "metadata": {},
     "output_type": "execute_result"
    }
   ],
   "source": [
    "reduce(test2, l)"
   ]
  },
  {
   "cell_type": "code",
   "execution_count": 66,
   "id": "cef4348b",
   "metadata": {},
   "outputs": [
    {
     "data": {
      "text/plain": [
       "103617360"
      ]
     },
     "execution_count": 66,
     "metadata": {},
     "output_type": "execute_result"
    }
   ],
   "source": [
    "reduce(lambda x,y: x*y , l)"
   ]
  },
  {
   "cell_type": "code",
   "execution_count": 67,
   "id": "6c992a2c",
   "metadata": {},
   "outputs": [],
   "source": [
    "l = [1,2,3,4]\n",
    "l1 = [2,3,4,5]"
   ]
  },
  {
   "cell_type": "code",
   "execution_count": 68,
   "id": "a1a95972",
   "metadata": {},
   "outputs": [
    {
     "data": {
      "text/plain": [
       "[(1, 2), (2, 3), (3, 4), (4, 5)]"
      ]
     },
     "execution_count": 68,
     "metadata": {},
     "output_type": "execute_result"
    }
   ],
   "source": [
    "list(zip(l,l1))"
   ]
  },
  {
   "cell_type": "markdown",
   "id": "95dbaa92",
   "metadata": {},
   "source": [
    "# Polymorphism"
   ]
  },
  {
   "cell_type": "code",
   "execution_count": 70,
   "id": "119b907a",
   "metadata": {},
   "outputs": [],
   "source": [
    "# multiple characteistics\n",
    "# nature will change but person is same\n",
    "# multiple state , behave differntly but person is same"
   ]
  },
  {
   "cell_type": "code",
   "execution_count": 77,
   "id": "95462a73",
   "metadata": {},
   "outputs": [],
   "source": [
    "def test(a,b):\n",
    "    return a+b\n",
    "# addition operation"
   ]
  },
  {
   "cell_type": "code",
   "execution_count": 72,
   "id": "56f77216",
   "metadata": {},
   "outputs": [
    {
     "data": {
      "text/plain": [
       "9"
      ]
     },
     "execution_count": 72,
     "metadata": {},
     "output_type": "execute_result"
    }
   ],
   "source": [
    "test(4,5)"
   ]
  },
  {
   "cell_type": "code",
   "execution_count": 76,
   "id": "8d8e443e",
   "metadata": {},
   "outputs": [
    {
     "data": {
      "text/plain": [
       "'Radhakrishna'"
      ]
     },
     "execution_count": 76,
     "metadata": {},
     "output_type": "execute_result"
    }
   ],
   "source": [
    "test(\"Radha\", \"krishna\")\n",
    "# concat operation"
   ]
  },
  {
   "cell_type": "code",
   "execution_count": 75,
   "id": "8da1947b",
   "metadata": {},
   "outputs": [
    {
     "data": {
      "text/plain": [
       "[1, 2, 3, 4, 5, 6]"
      ]
     },
     "execution_count": 75,
     "metadata": {},
     "output_type": "execute_result"
    }
   ],
   "source": [
    "test([1,2,3], [4,5,6])\n",
    "# list append for extend"
   ]
  },
  {
   "cell_type": "code",
   "execution_count": 78,
   "id": "a1947c5b",
   "metadata": {},
   "outputs": [],
   "source": [
    "class data_science:\n",
    "    \n",
    "    def syllabus(self):\n",
    "        print(\"method for data science syllabus\")\n",
    "        "
   ]
  },
  {
   "cell_type": "code",
   "execution_count": 79,
   "id": "f4d42978",
   "metadata": {},
   "outputs": [],
   "source": [
    "class web_dev:\n",
    "    \n",
    "    def syllabus(self):\n",
    "        print(\"method for web dev \")"
   ]
  },
  {
   "cell_type": "code",
   "execution_count": 80,
   "id": "23d9d56f",
   "metadata": {},
   "outputs": [],
   "source": [
    "def class_parcer(class_obj):\n",
    "    for i in class_obj:\n",
    "        i.syllabus()"
   ]
  },
  {
   "cell_type": "code",
   "execution_count": 81,
   "id": "651986d4",
   "metadata": {},
   "outputs": [],
   "source": [
    "d1 = data_science()\n",
    "w1 = web_dev()"
   ]
  },
  {
   "cell_type": "code",
   "execution_count": 82,
   "id": "06f8ec9f",
   "metadata": {},
   "outputs": [],
   "source": [
    "class_obj = [d1,w1]"
   ]
  },
  {
   "cell_type": "code",
   "execution_count": 83,
   "id": "f626bafd",
   "metadata": {},
   "outputs": [
    {
     "name": "stdout",
     "output_type": "stream",
     "text": [
      "method for data science syllabus\n",
      "method for web dev \n"
     ]
    }
   ],
   "source": [
    "class_parcer(class_obj)"
   ]
  },
  {
   "cell_type": "code",
   "execution_count": 84,
   "id": "9dfb2d0c",
   "metadata": {},
   "outputs": [
    {
     "name": "stdout",
     "output_type": "stream",
     "text": [
      "method for data science syllabus\n"
     ]
    }
   ],
   "source": [
    "d1.syllabus()"
   ]
  },
  {
   "cell_type": "code",
   "execution_count": 85,
   "id": "a9455e7a",
   "metadata": {},
   "outputs": [
    {
     "name": "stdout",
     "output_type": "stream",
     "text": [
      "method for web dev \n"
     ]
    }
   ],
   "source": [
    "w1.syllabus()"
   ]
  },
  {
   "cell_type": "markdown",
   "id": "38dfbaf0",
   "metadata": {},
   "source": [
    "# Encapsulation"
   ]
  },
  {
   "cell_type": "code",
   "execution_count": 86,
   "id": "f47bd329",
   "metadata": {},
   "outputs": [],
   "source": [
    "class test:\n",
    "    def __init__(self,a,b):\n",
    "        self.a =a \n",
    "        self.b = b"
   ]
  },
  {
   "cell_type": "code",
   "execution_count": 87,
   "id": "a66cb07d",
   "metadata": {},
   "outputs": [],
   "source": [
    "t = test(4,5)"
   ]
  },
  {
   "cell_type": "code",
   "execution_count": 88,
   "id": "936682d8",
   "metadata": {},
   "outputs": [
    {
     "data": {
      "text/plain": [
       "4"
      ]
     },
     "execution_count": 88,
     "metadata": {},
     "output_type": "execute_result"
    }
   ],
   "source": [
    "t.a"
   ]
  },
  {
   "cell_type": "code",
   "execution_count": 89,
   "id": "4336c622",
   "metadata": {},
   "outputs": [
    {
     "data": {
      "text/plain": [
       "5"
      ]
     },
     "execution_count": 89,
     "metadata": {},
     "output_type": "execute_result"
    }
   ],
   "source": [
    "t.b"
   ]
  },
  {
   "cell_type": "code",
   "execution_count": 90,
   "id": "928a5ce6",
   "metadata": {},
   "outputs": [],
   "source": [
    "t.a = 56"
   ]
  },
  {
   "cell_type": "code",
   "execution_count": 91,
   "id": "3c003b36",
   "metadata": {},
   "outputs": [
    {
     "data": {
      "text/plain": [
       "56"
      ]
     },
     "execution_count": 91,
     "metadata": {},
     "output_type": "execute_result"
    }
   ],
   "source": [
    "t.a"
   ]
  },
  {
   "cell_type": "raw",
   "id": "fc2cee4d",
   "metadata": {},
   "source": [
    "# I am able to acess the class value + I am able to assign - both things I can do and this thing \n",
    "is little bit dangerous whenever try to do a idursry grade coding\n",
    "bcoz anyone cab able to acess the variable and anyone can modify the variable.\n",
    "which is not allow for each and every classes\n",
    "sometimes we have to restrict the user that not to use this variable directly"
   ]
  },
  {
   "cell_type": "raw",
   "id": "a9c7dfb7",
   "metadata": {},
   "source": [
    "Encapsulation is an idea which will allow you to prevent any kind of a direct access of data or direct modification of data\n",
    "\n",
    "what it is going to do that I know\n",
    "what kind of a outcome that I will be able to get that i know \n",
    "but i wont be able to access the internal composition of a capsule. I will not able to modify or change it "
   ]
  },
  {
   "cell_type": "markdown",
   "id": "3645d99c",
   "metadata": {},
   "source": [
    "# Inhreritance"
   ]
  },
  {
   "cell_type": "raw",
   "id": "dc49a090",
   "metadata": {},
   "source": [
    "class can inherit the property of another classes\n"
   ]
  },
  {
   "cell_type": "code",
   "execution_count": 103,
   "id": "ca3e60b6",
   "metadata": {},
   "outputs": [],
   "source": [
    "class skills1:\n",
    "    def __init__(self,name,email):\n",
    "        self.name = name\n",
    "        self.email = email\n",
    "        \n",
    "    @classmethod\n",
    "    def details(cls, course_name, course_id):\n",
    "        return cls(course_name, course_id)\n",
    "    \n",
    "    def student_details(self):\n",
    "        print(self.name)\n",
    "        print(self.email)\n",
    "    "
   ]
  },
  {
   "cell_type": "code",
   "execution_count": 95,
   "id": "095815e2",
   "metadata": {},
   "outputs": [],
   "source": [
    "s1 = skills1(\"Radha\", \"Radha@gmail.com\")"
   ]
  },
  {
   "cell_type": "code",
   "execution_count": 96,
   "id": "65cfa1d7",
   "metadata": {},
   "outputs": [
    {
     "data": {
      "text/plain": [
       "'Radha@gmail.com'"
      ]
     },
     "execution_count": 96,
     "metadata": {},
     "output_type": "execute_result"
    }
   ],
   "source": [
    "s1.email"
   ]
  },
  {
   "cell_type": "code",
   "execution_count": 97,
   "id": "026f9a2a",
   "metadata": {},
   "outputs": [
    {
     "data": {
      "text/plain": [
       "'Radha'"
      ]
     },
     "execution_count": 97,
     "metadata": {},
     "output_type": "execute_result"
    }
   ],
   "source": [
    "s1.name"
   ]
  },
  {
   "cell_type": "code",
   "execution_count": 99,
   "id": "fdd0d343",
   "metadata": {},
   "outputs": [
    {
     "name": "stdout",
     "output_type": "stream",
     "text": [
      "Radha\n",
      "Radha@gmail.com\n"
     ]
    }
   ],
   "source": [
    "s1.student_details()"
   ]
  },
  {
   "cell_type": "code",
   "execution_count": 100,
   "id": "08e6d062",
   "metadata": {},
   "outputs": [
    {
     "data": {
      "text/plain": [
       "<__main__.skills1 at 0x1471b3f6f70>"
      ]
     },
     "execution_count": 100,
     "metadata": {},
     "output_type": "execute_result"
    }
   ],
   "source": [
    "s1.details(\"fsds\", 11)"
   ]
  },
  {
   "cell_type": "code",
   "execution_count": 101,
   "id": "d05aa7e6",
   "metadata": {},
   "outputs": [],
   "source": [
    "s2 = skills1.details(\"Fsds\", \"11\")"
   ]
  },
  {
   "cell_type": "code",
   "execution_count": 102,
   "id": "2c256064",
   "metadata": {},
   "outputs": [
    {
     "name": "stdout",
     "output_type": "stream",
     "text": [
      "Fsds\n",
      "11\n"
     ]
    }
   ],
   "source": [
    "s2.student_details()"
   ]
  },
  {
   "cell_type": "code",
   "execution_count": 104,
   "id": "3cf9ab48",
   "metadata": {},
   "outputs": [],
   "source": [
    "class skills1:\n",
    "    #def __init__(self,name,email):\n",
    "     #   self.name = name\n",
    "     #   self.email = email\n",
    "        \n",
    "    @classmethod\n",
    "    def details(cls, course_name, course_id):\n",
    "        return cls(course_name, course_id)\n",
    "    \n",
    "    def student_details(self):\n",
    "        print(self.name)\n",
    "        print(self.email)\n",
    "    "
   ]
  },
  {
   "cell_type": "code",
   "execution_count": 105,
   "id": "9de01d98",
   "metadata": {},
   "outputs": [
    {
     "ename": "TypeError",
     "evalue": "skills1() takes no arguments",
     "output_type": "error",
     "traceback": [
      "\u001b[1;31m---------------------------------------------------------------------------\u001b[0m",
      "\u001b[1;31mTypeError\u001b[0m                                 Traceback (most recent call last)",
      "\u001b[1;32mC:\\Users\\RAKSHA~1\\AppData\\Local\\Temp/ipykernel_19064/2906393002.py\u001b[0m in \u001b[0;36m<module>\u001b[1;34m\u001b[0m\n\u001b[1;32m----> 1\u001b[1;33m \u001b[0ms1\u001b[0m \u001b[1;33m=\u001b[0m \u001b[0mskills1\u001b[0m\u001b[1;33m.\u001b[0m\u001b[0mdetails\u001b[0m\u001b[1;33m(\u001b[0m\u001b[1;34m\"fsds\"\u001b[0m\u001b[1;33m,\u001b[0m\u001b[1;36m13\u001b[0m\u001b[1;33m)\u001b[0m\u001b[1;33m\u001b[0m\u001b[1;33m\u001b[0m\u001b[0m\n\u001b[0m",
      "\u001b[1;32mC:\\Users\\RAKSHA~1\\AppData\\Local\\Temp/ipykernel_19064/871159306.py\u001b[0m in \u001b[0;36mdetails\u001b[1;34m(cls, course_name, course_id)\u001b[0m\n\u001b[0;32m      6\u001b[0m     \u001b[1;33m@\u001b[0m\u001b[0mclassmethod\u001b[0m\u001b[1;33m\u001b[0m\u001b[1;33m\u001b[0m\u001b[0m\n\u001b[0;32m      7\u001b[0m     \u001b[1;32mdef\u001b[0m \u001b[0mdetails\u001b[0m\u001b[1;33m(\u001b[0m\u001b[0mcls\u001b[0m\u001b[1;33m,\u001b[0m \u001b[0mcourse_name\u001b[0m\u001b[1;33m,\u001b[0m \u001b[0mcourse_id\u001b[0m\u001b[1;33m)\u001b[0m\u001b[1;33m:\u001b[0m\u001b[1;33m\u001b[0m\u001b[1;33m\u001b[0m\u001b[0m\n\u001b[1;32m----> 8\u001b[1;33m         \u001b[1;32mreturn\u001b[0m \u001b[0mcls\u001b[0m\u001b[1;33m(\u001b[0m\u001b[0mcourse_name\u001b[0m\u001b[1;33m,\u001b[0m \u001b[0mcourse_id\u001b[0m\u001b[1;33m)\u001b[0m\u001b[1;33m\u001b[0m\u001b[1;33m\u001b[0m\u001b[0m\n\u001b[0m\u001b[0;32m      9\u001b[0m \u001b[1;33m\u001b[0m\u001b[0m\n\u001b[0;32m     10\u001b[0m     \u001b[1;32mdef\u001b[0m \u001b[0mstudent_details\u001b[0m\u001b[1;33m(\u001b[0m\u001b[0mself\u001b[0m\u001b[1;33m)\u001b[0m\u001b[1;33m:\u001b[0m\u001b[1;33m\u001b[0m\u001b[1;33m\u001b[0m\u001b[0m\n",
      "\u001b[1;31mTypeError\u001b[0m: skills1() takes no arguments"
     ]
    }
   ],
   "source": [
    "s1 = skills1.details(\"fsds\",13)"
   ]
  },
  {
   "cell_type": "code",
   "execution_count": 106,
   "id": "fbb3ec6e",
   "metadata": {},
   "outputs": [
    {
     "name": "stdout",
     "output_type": "stream",
     "text": [
      "Class variable: Hello\n"
     ]
    }
   ],
   "source": [
    "class MyClass:\n",
    "    class_variable = \"Hello\"  # Class variable\n",
    "\n",
    "    @classmethod\n",
    "    def class_method(cls):\n",
    "        print(\"Class variable:\", cls.class_variable)\n",
    "\n",
    "# Call the class method to access the class variable\n",
    "MyClass.class_method()\n"
   ]
  },
  {
   "cell_type": "code",
   "execution_count": 107,
   "id": "8bbd744b",
   "metadata": {},
   "outputs": [],
   "source": [
    "class skills1 :\n",
    "    def __init__(self, name, email):\n",
    "        self.name = name \n",
    "        self.email = email \n",
    "    \n",
    "    @classmethod\n",
    "    def details(cls, name1 , email1):\n",
    "        return cls(name1, email1)\n",
    "        \n",
    "    def student_details(self):\n",
    "        print(self.name)\n",
    "        print(self.email)"
   ]
  },
  {
   "cell_type": "code",
   "execution_count": 109,
   "id": "1e9eddb2",
   "metadata": {},
   "outputs": [],
   "source": [
    "s1 = skills1.details('radha', 'radha@gmail.com')"
   ]
  },
  {
   "cell_type": "code",
   "execution_count": 113,
   "id": "a1c4f564",
   "metadata": {},
   "outputs": [
    {
     "name": "stdout",
     "output_type": "stream",
     "text": [
      "radha\n",
      "radha@gmail.com\n"
     ]
    }
   ],
   "source": [
    "s1.student_details()"
   ]
  },
  {
   "cell_type": "code",
   "execution_count": 114,
   "id": "ff79b9ab",
   "metadata": {},
   "outputs": [
    {
     "data": {
      "text/plain": [
       "'radha@gmail.com'"
      ]
     },
     "execution_count": 114,
     "metadata": {},
     "output_type": "execute_result"
    }
   ],
   "source": [
    "s1.email"
   ]
  },
  {
   "cell_type": "code",
   "execution_count": 115,
   "id": "31315b98",
   "metadata": {},
   "outputs": [
    {
     "data": {
      "text/plain": [
       "'radha'"
      ]
     },
     "execution_count": 115,
     "metadata": {},
     "output_type": "execute_result"
    }
   ],
   "source": [
    "s1.name"
   ]
  },
  {
   "cell_type": "code",
   "execution_count": null,
   "id": "de2df8c4",
   "metadata": {},
   "outputs": [],
   "source": [
    "import math\n",
    "\n",
    "class MathUtils:\n",
    "    @classmethod\n",
    "    def area_of_circle(cls, radius):\n",
    "        return math.pi * radius ** 2\n",
    "\n",
    "# Using the class method to calculate the area of a circle\n",
    "radius = 5\n",
    "area = MathUtils.area_of_circle(radius)\n",
    "print(\"Area of the circle:\", area)\n"
   ]
  },
  {
   "cell_type": "code",
   "execution_count": 116,
   "id": "b5392701",
   "metadata": {},
   "outputs": [],
   "source": [
    "import math\n",
    "\n",
    "class Mathunits:\n",
    "    \n",
    "    @classmethod\n",
    "    def area_circle(cls,radius):\n",
    "        return math.pi * radius **2\n"
   ]
  },
  {
   "cell_type": "code",
   "execution_count": 119,
   "id": "dbc7ce6a",
   "metadata": {},
   "outputs": [
    {
     "data": {
      "text/plain": [
       "78.53981633974483"
      ]
     },
     "execution_count": 119,
     "metadata": {},
     "output_type": "execute_result"
    }
   ],
   "source": [
    "Mathunits.area_circle(5)"
   ]
  },
  {
   "cell_type": "code",
   "execution_count": 120,
   "id": "8c0f69a0",
   "metadata": {},
   "outputs": [
    {
     "data": {
      "text/plain": [
       "78.53981633974483"
      ]
     },
     "execution_count": 120,
     "metadata": {},
     "output_type": "execute_result"
    }
   ],
   "source": [
    "a1"
   ]
  },
  {
   "cell_type": "code",
   "execution_count": 121,
   "id": "1296e304",
   "metadata": {},
   "outputs": [],
   "source": [
    "class dict_parser:\n",
    "    \n",
    "    def __init__(self,a1):\n",
    "        self.a1 = a1\n",
    "        \n",
    "    @classmethod\n",
    "    def get_keys(cls, a1):\n",
    "        return a1.keys()"
   ]
  },
  {
   "cell_type": "code",
   "execution_count": 122,
   "id": "f09938ad",
   "metadata": {},
   "outputs": [
    {
     "data": {
      "text/plain": [
       "dict_keys(['a', 'b'])"
      ]
     },
     "execution_count": 122,
     "metadata": {},
     "output_type": "execute_result"
    }
   ],
   "source": [
    "dict_parser.get_keys({\"a\": \"Radha\", \"b\": \"Krishna\"})"
   ]
  },
  {
   "cell_type": "code",
   "execution_count": 123,
   "id": "cd8f61f7",
   "metadata": {},
   "outputs": [],
   "source": [
    "class skills2 :\n",
    "    \n",
    "    mobile_number = 913445234\n",
    "    \n",
    "    def __init__(self, name, email):\n",
    "        self.name = name \n",
    "        self.email = email \n",
    "    \n",
    "    @classmethod\n",
    "    def details(cls, name1 , email1):\n",
    "        return cls(name1, email1)\n",
    "        \n",
    "    def student_details(self):\n",
    "        print(self.name,self.email, skills2.mobile_number)\n",
    "        "
   ]
  },
  {
   "cell_type": "code",
   "execution_count": 124,
   "id": "bd6a2e7e",
   "metadata": {},
   "outputs": [
    {
     "data": {
      "text/plain": [
       "913445234"
      ]
     },
     "execution_count": 124,
     "metadata": {},
     "output_type": "execute_result"
    }
   ],
   "source": [
    "skills2.mobile_number"
   ]
  },
  {
   "cell_type": "code",
   "execution_count": 125,
   "id": "a94292ec",
   "metadata": {},
   "outputs": [],
   "source": [
    "skills2.mobile_number = 935434232"
   ]
  },
  {
   "cell_type": "code",
   "execution_count": 126,
   "id": "3def8cd6",
   "metadata": {},
   "outputs": [
    {
     "data": {
      "text/plain": [
       "935434232"
      ]
     },
     "execution_count": 126,
     "metadata": {},
     "output_type": "execute_result"
    }
   ],
   "source": [
    "skills2.mobile_number"
   ]
  },
  {
   "cell_type": "code",
   "execution_count": 127,
   "id": "51de33b9",
   "metadata": {},
   "outputs": [],
   "source": [
    "def course_detail(cls,course_name):\n",
    "    print(\"course_detail\" , course_name)"
   ]
  },
  {
   "cell_type": "code",
   "execution_count": 128,
   "id": "bc832703",
   "metadata": {},
   "outputs": [],
   "source": [
    "skills2.course_detail = classmethod(course_detail)"
   ]
  },
  {
   "cell_type": "code",
   "execution_count": 130,
   "id": "ff7ec91d",
   "metadata": {},
   "outputs": [
    {
     "name": "stdout",
     "output_type": "stream",
     "text": [
      "course_detail Fsds\n"
     ]
    }
   ],
   "source": [
    "skills2.course_detail(\"Fsds\")"
   ]
  },
  {
   "cell_type": "code",
   "execution_count": 131,
   "id": "f3a01d02",
   "metadata": {},
   "outputs": [],
   "source": [
    "s4 = skills2(\"radha\", \"radha@gmail.com\")"
   ]
  },
  {
   "cell_type": "code",
   "execution_count": 132,
   "id": "384da78a",
   "metadata": {},
   "outputs": [
    {
     "name": "stdout",
     "output_type": "stream",
     "text": [
      "course_detail FSDS\n"
     ]
    }
   ],
   "source": [
    "s4.course_detail(\"FSDS\")"
   ]
  },
  {
   "cell_type": "markdown",
   "id": "8a9bc6e3",
   "metadata": {},
   "source": [
    "# STATIC METHOD"
   ]
  },
  {
   "cell_type": "code",
   "execution_count": 133,
   "id": "1f4c87a7",
   "metadata": {},
   "outputs": [],
   "source": [
    "class skills:\n",
    "    def student_details(self,name,mail_id,number):\n",
    "        print(name, mail_id, number)"
   ]
  },
  {
   "cell_type": "code",
   "execution_count": 134,
   "id": "8a40757e",
   "metadata": {},
   "outputs": [],
   "source": [
    "s1 = skills()"
   ]
  },
  {
   "cell_type": "code",
   "execution_count": 135,
   "id": "52335bfe",
   "metadata": {},
   "outputs": [
    {
     "name": "stdout",
     "output_type": "stream",
     "text": [
      "radha radha@gmail.com 232313\n"
     ]
    }
   ],
   "source": [
    "s1.student_details(\"radha\", \"radha@gmail.com\", 232313)"
   ]
  },
  {
   "cell_type": "code",
   "execution_count": 157,
   "id": "539443a6",
   "metadata": {},
   "outputs": [],
   "source": [
    "class skills1:\n",
    "    def student_details(self,name,mail_id,number):\n",
    "        print(name, mail_id, number)\n",
    "    \n",
    "    @staticmethod\n",
    "    def mentor_mail_id(mail_id):\n",
    "        print(mail_id)\n",
    "    \n",
    "    \n",
    "    @staticmethod\n",
    "    def mentor_class(list_mentor):\n",
    "        print(list_mentor)\n",
    "        skills1.mentor_mail_id(\"radha@gmail.com\")\n",
    "        \n",
    "        \n",
    "    @classmethod\n",
    "    def class_name(cls, class_name):\n",
    "        cls.mentor_class(['radha', 'hari'])\n",
    "        \n",
    "    def mentor(self,mentor_list):\n",
    "        print(mentor_list)\n",
    "        self.mentor_class(['Krishna', 'Radha'])\n",
    "        \n",
    "        "
   ]
  },
  {
   "cell_type": "code",
   "execution_count": 158,
   "id": "e305824a",
   "metadata": {},
   "outputs": [],
   "source": [
    "s2 = skills1()"
   ]
  },
  {
   "cell_type": "code",
   "execution_count": 159,
   "id": "097b8cd2",
   "metadata": {},
   "outputs": [
    {
     "name": "stdout",
     "output_type": "stream",
     "text": [
      "['radha', 'Hare']\n",
      "radha@gmail.com\n"
     ]
    }
   ],
   "source": [
    "s2.mentor_class(['radha', 'Hare'])"
   ]
  },
  {
   "cell_type": "code",
   "execution_count": 160,
   "id": "116aa978",
   "metadata": {},
   "outputs": [
    {
     "name": "stdout",
     "output_type": "stream",
     "text": [
      "['radha', 'Krishna']\n",
      "radha@gmail.com\n"
     ]
    }
   ],
   "source": [
    "skills1.mentor_class(['radha', \"Krishna\"])"
   ]
  },
  {
   "cell_type": "code",
   "execution_count": 161,
   "id": "98b8d49e",
   "metadata": {},
   "outputs": [
    {
     "name": "stdout",
     "output_type": "stream",
     "text": [
      "['hari', 'hari']\n",
      "['Krishna', 'Radha']\n",
      "radha@gmail.com\n"
     ]
    }
   ],
   "source": [
    "s2.mentor(['hari', 'hari'])"
   ]
  },
  {
   "cell_type": "code",
   "execution_count": 162,
   "id": "1a4e5bce",
   "metadata": {},
   "outputs": [
    {
     "name": "stdout",
     "output_type": "stream",
     "text": [
      "['radha', 'hari']\n",
      "radha@gmail.com\n"
     ]
    }
   ],
   "source": [
    "s2.class_name('Fsds')"
   ]
  },
  {
   "cell_type": "code",
   "execution_count": 156,
   "id": "8d8bac85",
   "metadata": {},
   "outputs": [
    {
     "name": "stdout",
     "output_type": "stream",
     "text": [
      "['radha', 'hari']\n"
     ]
    }
   ],
   "source": [
    "skills1.class_name('Radha')"
   ]
  },
  {
   "cell_type": "code",
   "execution_count": 163,
   "id": "681be786",
   "metadata": {},
   "outputs": [
    {
     "name": "stdout",
     "output_type": "stream",
     "text": [
      "hari@gmail.com\n"
     ]
    }
   ],
   "source": [
    "s2.mentor_mail_id(\"hari@gmail.com\")"
   ]
  },
  {
   "cell_type": "code",
   "execution_count": 164,
   "id": "752311f9",
   "metadata": {},
   "outputs": [
    {
     "name": "stdout",
     "output_type": "stream",
     "text": [
      "harihari@gmail.com\n"
     ]
    }
   ],
   "source": [
    "skills1.mentor_mail_id('harihari@gmail.com')"
   ]
  },
  {
   "cell_type": "code",
   "execution_count": 192,
   "id": "99da78fb",
   "metadata": {},
   "outputs": [],
   "source": [
    "class skills3:\n",
    "    \n",
    "    def __init__(self, course_price, course_name):\n",
    "        self.__course_price = course_price\n",
    "        self.course_name = course_name\n",
    "        \n",
    "    @property\n",
    "    def course_price_access(self):\n",
    "        return self.__course_price\n",
    "    \n",
    "    @course_price_access.setter\n",
    "    def course_price_set(self,price):\n",
    "        if price <= 3500:\n",
    "            pass\n",
    "        else:\n",
    "            self.__course_price = price\n",
    "            \n",
    "    @course_price_access.deleter\n",
    "    def course_price_del(self):\n",
    "        del self.__course_price\n",
    "        "
   ]
  },
  {
   "cell_type": "code",
   "execution_count": 193,
   "id": "1cc28925",
   "metadata": {},
   "outputs": [],
   "source": [
    "s1 = skills3(3500, \"Krishna\")"
   ]
  },
  {
   "cell_type": "code",
   "execution_count": 194,
   "id": "f421d58c",
   "metadata": {},
   "outputs": [
    {
     "data": {
      "text/plain": [
       "'Krishna'"
      ]
     },
     "execution_count": 194,
     "metadata": {},
     "output_type": "execute_result"
    }
   ],
   "source": [
    "s1.course_name"
   ]
  },
  {
   "cell_type": "code",
   "execution_count": 195,
   "id": "d548652f",
   "metadata": {},
   "outputs": [
    {
     "data": {
      "text/plain": [
       "3500"
      ]
     },
     "execution_count": 195,
     "metadata": {},
     "output_type": "execute_result"
    }
   ],
   "source": [
    "s1._skills3__course_price"
   ]
  },
  {
   "cell_type": "code",
   "execution_count": 196,
   "id": "3e11382a",
   "metadata": {},
   "outputs": [
    {
     "data": {
      "text/plain": [
       "3500"
      ]
     },
     "execution_count": 196,
     "metadata": {},
     "output_type": "execute_result"
    }
   ],
   "source": [
    "s1.course_price_access"
   ]
  },
  {
   "cell_type": "code",
   "execution_count": 197,
   "id": "148e7be7",
   "metadata": {},
   "outputs": [],
   "source": [
    "s1.course_price_set = 2500"
   ]
  },
  {
   "cell_type": "code",
   "execution_count": 198,
   "id": "f05c508c",
   "metadata": {},
   "outputs": [
    {
     "data": {
      "text/plain": [
       "3500"
      ]
     },
     "execution_count": 198,
     "metadata": {},
     "output_type": "execute_result"
    }
   ],
   "source": [
    "s1.course_price_access"
   ]
  },
  {
   "cell_type": "code",
   "execution_count": 190,
   "id": "b998326a",
   "metadata": {},
   "outputs": [],
   "source": [
    "s1.course_price_set = 4500"
   ]
  },
  {
   "cell_type": "code",
   "execution_count": 191,
   "id": "fbe25391",
   "metadata": {},
   "outputs": [
    {
     "data": {
      "text/plain": [
       "4500"
      ]
     },
     "execution_count": 191,
     "metadata": {},
     "output_type": "execute_result"
    }
   ],
   "source": [
    "s1.course_price_access"
   ]
  },
  {
   "cell_type": "code",
   "execution_count": 199,
   "id": "adde77b8",
   "metadata": {},
   "outputs": [
    {
     "data": {
      "text/plain": [
       "3500"
      ]
     },
     "execution_count": 199,
     "metadata": {},
     "output_type": "execute_result"
    }
   ],
   "source": [
    "s1.course_price_del"
   ]
  },
  {
   "cell_type": "code",
   "execution_count": 200,
   "id": "6e620ea3",
   "metadata": {},
   "outputs": [
    {
     "data": {
      "text/plain": [
       "3500"
      ]
     },
     "execution_count": 200,
     "metadata": {},
     "output_type": "execute_result"
    }
   ],
   "source": [
    "s1.course_price_access"
   ]
  },
  {
   "cell_type": "code",
   "execution_count": 201,
   "id": "af5c4519",
   "metadata": {},
   "outputs": [],
   "source": [
    "del s1.course_price_del"
   ]
  },
  {
   "cell_type": "code",
   "execution_count": 202,
   "id": "08cd9cee",
   "metadata": {},
   "outputs": [
    {
     "ename": "AttributeError",
     "evalue": "'skills3' object has no attribute '_skills3__course_price'",
     "output_type": "error",
     "traceback": [
      "\u001b[1;31m---------------------------------------------------------------------------\u001b[0m",
      "\u001b[1;31mAttributeError\u001b[0m                            Traceback (most recent call last)",
      "\u001b[1;32mC:\\Users\\RAKSHA~1\\AppData\\Local\\Temp/ipykernel_19064/806570054.py\u001b[0m in \u001b[0;36m<module>\u001b[1;34m\u001b[0m\n\u001b[1;32m----> 1\u001b[1;33m \u001b[0ms1\u001b[0m\u001b[1;33m.\u001b[0m\u001b[0mcourse_price_access\u001b[0m\u001b[1;33m\u001b[0m\u001b[1;33m\u001b[0m\u001b[0m\n\u001b[0m",
      "\u001b[1;32mC:\\Users\\RAKSHA~1\\AppData\\Local\\Temp/ipykernel_19064/2730207039.py\u001b[0m in \u001b[0;36mcourse_price_access\u001b[1;34m(self)\u001b[0m\n\u001b[0;32m      7\u001b[0m     \u001b[1;33m@\u001b[0m\u001b[0mproperty\u001b[0m\u001b[1;33m\u001b[0m\u001b[1;33m\u001b[0m\u001b[0m\n\u001b[0;32m      8\u001b[0m     \u001b[1;32mdef\u001b[0m \u001b[0mcourse_price_access\u001b[0m\u001b[1;33m(\u001b[0m\u001b[0mself\u001b[0m\u001b[1;33m)\u001b[0m\u001b[1;33m:\u001b[0m\u001b[1;33m\u001b[0m\u001b[1;33m\u001b[0m\u001b[0m\n\u001b[1;32m----> 9\u001b[1;33m         \u001b[1;32mreturn\u001b[0m \u001b[0mself\u001b[0m\u001b[1;33m.\u001b[0m\u001b[0m__course_price\u001b[0m\u001b[1;33m\u001b[0m\u001b[1;33m\u001b[0m\u001b[0m\n\u001b[0m\u001b[0;32m     10\u001b[0m \u001b[1;33m\u001b[0m\u001b[0m\n\u001b[0;32m     11\u001b[0m     \u001b[1;33m@\u001b[0m\u001b[0mcourse_price_access\u001b[0m\u001b[1;33m.\u001b[0m\u001b[0msetter\u001b[0m\u001b[1;33m\u001b[0m\u001b[1;33m\u001b[0m\u001b[0m\n",
      "\u001b[1;31mAttributeError\u001b[0m: 'skills3' object has no attribute '_skills3__course_price'"
     ]
    }
   ],
   "source": [
    "s1.course_price_access"
   ]
  },
  {
   "cell_type": "code",
   "execution_count": null,
   "id": "acbf3d77",
   "metadata": {},
   "outputs": [],
   "source": []
  }
 ],
 "metadata": {
  "kernelspec": {
   "display_name": "Python 3 (ipykernel)",
   "language": "python",
   "name": "python3"
  },
  "language_info": {
   "codemirror_mode": {
    "name": "ipython",
    "version": 3
   },
   "file_extension": ".py",
   "mimetype": "text/x-python",
   "name": "python",
   "nbconvert_exporter": "python",
   "pygments_lexer": "ipython3",
   "version": "3.9.7"
  }
 },
 "nbformat": 4,
 "nbformat_minor": 5
}
