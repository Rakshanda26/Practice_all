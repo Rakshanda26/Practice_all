{
 "cells": [
  {
   "cell_type": "code",
   "execution_count": 1,
   "id": "b46e5304",
   "metadata": {},
   "outputs": [],
   "source": [
    "import abc\n",
    "\n",
    "class skills :\n",
    "    \n",
    "    @abc.abstractmethod\n",
    "    def student_details(self):\n",
    "        pass\n",
    "    \n",
    "    @abc.abstractmethod\n",
    "    def student_assignment(self):\n",
    "        pass\n",
    "    \n",
    "    @abc.abstractmethod\n",
    "    def student_marks(self):\n",
    "        pass\n",
    "    "
   ]
  },
  {
   "cell_type": "code",
   "execution_count": 3,
   "id": "7a12850a",
   "metadata": {},
   "outputs": [],
   "source": [
    "class data_science(skills):\n",
    "    \n",
    "    def student_details(self):\n",
    "        return \"it will try to return a details of data science master\"\n",
    "    \n",
    "    def student_assignment(self):\n",
    "        return \"it will return a details of student assignment of data science\"\n",
    " "
   ]
  },
  {
   "cell_type": "code",
   "execution_count": 4,
   "id": "e43fa66d",
   "metadata": {},
   "outputs": [],
   "source": [
    "class web_dev(skills):\n",
    "    def student_details(self):\n",
    "        return \"this will return a details of web dev\"\n",
    "    \n",
    "    def student_assignment(self):\n",
    "        return \"this will return assingemnt of web dev class\""
   ]
  },
  {
   "cell_type": "code",
   "execution_count": 6,
   "id": "92218c43",
   "metadata": {},
   "outputs": [
    {
     "data": {
      "text/plain": [
       "'it will return a details of student assignment of data science'"
      ]
     },
     "execution_count": 6,
     "metadata": {},
     "output_type": "execute_result"
    }
   ],
   "source": [
    "ds = data_science()\n",
    "ds.student_assignment()"
   ]
  },
  {
   "cell_type": "code",
   "execution_count": 8,
   "id": "66cbad47",
   "metadata": {},
   "outputs": [
    {
     "data": {
      "text/plain": [
       "'this will return assingemnt of web dev class'"
      ]
     },
     "execution_count": 8,
     "metadata": {},
     "output_type": "execute_result"
    }
   ],
   "source": [
    "wd = web_dev()\n",
    "wd.student_assignment()"
   ]
  },
  {
   "cell_type": "code",
   "execution_count": null,
   "id": "16315152",
   "metadata": {},
   "outputs": [],
   "source": []
  }
 ],
 "metadata": {
  "kernelspec": {
   "display_name": "Python 3 (ipykernel)",
   "language": "python",
   "name": "python3"
  },
  "language_info": {
   "codemirror_mode": {
    "name": "ipython",
    "version": 3
   },
   "file_extension": ".py",
   "mimetype": "text/x-python",
   "name": "python",
   "nbconvert_exporter": "python",
   "pygments_lexer": "ipython3",
   "version": "3.9.7"
  }
 },
 "nbformat": 4,
 "nbformat_minor": 5
}
