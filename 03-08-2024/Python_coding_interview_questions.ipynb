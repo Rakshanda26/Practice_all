{
 "cells": [
  {
   "cell_type": "code",
   "execution_count": 2,
   "id": "a0e17e66",
   "metadata": {},
   "outputs": [
    {
     "data": {
      "text/plain": [
       "'ahdaR'"
      ]
     },
     "execution_count": 2,
     "metadata": {},
     "output_type": "execute_result"
    }
   ],
   "source": [
    "def reverse_string(s):\n",
    "    if type(s) == str:\n",
    "        return s[::-1]\n",
    "    \n",
    "reverse_string('Radha')\n"
   ]
  },
  {
   "cell_type": "code",
   "execution_count": 9,
   "id": "0655a2b7",
   "metadata": {},
   "outputs": [
    {
     "name": "stdout",
     "output_type": "stream",
     "text": [
      "palindrome\n"
     ]
    }
   ],
   "source": [
    "def check_palindrome(s):\n",
    "    if type(s) == str:\n",
    "        a = s[::1]\n",
    "        b = s[::-1]\n",
    "        if a ==b:\n",
    "            print('palindrome')\n",
    "        else:\n",
    "            print('not palindrome')\n",
    "            \n",
    "check_palindrome(\"tot\")"
   ]
  },
  {
   "cell_type": "code",
   "execution_count": 15,
   "id": "029b1e5e",
   "metadata": {},
   "outputs": [
    {
     "data": {
      "text/plain": [
       "120"
      ]
     },
     "execution_count": 15,
     "metadata": {},
     "output_type": "execute_result"
    }
   ],
   "source": [
    "def factorial(n):\n",
    "    return 1 if n<=1 else n * factorial(n-1)\n",
    "factorial(5)"
   ]
  },
  {
   "cell_type": "code",
   "execution_count": 28,
   "id": "64fc1747",
   "metadata": {},
   "outputs": [],
   "source": [
    "def fib(n):\n",
    "    a = 1\n",
    "    b = 1\n",
    "    for i in range(n):\n",
    "        yield(  a,  i )  \n",
    "        a , b = b , a+b\n",
    " \n"
   ]
  },
  {
   "cell_type": "code",
   "execution_count": 29,
   "id": "d271f421",
   "metadata": {},
   "outputs": [
    {
     "data": {
      "text/plain": [
       "((1, 0),\n",
       " (1, 1),\n",
       " (2, 2),\n",
       " (3, 3),\n",
       " (5, 4),\n",
       " (8, 5),\n",
       " (13, 6),\n",
       " (21, 7),\n",
       " (34, 8),\n",
       " (55, 9))"
      ]
     },
     "execution_count": 29,
     "metadata": {},
     "output_type": "execute_result"
    }
   ],
   "source": [
    "tuple(fib(10))"
   ]
  },
  {
   "cell_type": "code",
   "execution_count": 15,
   "id": "3ecf2f4d",
   "metadata": {},
   "outputs": [
    {
     "data": {
      "text/plain": [
       "7"
      ]
     },
     "execution_count": 15,
     "metadata": {},
     "output_type": "execute_result"
    }
   ],
   "source": [
    "def hightest_second(l):\n",
    "    counter = 0\n",
    "    second_hightest = 0\n",
    "    \n",
    "    for i in l:\n",
    "        if i > counter:\n",
    "            second_highest = counter\n",
    "            counter = i \n",
    "            \n",
    "        elif i > second_highest & i < counter:\n",
    "            second_highest =  i\n",
    "            \n",
    "    return second_highest\n",
    "\n",
    "hightest_second([2, 3, 4, 5, 6, 7, 8])"
   ]
  },
  {
   "cell_type": "code",
   "execution_count": 16,
   "id": "00056bf8",
   "metadata": {},
   "outputs": [
    {
     "name": "stdout",
     "output_type": "stream",
     "text": [
      "7\n"
     ]
    }
   ],
   "source": [
    "def second_highest1(l):\n",
    "    first_highest = float('-inf')  # Set initial highest to negative infinity\n",
    "    second_highest = float('-inf')  # Set initial second highest to negative infinity\n",
    "    \n",
    "    for num in l:\n",
    "        if num > first_highest:\n",
    "            second_highest = first_highest\n",
    "            first_highest = num\n",
    "        elif num > second_highest and num < first_highest:\n",
    "            second_highest = num\n",
    "    \n",
    "    return second_highest\n",
    "\n",
    "result = second_highest1([2, 3, 4, 5, 6, 7, 8])\n",
    "print(result)\n"
   ]
  },
  {
   "cell_type": "code",
   "execution_count": 41,
   "id": "92ef3f6b",
   "metadata": {},
   "outputs": [
    {
     "data": {
      "text/plain": [
       "7"
      ]
     },
     "execution_count": 41,
     "metadata": {},
     "output_type": "execute_result"
    }
   ],
   "source": [
    "def second_hightest(l):\n",
    "    num = list(set(l))\n",
    "    num.sort(reverse=True)\n",
    "    return num[1]\n",
    "\n",
    "second_hightest([1,5,7,8])"
   ]
  },
  {
   "cell_type": "code",
   "execution_count": 47,
   "id": "f9f393b9",
   "metadata": {},
   "outputs": [
    {
     "data": {
      "text/plain": [
       "([11, 10, 9, 8, 7, 5, 1], 9)"
      ]
     },
     "execution_count": 47,
     "metadata": {},
     "output_type": "execute_result"
    }
   ],
   "source": [
    "l = [9,10,11,1,5,7,8]\n",
    "l.sort(reverse=True)\n",
    "l, l[2]"
   ]
  },
  {
   "cell_type": "code",
   "execution_count": 49,
   "id": "7722e339",
   "metadata": {},
   "outputs": [
    {
     "data": {
      "text/plain": [
       "4"
      ]
     },
     "execution_count": 49,
     "metadata": {},
     "output_type": "execute_result"
    }
   ],
   "source": [
    "def second_highest(lst):\n",
    "    max_num = max(lst)\n",
    "    lst = [num for num in lst if num != max_num]\n",
    "\n",
    "    if len(lst) == 0:\n",
    "        return \"No second highest element found. All elements are same.\"\n",
    "    else:\n",
    "        return max(lst)\n",
    "\n",
    "\n",
    "result = second_highest([1, 2, 3, 4, 5, 5])\n",
    "result\n"
   ]
  },
  {
   "cell_type": "code",
   "execution_count": 59,
   "id": "2fe09837",
   "metadata": {},
   "outputs": [
    {
     "name": "stdout",
     "output_type": "stream",
     "text": [
      "[1, 2, 3, 4]\n"
     ]
    }
   ],
   "source": [
    "def sec_high(l):\n",
    "    max_num = max(l)\n",
    "    l = [i for i in l if i!=max_num]\n",
    "    return max(l)\n",
    "\n",
    "result = sec_high([1, 2, 3, 4, 5, 5])"
   ]
  },
  {
   "cell_type": "code",
   "execution_count": 58,
   "id": "5e97de27",
   "metadata": {},
   "outputs": [
    {
     "data": {
      "text/plain": [
       "4"
      ]
     },
     "execution_count": 58,
     "metadata": {},
     "output_type": "execute_result"
    }
   ],
   "source": [
    "result"
   ]
  },
  {
   "cell_type": "code",
   "execution_count": 67,
   "id": "7382f7d7",
   "metadata": {},
   "outputs": [
    {
     "data": {
      "text/plain": [
       "('second_hightest is 4', 'hightest no is 5')"
      ]
     },
     "execution_count": 67,
     "metadata": {},
     "output_type": "execute_result"
    }
   ],
   "source": [
    "def sec_high1(l):\n",
    "    max_num = max(l)\n",
    "    l = [i for i in l if i!=max_num]\n",
    "    return f\"second_hightest is {max(l)}\", f\"hightest no is {max_num}\"\n",
    "\n",
    "\n",
    "sec_high1([1, 2, 3, 4, 5, 5])"
   ]
  },
  {
   "cell_type": "code",
   "execution_count": 86,
   "id": "157dfd38",
   "metadata": {},
   "outputs": [
    {
     "name": "stdout",
     "output_type": "stream",
     "text": [
      "prime 17\n",
      "not a prime 21\n",
      "prime 29\n",
      "not a prime 10\n",
      "prime 13\n"
     ]
    }
   ],
   "source": [
    "def prime_check(n):\n",
    "    if n<=1:\n",
    "        False\n",
    "        \n",
    "    for i in range(2,n):\n",
    "        if n%i ==0:\n",
    "            return False\n",
    "    return True\n",
    "    \n",
    "def list_no(l):\n",
    "    return [prime_check(i) for i in l]\n",
    "\n",
    "nums = [17, 21, 29, 10, 13]\n",
    "\n",
    "result = list_no(nums)\n",
    "\n",
    "\n",
    "for index, number in enumerate(nums):\n",
    "    if result[index]:\n",
    "        print('prime', number)\n",
    "    else:\n",
    "        print('not a prime' , number)"
   ]
  },
  {
   "cell_type": "code",
   "execution_count": 90,
   "id": "958ca290",
   "metadata": {},
   "outputs": [
    {
     "data": {
      "text/plain": [
       "[11, 13, 17, 19, 23, 29, 31, 37, 41, 43, 47]"
      ]
     },
     "execution_count": 90,
     "metadata": {},
     "output_type": "execute_result"
    }
   ],
   "source": [
    "def generate_primes(start,end):\n",
    "    prime_numbers = []\n",
    "    for num in range(start,end+1):\n",
    "        if is_prime(num):\n",
    "            prime_numbers.append(num)\n",
    "    return prime_numbers\n",
    "\n",
    "def is_prime(n):\n",
    "    if n<=1:\n",
    "        return False\n",
    "    for i in range (2,n):\n",
    "        if n%i==0:\n",
    "            return False\n",
    "    return True\n",
    "\n",
    "generate_primes(10,50)"
   ]
  },
  {
   "cell_type": "code",
   "execution_count": 98,
   "id": "399f1507",
   "metadata": {},
   "outputs": [
    {
     "data": {
      "text/plain": [
       "[(1, 'o'), (3, 'l')]"
      ]
     },
     "execution_count": 98,
     "metadata": {},
     "output_type": "execute_result"
    }
   ],
   "source": [
    "def count_of_occurance(s):\n",
    "    return [ (s.count(i), i) for i in set(s)]\n",
    "\n",
    "count_of_occurance('llol')"
   ]
  },
  {
   "cell_type": "code",
   "execution_count": 109,
   "id": "7d944c90",
   "metadata": {},
   "outputs": [
    {
     "name": "stdout",
     "output_type": "stream",
     "text": [
      "Counter({'l': 3, 'o': 1})\n",
      "[(3, 'l'), (1, 'o')]\n",
      "l - 3\n",
      "o - 1\n"
     ]
    }
   ],
   "source": [
    "from collections import Counter\n",
    "\n",
    "def count_of_occurrence(s):\n",
    "    counts = Counter(s)\n",
    "    print(counts)\n",
    "    return [(counts[char], char) for char in counts]\n",
    "\n",
    "result = count_of_occurrence('llol')\n",
    "print(result)\n",
    "\n",
    "for count, char in result:\n",
    "    print(f\"{char} - {count}\")\n"
   ]
  },
  {
   "cell_type": "code",
   "execution_count": 126,
   "id": "ac42d2b5",
   "metadata": {},
   "outputs": [
    {
     "name": "stdout",
     "output_type": "stream",
     "text": [
      "R - 1\n",
      "a - 3\n",
      "d - 1\n",
      "h - 2\n",
      "k - 1\n",
      "r - 1\n",
      "i - 1\n",
      "s - 1\n",
      "n - 1\n"
     ]
    }
   ],
   "source": [
    "from collections import Counter\n",
    "s = \"Radhakrishna\"\n",
    "counts = Counter(s)\n",
    "\n",
    "result = [ (counts[i], i) for i in counts]\n",
    "\n",
    "for count,char in result:\n",
    "    print(char, \"-\" , count )"
   ]
  },
  {
   "cell_type": "code",
   "execution_count": 127,
   "id": "bfb2b66a",
   "metadata": {},
   "outputs": [],
   "source": [
    "s = \"Radhakrishna\"\n",
    "counts = Counter(s)"
   ]
  },
  {
   "cell_type": "code",
   "execution_count": 117,
   "id": "510a7305",
   "metadata": {},
   "outputs": [
    {
     "data": {
      "text/plain": [
       "Counter({'R': 1,\n",
       "         'a': 3,\n",
       "         'd': 1,\n",
       "         'h': 2,\n",
       "         'k': 1,\n",
       "         'r': 1,\n",
       "         'i': 1,\n",
       "         's': 1,\n",
       "         'n': 1})"
      ]
     },
     "execution_count": 117,
     "metadata": {},
     "output_type": "execute_result"
    }
   ],
   "source": [
    "counts"
   ]
  },
  {
   "cell_type": "code",
   "execution_count": 122,
   "id": "85555108",
   "metadata": {},
   "outputs": [
    {
     "data": {
      "text/plain": [
       "collections.Counter"
      ]
     },
     "execution_count": 122,
     "metadata": {},
     "output_type": "execute_result"
    }
   ],
   "source": [
    "type(counts)"
   ]
  },
  {
   "cell_type": "code",
   "execution_count": 131,
   "id": "a6db5458",
   "metadata": {},
   "outputs": [
    {
     "data": {
      "text/plain": [
       "[1, 2, 333, 4, 5, 6, 7]"
      ]
     },
     "execution_count": 131,
     "metadata": {},
     "output_type": "execute_result"
    }
   ],
   "source": [
    "def remove_duplicates(l):\n",
    "    l1 = []\n",
    "    for i in l:\n",
    "        if i not in l1:\n",
    "            l1.append(i)\n",
    "    return l1\n",
    "\n",
    "remove_duplicates([1,1,1,2,2,2,333,333,4,5,6,7])\n",
    "        "
   ]
  },
  {
   "cell_type": "code",
   "execution_count": 132,
   "id": "715ecabe",
   "metadata": {},
   "outputs": [
    {
     "data": {
      "text/plain": [
       "{1, 2, 4, 5, 6, 7, 333}"
      ]
     },
     "execution_count": 132,
     "metadata": {},
     "output_type": "execute_result"
    }
   ],
   "source": [
    "def remove_dup(l):\n",
    "    return set(l)\n",
    "remove_dup([1,1,1,2,2,2,333,333,4,5,6,7])"
   ]
  },
  {
   "cell_type": "code",
   "execution_count": 134,
   "id": "133677df",
   "metadata": {},
   "outputs": [
    {
     "data": {
      "text/plain": [
       "5"
      ]
     },
     "execution_count": 134,
     "metadata": {},
     "output_type": "execute_result"
    }
   ],
   "source": [
    "def sum_of_digits(n):\n",
    "    sum = 0\n",
    "    for i in str(n):\n",
    "        sum = sum+int(i)\n",
    "    return sum\n",
    "\n",
    "sum_of_digits(11111)"
   ]
  },
  {
   "cell_type": "code",
   "execution_count": 140,
   "id": "d57e5015",
   "metadata": {},
   "outputs": [
    {
     "data": {
      "text/plain": [
       "99"
      ]
     },
     "execution_count": 140,
     "metadata": {},
     "output_type": "execute_result"
    }
   ],
   "source": [
    "def second_largest_no(l):\n",
    "    max_no = max(l)\n",
    "    l = [i for i in l if i!= max_no]\n",
    "    return max(l)\n",
    "\n",
    "second_largest_no([1,99,100])\n"
   ]
  },
  {
   "cell_type": "code",
   "execution_count": 149,
   "id": "772727e0",
   "metadata": {},
   "outputs": [
    {
     "data": {
      "text/plain": [
       "'2024 is leap year'"
      ]
     },
     "execution_count": 149,
     "metadata": {},
     "output_type": "execute_result"
    }
   ],
   "source": [
    "def leap_year(yr):\n",
    "    if (yr%4==0 and yr%100!=0) or (yr%400==0):\n",
    "        return f\"{yr} is leap year\"\n",
    "    \n",
    "a= leap_year(2024)\n",
    "a"
   ]
  },
  {
   "cell_type": "code",
   "execution_count": 150,
   "id": "b5d4536e",
   "metadata": {},
   "outputs": [
    {
     "name": "stdout",
     "output_type": "stream",
     "text": [
      "2 raised to the power of 3 is: 8\n"
     ]
    }
   ],
   "source": [
    "def power(base, exponent):\n",
    "    result = base ** exponent\n",
    "    return result\n",
    "\n",
    "# Test the function\n",
    "base_number = 2\n",
    "exponent_number = 3\n",
    "result = power(base_number, exponent_number)\n",
    "print(f\"{base_number} raised to the power of {exponent_number} is: {result}\")\n"
   ]
  },
  {
   "cell_type": "code",
   "execution_count": 153,
   "id": "38fcc54d",
   "metadata": {},
   "outputs": [
    {
     "data": {
      "text/plain": [
       "[1, 99, 100]"
      ]
     },
     "execution_count": 153,
     "metadata": {},
     "output_type": "execute_result"
    }
   ],
   "source": [
    "def reverse_list(l):\n",
    "    return l[::-1]\n",
    "\n",
    "reverse_list([100,99,1])"
   ]
  },
  {
   "cell_type": "code",
   "execution_count": 171,
   "id": "34be9ae5",
   "metadata": {},
   "outputs": [
    {
     "name": "stdout",
     "output_type": "stream",
     "text": [
      "['gour', 'radha', 'krishna', 'balaram']\n"
     ]
    }
   ],
   "source": [
    "def sort_string_based_on_length(l):\n",
    "    l.sort(key=len)\n",
    "    return l\n",
    "\n",
    "result = sort_string_based_on_length(['radha', 'krishna', 'balaram', 'gour'])\n",
    "print(result)\n"
   ]
  },
  {
   "cell_type": "code",
   "execution_count": 178,
   "id": "75e752ed",
   "metadata": {},
   "outputs": [
    {
     "data": {
      "text/plain": [
       "';kx/rni*'"
      ]
     },
     "execution_count": 178,
     "metadata": {},
     "output_type": "execute_result"
    }
   ],
   "source": [
    "import numpy as np\n",
    "import random\n",
    "import string\n",
    "\n",
    "def generate_random_password(length=8): \n",
    "    charater = string.ascii_letters + string.digits +string.punctuation\n",
    "    password = \"\".join(random.choice(charater) for i in range(length))\n",
    "    return password\n",
    "\n",
    "generate_random_password()"
   ]
  },
  {
   "cell_type": "code",
   "execution_count": 188,
   "id": "1c8a61a6",
   "metadata": {},
   "outputs": [
    {
     "data": {
      "text/plain": [
       "'perfect square'"
      ]
     },
     "execution_count": 188,
     "metadata": {},
     "output_type": "execute_result"
    }
   ],
   "source": [
    "import math\n",
    "def is_perfect_square(n):\n",
    "    square_root = math.sqrt(n)\n",
    "    \n",
    "    if square_root**2 ==n:\n",
    "        return \"perfect square\"\n",
    "    \n",
    "    else :\n",
    "        return \"not a perfect square\"\n",
    "    \n",
    "is_perfect_square(36) "
   ]
  },
  {
   "cell_type": "code",
   "execution_count": 196,
   "id": "d3d6f784",
   "metadata": {},
   "outputs": [
    {
     "data": {
      "text/plain": [
       "2"
      ]
     },
     "execution_count": 196,
     "metadata": {},
     "output_type": "execute_result"
    }
   ],
   "source": [
    "def find_missing_num(consecutive_list):\n",
    "    n = len(consecutive_list)+1\n",
    "    \n",
    "    expected_sum = n*(n+1)//2\n",
    "    \n",
    "    actual_sum = sum(consecutive_list)\n",
    "    \n",
    "    missing_number = expected_sum - actual_sum\n",
    "    \n",
    "    return missing_number\n",
    "\n",
    "find_missing_num([1,3,4,5])"
   ]
  },
  {
   "cell_type": "code",
   "execution_count": 219,
   "id": "eb182e59",
   "metadata": {},
   "outputs": [
    {
     "data": {
      "text/plain": [
       "'panagram'"
      ]
     },
     "execution_count": 219,
     "metadata": {},
     "output_type": "execute_result"
    }
   ],
   "source": [
    "def is_panagram(s):\n",
    "    alphabet_set = set(\"abcdefghijklmnopqrstuvwxyz\")\n",
    "    sentense_set = set(s.lower())\n",
    "    \n",
    "    if alphabet_set.issubset(sentense_set):\n",
    "        return \"panagram\"\n",
    "    else:\n",
    "        return \"not a panagram\"\n",
    "    \n",
    "is_panagram(\"The quick brown fox jumps over the lazy dog.\")"
   ]
  },
  {
   "cell_type": "code",
   "execution_count": 221,
   "id": "79f672dc",
   "metadata": {},
   "outputs": [
    {
     "data": {
      "text/plain": [
       "'panagram'"
      ]
     },
     "execution_count": 221,
     "metadata": {},
     "output_type": "execute_result"
    }
   ],
   "source": [
    "def is_pangram(sentence):\n",
    "    alphabet = \"abcdefghijklmnopqrstuvwxyz\"\n",
    "    sentence_lower = sentence.lower()\n",
    "\n",
    "    for char in alphabet:\n",
    "        if char not in sentence_lower:\n",
    "            return \"not a panagram\"\n",
    "\n",
    "    return \"panagram\"\n",
    "\n",
    "\n",
    "test_sentence = \"The quick brown fox jumps over the lazy dog.\"\n",
    "is_pangram(test_sentence)\n",
    "   "
   ]
  },
  {
   "cell_type": "code",
   "execution_count": 213,
   "id": "e1b7f326",
   "metadata": {},
   "outputs": [],
   "source": [
    "b = ['q', 'v', 'b', 's', 'o', 'l', 'n', ' ', 'c', 'y', 'i', 'k', 'd', 'x', '.', 'm', 'p', 'e', 'r', 'u', 'w', 'z', 'g', 'a', 'f', 'h', 'j', 't']"
   ]
  },
  {
   "cell_type": "code",
   "execution_count": 225,
   "id": "f13c106d",
   "metadata": {},
   "outputs": [
    {
     "data": {
      "text/plain": [
       "28"
      ]
     },
     "execution_count": 225,
     "metadata": {},
     "output_type": "execute_result"
    }
   ],
   "source": [
    "len(set(b))"
   ]
  },
  {
   "cell_type": "code",
   "execution_count": 230,
   "id": "8286aa1c",
   "metadata": {},
   "outputs": [
    {
     "data": {
      "text/plain": [
       "{'key1': 123, 'key2': 345, 'key3': 566, 'key4': 904}"
      ]
     },
     "execution_count": 230,
     "metadata": {},
     "output_type": "execute_result"
    }
   ],
   "source": [
    "def merge_dict(d,d1):\n",
    "    d.update(d1)\n",
    "    return d\n",
    "\n",
    "\n",
    "d = {\"key1\" : 123, \"key2\": 345}\n",
    "d1 = {\"key3\": 566, \"key4\" : 904}\n",
    "\n",
    "merge_dict(d,d1)\n"
   ]
  },
  {
   "cell_type": "code",
   "execution_count": 235,
   "id": "384b70b7",
   "metadata": {},
   "outputs": [
    {
     "name": "stdout",
     "output_type": "stream",
     "text": [
      "Merged Dictionary (Method 1): {'a': 1, 'b': 3, 'c': 4}\n"
     ]
    }
   ],
   "source": [
    "# Method 1: Using update()\n",
    "def merge_dicts_method1(d1, d2):\n",
    "    merged_dict = d1.copy()\n",
    "    merged_dict.update(d2)\n",
    "    return merged_dict\n",
    "\n",
    "dict1 = {'a': 1, 'b': 2}\n",
    "dict2 = {'b': 3, 'c': 4}\n",
    "\n",
    "merged_dict1 = merge_dicts_method1(dict1, dict2)\n",
    "print(\"Merged Dictionary (Method 1):\", merged_dict1)\n",
    "\n",
    "\n"
   ]
  },
  {
   "cell_type": "code",
   "execution_count": 236,
   "id": "8f1ccb93",
   "metadata": {},
   "outputs": [
    {
     "name": "stdout",
     "output_type": "stream",
     "text": [
      "{'a': 1, 'b': 3, 'c': 4}\n"
     ]
    }
   ],
   "source": [
    "def merge_dicts_method2(d1, d2):\n",
    "    return {**d1, **d2}\n",
    "\n",
    "# Example dictionaries\n",
    "dict1 = {'a': 1, 'b': 2}\n",
    "dict2 = {'b': 3, 'c': 4}\n",
    "\n",
    "merged_dict2 = merge_dicts_method2(dict1, dict2)\n",
    "print(merged_dict2)"
   ]
  },
  {
   "cell_type": "code",
   "execution_count": 271,
   "id": "e0008a88",
   "metadata": {},
   "outputs": [
    {
     "data": {
      "text/plain": [
       "2"
      ]
     },
     "execution_count": 271,
     "metadata": {},
     "output_type": "execute_result"
    }
   ],
   "source": [
    "from collections import Counter\n",
    "\n",
    "def most_frequent_element1(l):\n",
    "    counter = Counter(l)\n",
    "    most_frequent = counter.most_common()\n",
    "    return most_frequent[0][0]\n",
    "\n",
    "most_frequent_element1([1, 2, 3, 2, 2, 4, 5, 1, 2, 6, 6, 6, 6])"
   ]
  },
  {
   "cell_type": "code",
   "execution_count": 276,
   "id": "79058f98",
   "metadata": {},
   "outputs": [
    {
     "name": "stdout",
     "output_type": "stream",
     "text": [
      "Counter({2: 4, 6: 4, 1: 2, 3: 1, 4: 1, 5: 1})\n",
      "4\n"
     ]
    }
   ],
   "source": [
    "from collections import Counter\n",
    "my_list = [1, 2, 3, 2, 2, 4, 5, 1, 2, 6, 6, 6, 6]\n",
    "counter = Counter(my_list)\n",
    "print(counter)\n",
    "\n",
    "#counter.most_common(1)\n",
    "#print(most_common)\n",
    "counter.keys(), counter.values()\n",
    "#counter.items()\n",
    "print(max(counter.values()))"
   ]
  },
  {
   "cell_type": "code",
   "execution_count": 284,
   "id": "6e1afdef",
   "metadata": {},
   "outputs": [
    {
     "name": "stdout",
     "output_type": "stream",
     "text": [
      "4\n"
     ]
    },
    {
     "data": {
      "text/plain": [
       "[2, 6]"
      ]
     },
     "execution_count": 284,
     "metadata": {},
     "output_type": "execute_result"
    }
   ],
   "source": [
    "from collections import Counter\n",
    "\n",
    "def most_frequent(l):\n",
    "    counter = Counter(l)\n",
    "    max_count = max(counter.values())\n",
    "    print(max_count)\n",
    "    \n",
    "    most_frequent = [element for element, count in counter.items() if count==max_count]\n",
    "    return most_frequent\n",
    "\n",
    "most_frequent([1, 2, 3, 2, 2, 4, 5, 1, 2, 6, 6, 6, 6])"
   ]
  },
  {
   "cell_type": "code",
   "execution_count": 301,
   "id": "094e0e8f",
   "metadata": {},
   "outputs": [
    {
     "data": {
      "text/plain": [
       "('vowel_count: 28', 'consonent_count : 44')"
      ]
     },
     "execution_count": 301,
     "metadata": {},
     "output_type": "execute_result"
    }
   ],
   "source": [
    "def count_vowels_consonents1(s):\n",
    "    vowels = set(\"aeiouAEIOU\")\n",
    "    \n",
    "    vowel_total = sum(1 for i in s if i in vowels)\n",
    "    \n",
    "    consonant_total = sum(1 for i in s if i.isalpha() and i not in vowels)\n",
    "    return f\"vowel_count: {vowel_total}\", f\"consonent_count : {consonant_total}\"\n",
    "\n",
    "count_vowels_consonents1(\"HARE Krishna hare krishna krishna krishna hare hare , hare ram hare Ram ram ram hare hare\")"
   ]
  },
  {
   "cell_type": "code",
   "execution_count": 304,
   "id": "8732ebb4",
   "metadata": {},
   "outputs": [
    {
     "data": {
      "text/plain": [
       "4"
      ]
     },
     "execution_count": 304,
     "metadata": {},
     "output_type": "execute_result"
    }
   ],
   "source": [
    "import statistics\n",
    "\n",
    "def calculate_median(lst):\n",
    "    try:\n",
    "        median_value = statistics.median(lst)\n",
    "        return median_value\n",
    "    except statistics.StatisticsError:\n",
    "        return None\n",
    "\n",
    "\n",
    "calculate_median([4, 7, 1, 9, 3, 5, 2])\n",
    "\n"
   ]
  },
  {
   "cell_type": "code",
   "execution_count": 305,
   "id": "de5dc150",
   "metadata": {},
   "outputs": [
    {
     "name": "stdout",
     "output_type": "stream",
     "text": [
      "omar\n"
     ]
    }
   ],
   "source": [
    "def concatenate_chars(input_count, characters):\n",
    "    num_chars = int(input_count)\n",
    "    input_chars = characters.split()[:num_chars]\n",
    "    if len(input_chars) != num_chars:\n",
    "        print(\"Error: Please enter exactly\", num_chars, \"characters.\")\n",
    "        return None\n",
    "    return ''.join(input_chars)\n",
    "\n",
    "\n",
    "input_count = 4\n",
    "characters = 'o m a r'  \n",
    "\n",
    "\n",
    "result = concatenate_chars(input_count, characters)\n",
    "if result:\n",
    "    print(result) \n"
   ]
  },
  {
   "cell_type": "code",
   "execution_count": 17,
   "id": "b4971911",
   "metadata": {},
   "outputs": [
    {
     "data": {
      "text/plain": [
       "7"
      ]
     },
     "execution_count": 17,
     "metadata": {},
     "output_type": "execute_result"
    }
   ],
   "source": [
    "def test(l):\n",
    "    max_no = max(l)\n",
    "    \n",
    "    l = [i for i in l if i!=max_no]\n",
    "    for i in l:\n",
    "        return max(l)\n",
    "    \n",
    "test([2, 3, 4, 5, 6, 7, 8])"
   ]
  },
  {
   "cell_type": "code",
   "execution_count": 20,
   "id": "682b6cae",
   "metadata": {},
   "outputs": [
    {
     "data": {
      "text/plain": [
       "7"
      ]
     },
     "execution_count": 20,
     "metadata": {},
     "output_type": "execute_result"
    }
   ],
   "source": [
    "def test2(l):\n",
    "    first_no = 0\n",
    "    second_no = 0\n",
    "    \n",
    "    for i in l:\n",
    "        if i > first_no: \n",
    "            second_no = first_no\n",
    "            first_no = i\n",
    "            \n",
    "        elif i > second_no & i < first_no:\n",
    "            second_no = i\n",
    "            \n",
    "    return second_no\n",
    "\n",
    "\n",
    "test2([2, 3, 4, 5, 6, 7, 8])"
   ]
  },
  {
   "cell_type": "code",
   "execution_count": null,
   "id": "903286dd",
   "metadata": {},
   "outputs": [],
   "source": []
  }
 ],
 "metadata": {
  "kernelspec": {
   "display_name": "Python 3 (ipykernel)",
   "language": "python",
   "name": "python3"
  },
  "language_info": {
   "codemirror_mode": {
    "name": "ipython",
    "version": 3
   },
   "file_extension": ".py",
   "mimetype": "text/x-python",
   "name": "python",
   "nbconvert_exporter": "python",
   "pygments_lexer": "ipython3",
   "version": "3.9.7"
  }
 },
 "nbformat": 4,
 "nbformat_minor": 5
}
