{
 "cells": [
  {
   "cell_type": "code",
   "execution_count": 7,
   "id": "be0cb1ad",
   "metadata": {},
   "outputs": [],
   "source": [
    "class pwskills:\n",
    "    def student_details(self ,name, mail_id, number):\n",
    "        print(name, mail_id, number)"
   ]
  },
  {
   "cell_type": "code",
   "execution_count": 8,
   "id": "6ecaf14e",
   "metadata": {},
   "outputs": [],
   "source": [
    "pw = pwskills()"
   ]
  },
  {
   "cell_type": "code",
   "execution_count": 9,
   "id": "e440ee2a",
   "metadata": {},
   "outputs": [
    {
     "name": "stdout",
     "output_type": "stream",
     "text": [
      "Krishna krishna@gmail.com 7799\n"
     ]
    }
   ],
   "source": [
    "pw.student_details(\"Krishna\", \"krishna@gmail.com\", 7799)"
   ]
  },
  {
   "cell_type": "code",
   "execution_count": 10,
   "id": "f1cd34e3",
   "metadata": {},
   "outputs": [],
   "source": [
    "# IF I want to create the object which should not depend upon object"
   ]
  },
  {
   "cell_type": "code",
   "execution_count": 12,
   "id": "c143b812",
   "metadata": {},
   "outputs": [],
   "source": [
    "class pwskills1:\n",
    "    def student_details(self ,name, mail_id, number):\n",
    "        print(name, mail_id, number)\n",
    "        \n",
    "    @staticmethod\n",
    "    def mentor_class(list_mentor):\n",
    "        print(list_mentor)\n",
    "        \n",
    "    def mentor(self, mentor_list):\n",
    "        print(mentor_list)"
   ]
  },
  {
   "cell_type": "code",
   "execution_count": 13,
   "id": "7944d62a",
   "metadata": {},
   "outputs": [
    {
     "name": "stdout",
     "output_type": "stream",
     "text": [
      "['Radha', 'Krishna']\n"
     ]
    }
   ],
   "source": [
    "pwskills1.mentor_class(['Radha', \"Krishna\"])"
   ]
  },
  {
   "cell_type": "code",
   "execution_count": 14,
   "id": "a0e973cc",
   "metadata": {},
   "outputs": [
    {
     "name": "stdout",
     "output_type": "stream",
     "text": [
      "['hare', 'krishna']\n"
     ]
    }
   ],
   "source": [
    "pw1 = pwskills1()\n",
    "pw1.mentor([\"hare\", \"krishna\"])"
   ]
  },
  {
   "cell_type": "code",
   "execution_count": 15,
   "id": "e2017e58",
   "metadata": {},
   "outputs": [
    {
     "name": "stdout",
     "output_type": "stream",
     "text": [
      "['hare', 'Rama']\n"
     ]
    }
   ],
   "source": [
    "pw1.mentor_class([\"hare\", \"Rama\"])"
   ]
  },
  {
   "cell_type": "code",
   "execution_count": 16,
   "id": "f5a666cb",
   "metadata": {},
   "outputs": [],
   "source": [
    "class pwskills2:\n",
    "    def student_details(self ,name, mail_id, number):\n",
    "        print(name, mail_id, number)\n",
    "        self.student_details\n",
    "        \n",
    "    @staticmethod\n",
    "    def mentor_mail_id(mail_id):\n",
    "        print(mail_id)\n",
    "    \n",
    "    @staticmethod\n",
    "    def mentor_class(list_mentor):\n",
    "        print(list_mentor)\n",
    "        pwskills2.mentor_mail_id([\"radha@gmail.com\", \"krishna@gmail.com\"])\n",
    "        \n",
    "    @classmethod\n",
    "    def class_name(cls, class_name):\n",
    "        cls.mentor_class([\"radha\", \"krishan\"])\n",
    "    \n",
    "    \n",
    "    def mentor(self, mentor_list):\n",
    "        print(mentor_list)\n",
    "        self.mentor_class([\"radha\", \"krishna\"])"
   ]
  },
  {
   "cell_type": "code",
   "execution_count": 17,
   "id": "85f43045",
   "metadata": {},
   "outputs": [],
   "source": [
    "pw2 = pwskills2()"
   ]
  },
  {
   "cell_type": "code",
   "execution_count": 18,
   "id": "cbc2bac3",
   "metadata": {},
   "outputs": [
    {
     "name": "stdout",
     "output_type": "stream",
     "text": [
      "Radha Radha@gmail.com 444244\n"
     ]
    }
   ],
   "source": [
    "pw2.student_details(\"Radha\", \"Radha@gmail.com\",444244)"
   ]
  },
  {
   "cell_type": "code",
   "execution_count": 19,
   "id": "f77bedf4",
   "metadata": {},
   "outputs": [
    {
     "name": "stdout",
     "output_type": "stream",
     "text": [
      "['Radha@gmail.com', 'Krishna@gmail.com']\n"
     ]
    }
   ],
   "source": [
    "pw2.mentor_mail_id([\"Radha@gmail.com\", \"Krishna@gmail.com\"])"
   ]
  },
  {
   "cell_type": "code",
   "execution_count": 20,
   "id": "d32b05c9",
   "metadata": {},
   "outputs": [
    {
     "name": "stdout",
     "output_type": "stream",
     "text": [
      "['radha', 'krishan']\n",
      "['radha@gmail.com', 'krishna@gmail.com']\n"
     ]
    }
   ],
   "source": [
    "pw2.class_name(\"Data Science Master\")"
   ]
  },
  {
   "cell_type": "code",
   "execution_count": 21,
   "id": "b2a4dec6",
   "metadata": {},
   "outputs": [
    {
     "name": "stdout",
     "output_type": "stream",
     "text": [
      "['radha@gmail.com', 'krishna@gmail.com']\n"
     ]
    }
   ],
   "source": [
    "pwskills2.mentor_mail_id([\"radha@gmail.com\" , \"krishna@gmail.com\"])"
   ]
  },
  {
   "cell_type": "code",
   "execution_count": 22,
   "id": "4b8d8781",
   "metadata": {},
   "outputs": [
    {
     "name": "stdout",
     "output_type": "stream",
     "text": [
      "['radha', 'krishan']\n",
      "['radha@gmail.com', 'krishna@gmail.com']\n"
     ]
    }
   ],
   "source": [
    "pwskills2.class_name(\"FSDS\")"
   ]
  },
  {
   "cell_type": "code",
   "execution_count": null,
   "id": "40e3188a",
   "metadata": {},
   "outputs": [],
   "source": []
  },
  {
   "cell_type": "code",
   "execution_count": null,
   "id": "97cbcb53",
   "metadata": {},
   "outputs": [],
   "source": []
  }
 ],
 "metadata": {
  "kernelspec": {
   "display_name": "Python 3 (ipykernel)",
   "language": "python",
   "name": "python3"
  },
  "language_info": {
   "codemirror_mode": {
    "name": "ipython",
    "version": 3
   },
   "file_extension": ".py",
   "mimetype": "text/x-python",
   "name": "python",
   "nbconvert_exporter": "python",
   "pygments_lexer": "ipython3",
   "version": "3.9.7"
  }
 },
 "nbformat": 4,
 "nbformat_minor": 5
}
